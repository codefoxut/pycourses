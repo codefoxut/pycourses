{
 "cells": [
  {
   "cell_type": "markdown",
   "id": "bcded1a6-2430-4707-a78c-c82f4c5ee6fc",
   "metadata": {},
   "source": [
    "<a href = \"https://www.pieriantraining.com\"><img src=\"../PT Centered Purple.png\"> </a>\n",
    "\n",
    "<em style=\"text-align:center\">Copyrighted by Pierian Training</em>"
   ]
  },
  {
   "cell_type": "markdown",
   "id": "728f1747-b8fc-4d31-96c2-047fc83c079d",
   "metadata": {},
   "source": [
    "#  Data Connections Exercise\n",
    "\n",
    "## Ask a Legal Research Assistant Bot about the US Constitution\n",
    "\n",
    "Your function should do the following:\n",
    "\n",
    "* Read the US_Constitution.txt file inside the some_data folder\n",
    "* Split this into chunks (you choose the size)\n",
    "* Write this to a ChromaDB Vector Store\n",
    "* Use Context Compression to return the relevant portion of the document to the question"
   ]
  },
  {
   "cell_type": "code",
   "execution_count": 9,
   "id": "3a17f111-e290-4ffc-b614-4d10e5673087",
   "metadata": {},
   "outputs": [
    {
     "data": {
      "text/plain": [
       "True"
      ]
     },
     "execution_count": 9,
     "metadata": {},
     "output_type": "execute_result"
    }
   ],
   "source": [
    "# Build a sample vectorDB\n",
    "from langchain.vectorstores import Chroma\n",
    "from langchain_openai import ChatOpenAI, OpenAIEmbeddings\n",
    "from langchain.document_loaders import TextLoader\n",
    "from langchain.text_splitter import CharacterTextSplitter\n",
    "from langchain.retrievers import ContextualCompressionRetriever\n",
    "from langchain.retrievers.document_compressors import LLMChainExtractor \n",
    "\n",
    "from dotenv import load_dotenv\n",
    "load_dotenv()\n"
   ]
  },
  {
   "cell_type": "code",
   "execution_count": 14,
   "id": "6957a463-821d-4223-a4ff-637e99cc5807",
   "metadata": {},
   "outputs": [],
   "source": [
    "text_loader = TextLoader(\"./some_data/US_Constitution.txt\")\n",
    "document = text_loader.load()"
   ]
  },
  {
   "cell_type": "code",
   "execution_count": 15,
   "id": "dd7e23ee-af57-44ca-850d-128385d78c9b",
   "metadata": {},
   "outputs": [
    {
     "name": "stderr",
     "output_type": "stream",
     "text": [
      "Created a chunk of size 252, which is longer than the specified 250\n",
      "Created a chunk of size 333, which is longer than the specified 250\n",
      "Created a chunk of size 472, which is longer than the specified 250\n",
      "Created a chunk of size 312, which is longer than the specified 250\n"
     ]
    }
   ],
   "source": [
    "text_splitter = CharacterTextSplitter.from_tiktoken_encoder(chunk_size=250)\n",
    "docs = text_splitter.split_documents(document)"
   ]
  },
  {
   "cell_type": "code",
   "execution_count": 17,
   "id": "a26236da-ed2c-4a3d-b97a-a703dafe5db4",
   "metadata": {},
   "outputs": [],
   "source": [
    "embedding_function = OpenAIEmbeddings()\n",
    "db_conn = Chroma.from_documents(docs, embedding_function, persist_directory=\"./us_constitution.db\")"
   ]
  },
  {
   "cell_type": "code",
   "execution_count": 22,
   "id": "dc7dafe9-7e3b-4bb5-abeb-4c99b66f623b",
   "metadata": {},
   "outputs": [],
   "source": [
    "def us_constitution_helper(question):\n",
    "    '''\n",
    "    Takes in a question about the US Constitution and returns the most relevant\n",
    "    part of the constitution. Notice it may not directly answer the actual question!\n",
    "    \n",
    "    Follow the steps below to fill out this function:\n",
    "    '''\n",
    "    # PART ONE:\n",
    "    # LOAD \"some_data/US_Constitution in a Document object\n",
    "    text_loader = TextLoader(\"./some_data/US_Constitution.txt\")\n",
    "    document = text_loader.load()\n",
    "    \n",
    "    # PART TWO\n",
    "    # Split the document into chunks (you choose how and what size)\n",
    "    text_splitter = CharacterTextSplitter.from_tiktoken_encoder(chunk_size=350)\n",
    "    docs = text_splitter.split_documents(document)\n",
    "    \n",
    "    # PART THREE\n",
    "    # EMBED THE Documents (now in chunks) to a persisted ChromaDB\n",
    "    embedding_function = OpenAIEmbeddings()\n",
    "    db_conn = Chroma.from_documents(docs, embedding_function, persist_directory=\"./us_constitution.db\")\n",
    "\n",
    "    # PART FOUR\n",
    "    # Use ChatOpenAI and ContextualCompressionRetriever to return the most\n",
    "    # relevant part of the documents.\n",
    "    llm = ChatOpenAI(temperature=0)\n",
    "    compressor = LLMChainExtractor.from_llm(llm)\n",
    "\n",
    "    compression_retriever = ContextualCompressionRetriever(base_compressor=compressor, \n",
    "                                                       base_retriever=db_conn.as_retriever())\n",
    "    \n",
    "    \n",
    "    compressed_docs = compression_retriever.invoke(question)\n",
    "     \n",
    "\n",
    "    return compressed_docs[0].page_content"
   ]
  },
  {
   "cell_type": "markdown",
   "id": "e36c9e44-c166-4724-a1a9-98dfde0721d7",
   "metadata": {},
   "source": [
    "## Example Usage:\n",
    "\n",
    "Notice how it doesn't return an entire Document of a large chunk size, but instead the \"compressed\" version!"
   ]
  },
  {
   "cell_type": "code",
   "execution_count": 23,
   "id": "b6ca1a37-bc2f-49de-af25-22bc7437bff0",
   "metadata": {},
   "outputs": [
    {
     "name": "stderr",
     "output_type": "stream",
     "text": [
      "Created a chunk of size 472, which is longer than the specified 350\n"
     ]
    },
    {
     "name": "stdout",
     "output_type": "stream",
     "text": [
      "13th Amendment\n",
      "Section 1\n",
      "Neither slavery nor involuntary servitude, except as a punishment for crime whereof the party shall have been duly convicted, shall exist within the United States, or any place subject to their jurisdiction.\n"
     ]
    }
   ],
   "source": [
    "print(us_constitution_helper(\"What is the 13th Amendment?\"))"
   ]
  },
  {
   "cell_type": "code",
   "execution_count": 34,
   "id": "225643e3-32ca-4cfe-ac96-e79c799c9cf5",
   "metadata": {},
   "outputs": [
    {
     "name": "stderr",
     "output_type": "stream",
     "text": [
      "Created a chunk of size 472, which is longer than the specified 350\n"
     ]
    },
    {
     "name": "stdout",
     "output_type": "stream",
     "text": [
      "No person shall be held to answer for a capital, or otherwise infamous crime, unless on a presentment or indictment of a Grand Jury, except in cases arising in the land or naval forces, or in the Militia, when in actual service in time of War or public danger; nor shall any person be subject for the same offence to be twice put in jeopardy of life or limb; nor shall be compelled in any criminal case to be a witness against himself, nor be deprived of life, liberty, or property, without due process of law; nor shall private property be taken for public use, without just compensation.\n"
     ]
    }
   ],
   "source": [
    "print(us_constitution_helper(\"What is the 5th Amendment?\"))"
   ]
  },
  {
   "cell_type": "code",
   "execution_count": null,
   "id": "a04ff279-edeb-4278-870e-70139f1d2910",
   "metadata": {},
   "outputs": [],
   "source": []
  }
 ],
 "metadata": {
  "kernelspec": {
   "display_name": "Python 3 (ipykernel)",
   "language": "python",
   "name": "python3"
  },
  "language_info": {
   "codemirror_mode": {
    "name": "ipython",
    "version": 3
   },
   "file_extension": ".py",
   "mimetype": "text/x-python",
   "name": "python",
   "nbconvert_exporter": "python",
   "pygments_lexer": "ipython3",
   "version": "3.11.9"
  }
 },
 "nbformat": 4,
 "nbformat_minor": 5
}
