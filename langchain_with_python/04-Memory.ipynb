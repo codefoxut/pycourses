{
 "cells": [
  {
   "cell_type": "markdown",
   "id": "48a382ed-2d03-45b9-8766-fce2cfca32df",
   "metadata": {},
   "source": [
    "## ChatMessageHistory"
   ]
  },
  {
   "cell_type": "code",
   "execution_count": 1,
   "id": "beb6f5d5-b751-4e4a-adad-36b04d302de2",
   "metadata": {},
   "outputs": [],
   "source": [
    "from langchain.memory import ChatMessageHistory\n",
    "\n",
    "history = ChatMessageHistory()\n",
    "history.add_user_message(\"Hello, nice to meet you.\")\n",
    "history.add_ai_message(\"Nice to meet you too!\")"
   ]
  },
  {
   "cell_type": "code",
   "execution_count": 2,
   "id": "cfddf464-7250-4595-abd6-786176ad9db7",
   "metadata": {},
   "outputs": [
    {
     "data": {
      "text/plain": [
       "InMemoryChatMessageHistory(messages=[HumanMessage(content='Hello, nice to meet you.'), AIMessage(content='Nice to meet you too!')])"
      ]
     },
     "execution_count": 2,
     "metadata": {},
     "output_type": "execute_result"
    }
   ],
   "source": [
    "history"
   ]
  },
  {
   "cell_type": "code",
   "execution_count": 3,
   "id": "c256073a-6800-46d9-bece-c2376708f167",
   "metadata": {},
   "outputs": [
    {
     "data": {
      "text/plain": [
       "[HumanMessage(content='Hello, nice to meet you.'),\n",
       " AIMessage(content='Nice to meet you too!')]"
      ]
     },
     "execution_count": 3,
     "metadata": {},
     "output_type": "execute_result"
    }
   ],
   "source": [
    "history.messages"
   ]
  },
  {
   "cell_type": "code",
   "execution_count": null,
   "id": "fc54bd09-71f8-4a3d-9770-7a857b69b601",
   "metadata": {},
   "outputs": [],
   "source": []
  },
  {
   "cell_type": "markdown",
   "id": "897f1942-4200-4f63-b71f-d8e373c9b0e8",
   "metadata": {},
   "source": [
    "## ConversationBufferMemory"
   ]
  },
  {
   "cell_type": "code",
   "execution_count": 5,
   "id": "22b39da7-5d4f-46aa-b9d1-f8f7378f4567",
   "metadata": {},
   "outputs": [],
   "source": [
    "import os\n",
    "import dotenv\n",
    "dotenv.load_dotenv()\n",
    "deployment_name = os.environ[\"DEPLOYMENT_NAME\"]"
   ]
  },
  {
   "cell_type": "code",
   "execution_count": 6,
   "id": "88cbd56e-6947-41c5-b50c-d8327e9ed33f",
   "metadata": {},
   "outputs": [],
   "source": [
    "from langchain_openai import AzureChatOpenAI\n",
    "from langchain.chains import ConversationChain\n",
    "from langchain.memory import ConversationBufferMemory"
   ]
  },
  {
   "cell_type": "code",
   "execution_count": 7,
   "id": "863c8602-5849-4770-9382-8b48b630007a",
   "metadata": {},
   "outputs": [],
   "source": [
    "llm = AzureChatOpenAI(deployment_name=deployment_name,temperature=0.0)\n",
    "memory = ConversationBufferMemory()"
   ]
  },
  {
   "cell_type": "markdown",
   "id": "e9abd3dc-9c96-4f88-ac47-6d43d6ecdd20",
   "metadata": {},
   "source": [
    "### Connect conversation to Memory"
   ]
  },
  {
   "cell_type": "code",
   "execution_count": 8,
   "id": "9d43b713-587e-4456-ae23-35069f2bf3db",
   "metadata": {},
   "outputs": [],
   "source": [
    "conversation = ConversationChain(\n",
    "    llm=llm, \n",
    "    memory = memory,\n",
    "    verbose=True\n",
    ")"
   ]
  },
  {
   "cell_type": "code",
   "execution_count": 9,
   "id": "a29c2dab-010d-4ccb-9d9d-76c58cceeb1e",
   "metadata": {},
   "outputs": [
    {
     "name": "stdout",
     "output_type": "stream",
     "text": [
      "\n",
      "\n",
      "\u001b[1m> Entering new ConversationChain chain...\u001b[0m\n",
      "Prompt after formatting:\n",
      "\u001b[32;1m\u001b[1;3mThe following is a friendly conversation between a human and an AI. The AI is talkative and provides lots of specific details from its context. If the AI does not know the answer to a question, it truthfully says it does not know.\n",
      "\n",
      "Current conversation:\n",
      "\n",
      "Human: Hello, nice to meet you!\n",
      "AI:\u001b[0m\n",
      "\n",
      "\u001b[1m> Finished chain.\u001b[0m\n"
     ]
    },
    {
     "data": {
      "text/plain": [
       "{'input': 'Hello, nice to meet you!',\n",
       " 'history': '',\n",
       " 'response': \"Hello there! It's a pleasure to meet you too. I'm here to chat, answer questions, or help with any information you might need. If there's anything specific you're curious about or want to discuss, feel free to let me know!\"}"
      ]
     },
     "execution_count": 9,
     "metadata": {},
     "output_type": "execute_result"
    }
   ],
   "source": [
    "conversation.invoke(input=\"Hello, nice to meet you!\")"
   ]
  },
  {
   "cell_type": "code",
   "execution_count": 10,
   "id": "26dbbba6-a577-456e-b997-c615127646f3",
   "metadata": {},
   "outputs": [
    {
     "name": "stdout",
     "output_type": "stream",
     "text": [
      "\n",
      "\n",
      "\u001b[1m> Entering new ConversationChain chain...\u001b[0m\n",
      "Prompt after formatting:\n",
      "\u001b[32;1m\u001b[1;3mThe following is a friendly conversation between a human and an AI. The AI is talkative and provides lots of specific details from its context. If the AI does not know the answer to a question, it truthfully says it does not know.\n",
      "\n",
      "Current conversation:\n",
      "Human: Hello, nice to meet you!\n",
      "AI: Hello there! It's a pleasure to meet you too. I'm here to chat, answer questions, or help with any information you might need. If there's anything specific you're curious about or want to discuss, feel free to let me know!\n",
      "Human: Tell me about the Einstein-Szilard Letter \n",
      "AI:\u001b[0m\n",
      "\n",
      "\u001b[1m> Finished chain.\u001b[0m\n"
     ]
    },
    {
     "data": {
      "text/plain": [
       "{'input': 'Tell me about the Einstein-Szilard Letter ',\n",
       " 'history': \"Human: Hello, nice to meet you!\\nAI: Hello there! It's a pleasure to meet you too. I'm here to chat, answer questions, or help with any information you might need. If there's anything specific you're curious about or want to discuss, feel free to let me know!\",\n",
       " 'response': \"The Einstein-Szilard Letter refers to a letter sent to President Franklin D. Roosevelt on August 2, 1939, that was signed by Albert Einstein but largely drafted by the Hungarian physicist Leó Szilard. This letter played a pivotal role in initiating the U.S. government's interest in nuclear research, leading to the development of the Manhattan Project and the eventual creation of the atomic bomb.\\n\\nThe context of the letter was the discovery of nuclear fission by scientists Otto Hahn and Fritz Strassmann in late 1938, which was later interpreted by Lise Meitner and Otto Frisch. This discovery suggested that a large amount of energy could be released from the fission of uranium atoms, raising the possibility of creating powerful bombs. Szilard, along with fellow physicists Eugene Wigner and Edward Teller, was concerned that Nazi Germany might develop this technology first.\\n\\nSzilard and Einstein, who were both Jewish refugees from the rise of fascism in Europe, understood the implications of this discovery. Szilard drafted the letter, and Einstein, being the more prominent figure, signed it to give it more weight. The letter warned President Roosevelt of the potential for a new type of bomb of unprecedented destructive power and urged the United States to accelerate its own research into nuclear chain reactions.\\n\\nAs a result of this letter, Roosevelt initiated the Advisory Committee on Uranium, which eventually evolved into the Manhattan Project, the secret U.S. project to develop the atomic bomb during World War II. The project led to the creation of the first nuclear weapons, which were used on the Japanese cities of Hiroshima and Nagasaki in August 1945.\\n\\nThe Einstein-Szilard Letter is often cited as a critical moment in the history of nuclear weapons, illustrating the intersection of science, ethics, and international politics. It also reflects the responsibility scientists felt to alert their governments to the potential dangers and uses of their discoveries.\"}"
      ]
     },
     "execution_count": 10,
     "metadata": {},
     "output_type": "execute_result"
    }
   ],
   "source": [
    "conversation.invoke(input=\"Tell me about the Einstein-Szilard Letter \")"
   ]
  },
  {
   "cell_type": "code",
   "execution_count": 11,
   "id": "6442ce85-1355-45c1-b131-28766867d3ed",
   "metadata": {},
   "outputs": [
    {
     "data": {
      "text/plain": [
       "ConversationBufferMemory(chat_memory=InMemoryChatMessageHistory(messages=[HumanMessage(content='Hello, nice to meet you!'), AIMessage(content=\"Hello there! It's a pleasure to meet you too. I'm here to chat, answer questions, or help with any information you might need. If there's anything specific you're curious about or want to discuss, feel free to let me know!\"), HumanMessage(content='Tell me about the Einstein-Szilard Letter '), AIMessage(content=\"The Einstein-Szilard Letter refers to a letter sent to President Franklin D. Roosevelt on August 2, 1939, that was signed by Albert Einstein but largely drafted by the Hungarian physicist Leó Szilard. This letter played a pivotal role in initiating the U.S. government's interest in nuclear research, leading to the development of the Manhattan Project and the eventual creation of the atomic bomb.\\n\\nThe context of the letter was the discovery of nuclear fission by scientists Otto Hahn and Fritz Strassmann in late 1938, which was later interpreted by Lise Meitner and Otto Frisch. This discovery suggested that a large amount of energy could be released from the fission of uranium atoms, raising the possibility of creating powerful bombs. Szilard, along with fellow physicists Eugene Wigner and Edward Teller, was concerned that Nazi Germany might develop this technology first.\\n\\nSzilard and Einstein, who were both Jewish refugees from the rise of fascism in Europe, understood the implications of this discovery. Szilard drafted the letter, and Einstein, being the more prominent figure, signed it to give it more weight. The letter warned President Roosevelt of the potential for a new type of bomb of unprecedented destructive power and urged the United States to accelerate its own research into nuclear chain reactions.\\n\\nAs a result of this letter, Roosevelt initiated the Advisory Committee on Uranium, which eventually evolved into the Manhattan Project, the secret U.S. project to develop the atomic bomb during World War II. The project led to the creation of the first nuclear weapons, which were used on the Japanese cities of Hiroshima and Nagasaki in August 1945.\\n\\nThe Einstein-Szilard Letter is often cited as a critical moment in the history of nuclear weapons, illustrating the intersection of science, ethics, and international politics. It also reflects the responsibility scientists felt to alert their governments to the potential dangers and uses of their discoveries.\")]))"
      ]
     },
     "execution_count": 11,
     "metadata": {},
     "output_type": "execute_result"
    }
   ],
   "source": [
    "memory"
   ]
  },
  {
   "cell_type": "code",
   "execution_count": 12,
   "id": "d6a2105f-167b-4629-bd64-557088f00980",
   "metadata": {},
   "outputs": [
    {
     "data": {
      "text/plain": [
       "[HumanMessage(content='Hello, nice to meet you!'),\n",
       " AIMessage(content=\"Hello there! It's a pleasure to meet you too. I'm here to chat, answer questions, or help with any information you might need. If there's anything specific you're curious about or want to discuss, feel free to let me know!\"),\n",
       " HumanMessage(content='Tell me about the Einstein-Szilard Letter '),\n",
       " AIMessage(content=\"The Einstein-Szilard Letter refers to a letter sent to President Franklin D. Roosevelt on August 2, 1939, that was signed by Albert Einstein but largely drafted by the Hungarian physicist Leó Szilard. This letter played a pivotal role in initiating the U.S. government's interest in nuclear research, leading to the development of the Manhattan Project and the eventual creation of the atomic bomb.\\n\\nThe context of the letter was the discovery of nuclear fission by scientists Otto Hahn and Fritz Strassmann in late 1938, which was later interpreted by Lise Meitner and Otto Frisch. This discovery suggested that a large amount of energy could be released from the fission of uranium atoms, raising the possibility of creating powerful bombs. Szilard, along with fellow physicists Eugene Wigner and Edward Teller, was concerned that Nazi Germany might develop this technology first.\\n\\nSzilard and Einstein, who were both Jewish refugees from the rise of fascism in Europe, understood the implications of this discovery. Szilard drafted the letter, and Einstein, being the more prominent figure, signed it to give it more weight. The letter warned President Roosevelt of the potential for a new type of bomb of unprecedented destructive power and urged the United States to accelerate its own research into nuclear chain reactions.\\n\\nAs a result of this letter, Roosevelt initiated the Advisory Committee on Uranium, which eventually evolved into the Manhattan Project, the secret U.S. project to develop the atomic bomb during World War II. The project led to the creation of the first nuclear weapons, which were used on the Japanese cities of Hiroshima and Nagasaki in August 1945.\\n\\nThe Einstein-Szilard Letter is often cited as a critical moment in the history of nuclear weapons, illustrating the intersection of science, ethics, and international politics. It also reflects the responsibility scientists felt to alert their governments to the potential dangers and uses of their discoveries.\")]"
      ]
     },
     "execution_count": 12,
     "metadata": {},
     "output_type": "execute_result"
    }
   ],
   "source": [
    "memory.chat_memory.messages"
   ]
  },
  {
   "cell_type": "code",
   "execution_count": 13,
   "id": "477e9378-fa13-43e5-9191-4c8e835630da",
   "metadata": {},
   "outputs": [
    {
     "name": "stdout",
     "output_type": "stream",
     "text": [
      "\n",
      "\n",
      "\u001b[1m> Entering new ConversationChain chain...\u001b[0m\n",
      "Prompt after formatting:\n",
      "\u001b[32;1m\u001b[1;3mThe following is a friendly conversation between a human and an AI. The AI is talkative and provides lots of specific details from its context. If the AI does not know the answer to a question, it truthfully says it does not know.\n",
      "\n",
      "Current conversation:\n",
      "Human: Hello, nice to meet you!\n",
      "AI: Hello there! It's a pleasure to meet you too. I'm here to chat, answer questions, or help with any information you might need. If there's anything specific you're curious about or want to discuss, feel free to let me know!\n",
      "Human: Tell me about the Einstein-Szilard Letter \n",
      "AI: The Einstein-Szilard Letter refers to a letter sent to President Franklin D. Roosevelt on August 2, 1939, that was signed by Albert Einstein but largely drafted by the Hungarian physicist Leó Szilard. This letter played a pivotal role in initiating the U.S. government's interest in nuclear research, leading to the development of the Manhattan Project and the eventual creation of the atomic bomb.\n",
      "\n",
      "The context of the letter was the discovery of nuclear fission by scientists Otto Hahn and Fritz Strassmann in late 1938, which was later interpreted by Lise Meitner and Otto Frisch. This discovery suggested that a large amount of energy could be released from the fission of uranium atoms, raising the possibility of creating powerful bombs. Szilard, along with fellow physicists Eugene Wigner and Edward Teller, was concerned that Nazi Germany might develop this technology first.\n",
      "\n",
      "Szilard and Einstein, who were both Jewish refugees from the rise of fascism in Europe, understood the implications of this discovery. Szilard drafted the letter, and Einstein, being the more prominent figure, signed it to give it more weight. The letter warned President Roosevelt of the potential for a new type of bomb of unprecedented destructive power and urged the United States to accelerate its own research into nuclear chain reactions.\n",
      "\n",
      "As a result of this letter, Roosevelt initiated the Advisory Committee on Uranium, which eventually evolved into the Manhattan Project, the secret U.S. project to develop the atomic bomb during World War II. The project led to the creation of the first nuclear weapons, which were used on the Japanese cities of Hiroshima and Nagasaki in August 1945.\n",
      "\n",
      "The Einstein-Szilard Letter is often cited as a critical moment in the history of nuclear weapons, illustrating the intersection of science, ethics, and international politics. It also reflects the responsibility scientists felt to alert their governments to the potential dangers and uses of their discoveries.\n",
      "Human: Tell me a scientific fact.\n",
      "AI:\u001b[0m\n",
      "\n",
      "\u001b[1m> Finished chain.\u001b[0m\n"
     ]
    },
    {
     "data": {
      "text/plain": [
       "{'input': 'Tell me a scientific fact.',\n",
       " 'history': \"Human: Hello, nice to meet you!\\nAI: Hello there! It's a pleasure to meet you too. I'm here to chat, answer questions, or help with any information you might need. If there's anything specific you're curious about or want to discuss, feel free to let me know!\\nHuman: Tell me about the Einstein-Szilard Letter \\nAI: The Einstein-Szilard Letter refers to a letter sent to President Franklin D. Roosevelt on August 2, 1939, that was signed by Albert Einstein but largely drafted by the Hungarian physicist Leó Szilard. This letter played a pivotal role in initiating the U.S. government's interest in nuclear research, leading to the development of the Manhattan Project and the eventual creation of the atomic bomb.\\n\\nThe context of the letter was the discovery of nuclear fission by scientists Otto Hahn and Fritz Strassmann in late 1938, which was later interpreted by Lise Meitner and Otto Frisch. This discovery suggested that a large amount of energy could be released from the fission of uranium atoms, raising the possibility of creating powerful bombs. Szilard, along with fellow physicists Eugene Wigner and Edward Teller, was concerned that Nazi Germany might develop this technology first.\\n\\nSzilard and Einstein, who were both Jewish refugees from the rise of fascism in Europe, understood the implications of this discovery. Szilard drafted the letter, and Einstein, being the more prominent figure, signed it to give it more weight. The letter warned President Roosevelt of the potential for a new type of bomb of unprecedented destructive power and urged the United States to accelerate its own research into nuclear chain reactions.\\n\\nAs a result of this letter, Roosevelt initiated the Advisory Committee on Uranium, which eventually evolved into the Manhattan Project, the secret U.S. project to develop the atomic bomb during World War II. The project led to the creation of the first nuclear weapons, which were used on the Japanese cities of Hiroshima and Nagasaki in August 1945.\\n\\nThe Einstein-Szilard Letter is often cited as a critical moment in the history of nuclear weapons, illustrating the intersection of science, ethics, and international politics. It also reflects the responsibility scientists felt to alert their governments to the potential dangers and uses of their discoveries.\",\n",
       " 'response': \"Certainly! Did you know that honey never spoils? Archaeologists have found pots of honey in ancient Egyptian tombs that are over 3,000 years old and still perfectly edible. Honey's longevity can be attributed to its unique composition and chemical properties. It is low in moisture and highly acidic, making it a hostile environment for bacteria and microorganisms. Additionally, honey contains small amounts of hydrogen peroxide, which inhibits growth of microbes. These factors contribute to honey's remarkable shelf life, making it a substance that can last indefinitely if stored properly.\"}"
      ]
     },
     "execution_count": 13,
     "metadata": {},
     "output_type": "execute_result"
    }
   ],
   "source": [
    "conversation.invoke(input=\"Tell me a scientific fact.\")"
   ]
  },
  {
   "cell_type": "code",
   "execution_count": 14,
   "id": "e8bdf186-4ce4-416d-a4a6-4425ac691b81",
   "metadata": {},
   "outputs": [
    {
     "name": "stdout",
     "output_type": "stream",
     "text": [
      "Human: Hello, nice to meet you!\n",
      "AI: Hello there! It's a pleasure to meet you too. I'm here to chat, answer questions, or help with any information you might need. If there's anything specific you're curious about or want to discuss, feel free to let me know!\n",
      "Human: Tell me about the Einstein-Szilard Letter \n",
      "AI: The Einstein-Szilard Letter refers to a letter sent to President Franklin D. Roosevelt on August 2, 1939, that was signed by Albert Einstein but largely drafted by the Hungarian physicist Leó Szilard. This letter played a pivotal role in initiating the U.S. government's interest in nuclear research, leading to the development of the Manhattan Project and the eventual creation of the atomic bomb.\n",
      "\n",
      "The context of the letter was the discovery of nuclear fission by scientists Otto Hahn and Fritz Strassmann in late 1938, which was later interpreted by Lise Meitner and Otto Frisch. This discovery suggested that a large amount of energy could be released from the fission of uranium atoms, raising the possibility of creating powerful bombs. Szilard, along with fellow physicists Eugene Wigner and Edward Teller, was concerned that Nazi Germany might develop this technology first.\n",
      "\n",
      "Szilard and Einstein, who were both Jewish refugees from the rise of fascism in Europe, understood the implications of this discovery. Szilard drafted the letter, and Einstein, being the more prominent figure, signed it to give it more weight. The letter warned President Roosevelt of the potential for a new type of bomb of unprecedented destructive power and urged the United States to accelerate its own research into nuclear chain reactions.\n",
      "\n",
      "As a result of this letter, Roosevelt initiated the Advisory Committee on Uranium, which eventually evolved into the Manhattan Project, the secret U.S. project to develop the atomic bomb during World War II. The project led to the creation of the first nuclear weapons, which were used on the Japanese cities of Hiroshima and Nagasaki in August 1945.\n",
      "\n",
      "The Einstein-Szilard Letter is often cited as a critical moment in the history of nuclear weapons, illustrating the intersection of science, ethics, and international politics. It also reflects the responsibility scientists felt to alert their governments to the potential dangers and uses of their discoveries.\n",
      "Human: Tell me a scientific fact.\n",
      "AI: Certainly! Did you know that honey never spoils? Archaeologists have found pots of honey in ancient Egyptian tombs that are over 3,000 years old and still perfectly edible. Honey's longevity can be attributed to its unique composition and chemical properties. It is low in moisture and highly acidic, making it a hostile environment for bacteria and microorganisms. Additionally, honey contains small amounts of hydrogen peroxide, which inhibits growth of microbes. These factors contribute to honey's remarkable shelf life, making it a substance that can last indefinitely if stored properly.\n"
     ]
    }
   ],
   "source": [
    "print(memory.buffer)"
   ]
  },
  {
   "cell_type": "code",
   "execution_count": 15,
   "id": "d93e8950-242e-44f3-be20-ee33e22dab51",
   "metadata": {},
   "outputs": [
    {
     "data": {
      "text/plain": [
       "{'history': \"Human: Hello, nice to meet you!\\nAI: Hello there! It's a pleasure to meet you too. I'm here to chat, answer questions, or help with any information you might need. If there's anything specific you're curious about or want to discuss, feel free to let me know!\\nHuman: Tell me about the Einstein-Szilard Letter \\nAI: The Einstein-Szilard Letter refers to a letter sent to President Franklin D. Roosevelt on August 2, 1939, that was signed by Albert Einstein but largely drafted by the Hungarian physicist Leó Szilard. This letter played a pivotal role in initiating the U.S. government's interest in nuclear research, leading to the development of the Manhattan Project and the eventual creation of the atomic bomb.\\n\\nThe context of the letter was the discovery of nuclear fission by scientists Otto Hahn and Fritz Strassmann in late 1938, which was later interpreted by Lise Meitner and Otto Frisch. This discovery suggested that a large amount of energy could be released from the fission of uranium atoms, raising the possibility of creating powerful bombs. Szilard, along with fellow physicists Eugene Wigner and Edward Teller, was concerned that Nazi Germany might develop this technology first.\\n\\nSzilard and Einstein, who were both Jewish refugees from the rise of fascism in Europe, understood the implications of this discovery. Szilard drafted the letter, and Einstein, being the more prominent figure, signed it to give it more weight. The letter warned President Roosevelt of the potential for a new type of bomb of unprecedented destructive power and urged the United States to accelerate its own research into nuclear chain reactions.\\n\\nAs a result of this letter, Roosevelt initiated the Advisory Committee on Uranium, which eventually evolved into the Manhattan Project, the secret U.S. project to develop the atomic bomb during World War II. The project led to the creation of the first nuclear weapons, which were used on the Japanese cities of Hiroshima and Nagasaki in August 1945.\\n\\nThe Einstein-Szilard Letter is often cited as a critical moment in the history of nuclear weapons, illustrating the intersection of science, ethics, and international politics. It also reflects the responsibility scientists felt to alert their governments to the potential dangers and uses of their discoveries.\\nHuman: Tell me a scientific fact.\\nAI: Certainly! Did you know that honey never spoils? Archaeologists have found pots of honey in ancient Egyptian tombs that are over 3,000 years old and still perfectly edible. Honey's longevity can be attributed to its unique composition and chemical properties. It is low in moisture and highly acidic, making it a hostile environment for bacteria and microorganisms. Additionally, honey contains small amounts of hydrogen peroxide, which inhibits growth of microbes. These factors contribute to honey's remarkable shelf life, making it a substance that can last indefinitely if stored properly.\"}"
      ]
     },
     "execution_count": 15,
     "metadata": {},
     "output_type": "execute_result"
    }
   ],
   "source": [
    "memory.load_memory_variables({})"
   ]
  },
  {
   "cell_type": "code",
   "execution_count": 16,
   "id": "26bc6f3c-2f49-4948-ad2a-003f5c555d42",
   "metadata": {},
   "outputs": [],
   "source": [
    "memory.save_context({\"input\": \"Very Interesting.\"}, \n",
    "                    {\"output\": \"Yes, it was my pleasure as an AI to answer.\"})"
   ]
  },
  {
   "cell_type": "code",
   "execution_count": 17,
   "id": "796b71c5-3940-4ad0-8c38-b29dba7535fe",
   "metadata": {},
   "outputs": [
    {
     "name": "stdout",
     "output_type": "stream",
     "text": [
      "Human: Hello, nice to meet you!\n",
      "AI: Hello there! It's a pleasure to meet you too. I'm here to chat, answer questions, or help with any information you might need. If there's anything specific you're curious about or want to discuss, feel free to let me know!\n",
      "Human: Tell me about the Einstein-Szilard Letter \n",
      "AI: The Einstein-Szilard Letter refers to a letter sent to President Franklin D. Roosevelt on August 2, 1939, that was signed by Albert Einstein but largely drafted by the Hungarian physicist Leó Szilard. This letter played a pivotal role in initiating the U.S. government's interest in nuclear research, leading to the development of the Manhattan Project and the eventual creation of the atomic bomb.\n",
      "\n",
      "The context of the letter was the discovery of nuclear fission by scientists Otto Hahn and Fritz Strassmann in late 1938, which was later interpreted by Lise Meitner and Otto Frisch. This discovery suggested that a large amount of energy could be released from the fission of uranium atoms, raising the possibility of creating powerful bombs. Szilard, along with fellow physicists Eugene Wigner and Edward Teller, was concerned that Nazi Germany might develop this technology first.\n",
      "\n",
      "Szilard and Einstein, who were both Jewish refugees from the rise of fascism in Europe, understood the implications of this discovery. Szilard drafted the letter, and Einstein, being the more prominent figure, signed it to give it more weight. The letter warned President Roosevelt of the potential for a new type of bomb of unprecedented destructive power and urged the United States to accelerate its own research into nuclear chain reactions.\n",
      "\n",
      "As a result of this letter, Roosevelt initiated the Advisory Committee on Uranium, which eventually evolved into the Manhattan Project, the secret U.S. project to develop the atomic bomb during World War II. The project led to the creation of the first nuclear weapons, which were used on the Japanese cities of Hiroshima and Nagasaki in August 1945.\n",
      "\n",
      "The Einstein-Szilard Letter is often cited as a critical moment in the history of nuclear weapons, illustrating the intersection of science, ethics, and international politics. It also reflects the responsibility scientists felt to alert their governments to the potential dangers and uses of their discoveries.\n",
      "Human: Tell me a scientific fact.\n",
      "AI: Certainly! Did you know that honey never spoils? Archaeologists have found pots of honey in ancient Egyptian tombs that are over 3,000 years old and still perfectly edible. Honey's longevity can be attributed to its unique composition and chemical properties. It is low in moisture and highly acidic, making it a hostile environment for bacteria and microorganisms. Additionally, honey contains small amounts of hydrogen peroxide, which inhibits growth of microbes. These factors contribute to honey's remarkable shelf life, making it a substance that can last indefinitely if stored properly.\n",
      "Human: Very Interesting.\n",
      "AI: Yes, it was my pleasure as an AI to answer.\n"
     ]
    }
   ],
   "source": [
    "print(memory.load_memory_variables({})['history'])"
   ]
  },
  {
   "cell_type": "markdown",
   "id": "9b2744cc-1e47-49c0-8497-aab70564d06e",
   "metadata": {},
   "source": [
    "### Saving and Loading Memory"
   ]
  },
  {
   "cell_type": "code",
   "execution_count": 18,
   "id": "6f3bcba7-caf7-4919-82dd-00f6c0affd43",
   "metadata": {},
   "outputs": [
    {
     "data": {
      "text/plain": [
       "ConversationBufferMemory(chat_memory=InMemoryChatMessageHistory(messages=[HumanMessage(content='Hello, nice to meet you!'), AIMessage(content=\"Hello there! It's a pleasure to meet you too. I'm here to chat, answer questions, or help with any information you might need. If there's anything specific you're curious about or want to discuss, feel free to let me know!\"), HumanMessage(content='Tell me about the Einstein-Szilard Letter '), AIMessage(content=\"The Einstein-Szilard Letter refers to a letter sent to President Franklin D. Roosevelt on August 2, 1939, that was signed by Albert Einstein but largely drafted by the Hungarian physicist Leó Szilard. This letter played a pivotal role in initiating the U.S. government's interest in nuclear research, leading to the development of the Manhattan Project and the eventual creation of the atomic bomb.\\n\\nThe context of the letter was the discovery of nuclear fission by scientists Otto Hahn and Fritz Strassmann in late 1938, which was later interpreted by Lise Meitner and Otto Frisch. This discovery suggested that a large amount of energy could be released from the fission of uranium atoms, raising the possibility of creating powerful bombs. Szilard, along with fellow physicists Eugene Wigner and Edward Teller, was concerned that Nazi Germany might develop this technology first.\\n\\nSzilard and Einstein, who were both Jewish refugees from the rise of fascism in Europe, understood the implications of this discovery. Szilard drafted the letter, and Einstein, being the more prominent figure, signed it to give it more weight. The letter warned President Roosevelt of the potential for a new type of bomb of unprecedented destructive power and urged the United States to accelerate its own research into nuclear chain reactions.\\n\\nAs a result of this letter, Roosevelt initiated the Advisory Committee on Uranium, which eventually evolved into the Manhattan Project, the secret U.S. project to develop the atomic bomb during World War II. The project led to the creation of the first nuclear weapons, which were used on the Japanese cities of Hiroshima and Nagasaki in August 1945.\\n\\nThe Einstein-Szilard Letter is often cited as a critical moment in the history of nuclear weapons, illustrating the intersection of science, ethics, and international politics. It also reflects the responsibility scientists felt to alert their governments to the potential dangers and uses of their discoveries.\"), HumanMessage(content='Tell me a scientific fact.'), AIMessage(content=\"Certainly! Did you know that honey never spoils? Archaeologists have found pots of honey in ancient Egyptian tombs that are over 3,000 years old and still perfectly edible. Honey's longevity can be attributed to its unique composition and chemical properties. It is low in moisture and highly acidic, making it a hostile environment for bacteria and microorganisms. Additionally, honey contains small amounts of hydrogen peroxide, which inhibits growth of microbes. These factors contribute to honey's remarkable shelf life, making it a substance that can last indefinitely if stored properly.\"), HumanMessage(content='Very Interesting.'), AIMessage(content='Yes, it was my pleasure as an AI to answer.')]))"
      ]
     },
     "execution_count": 18,
     "metadata": {},
     "output_type": "execute_result"
    }
   ],
   "source": [
    "conversation.memory"
   ]
  },
  {
   "cell_type": "code",
   "execution_count": 19,
   "id": "d24d6731-dc86-42e2-8994-9b60ecc0b1e7",
   "metadata": {},
   "outputs": [],
   "source": [
    "import pickle\n",
    "pickled_str = pickle.dumps(conversation.memory)"
   ]
  },
  {
   "cell_type": "code",
   "execution_count": 20,
   "id": "6daae42c-f4ab-4c54-b7c8-6be29735ea7d",
   "metadata": {},
   "outputs": [],
   "source": [
    "with open('memory.pkl','wb') as f:\n",
    "    f.write(pickled_str)"
   ]
  },
  {
   "cell_type": "code",
   "execution_count": 21,
   "id": "4163b624-99ef-4fc9-83af-8dbac40b5956",
   "metadata": {},
   "outputs": [],
   "source": [
    "new_memory_load = open('memory.pkl','rb').read()"
   ]
  },
  {
   "cell_type": "code",
   "execution_count": 22,
   "id": "429f7f15-7b90-4301-9c8d-1f31fd3803b5",
   "metadata": {},
   "outputs": [],
   "source": [
    "reload_conversation = ConversationChain(\n",
    "    llm=llm, \n",
    "    memory = pickle.loads(new_memory_load),\n",
    "    verbose=True\n",
    ")"
   ]
  },
  {
   "cell_type": "code",
   "execution_count": 23,
   "id": "573e4847-b9d1-45c5-88dc-44dc61d29e9a",
   "metadata": {},
   "outputs": [
    {
     "data": {
      "text/plain": [
       "\"Human: Hello, nice to meet you!\\nAI: Hello there! It's a pleasure to meet you too. I'm here to chat, answer questions, or help with any information you might need. If there's anything specific you're curious about or want to discuss, feel free to let me know!\\nHuman: Tell me about the Einstein-Szilard Letter \\nAI: The Einstein-Szilard Letter refers to a letter sent to President Franklin D. Roosevelt on August 2, 1939, that was signed by Albert Einstein but largely drafted by the Hungarian physicist Leó Szilard. This letter played a pivotal role in initiating the U.S. government's interest in nuclear research, leading to the development of the Manhattan Project and the eventual creation of the atomic bomb.\\n\\nThe context of the letter was the discovery of nuclear fission by scientists Otto Hahn and Fritz Strassmann in late 1938, which was later interpreted by Lise Meitner and Otto Frisch. This discovery suggested that a large amount of energy could be released from the fission of uranium atoms, raising the possibility of creating powerful bombs. Szilard, along with fellow physicists Eugene Wigner and Edward Teller, was concerned that Nazi Germany might develop this technology first.\\n\\nSzilard and Einstein, who were both Jewish refugees from the rise of fascism in Europe, understood the implications of this discovery. Szilard drafted the letter, and Einstein, being the more prominent figure, signed it to give it more weight. The letter warned President Roosevelt of the potential for a new type of bomb of unprecedented destructive power and urged the United States to accelerate its own research into nuclear chain reactions.\\n\\nAs a result of this letter, Roosevelt initiated the Advisory Committee on Uranium, which eventually evolved into the Manhattan Project, the secret U.S. project to develop the atomic bomb during World War II. The project led to the creation of the first nuclear weapons, which were used on the Japanese cities of Hiroshima and Nagasaki in August 1945.\\n\\nThe Einstein-Szilard Letter is often cited as a critical moment in the history of nuclear weapons, illustrating the intersection of science, ethics, and international politics. It also reflects the responsibility scientists felt to alert their governments to the potential dangers and uses of their discoveries.\\nHuman: Tell me a scientific fact.\\nAI: Certainly! Did you know that honey never spoils? Archaeologists have found pots of honey in ancient Egyptian tombs that are over 3,000 years old and still perfectly edible. Honey's longevity can be attributed to its unique composition and chemical properties. It is low in moisture and highly acidic, making it a hostile environment for bacteria and microorganisms. Additionally, honey contains small amounts of hydrogen peroxide, which inhibits growth of microbes. These factors contribute to honey's remarkable shelf life, making it a substance that can last indefinitely if stored properly.\\nHuman: Very Interesting.\\nAI: Yes, it was my pleasure as an AI to answer.\""
      ]
     },
     "execution_count": 23,
     "metadata": {},
     "output_type": "execute_result"
    }
   ],
   "source": [
    "reload_conversation.memory.buffer"
   ]
  },
  {
   "cell_type": "code",
   "execution_count": null,
   "id": "c9403d46-85a3-47b2-a0d2-49aa8338626d",
   "metadata": {},
   "outputs": [],
   "source": []
  },
  {
   "cell_type": "markdown",
   "id": "7da9c645-583d-416f-9a58-35cf7b59b9fe",
   "metadata": {},
   "source": [
    "## ConversationBufferWindowMemory"
   ]
  },
  {
   "cell_type": "code",
   "execution_count": 1,
   "id": "e52c0b6d-d33e-4fd0-bcaa-fb1f94363787",
   "metadata": {},
   "outputs": [],
   "source": [
    "import os\n",
    "import dotenv\n",
    "dotenv.load_dotenv()\n",
    "deployment_name = os.environ[\"DEPLOYMENT_NAME\"]"
   ]
  },
  {
   "cell_type": "code",
   "execution_count": 3,
   "id": "fe884549-8f9d-495f-a447-7f26ab34606f",
   "metadata": {},
   "outputs": [],
   "source": [
    "from langchain_openai import AzureChatOpenAI\n",
    "from langchain.chains import ConversationChain\n",
    "from langchain.memory import ConversationBufferWindowMemory"
   ]
  },
  {
   "cell_type": "code",
   "execution_count": 4,
   "id": "dd0ee7ec-149d-42f4-8438-a55d214c4060",
   "metadata": {},
   "outputs": [],
   "source": [
    "llm = AzureChatOpenAI(deployment_name=deployment_name, temperature=0.0)\n",
    "memory = ConversationBufferWindowMemory(k=1)"
   ]
  },
  {
   "cell_type": "markdown",
   "id": "9d9e7c5e-3b99-49d6-9200-e527b413a37b",
   "metadata": {},
   "source": [
    "### Connect Conversation to Memory"
   ]
  },
  {
   "cell_type": "code",
   "execution_count": 6,
   "id": "75c473d4-676c-4ee8-827a-f4f1174c1e09",
   "metadata": {},
   "outputs": [],
   "source": [
    "conversation = ConversationChain(\n",
    "    llm=llm, \n",
    "    memory = memory,\n",
    "    verbose=True\n",
    ")"
   ]
  },
  {
   "cell_type": "code",
   "execution_count": 7,
   "id": "f2220efb-90f3-4ebe-9a44-b8e8bd1de8a3",
   "metadata": {},
   "outputs": [
    {
     "name": "stdout",
     "output_type": "stream",
     "text": [
      "\n",
      "\n",
      "\u001b[1m> Entering new ConversationChain chain...\u001b[0m\n",
      "Prompt after formatting:\n",
      "\u001b[32;1m\u001b[1;3mThe following is a friendly conversation between a human and an AI. The AI is talkative and provides lots of specific details from its context. If the AI does not know the answer to a question, it truthfully says it does not know.\n",
      "\n",
      "Current conversation:\n",
      "\n",
      "Human: Hello, nice to meet you!\n",
      "AI:\u001b[0m\n",
      "\n",
      "\u001b[1m> Finished chain.\u001b[0m\n"
     ]
    },
    {
     "data": {
      "text/plain": [
       "{'input': 'Hello, nice to meet you!',\n",
       " 'history': '',\n",
       " 'response': \"Hello there! It's a pleasure to meet you too! I'm here to chat, answer questions, or just share interesting facts. Is there anything specific you'd like to talk about or learn about today?\"}"
      ]
     },
     "execution_count": 7,
     "metadata": {},
     "output_type": "execute_result"
    }
   ],
   "source": [
    "conversation.invoke(\"Hello, nice to meet you!\")"
   ]
  },
  {
   "cell_type": "code",
   "execution_count": 8,
   "id": "acd5ddff-5bf7-4a14-87f7-a16e611f14b7",
   "metadata": {},
   "outputs": [
    {
     "name": "stdout",
     "output_type": "stream",
     "text": [
      "\n",
      "\n",
      "\u001b[1m> Entering new ConversationChain chain...\u001b[0m\n",
      "Prompt after formatting:\n",
      "\u001b[32;1m\u001b[1;3mThe following is a friendly conversation between a human and an AI. The AI is talkative and provides lots of specific details from its context. If the AI does not know the answer to a question, it truthfully says it does not know.\n",
      "\n",
      "Current conversation:\n",
      "Human: Hello, nice to meet you!\n",
      "AI: Hello there! It's a pleasure to meet you too! I'm here to chat, answer questions, or just share interesting facts. Is there anything specific you'd like to talk about or learn about today?\n",
      "Human: How are you?\n",
      "AI:\u001b[0m\n",
      "\n",
      "\u001b[1m> Finished chain.\u001b[0m\n"
     ]
    },
    {
     "data": {
      "text/plain": [
       "{'input': 'How are you?',\n",
       " 'history': \"Human: Hello, nice to meet you!\\nAI: Hello there! It's a pleasure to meet you too! I'm here to chat, answer questions, or just share interesting facts. Is there anything specific you'd like to talk about or learn about today?\",\n",
       " 'response': \"As an AI, I don't have feelings in the same way humans do, but I'm functioning optimally and ready to engage in this conversation. How about you? How are you doing today?\"}"
      ]
     },
     "execution_count": 8,
     "metadata": {},
     "output_type": "execute_result"
    }
   ],
   "source": [
    "conversation.invoke(\"How are you?\")"
   ]
  },
  {
   "cell_type": "code",
   "execution_count": 9,
   "id": "f4d36bfa-68ca-4b9d-adc7-dc62c800b80d",
   "metadata": {},
   "outputs": [
    {
     "name": "stdout",
     "output_type": "stream",
     "text": [
      "\n",
      "\n",
      "\u001b[1m> Entering new ConversationChain chain...\u001b[0m\n",
      "Prompt after formatting:\n",
      "\u001b[32;1m\u001b[1;3mThe following is a friendly conversation between a human and an AI. The AI is talkative and provides lots of specific details from its context. If the AI does not know the answer to a question, it truthfully says it does not know.\n",
      "\n",
      "Current conversation:\n",
      "Human: How are you?\n",
      "AI: As an AI, I don't have feelings in the same way humans do, but I'm functioning optimally and ready to engage in this conversation. How about you? How are you doing today?\n",
      "Human: tell me a math fact\n",
      "AI:\u001b[0m\n",
      "\n",
      "\u001b[1m> Finished chain.\u001b[0m\n"
     ]
    },
    {
     "data": {
      "text/plain": [
       "{'input': 'tell me a math fact',\n",
       " 'history': \"Human: How are you?\\nAI: As an AI, I don't have feelings in the same way humans do, but I'm functioning optimally and ready to engage in this conversation. How about you? How are you doing today?\",\n",
       " 'response': 'Certainly! Did you know that zero is the only integer that cannot be used as a divisor? In mathematics, division by zero is undefined because there is no number that multiplied by zero gives any other number than zero. Attempting to divide by zero is a common example of a mathematical operation that is not allowed, leading to an undefined result or, in some contexts, infinity. This concept is a fundamental rule in arithmetic and has implications in various fields such as algebra, calculus, and computer science.'}"
      ]
     },
     "execution_count": 9,
     "metadata": {},
     "output_type": "execute_result"
    }
   ],
   "source": [
    "conversation.invoke(\"tell me a math fact\")"
   ]
  },
  {
   "cell_type": "code",
   "execution_count": 10,
   "id": "b67d4578-8186-4a9d-8f9e-29a7e71195ea",
   "metadata": {},
   "outputs": [
    {
     "name": "stdout",
     "output_type": "stream",
     "text": [
      "\n",
      "\n",
      "\u001b[1m> Entering new ConversationChain chain...\u001b[0m\n",
      "Prompt after formatting:\n",
      "\u001b[32;1m\u001b[1;3mThe following is a friendly conversation between a human and an AI. The AI is talkative and provides lots of specific details from its context. If the AI does not know the answer to a question, it truthfully says it does not know.\n",
      "\n",
      "Current conversation:\n",
      "Human: tell me a math fact\n",
      "AI: Certainly! Did you know that zero is the only integer that cannot be used as a divisor? In mathematics, division by zero is undefined because there is no number that multiplied by zero gives any other number than zero. Attempting to divide by zero is a common example of a mathematical operation that is not allowed, leading to an undefined result or, in some contexts, infinity. This concept is a fundamental rule in arithmetic and has implications in various fields such as algebra, calculus, and computer science.\n",
      "Human: tell me a fact about Mars.\n",
      "AI:\u001b[0m\n",
      "\n",
      "\u001b[1m> Finished chain.\u001b[0m\n"
     ]
    },
    {
     "data": {
      "text/plain": [
       "'Absolutely! Mars, often referred to as the \"Red Planet\" due to its reddish appearance, is the fourth planet from the Sun in our solar system. An interesting fact about Mars is that it has the largest volcano and the deepest, longest canyon in the solar system. The volcano is named Olympus Mons and stands about 22 kilometers (13.6 miles) high, which is nearly three times the height of Mount Everest, Earth\\'s tallest mountain above sea level. The canyon, known as Valles Marineris, is over 4,000 kilometers (2,500 miles) long and can go as deep as 7 kilometers (4.3 miles) in some places, which is about four times as long and four times as deep as the Grand Canyon in the United States. Mars also has two small moons, Phobos and Deimos, which are thought to be captured asteroids.'"
      ]
     },
     "execution_count": 10,
     "metadata": {},
     "output_type": "execute_result"
    }
   ],
   "source": [
    "conversation.invoke(\"tell me a fact about Mars.\")[\"response\"]"
   ]
  },
  {
   "cell_type": "code",
   "execution_count": 11,
   "id": "16f14ac0-3397-4c4c-b869-e0b3d0e7bf65",
   "metadata": {},
   "outputs": [
    {
     "name": "stdout",
     "output_type": "stream",
     "text": [
      "Human: tell me a fact about Mars.\n",
      "AI: Absolutely! Mars, often referred to as the \"Red Planet\" due to its reddish appearance, is the fourth planet from the Sun in our solar system. An interesting fact about Mars is that it has the largest volcano and the deepest, longest canyon in the solar system. The volcano is named Olympus Mons and stands about 22 kilometers (13.6 miles) high, which is nearly three times the height of Mount Everest, Earth's tallest mountain above sea level. The canyon, known as Valles Marineris, is over 4,000 kilometers (2,500 miles) long and can go as deep as 7 kilometers (4.3 miles) in some places, which is about four times as long and four times as deep as the Grand Canyon in the United States. Mars also has two small moons, Phobos and Deimos, which are thought to be captured asteroids.\n"
     ]
    }
   ],
   "source": [
    "print(memory.buffer)"
   ]
  },
  {
   "cell_type": "code",
   "execution_count": 12,
   "id": "c2ac5d15-2508-4ccb-b6b3-a5df1b7745fa",
   "metadata": {},
   "outputs": [
    {
     "data": {
      "text/plain": [
       "{'history': 'Human: tell me a fact about Mars.\\nAI: Absolutely! Mars, often referred to as the \"Red Planet\" due to its reddish appearance, is the fourth planet from the Sun in our solar system. An interesting fact about Mars is that it has the largest volcano and the deepest, longest canyon in the solar system. The volcano is named Olympus Mons and stands about 22 kilometers (13.6 miles) high, which is nearly three times the height of Mount Everest, Earth\\'s tallest mountain above sea level. The canyon, known as Valles Marineris, is over 4,000 kilometers (2,500 miles) long and can go as deep as 7 kilometers (4.3 miles) in some places, which is about four times as long and four times as deep as the Grand Canyon in the United States. Mars also has two small moons, Phobos and Deimos, which are thought to be captured asteroids.'}"
      ]
     },
     "execution_count": 12,
     "metadata": {},
     "output_type": "execute_result"
    }
   ],
   "source": [
    "memory.load_memory_variables({})"
   ]
  },
  {
   "cell_type": "code",
   "execution_count": 13,
   "id": "21e05e33-f7f4-4919-9c71-3c15438d7e7d",
   "metadata": {},
   "outputs": [],
   "source": [
    "memory.save_context({\"input\": \"Very Interesting.\"}, \n",
    "                    {\"output\": \"Yes, it was my pleasure as an AI to answer.\"})"
   ]
  },
  {
   "cell_type": "code",
   "execution_count": 14,
   "id": "da7a0b90-f7b3-4476-a3ca-45d4c43dd3fc",
   "metadata": {},
   "outputs": [
    {
     "data": {
      "text/plain": [
       "{'history': 'Human: Very Interesting.\\nAI: Yes, it was my pleasure as an AI to answer.'}"
      ]
     },
     "execution_count": 14,
     "metadata": {},
     "output_type": "execute_result"
    }
   ],
   "source": [
    "memory.load_memory_variables({})"
   ]
  },
  {
   "cell_type": "code",
   "execution_count": null,
   "id": "90937848-e0b4-476e-b227-44677cca7eaa",
   "metadata": {},
   "outputs": [],
   "source": []
  },
  {
   "cell_type": "markdown",
   "id": "0f7d434a-2b68-4177-a71d-687a27ee91b1",
   "metadata": {},
   "source": [
    "## ConversationSummaryMemory"
   ]
  },
  {
   "cell_type": "code",
   "execution_count": 1,
   "id": "ab78c77c-dafe-4ab6-b89a-ac31e30dbc3a",
   "metadata": {},
   "outputs": [],
   "source": [
    "import os\n",
    "import dotenv\n",
    "dotenv.load_dotenv()\n",
    "deployment_name = os.environ[\"DEPLOYMENT_NAME\"]"
   ]
  },
  {
   "cell_type": "code",
   "execution_count": 2,
   "id": "5449a325-2d50-4c3f-8241-e0e92eebb05b",
   "metadata": {},
   "outputs": [],
   "source": [
    "from langchain_openai import AzureChatOpenAI\n",
    "from langchain.chains import ConversationChain\n",
    "from langchain.memory import ConversationSummaryBufferMemory"
   ]
  },
  {
   "cell_type": "code",
   "execution_count": 4,
   "id": "43339018-bb95-4f1c-8013-61a902cae618",
   "metadata": {},
   "outputs": [],
   "source": [
    "llm = AzureChatOpenAI(deployment_name=deployment_name)\n",
    "memory = ConversationSummaryBufferMemory(llm=llm, max_token_limit=1000)"
   ]
  },
  {
   "cell_type": "code",
   "execution_count": 5,
   "id": "c3c3bc1c-7637-457d-a736-0c6338b05e31",
   "metadata": {},
   "outputs": [],
   "source": [
    "conversation = ConversationChain(llm=llm, memory=memory, verbose=True)"
   ]
  },
  {
   "cell_type": "code",
   "execution_count": 6,
   "id": "bf59fa74-509a-4741-8f01-09d7df9cae10",
   "metadata": {},
   "outputs": [
    {
     "name": "stdout",
     "output_type": "stream",
     "text": [
      "\n",
      "\n",
      "\u001b[1m> Entering new ConversationChain chain...\u001b[0m\n",
      "Prompt after formatting:\n",
      "\u001b[32;1m\u001b[1;3mThe following is a friendly conversation between a human and an AI. The AI is talkative and provides lots of specific details from its context. If the AI does not know the answer to a question, it truthfully says it does not know.\n",
      "\n",
      "Current conversation:\n",
      "\n",
      "Human: Give me some travel plans for San Francisco\n",
      "AI:\u001b[0m\n",
      "\n",
      "\u001b[1m> Finished chain.\u001b[0m\n"
     ]
    },
    {
     "data": {
      "text/plain": [
       "{'input': 'Give me some travel plans for San Francisco',\n",
       " 'history': '',\n",
       " 'response': \"San Francisco is a beautiful and vibrant city with a lot to offer! Here's a detailed travel plan for a 5-day trip that you might enjoy:\\n\\n**Day 1: Explore Downtown and the Waterfront**\\n- Start your day with a hearty breakfast at Mama's on Washington Square.\\n- Head to Fisherman's Wharf to see the sea lions at Pier 39 and grab some fresh seafood for lunch.\\n- Visit the historic ships at the Hyde Street Pier and the Maritime National Historical Park.\\n- Take a walk along the waterfront to the Ferry Building Marketplace and enjoy the artisanal shops and food stalls.\\n- Have dinner at one of the restaurants with a view of the Bay Bridge, such as Waterbar or Epic Steak.\\n\\n**Day 2: Culture and History**\\n- Spend the morning at the de Young Museum in Golden Gate Park, which features American art, international textiles, and arts from the Americas, the Pacific, and Africa.\\n- Have lunch at a café in the Haight-Ashbury district and explore the area known for its role in the '60s counterculture movement.\\n- In the afternoon, visit Alcatraz Island. Make sure to book your tickets in advance as they can sell out quickly. The audio tour is highly recommended.\\n- Dine in North Beach, San Francisco's Little Italy, and enjoy some gelato for dessert.\\n\\n**Day 3: Shopping and the Golden Gate**\\n- Begin your day in Union Square, the shopping hub of San Francisco, and spend some time browsing the stores.\\n- Grab a coffee and a snack at one of the local cafés.\\n- In the afternoon, rent a bike and ride across the Golden Gate Bridge to Sausalito. You can return by ferry, enjoying the view of the city skyline.\\n- For dinner, consider exploring the Mission District and trying out one of the many excellent Mexican or Central American restaurants.\\n\\n**Day 4: Exploring Neighborhoods**\\n- Start with a visit to the Painted Ladies at Alamo Square, some of the city's most photographed Victorian homes.\\n- Brunch in the nearby neighborhood of NoPa, which has a variety of trendy eateries.\\n- Spend the afternoon in the Castro, the heart of San Francisco's LGBTQ community, and visit the Castro Theatre.\\n- Enjoy a quiet evening at the Presidio, a park with trails, viewpoints, and historic sites. You might want to have dinner at one of the restaurants within the park, like The Commissary or Arguello.\\n\\n**Day 5: Relaxation and Views**\\n- Spend your last morning relaxing at the Japanese Tea Garden or the San Francisco Botanical Garden in Golden Gate Park.\\n- Have a leisurely lunch in the Inner Sunset district, which offers diverse cuisine options.\\n- For your final afternoon, take a trip to Coit Tower on Telegraph Hill for panoramic views of the city.\\n- Enjoy your last dinner at a restaurant with a view, maybe in the Cliff House, to look out over the Pacific Ocean as the sun sets.\\n\\nRemember to book accommodations well in advance, as the city can get quite busy, especially during the summer months. Also, be prepared for the weather, which can be quite cool and foggy even in the summer; layers are your friend in San Francisco!\\n\\nThis itinerary is just a starting point, and there's so much more to see and do in San Francisco depending on your interests, from the Exploratorium for science fans to the bustling Chinatown, the oldest in North America. Enjoy your trip!\"}"
      ]
     },
     "execution_count": 6,
     "metadata": {},
     "output_type": "execute_result"
    }
   ],
   "source": [
    "conversation.invoke(\"Give me some travel plans for San Francisco\")"
   ]
  },
  {
   "cell_type": "code",
   "execution_count": null,
   "id": "549df909-141a-41b7-bdd0-873483a078de",
   "metadata": {},
   "outputs": [],
   "source": [
    "print(conversation.invoke(\"Give me some travel plans for New York City\")[\"response\"])"
   ]
  },
  {
   "cell_type": "code",
   "execution_count": null,
   "id": "c23988f7-2087-4675-8286-137fed9f9422",
   "metadata": {},
   "outputs": [],
   "source": [
    "memory.load_memory_variables({})"
   ]
  },
  {
   "cell_type": "code",
   "execution_count": null,
   "id": "7939e23d-75cc-4250-8ada-1196cbce50ea",
   "metadata": {},
   "outputs": [],
   "source": []
  }
 ],
 "metadata": {
  "kernelspec": {
   "display_name": "Python 3 (ipykernel)",
   "language": "python",
   "name": "python3"
  },
  "language_info": {
   "codemirror_mode": {
    "name": "ipython",
    "version": 3
   },
   "file_extension": ".py",
   "mimetype": "text/x-python",
   "name": "python",
   "nbconvert_exporter": "python",
   "pygments_lexer": "ipython3",
   "version": "3.11.9"
  }
 },
 "nbformat": 4,
 "nbformat_minor": 5
}
