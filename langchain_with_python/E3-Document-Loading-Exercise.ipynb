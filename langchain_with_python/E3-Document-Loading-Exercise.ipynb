{
 "cells": [
  {
   "cell_type": "markdown",
   "id": "728f1747-b8fc-4d31-96c2-047fc83c079d",
   "metadata": {},
   "source": [
    "#  Document Loading Exercise \n",
    "\n",
    "## Answering a Single Question\n",
    "\n",
    "Using the Wikipedia Document Loader Integration,can you make a function that accepts a famous historical figure name and a question about them, and then uses a ChatModel to answer questions with the additional context? Notice how in our example, the query doesn't mention the famous person. Keep in mind there are many potential ways to solve this problem!"
   ]
  },
  {
   "cell_type": "code",
   "execution_count": 1,
   "id": "9be576c3-da77-4cf9-9e5e-1b2b74ac1471",
   "metadata": {},
   "outputs": [
    {
     "name": "stdout",
     "output_type": "stream",
     "text": [
      "Collecting wikipedia\n",
      "  Downloading wikipedia-1.4.0.tar.gz (27 kB)\n",
      "  Installing build dependencies ... \u001b[?25ldone\n",
      "\u001b[?25h  Getting requirements to build wheel ... \u001b[?25ldone\n",
      "\u001b[?25h  Preparing metadata (pyproject.toml) ... \u001b[?25ldone\n",
      "\u001b[?25hRequirement already satisfied: beautifulsoup4 in /Users/ujjwal/codingpoint/pycourses/venvbook/lib/python3.11/site-packages (from wikipedia) (4.12.3)\n",
      "Requirement already satisfied: requests<3.0.0,>=2.0.0 in /Users/ujjwal/codingpoint/pycourses/venvbook/lib/python3.11/site-packages (from wikipedia) (2.32.3)\n",
      "Requirement already satisfied: charset-normalizer<4,>=2 in /Users/ujjwal/codingpoint/pycourses/venvbook/lib/python3.11/site-packages (from requests<3.0.0,>=2.0.0->wikipedia) (3.3.2)\n",
      "Requirement already satisfied: idna<4,>=2.5 in /Users/ujjwal/codingpoint/pycourses/venvbook/lib/python3.11/site-packages (from requests<3.0.0,>=2.0.0->wikipedia) (3.7)\n",
      "Requirement already satisfied: urllib3<3,>=1.21.1 in /Users/ujjwal/codingpoint/pycourses/venvbook/lib/python3.11/site-packages (from requests<3.0.0,>=2.0.0->wikipedia) (2.2.2)\n",
      "Requirement already satisfied: certifi>=2017.4.17 in /Users/ujjwal/codingpoint/pycourses/venvbook/lib/python3.11/site-packages (from requests<3.0.0,>=2.0.0->wikipedia) (2024.6.2)\n",
      "Requirement already satisfied: soupsieve>1.2 in /Users/ujjwal/codingpoint/pycourses/venvbook/lib/python3.11/site-packages (from beautifulsoup4->wikipedia) (2.5)\n",
      "Building wheels for collected packages: wikipedia\n",
      "  Building wheel for wikipedia (pyproject.toml) ... \u001b[?25ldone\n",
      "\u001b[?25h  Created wheel for wikipedia: filename=wikipedia-1.4.0-py3-none-any.whl size=11679 sha256=2db1078a861d3bab65c991f34fa0129e3b1577213d018f0b0c8ff673e87ed28a\n",
      "  Stored in directory: /Users/ujjwal/Library/Caches/pip/wheels/8f/ab/cb/45ccc40522d3a1c41e1d2ad53b8f33a62f394011ec38cd71c6\n",
      "Successfully built wikipedia\n",
      "Installing collected packages: wikipedia\n",
      "Successfully installed wikipedia-1.4.0\n"
     ]
    }
   ],
   "source": [
    "!pip install wikipedia"
   ]
  },
  {
   "cell_type": "code",
   "execution_count": 2,
   "id": "2a539244-89c6-4019-8608-1cdf51ba1983",
   "metadata": {},
   "outputs": [],
   "source": [
    "from langchain.prompts import (\n",
    "    ChatPromptTemplate,\n",
    "    SystemMessagePromptTemplate,\n",
    "    HumanMessagePromptTemplate,\n",
    ")\n",
    "from langchain_openai.chat_models import ChatOpenAI\n",
    "from langchain.document_loaders import WikipediaLoader\n",
    "from dotenv import load_dotenv\n",
    "import os\n",
    "load_dotenv()\n",
    "\n",
    "\n",
    "def answer_question_about(person_name,question):\n",
    "    \n",
    "    '''\n",
    "    Use the Wikipedia Document Loader to help answer questions about someone, insert it as additional helpful context.\n",
    "    '''\n",
    "    system_prompt = SystemMessagePromptTemplate.from_template(\"You are an enclopedia about {person_name}, who knows the following things: \\n {person_data}.\")\n",
    "    human_prompt = HumanMessagePromptTemplate.from_template(\"{question}\")\n",
    "    chat_prompt = ChatPromptTemplate.from_messages([system_prompt, human_prompt])\n",
    "\n",
    "    person_data = WikipediaLoader(query=person_name, load_max_docs=1).load()\n",
    "    model = ChatOpenAI()\n",
    "    result = model.invoke(chat_prompt.format_prompt(question=question, person_name=person_name, person_data=person_data[0].page_content).to_messages())\n",
    "    answer = result.content\n",
    "    return answer"
   ]
  },
  {
   "cell_type": "code",
   "execution_count": 13,
   "id": "e3a43963-57d4-44c5-8d28-b6164b2c0b83",
   "metadata": {},
   "outputs": [
    {
     "name": "stdout",
     "output_type": "stream",
     "text": [
      "Claude Elwood Shannon was born on April 30, 1916.\n"
     ]
    }
   ],
   "source": [
    "answer_question_about(\"Claude Shannon\",\"When was he born?\")\n",
    "# Claude Elwood Shannon was born on April 30, 1916."
   ]
  },
  {
   "cell_type": "code",
   "execution_count": 3,
   "id": "b9074e58-b4af-4a21-a503-a0c58621a7a3",
   "metadata": {},
   "outputs": [
    {
     "data": {
      "text/plain": [
       "'Claude Elwood Shannon was born on April 30, 1916.'"
      ]
     },
     "execution_count": 3,
     "metadata": {},
     "output_type": "execute_result"
    }
   ],
   "source": [
    "answer_question_about(\"Claude Shannon\",\"When was he born?\")"
   ]
  },
  {
   "cell_type": "code",
   "execution_count": 4,
   "id": "8137296c-cb63-4b80-b3cc-55960f4b17b1",
   "metadata": {},
   "outputs": [
    {
     "data": {
      "text/plain": [
       "'Rahul Gandhi served as the president of the Indian National Congress (INC) from December 2017 to July 2019.'"
      ]
     },
     "execution_count": 4,
     "metadata": {},
     "output_type": "execute_result"
    }
   ],
   "source": [
    "answer_question_about(\"Rahul Gandhi\",\"When was he the president of Indian National Congress\")"
   ]
  },
  {
   "cell_type": "code",
   "execution_count": 5,
   "id": "33793dc4-fd30-48d0-8b99-a6a8b9b3d314",
   "metadata": {},
   "outputs": [
    {
     "name": "stdout",
     "output_type": "stream",
     "text": [
      "Maneka Anand first met Sanjay Gandhi in 1973 at a cocktail party thrown by her uncle, Major-General Kapur, to celebrate the forthcoming marriage of his son. They got married one year later on 23 September 1974.\n"
     ]
    }
   ],
   "source": [
    "print(answer_question_about(\"Maneka Gandhi\",\"When did she meet Sanjay Gandhi?\"))"
   ]
  },
  {
   "cell_type": "code",
   "execution_count": null,
   "id": "808072da-722a-43dc-afbf-716e6fd7202d",
   "metadata": {},
   "outputs": [],
   "source": []
  }
 ],
 "metadata": {
  "kernelspec": {
   "display_name": "Python 3 (ipykernel)",
   "language": "python",
   "name": "python3"
  },
  "language_info": {
   "codemirror_mode": {
    "name": "ipython",
    "version": 3
   },
   "file_extension": ".py",
   "mimetype": "text/x-python",
   "name": "python",
   "nbconvert_exporter": "python",
   "pygments_lexer": "ipython3",
   "version": "3.11.9"
  }
 },
 "nbformat": 4,
 "nbformat_minor": 5
}
