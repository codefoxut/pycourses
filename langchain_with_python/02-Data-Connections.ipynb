{
 "cells": [
  {
   "cell_type": "markdown",
   "id": "52191506-cb20-42a2-b7b9-e6641426a65a",
   "metadata": {},
   "source": [
    "## Data Loaders"
   ]
  },
  {
   "cell_type": "code",
   "execution_count": 66,
   "id": "2231e0e7-7be4-4cc4-ba4e-02b6a5e6a0ac",
   "metadata": {},
   "outputs": [],
   "source": [
    "from langchain.document_loaders import CSVLoader"
   ]
  },
  {
   "cell_type": "code",
   "execution_count": 72,
   "id": "c54b9031-dbfd-4b00-a7d1-eab4ab3bcdf8",
   "metadata": {},
   "outputs": [],
   "source": [
    "loader = CSVLoader(\"langchain_with_python/some_data/penguins.csv\")"
   ]
  },
  {
   "cell_type": "code",
   "execution_count": 73,
   "id": "a069a2ea-531b-4ce1-96c7-238a29ac1580",
   "metadata": {},
   "outputs": [],
   "source": [
    "data = loader.load()"
   ]
  },
  {
   "cell_type": "code",
   "execution_count": 79,
   "id": "cace1000-54c4-46e8-bc17-83b9f4903e0e",
   "metadata": {},
   "outputs": [
    {
     "data": {
      "text/plain": [
       "Document(page_content='species: Adelie\\nisland: Torgersen\\nbill_length_mm: 39.1\\nbill_depth_mm: 18.7\\nflipper_length_mm: 181\\nbody_mass_g: 3750\\nsex: MALE', metadata={'source': 'langchain_with_python/some_data/penguins.csv', 'row': 0})"
      ]
     },
     "execution_count": 79,
     "metadata": {},
     "output_type": "execute_result"
    }
   ],
   "source": [
    "data[0]"
   ]
  },
  {
   "cell_type": "code",
   "execution_count": 77,
   "id": "652922f7-4142-4c5d-bc7b-7766eccb2ece",
   "metadata": {},
   "outputs": [
    {
     "data": {
      "text/plain": [
       "langchain_core.documents.base.Document"
      ]
     },
     "execution_count": 77,
     "metadata": {},
     "output_type": "execute_result"
    }
   ],
   "source": [
    "type(data[0])"
   ]
  },
  {
   "cell_type": "code",
   "execution_count": 80,
   "id": "52fb3869-7b63-448f-8804-846cda06e88b",
   "metadata": {},
   "outputs": [
    {
     "name": "stdout",
     "output_type": "stream",
     "text": [
      "species: Adelie\n",
      "island: Torgersen\n",
      "bill_length_mm: 39.1\n",
      "bill_depth_mm: 18.7\n",
      "flipper_length_mm: 181\n",
      "body_mass_g: 3750\n",
      "sex: MALE\n"
     ]
    }
   ],
   "source": [
    "print(data[0].page_content)"
   ]
  },
  {
   "cell_type": "code",
   "execution_count": 82,
   "id": "102fd057-db7e-4cc2-a9d0-589b6d6c2cae",
   "metadata": {},
   "outputs": [
    {
     "name": "stdout",
     "output_type": "stream",
     "text": [
      "{'source': 'langchain_with_python/some_data/penguins.csv', 'row': 2}\n"
     ]
    }
   ],
   "source": [
    "print(data[2].metadata)"
   ]
  },
  {
   "cell_type": "code",
   "execution_count": 83,
   "id": "f73f6c11-9f96-4308-91bb-47393d6c533b",
   "metadata": {},
   "outputs": [
    {
     "name": "stdout",
     "output_type": "stream",
     "text": [
      "Requirement already satisfied: beautifulsoup4 in ./venvbook/lib/python3.11/site-packages (4.12.3)\n",
      "Requirement already satisfied: soupsieve>1.2 in ./venvbook/lib/python3.11/site-packages (from beautifulsoup4) (2.5)\n"
     ]
    }
   ],
   "source": [
    "!pip install beautifulsoup4"
   ]
  },
  {
   "cell_type": "code",
   "execution_count": 1,
   "id": "8fc4f674-54bf-4740-b3e3-c8ab4234b0c0",
   "metadata": {},
   "outputs": [],
   "source": [
    "from langchain.document_loaders import BSHTMLLoader"
   ]
  },
  {
   "cell_type": "code",
   "execution_count": 2,
   "id": "7dd4584c-1fbc-4812-aaa3-52b68cfa75dc",
   "metadata": {},
   "outputs": [],
   "source": [
    "loader = BSHTMLLoader(\"langchain_with_python/some_data/some_website.html\")"
   ]
  },
  {
   "cell_type": "code",
   "execution_count": 3,
   "id": "9fa33c63-7512-44d2-8a51-ab408fc8b138",
   "metadata": {},
   "outputs": [
    {
     "name": "stdout",
     "output_type": "stream",
     "text": [
      "[Document(page_content='Heading 1', metadata={'source': 'langchain_with_python/some_data/some_website.html', 'title': ''})]\n"
     ]
    }
   ],
   "source": [
    "hdata = loader.load()\n",
    "print(hdata)"
   ]
  },
  {
   "cell_type": "code",
   "execution_count": 4,
   "id": "18d1073c-bf40-4ab2-8393-0c58a81e968a",
   "metadata": {},
   "outputs": [
    {
     "name": "stdout",
     "output_type": "stream",
     "text": [
      "Heading 1\n"
     ]
    }
   ],
   "source": [
    "print(hdata[0].page_content)"
   ]
  },
  {
   "cell_type": "markdown",
   "id": "a501f183-ebeb-49ce-b326-13200b982056",
   "metadata": {},
   "source": [
    "### pdf parsers"
   ]
  },
  {
   "cell_type": "code",
   "execution_count": 2,
   "id": "2ddab470-4995-419c-a8d0-37e578ad8f6c",
   "metadata": {},
   "outputs": [],
   "source": [
    "from langchain.document_loaders import PyPDFLoader"
   ]
  },
  {
   "cell_type": "code",
   "execution_count": 3,
   "id": "57af728b-8b75-45c1-bed8-25cd9f15b191",
   "metadata": {},
   "outputs": [],
   "source": [
    "pdf_loader = PyPDFLoader(\"langchain_with_python/some_data/SomeReport.pdf\")"
   ]
  },
  {
   "cell_type": "code",
   "execution_count": 7,
   "id": "01daf7da-989d-44e3-849d-b658e5236510",
   "metadata": {},
   "outputs": [],
   "source": [
    "pages = pdf_loader.load()"
   ]
  },
  {
   "cell_type": "code",
   "execution_count": 8,
   "id": "2f902687-b4df-4b71-942f-ece1a88799d1",
   "metadata": {},
   "outputs": [
    {
     "name": "stdout",
     "output_type": "stream",
     "text": [
      "[Document(page_content='This\\nis\\nthe\\nfirst\\nline\\nPDF.\\nThis\\nis\\nthe\\nsecond\\nline\\nin\\nthe\\nPDF.\\nThis\\nis\\nthe\\nthird\\nline\\nin\\nthe\\nPDF.', metadata={'source': 'langchain_with_python/some_data/SomeReport.pdf', 'page': 0})]\n"
     ]
    }
   ],
   "source": [
    "print(pages)"
   ]
  },
  {
   "cell_type": "code",
   "execution_count": 9,
   "id": "d053e57b-9afe-4753-b6f3-ef96e68eb022",
   "metadata": {},
   "outputs": [
    {
     "name": "stdout",
     "output_type": "stream",
     "text": [
      "This\n",
      "is\n",
      "the\n",
      "first\n",
      "line\n",
      "PDF.\n",
      "This\n",
      "is\n",
      "the\n",
      "second\n",
      "line\n",
      "in\n",
      "the\n",
      "PDF.\n",
      "This\n",
      "is\n",
      "the\n",
      "third\n",
      "line\n",
      "in\n",
      "the\n",
      "PDF.\n"
     ]
    }
   ],
   "source": [
    "print(pages[0].page_content)"
   ]
  },
  {
   "cell_type": "code",
   "execution_count": 10,
   "id": "e77504bf-b398-4d84-9c7b-488648320181",
   "metadata": {},
   "outputs": [
    {
     "name": "stderr",
     "output_type": "stream",
     "text": [
      "USER_AGENT environment variable not set, consider setting it to identify your requests.\n"
     ]
    }
   ],
   "source": [
    "from langchain.document_loaders import HNLoader"
   ]
  },
  {
   "cell_type": "code",
   "execution_count": 11,
   "id": "044d601f-c685-4ed1-bf3d-b7135799a0f4",
   "metadata": {},
   "outputs": [],
   "source": [
    "hn_loader = HNLoader(\"https://news.ycombinator.com/item?id=36697119\")"
   ]
  },
  {
   "cell_type": "code",
   "execution_count": 12,
   "id": "01118bfe-7072-46bc-9b21-d6114fa124d3",
   "metadata": {},
   "outputs": [],
   "source": [
    "html_pages = hn_loader.load()"
   ]
  },
  {
   "cell_type": "code",
   "execution_count": 13,
   "id": "dc99818f-b3a4-40ee-b6ad-393feea0462b",
   "metadata": {},
   "outputs": [
    {
     "data": {
      "text/plain": [
       "[Document(page_content='endisneigh 11 months ago  \\n             | next [–] \\n\\nI wish the folks who clearly do not like Google would just not use their products instead of spamming every thread about how they will kill the product, true or not.——Anyway,It’s not clear which model they’re using for this. I assume whatever Bard is using, but who knows. This is relevant because depending on the intended experience the latency will matter.Overall it’s not a bad idea, but I do wonder what the monetization path will be for Google. I imagine this will be part of workspace. Perhaps they will add more tiers to include these offerings.I wish they shared a bit about how this will be differentiated from Bard. Is this simply a new front end to Bard? It’s really an open question. I haven’t seen many products that use LLMs that are better than the prompt response UX.The most interesting thing about this blog post is the “source grounding.” I’m curious if there’s actual engineering behind it, or is it prompt tweaking contextualized behind the scenes on a given doc.', metadata={'source': 'https://news.ycombinator.com/item?id=36697119', 'title': 'NotebookLM: An AI Notebook'}),\n",
       " Document(page_content=\"vogon_laureate 11 months ago  \\n             | parent | next [–] \\n\\nPeople are wary about Google product launches because of a well documented[1]\\npattern of corporate behaviour[2] when it comes to either the project's planning and execution, resourcing, or long-term support.You don't have to agree with those comments, but they are legitimate concerns being expressed by people who have been burned enough times by the company that it has developed a degree[3] of notoriety[4] for it as a result.[5][1]: https://killedbygoogle.com/\\n[2]: https://gcemetery.co/\\n[3]: https://www.theverge.com/2019/11/26/20977968/google-graveyar...\\n[4]: https://www.xda-developers.com/google-killing-new-products-e...\\n[5]: https://arstechnica.com/series/google-kills-product/\", metadata={'source': 'https://news.ycombinator.com/item?id=36697119', 'title': 'NotebookLM: An AI Notebook'}),\n",
       " Document(page_content=\"lolinder 11 months ago  \\n             | root | parent | next [–] \\n\\nTo be fair, there are a lot of low-effort comments here to this effect. I agree with you and will happily upvote the first well-written comment pointing out Google's self-inflicted reputational damage, but the myriad one-line jabs aren't adding anything.\", metadata={'source': 'https://news.ycombinator.com/item?id=36697119', 'title': 'NotebookLM: An AI Notebook'}),\n",
       " Document(page_content='patates 11 months ago  \\n             | root | parent | next [–] \\n\\nI\\'d normally feel the same as you about the \"one-line jabs\" but in this case, IMHO they help to underline the fact that Google really did screw a lot of people over.', metadata={'source': 'https://news.ycombinator.com/item?id=36697119', 'title': 'NotebookLM: An AI Notebook'}),\n",
       " Document(page_content='phito 11 months ago  \\n             | root | parent | next [–] \\n\\nTo me, it underlines that it became a meme more than a fact.', metadata={'source': 'https://news.ycombinator.com/item?id=36697119', 'title': 'NotebookLM: An AI Notebook'}),\n",
       " Document(page_content='fumar 11 months ago  \\n             | root | parent | next [–] \\n\\nHow is it not a fact?', metadata={'source': 'https://news.ycombinator.com/item?id=36697119', 'title': 'NotebookLM: An AI Notebook'}),\n",
       " Document(page_content='endisneigh 11 months ago  \\n             | root | parent | prev | next [–] \\n\\nLike I mentioned, don’t use google products then. What’s the value of spamming this all of the time? The validity of the concern isn’t the problem, it’s the fact that it’s irrelevant to the content being posted.', metadata={'source': 'https://news.ycombinator.com/item?id=36697119', 'title': 'NotebookLM: An AI Notebook'}),\n",
       " Document(page_content=\"vogon_laureate 11 months ago  \\n             | root | parent | next [–] \\n\\nHow is it irrelevant? If a new project/product is being hyped by a company with a well documented history of hyping then abandoning projects and products, it's objectively a relevant comment.For example, if there's a post about the new Threads app, and someone comments about Meta's record on, say... security, data privacy, moderation or support of Instagram, WhatsApp, and Facebook, or something about their failed projects like Beacon, Sponsored Stories, Creative Labs, and Facebook Credits, those are likely going to be relevant comments because the corporate culture and past record on projects and products reveals something about what we might be able to expect from Threads.\", metadata={'source': 'https://news.ycombinator.com/item?id=36697119', 'title': 'NotebookLM: An AI Notebook'}),\n",
       " Document(page_content='tylerhou 11 months ago  \\n             | root | parent | next [–] \\n\\nIt\\'s not irrelevant, it\\'s just incredibly tiring reading the same comment over and over again on every thread that remotely mentions Google launching a new product.> For example, if there\\'s a post about the new Threads app, and someone comments about Meta\\'s record on, say... security, data privacyOK, let\\'s look at the Threads launch post. https://news.ycombinator.com/item?id=36580192.- Ctrl+F \"security\". Exactly 0 comment hits (on the first page).- Ctrl+F \"privacy\". There are three hits, and two of them just mention \"privacy policy\" without making a comment about Meta\\'s previous privacy violations.- Ctrl+F \"moderation\". Exactly one hit about how Meta has historically been bad about moderation.Let\\'s look at the current post about Google launching this product (NotebookLM). Ctrl+F \"kill\". There are at LEAST ten comments about how Google will kill this product off soon. It\\'s not comparable to the discussion re. Meta and its history.Google killing off products is table stakes at this point. Imagine every time you clicked on an HN discussion about Python, you had to read ten comments about how Python is slow and if you want a faster language you should use Rust. \"Python slow, Rust fast.\" Yes, we get that already. Can we just skip the memetic comments about \"Google bad cuz they kill stuff\" and read discussion with more meat?', metadata={'source': 'https://news.ycombinator.com/item?id=36697119', 'title': 'NotebookLM: An AI Notebook'}),\n",
       " Document(page_content='vogon_laureate 11 months ago  \\n             | root | parent | next [–] \\n\\nI meant the Threads point as a hypothetical example not a literal one. I see annoying and repetitive comments on HN all the time. I don\\'t have to upvote them or engage with them at all. I can merrily skip on by. Unless they\\'re being abusive or threatening, I don\\'t see what the problem is?Clearly enough people think Google\\'s record of hypeware-to-abandonware cycle is worth raising again and again because it\\'s a frustrating aspect of the company\\'s \\'innovation\\' process and HN is a fairly influential place to keep that issue alive in the hopes that it might lead to some change or at the very least inform people who are considering investing a lot of time, energy, and capital into depending on such projects. It\\'s also not exclusive to Google[1], though perhaps the one most notorious for it.I\\'ve also found those \"Python slow, Rust fast\" threads genuinely useful because they prompt people to report on progress in Python on that front, or indeed even how the two languages can work together to play to each other\\'s strengths.[2]  [1]: https://killedby.tech/ \\n  [2]: https://pythonspeed.com/articles/easiest-rust-python/', metadata={'source': 'https://news.ycombinator.com/item?id=36697119', 'title': 'NotebookLM: An AI Notebook'}),\n",
       " Document(page_content='throw47474777j 11 months ago  \\n             | root | parent | prev | next [–] \\n\\nGoogle could actually take note of the issue and work to improve their reputation.  Then these comments would die away.', metadata={'source': 'https://news.ycombinator.com/item?id=36697119', 'title': 'NotebookLM: An AI Notebook'}),\n",
       " Document(page_content=\"disgruntledphd2 11 months ago  \\n             | root | parent | prev | next [–] \\n\\nI mean basically every time there's an article about Python, people complain about the packaging story, because it doesn't work for a lot of usecases.Almost every Meta thread has the dumb fucks quote and/or nobody uses Facebook anymore it's gonna die soon.This is just the way online message boards and branding work. Fundamentally Google should white label all it's new products if they want this to stop.\", metadata={'source': 'https://news.ycombinator.com/item?id=36697119', 'title': 'NotebookLM: An AI Notebook'}),\n",
       " Document(page_content='magicalist 11 months ago  \\n             | root | parent | prev | next [–] \\n\\nEh, as a ride or die google reader fan, when there\\'s six \"DAE google reader\" comments in a row, you all just read like lazy comments looking for some karma and detailing any (potential) interesting discussion before it starts. That\\'s my main draw here, so definitely a reflexive down vote from me.', metadata={'source': 'https://news.ycombinator.com/item?id=36697119', 'title': 'NotebookLM: An AI Notebook'}),\n",
       " Document(page_content=\"888666 11 months ago  \\n             | root | parent | prev | next [–] \\n\\nTo warn users so they're aware that the lifespan of the product they're using may be very short, and therefore they may lose something they put a lot of investment in. It's empathy.\", metadata={'source': 'https://news.ycombinator.com/item?id=36697119', 'title': 'NotebookLM: An AI Notebook'}),\n",
       " Document(page_content=\"jsnell 11 months ago  \\n             | root | parent | next [–] \\n\\nNobody reading HN needs to be made aware of it, and those are the only people you'll be able to reach with a HN comment.The thing is, these repetitive comments get spammed dozens of times on every Google-related post. They could be posted without reading the submission. Many of them probably are in fact probably posted just based on the title (seeing how many people posted basically exactly the same comments into a submission today that wasn't even about a product). These comments completely crowd out any other discussion just due to sheer volume.There's 90 comments on this thread at the moment. Maybe like 5 are discussing anything about the article itself. The rest are just totally predictable and generic comments, which is something the comment guidelines specifically ask to avoid. (And yes, I'm now also participating in that.)Now, fair enough. Maybe there really is nothing to be said about the concept of the product. There's definitely not much to be said yet about the execution given nobody here will have been able to use it, so that definitely limits the scope of meaningful discussion to be had. But since the spam won out, we'll never find out.If there's nothing of substance to talk about, we could just talk about nothing and let the obviously boring and uninteresting submission die in silence.And if you need to warn your family and friends not to use this product because you think it will be cancelled too soon, you'll probably reach them more effectively via methods other than HN.\", metadata={'source': 'https://news.ycombinator.com/item?id=36697119', 'title': 'NotebookLM: An AI Notebook'}),\n",
       " Document(page_content='vogon_laureate 11 months ago  \\n             | root | parent | next [–] \\n\\nThe HN Guidelines[1] also say that commenters should:\"Respond to the strongest plausible interpretation of what someone says, not a weaker one that\\'s easier to criticize. Assume good faith.\"Just because people have posted similar comments about Google\\'s penchant for killing projects, doesn\\'t mean that they are \"spamming\". Consider, instead, that it may just reflect a groundswell of opinion borne out of bitter experience and disappointment about the company\\'s record and their genuine concerns that this is yet one more tombstone in the expanding Google graveyard.[2]  [1]: https://news.ycombinator.com/newsguidelines.html\\n  [2]: https://gcemetery.co/', metadata={'source': 'https://news.ycombinator.com/item?id=36697119', 'title': 'NotebookLM: An AI Notebook'}),\n",
       " Document(page_content='jsnell 11 months ago  \\n             | root | parent | next [–] \\n\\nSure, let\\'s take it as a given that everyone who posts wholly original messages about \"lol this product will be canceled\" are doing so purely because of the harm they have personally suffered due to a product cancellation, and they just missed the previous messages on that subject. So what? It\\'s still turned this thread into a wasteland and prevented any productive discussion.Posting in good faith isn\\'t a free pass to post off-topic, repetitive ir low-effort stuff. Just think about what the outcome of that kind of policy would be if applied across the board.For example, a lot of people have very strong opinions on divisive political issues. Should they be picking submissions that are tangentially related to those issues and hijacking the comments section for discussion about that subject? No, of course not. And I\\'m not saying that because I disagree with their hypothetical political opinions. I\\'m saying it because if that becomes the norm, we can\\'t have a discussion about the actual thing that 200 people thought was interesting enough to upvote, because all the discussion will be a retread of that political issue.It\\'s as if Rust evangelists posted comments about \"this bug would never happen in Rust\" in response to a technical deep dive to a security bug. Yes, I\\'m sure they\\'d be right. Yes, I\\'m sure they\\'d be posting that in good faith. There\\'s even a small chance they\\'d be posting it because they think there\\'s still HN readers who haven\\'t heard the good word of Rust. But it\\'d also be a shallow comment, variations of which would be posted hundreds of times, and totally generic in that the exact same comment could have been posted to any of a hundred other submissions about a security issue.', metadata={'source': 'https://news.ycombinator.com/item?id=36697119', 'title': 'NotebookLM: An AI Notebook'}),\n",
       " Document(page_content='vogon_laureate 11 months ago  \\n             | root | parent | next [–] \\n\\n> So what? It\\'s still turned this thread into a wasteland and prevented any productive discussion.How exactly has it \"prevented any productive discussion\"? I\\'ve seen plenty of comments about the merits and limitations of its Bard foundation, the design choices, the potential business model, etc.The example you give of political opinions doesn\\'t feel like a fair comparison. We\\'re talking about the company\\'s record on supporting its projects in the context of a new project announcement not a divisive socio-political controversy.A better example might be: If Red Hat announced a new open source initiative, would it not be relevant to bring up concerns about its commitment to the new FOSS project in light of the impacts its recent announcement about CentOS is having on other companies and projects that depended on it?', metadata={'source': 'https://news.ycombinator.com/item?id=36697119', 'title': 'NotebookLM: An AI Notebook'}),\n",
       " Document(page_content=\"kweingar 11 months ago  \\n             | root | parent | prev | next [–] \\n\\nMy favorite were comments on a post about Google Zanzibar, which is an internal Google infrastructure thing that they published a research paper about. Other companies started adopting that method, and there were HN comments warning about Google killing products. I don't think Google is going to cancel a research paper!\", metadata={'source': 'https://news.ycombinator.com/item?id=36697119', 'title': 'NotebookLM: An AI Notebook'}),\n",
       " Document(page_content='endisneigh 11 months ago  \\n             | root | parent | prev | next [–] \\n\\nShall every post for every company be spammed with irrelevant content about questionable actions conducted by said companies?Why not just submit a post about that directly and let that be the topic of discussion?Do you see how this entire thread is irrelevant to the submitted post? Do you see the problem?', metadata={'source': 'https://news.ycombinator.com/item?id=36697119', 'title': 'NotebookLM: An AI Notebook'}),\n",
       " Document(page_content='synetic 11 months ago  \\n             | root | parent | next [–] \\n\\nIf a company behaves badly then I think it’s warranted to bring up their bad behavior whenever that company is the topic of discussion.  In the U.S. we mostly have regulatory capture and so people need to fight back or otherwise hold companies accountable.I don’t know if Google qualifies in my mind for this sort of action but companies like BP, Exxon, and others do.', metadata={'source': 'https://news.ycombinator.com/item?id=36697119', 'title': 'NotebookLM: An AI Notebook'}),\n",
       " Document(page_content='patates 11 months ago  \\n             | root | parent | prev | next [–] \\n\\n> Do you see how this entire thread is irrelevant to the submitted post? Do you see the problem?I see where you are coming from but for many of us, Google having killed dozens of such products is totally relevant.', metadata={'source': 'https://news.ycombinator.com/item?id=36697119', 'title': 'NotebookLM: An AI Notebook'}),\n",
       " Document(page_content='throwaway675309 11 months ago  \\n             | root | parent | prev | next [–] \\n\\nIf that\\'s true, then you\\'re only exacerbating it by attacking \"said thread\".Furthermore, threads raising the issue of googles seemingly erratic depredation of their products and threads discussing the product itself aren\\'t mutually exclusive. You can do this neat thing called scroll down, and not read these threads if they bother you so much.', metadata={'source': 'https://news.ycombinator.com/item?id=36697119', 'title': 'NotebookLM: An AI Notebook'}),\n",
       " Document(page_content=\"vogon_laureate 11 months ago  \\n             | root | parent | next [–] \\n\\nThat's the thing I don't get. Why don't people just ignore the comments they don't like and don't want to boost? Feels like some kind of Stack Overflow-esque over-persnickety moderation syndrome.\", metadata={'source': 'https://news.ycombinator.com/item?id=36697119', 'title': 'NotebookLM: An AI Notebook'}),\n",
       " Document(page_content=\"throwaway675309 11 months ago  \\n             | root | parent | prev | next [–] \\n\\nThe value is that it provides context around googles substantial issues with long-term support for their products. So anybody who's new to hacker news or even new to the tech world can see that this is still an ongoing issue, and can avoid getting burned like so many of us before.And given the forum, I like to think that there's probably a fair number of Googlers who see these comments, so it's always on the forefront of their minds when they may bring it up to their managers and their managers managers.\", metadata={'source': 'https://news.ycombinator.com/item?id=36697119', 'title': 'NotebookLM: An AI Notebook'}),\n",
       " Document(page_content=\"linalgmixer 11 months ago  \\n             | root | parent | prev | next [–] \\n\\nTo use the same logic, just don't read these comments. What's the value of complaining about them?\", metadata={'source': 'https://news.ycombinator.com/item?id=36697119', 'title': 'NotebookLM: An AI Notebook'}),\n",
       " Document(page_content='flandish 11 months ago  \\n             | root | parent | prev | next [–] \\n\\n> value of spammingIt’s not spam to some when they are reminded that google never was, a “do no evil” corporation.Google has tarnished itself.  Yes it’s the biggest. But this is because of a well documented cycle - and when evidence of this horseshit pops up “yet again” it’s important to remind everyone to not get too attached to anything google.', metadata={'source': 'https://news.ycombinator.com/item?id=36697119', 'title': 'NotebookLM: An AI Notebook'}),\n",
       " Document(page_content=\"px43 11 months ago  \\n             | parent | prev | next [–] \\n\\nBard isn't a model, it's a product. Bard was launched with PaLM originally, the same model that the one employee claimed was sentient. At Google I/O they announced PaLM2 and switched over to Bard being backed by it, while also making Bard open to the general public on the same day.Google is currently in the process of training Gemini, which is positioned to be their GPT-4 killer, as it's multi-modal, and presumably quite a bit more powerful than GPT-4 is. PaLM2 is more analogous to GPT-3.NotebookLM is a very different product than Bard. Bard has a vague understanding of the information on the internet, and NotebookLM will, presumably, have some level of understanding of your personal documents. It will almost certainly be using PaLM2 until Gemini is ready. That will be neat because Gemini will be able to look at images and read visual charts in your documents. PaLM2 is only able to comprehend text.\", metadata={'source': 'https://news.ycombinator.com/item?id=36697119', 'title': 'NotebookLM: An AI Notebook'}),\n",
       " Document(page_content='endisneigh 11 months ago  \\n             | root | parent | next [–] \\n\\nRight - to clarify I meant the model used by bard. I was too lazy to see what bard currently uses since it’s transparent to the user, to your point. Multi modal models being used would be killer.But the monetization thoughts remain, this stuff isn’t cheap.', metadata={'source': 'https://news.ycombinator.com/item?id=36697119', 'title': 'NotebookLM: An AI Notebook'}),\n",
       " Document(page_content='flandish 11 months ago  \\n             | root | parent | prev | next [–] \\n\\n> Bard is a productNo. The users are, as they are mined for detail to be used in advertisement and such later.Bard is a vector.', metadata={'source': 'https://news.ycombinator.com/item?id=36697119', 'title': 'NotebookLM: An AI Notebook'}),\n",
       " Document(page_content='techsupporter 11 months ago  \\n             | parent | prev | next [–] \\n\\n> I wish the folks who clearly do not like Google would just not use their products instead of spamming every thread about how they will kill the product, true or not.Me, upon reading something about this: \"Oh, this sounds interesting, I would like to have a go at something nea--\"observes it is released by Google\"Well, never mind, I\\'m not going to invest the energy into it until it reaches its third birthday.\"Google could simply stop taking a scythe to products at a rapid clip and shed their reputation if they want to benefit from not being slagged for it everytime they release something new.', metadata={'source': 'https://news.ycombinator.com/item?id=36697119', 'title': 'NotebookLM: An AI Notebook'}),\n",
       " Document(page_content=\"panopticon 11 months ago  \\n             | root | parent | next [–] \\n\\n> Well, never mind, I'm not going to invest the energy into it until it reaches its third birthday.Even that's not a guarantee of anything. Google Domains made it to 9 years before getting the axe.\", metadata={'source': 'https://news.ycombinator.com/item?id=36697119', 'title': 'NotebookLM: An AI Notebook'}),\n",
       " Document(page_content=\"PeterStuer 11 months ago  \\n             | root | parent | prev | next [–] \\n\\nWhile I understant the feelings about Google wrt product longevity, I fail to see why that would prevent you from using this specific product as the 'investment' seems to be you uploading a Google doc and the payoff is instant.\", metadata={'source': 'https://news.ycombinator.com/item?id=36697119', 'title': 'NotebookLM: An AI Notebook'}),\n",
       " Document(page_content='isaacfung 11 months ago  \\n             | parent | prev | next [–] \\n\\nI feel like most social media would be much more usable if there is some kind of browser extension that automatically clusters the comments and hides the same opinion/sentiments that have been repeated a dozen times in the same thread(you can label the clusters with comment counts of the same topic).edit: Actually before someone submits a comment, they should be informed that how many people have said the exact same thing, like a repost warning.', metadata={'source': 'https://news.ycombinator.com/item?id=36697119', 'title': 'NotebookLM: An AI Notebook'}),\n",
       " Document(page_content='diffeomorphism 11 months ago  \\n             | parent | prev | next [–] \\n\\n>  I wish the folks who clearly do not like Google would just not use their products instead of spamming every thread about how they will kill the product, true or not.It seems weird that you think these people do not like google. Then why would they care? The uncertainty of the \"google graveyard\" only affects you if you do like and use their stuff. And fans in particular can be very gloom and doom about anything, e.g. see any esports game update and how it will completely break everything.', metadata={'source': 'https://news.ycombinator.com/item?id=36697119', 'title': 'NotebookLM: An AI Notebook'}),\n",
       " Document(page_content=\"arikrak 11 months ago  \\n             | parent | prev | next [–] \\n\\n+1. It's labeled as an experiment, of course it might shut down.\", metadata={'source': 'https://news.ycombinator.com/item?id=36697119', 'title': 'NotebookLM: An AI Notebook'}),\n",
       " Document(page_content='chefandy 11 months ago  \\n             | root | parent | next [–] \\n\\nGmail was in \"beta\" for 5 years after its public launch-- those labels aren\\'t really useful.', metadata={'source': 'https://news.ycombinator.com/item?id=36697119', 'title': 'NotebookLM: An AI Notebook'}),\n",
       " Document(page_content=\"smeagull 11 months ago  \\n             | parent | prev | next [–] \\n\\nIt's useful for people to be reminded of the most salient fact about a Google product.\", metadata={'source': 'https://news.ycombinator.com/item?id=36697119', 'title': 'NotebookLM: An AI Notebook'}),\n",
       " Document(page_content='throw47474777j 11 months ago  \\n             | parent | prev | next [–] \\n\\nI want to like Google’s products, and used to be quite the Google evangelist, but the lack of commitment is one of several reasons I won’t invest time in them now.', metadata={'source': 'https://news.ycombinator.com/item?id=36697119', 'title': 'NotebookLM: An AI Notebook'}),\n",
       " Document(page_content=\"manojlds 11 months ago  \\n             | parent | prev | next [–] \\n\\nYou don't have to HATE or not like Google to be very wary of their product killings.\", metadata={'source': 'https://news.ycombinator.com/item?id=36697119', 'title': 'NotebookLM: An AI Notebook'}),\n",
       " Document(page_content='pphysch 11 months ago  \\n             | prev | next [–] \\n\\nGoogle Docs has been going strong for almost 2 decades, longer than the iPhone. NotebookLM is another way to read your Google Docs, with LLM assistance. If NotebookLM gets killed off, you still have your Google Docs and can read them with your eyeballs or some other LLM.HN loves to shit on Google for their loose trail-and-error approach to product releases, but Google Docs is evidently not one of those loose products.', metadata={'source': 'https://news.ycombinator.com/item?id=36697119', 'title': 'NotebookLM: An AI Notebook'}),\n",
       " Document(page_content='thefourthchime 11 months ago  \\n             | parent | next [–] \\n\\nI think everybody used to love Google. Around 2012, they were just making one hit after another. Google Docs, Google Maps, Gmail, they revolutionized search!What have they done in the last 10 years? Jack shit, except, launch a bunch of things that might have been cool, but then just killed it.How many messenger apps have they had? Google Stadia? I mean, come on, the list is incredible.', metadata={'source': 'https://news.ycombinator.com/item?id=36697119', 'title': 'NotebookLM: An AI Notebook'}),\n",
       " Document(page_content='pphysch 11 months ago  \\n             | root | parent | next [–] \\n\\nThe idea of \"stanning/hating\" a megacorporation, one of the most powerful entities on the planet, is a priori absurd in the vein of Bryan Cantrill\\'s \"don\\'t anthropomorphize Oracle\".Apple spends billions of dollars promoting its global brand as a culture and way of life; this does not mean we need to apply this framework to other brands. Spewing negativity (or positivity) about Google in this context is a self-own, because it signals that you have fallen for the \"brand loyalty\" cantrip.', metadata={'source': 'https://news.ycombinator.com/item?id=36697119', 'title': 'NotebookLM: An AI Notebook'}),\n",
       " Document(page_content=\"Angostura 11 months ago  \\n             | root | parent | next [–] \\n\\nWhy are you replying to a comment about the lack of recent innovation at Google and product positioning missteps with a comment talking about 'stanning/hating. That's not what the commmenter is doing.\", metadata={'source': 'https://news.ycombinator.com/item?id=36697119', 'title': 'NotebookLM: An AI Notebook'}),\n",
       " Document(page_content='pphysch 11 months ago  \\n             | root | parent | next [–] \\n\\nReread the first sentence of that comment.Besides, this discussion isn\\'t about \"innovation\", it\\'s about Google killing products. Google is possibly the most innovative tech megacorporation precisely because of their experimental approach to product releases.', metadata={'source': 'https://news.ycombinator.com/item?id=36697119', 'title': 'NotebookLM: An AI Notebook'}),\n",
       " Document(page_content='JimDabell 11 months ago  \\n             | parent | prev | next [–] \\n\\n> Google Docs has been going strong for almost 2 decadesI have to disagree here. There have been long stretches of time where it’s appeared to be a mothballed project with virtually no user-visible changes happening to it.Here’s the official changelog:https://support.google.com/docs/answer/9228272Barely anything happened mid 2019–2021. It looked like a product in maintenance mode for years.Take July 2019 to July 2020, for instance. In over a year, the only changes of note were: editing headers and footers, an accessibility fix, word count, page numbers, and dark mode on Android. Does that sound like a flagship product from a trillion dollar multinational “going strong”? Or does it sound like a paralysed project with a few interns keeping things ticking over?And it was worse in the times before that changelog started. That’s hardly “going strong”, that’s surviving on life support. Sure, they never actually killed it and they restarted development once alternatives like Notion started becoming popular, but Google have completely lost interest in Google Docs before and they could do it again – they don’t have the two decade track record you are making them out to have.', metadata={'source': 'https://news.ycombinator.com/item?id=36697119', 'title': 'NotebookLM: An AI Notebook'}),\n",
       " Document(page_content=\"mattzito 11 months ago  \\n             | root | parent | next [–] \\n\\nFor whatever its worth, I worked near docs during that time, and that support note elides a lot of the launches that happened.  The big focus during that time was on Office compatibility, and so there were a lot of investment in things that were not end-user visible, but allowed for better coexistence in mixed environments.A massive launch in terms of impact and usage was the ability to directly edit word documents in docs instead of converting.   This also extended to sheets and slides, and so was a major focus.So - totally agree that there were not a lot of shiny user-facing features during that time, but there was a huge engineering investment going on based on a particular strategy that just didn't show itself sirectly in the UI.\", metadata={'source': 'https://news.ycombinator.com/item?id=36697119', 'title': 'NotebookLM: An AI Notebook'}),\n",
       " Document(page_content='JimDabell 11 months ago  \\n             | root | parent | next [–] \\n\\nFair enough. But from an end-user perspective, I’ve been in multiple conversations where a topic was “can anybody remember the last time Google Docs launched a new feature?” and everybody was completely stumped and nobody could think of a single thing launched in years. When the company in question is Google that’s a very strong signal not to rely on that product being around much longer, which is why the state of Google Docs has been so confusing – clearly lost all momentum yet surprisingly not killed.', metadata={'source': 'https://news.ycombinator.com/item?id=36697119', 'title': 'NotebookLM: An AI Notebook'}),\n",
       " Document(page_content='dr_kiszonka 11 months ago  \\n             | root | parent | prev | next [–] \\n\\nThe article mentions Google Labs. Do you know if this is an actual team or just an umbrella term for public beta products made by different teams?', metadata={'source': 'https://news.ycombinator.com/item?id=36697119', 'title': 'NotebookLM: An AI Notebook'}),\n",
       " Document(page_content='mattzito 11 months ago  \\n             | root | parent | next [–] \\n\\nBoth - there is a labs team, and then it gets used as an umbrella term.', metadata={'source': 'https://news.ycombinator.com/item?id=36697119', 'title': 'NotebookLM: An AI Notebook'}),\n",
       " Document(page_content='dr_kiszonka 11 months ago  \\n             | root | parent | next [–] \\n\\nThanks! It has got to be a lot of fun being in such a team.', metadata={'source': 'https://news.ycombinator.com/item?id=36697119', 'title': 'NotebookLM: An AI Notebook'}),\n",
       " Document(page_content='noduerme 11 months ago  \\n             | parent | prev | next [–] \\n\\nOne major difference being that Google does not read or incorporate the contents of your docs (or at least, we hope not). Once your docs are hooked up to an LLM, consider them both training data and readable to whatever minions are training the AI.', metadata={'source': 'https://news.ycombinator.com/item?id=36697119', 'title': 'NotebookLM: An AI Notebook'}),\n",
       " Document(page_content=\"nl 11 months ago  \\n             | prev | next [–] \\n\\nI love this as a product idea.I can't sign up (because I'm outside the US). I think I could build a local-only version with a local LLM possibly local datasources that would do a pretty good job.Local LLMs are sufficiently powerful for query expansion techniques so the capability gap there to GPT4/Bard isn't a problem.They are definitely behind on generative capabilities, but since I'm unable to use the product it is unclear how important that is in this use-case. If there is a video I'd appreciate a link!I wonder how popular a local version of something like that would be?\", metadata={'source': 'https://news.ycombinator.com/item?id=36697119', 'title': 'NotebookLM: An AI Notebook'}),\n",
       " Document(page_content=\"tohmasch 11 months ago  \\n             | parent | next [–] \\n\\nNot to plug too hard, but I am building a version of this to be local and friendly for your workflows.The aim is to help people organize, discovery, and pull insights out of their knowledge bases using LLM's as cognitive functions for Q/A as well as pre-thought generated points and summarizes.Would love to ask for you feedback. https://www.knowd.ai/\", metadata={'source': 'https://news.ycombinator.com/item?id=36697119', 'title': 'NotebookLM: An AI Notebook'}),\n",
       " Document(page_content='bg24 11 months ago  \\n             | prev | next [–] \\n\\n“ A key difference between NotebookLM and traditional AI chatbots is that NotebookLM lets you “ground” the language model in your notes and sources. Source-grounding effectively creates a personalized AI that’s versed in the information relevant to you. Starting today, you can ground NotebookLM in specific Google Docs that you choose, and we’ll be adding additional formats soon.”While it sounds promising, the blog post should have explained the obvious thing: how is source-grounding different from giving a document to a model and generate insights?', metadata={'source': 'https://news.ycombinator.com/item?id=36697119', 'title': 'NotebookLM: An AI Notebook'}),\n",
       " Document(page_content='ignoramous 11 months ago  \\n             | parent | next [–] \\n\\n> how is source-grounding different from giving a document to a model and generate insights?You mean, fine-tuning? If so, grounding LLMs is cheaper: https://techcommunity.microsoft.com/t5/fasttrack-for-azure/g...', metadata={'source': 'https://news.ycombinator.com/item?id=36697119', 'title': 'NotebookLM: An AI Notebook'}),\n",
       " Document(page_content='carlossouza 11 months ago  \\n             | parent | prev | next [–] \\n\\nImagine you are a screenwriter, and you are writing a fiction script, reimagining events in the past (e.g. Inglorious Bastards)..I wonder what this product would answer when asked how the WW2 ended.How would this source-grounding mechanism work? Would it answer based on the truth/facts or on the source provided by the author?', metadata={'source': 'https://news.ycombinator.com/item?id=36697119', 'title': 'NotebookLM: An AI Notebook'}),\n",
       " Document(page_content='tasubotadas 11 months ago  \\n             | prev | next [–] \\n\\n\"We are amazing though leaders and AI product developers\"\"We created this amazing tool that will change the world and is awesome and everything\"\"But you need to sign up for the waitlist\"\"you need to be in the US\"\"you need to sign NDA\"Amazing.', metadata={'source': 'https://news.ycombinator.com/item?id=36697119', 'title': 'NotebookLM: An AI Notebook'}),\n",
       " Document(page_content='xnx 11 months ago  \\n             | prev | next [–] \\n\\nThis seems like a good alternative to all the \"ask a PDF a question\" GPT wrappers that have sprung up.', metadata={'source': 'https://news.ycombinator.com/item?id=36697119', 'title': 'NotebookLM: An AI Notebook'}),\n",
       " Document(page_content='jerpint 11 months ago  \\n             | parent | next [–] \\n\\nHaving implemented my own \"ask a PDF a question\" GPT wrapper, there\\'s a lot of design decisions / complexity that can make it better/worse and I\\'m not sure how much a \"one-size fits all\" google approach will work for google. Convenient that it plugs in directly to your gdrive though.', metadata={'source': 'https://news.ycombinator.com/item?id=36697119', 'title': 'NotebookLM: An AI Notebook'}),\n",
       " Document(page_content='ImaCake 11 months ago  \\n             | root | parent | next [–] \\n\\nGoogle will be leveraging the millions of people using google docs that will never go out of their way to use an ask a PDF tool. I know I haven’t bothered even though I am technically skilled enough to do so.', metadata={'source': 'https://news.ycombinator.com/item?id=36697119', 'title': 'NotebookLM: An AI Notebook'}),\n",
       " Document(page_content=\"moffkalast 11 months ago  \\n             | parent | prev | next [–] \\n\\nIf it's powered by Bard then it'll probably drastically underperform all of those.\", metadata={'source': 'https://news.ycombinator.com/item?id=36697119', 'title': 'NotebookLM: An AI Notebook'}),\n",
       " Document(page_content='alomaki 11 months ago  \\n             | prev | next [–] \\n\\nNotebookLM: I thought it has something to do something with jupyter notebook\\nTailwind: something to do with CSSVery bad naming', metadata={'source': 'https://news.ycombinator.com/item?id=36697119', 'title': 'NotebookLM: An AI Notebook'}),\n",
       " Document(page_content='shilangyu 11 months ago  \\n             | parent | next [–] \\n\\nOriginally when teased at Google IO this product was called project tailwind but the URL was thoughtful.sandbox.google.com (it seems to now redirect to the notebooklm URL). \"Thoughtful sandbox\" feels like a much more fitting name.', metadata={'source': 'https://news.ycombinator.com/item?id=36697119', 'title': 'NotebookLM: An AI Notebook'}),\n",
       " Document(page_content=\"LoveMortuus 11 months ago  \\n             | parent | prev | next [–] \\n\\nDon't worry about naming, it'll probably get killed anyways.\", metadata={'source': 'https://news.ycombinator.com/item?id=36697119', 'title': 'NotebookLM: An AI Notebook'}),\n",
       " Document(page_content='sebow 11 months ago  \\n             | prev | next [–] \\n\\n> Google: \"Look, we\\'re capable, but just beta-test this sh&t so we can make a product that will definitely overshadow our little contribution, okay? We need the product, we need the money. You\\'ll get a nice little badge on your profile to signal your interest with your peers. This is open and responsible AI.\"Respectfully, nobody gives a f&ck. The actual way you do it is at least publish a paper(or butchered code) or make the product accessible to all.(Or to a number of people that scales proportionally with your claims of greatness). You cannot do either of those? Well that smells of trying to be opportunistic, doesn\\'t it? If i recall, OpenAI in it\\'s infancy with the GPT* family at least published some papers (which Google also used to do, by the way), then they built upon that to eventually release a product. Yes the product was never free at the beginning nor very publicized, because it wasn\\'t advertised to be the holy grail of anything. To sum up my opinion on this matter: you can never truly scale and innovate with >only releasing a lobotomized product< or >only releasing a paper with no visible applications<. You need a little balance between sparking interest and satisfying the hype you give about the product(if any).*', metadata={'source': 'https://news.ycombinator.com/item?id=36697119', 'title': 'NotebookLM: An AI Notebook'}),\n",
       " Document(page_content='wodenokoto 11 months ago  \\n             | prev | next [–] \\n\\nDoesn’t this take away the important part of doing notes? The writing?A good AI should foster a discussion with the student, not write notes.', metadata={'source': 'https://news.ycombinator.com/item?id=36697119', 'title': 'NotebookLM: An AI Notebook'}),\n",
       " Document(page_content=\"vaughnegut 11 months ago  \\n             | parent | next [–] \\n\\nThis is exactly what it does, no? The product explicitly is about taking your notes that you write and being able to discuss those notes with the AI. It's in all of the screenshots and the description.\", metadata={'source': 'https://news.ycombinator.com/item?id=36697119', 'title': 'NotebookLM: An AI Notebook'}),\n",
       " Document(page_content='ImaCake 11 months ago  \\n             | parent | prev | next [–] \\n\\nI mean I would take AI autocomplete in the style of copilot. That feels conversational enough already, it would be even better if it’s optimised for prose instead of code. The MS word autocomplete is getting pretty good and I would love more of it personally.', metadata={'source': 'https://news.ycombinator.com/item?id=36697119', 'title': 'NotebookLM: An AI Notebook'}),\n",
       " Document(page_content='replwoacause 11 months ago  \\n             | prev | next [–] \\n\\nNo way in hell I trust Google enough to use this', metadata={'source': 'https://news.ycombinator.com/item?id=36697119', 'title': 'NotebookLM: An AI Notebook'}),\n",
       " Document(page_content='MetaverseClub 11 months ago  \\n             | prev | next [–] \\n\\nA new prototype from Gogle for collecting user data and will be dumped anytime soon once it collects enough data or it fails.', metadata={'source': 'https://news.ycombinator.com/item?id=36697119', 'title': 'NotebookLM: An AI Notebook'}),\n",
       " Document(page_content=\"phillipcarter 11 months ago  \\n             | parent | next [–] \\n\\nWoof. Talk about a bad reputation exemplified. I can't imagine what it's like working on stuff like this at Google, earnestly just trying to make a great product people will want to use, only to have to fight decades of user-hostile product destruction that the company has done.\", metadata={'source': 'https://news.ycombinator.com/item?id=36697119', 'title': 'NotebookLM: An AI Notebook'}),\n",
       " Document(page_content='amf12 11 months ago  \\n             | root | parent | next [–] \\n\\nTake a look at Instagram\\'s Threads. They had 100M users in a few days. Do you think people around the world really care about data being used?On a related note, I am sad about the state of HN comments, which resembles Reddit more and more.The blog post specifically mentions the data is private and won\\'t be used to train models, which can\\'t be said about the ChatGPT based tools which do this, but yet, here we have people not bothering to read and just write a cliched comment about \"collecting user data\".', metadata={'source': 'https://news.ycombinator.com/item?id=36697119', 'title': 'NotebookLM: An AI Notebook'}),\n",
       " Document(page_content=\"phillipcarter 11 months ago  \\n             | root | parent | next [–] \\n\\nI don't think the audience here cares as much about the data. I think people here (myself included) are mostly just deeply cynical about how Google will handle this product long-term. Why invest time into using it when it's going to just get yoinked in a year or two?\", metadata={'source': 'https://news.ycombinator.com/item?id=36697119', 'title': 'NotebookLM: An AI Notebook'}),\n",
       " Document(page_content=\"amf12 11 months ago  \\n             | root | parent | next [–] \\n\\nIsn't the solution to it -- use Google product if it's superior and won't fuck you if its abandoned? Instead of not using it because it may be abandoned, if those products instead get more users, it is less likely to be abandoned.I mean, purely considering this product, isn't it also likely for some ChatGPT extension which provides similar feature to also be abandoned, or to have privacy or quality issues?\", metadata={'source': 'https://news.ycombinator.com/item?id=36697119', 'title': 'NotebookLM: An AI Notebook'}),\n",
       " Document(page_content=\"thefourthchime 11 months ago  \\n             | root | parent | prev | next [–] \\n\\nOnly us big nerds on Hacker News actually pay attention to this or care.Most people never even hear about this stuff. From what I understand, in the Google world, you release a product, you get a promotion. So, as cynical as it is, and everyone in Google knows, their product will get cancelled eventually.Screw it, I got a promotion, I got some money. It's good for my career.\", metadata={'source': 'https://news.ycombinator.com/item?id=36697119', 'title': 'NotebookLM: An AI Notebook'}),\n",
       " Document(page_content=\"__loam 11 months ago  \\n             | root | parent | prev | next [–] \\n\\nMaybe if Google wanted to have a better reputation they wouldn't habitually kill products.\", metadata={'source': 'https://news.ycombinator.com/item?id=36697119', 'title': 'NotebookLM: An AI Notebook'}),\n",
       " Document(page_content=\"croes 11 months ago  \\n             | root | parent | prev | next [–] \\n\\nBecause it's always either a data grabber or a soon-to-be-killed service\", metadata={'source': 'https://news.ycombinator.com/item?id=36697119', 'title': 'NotebookLM: An AI Notebook'}),\n",
       " Document(page_content='slt2021 11 months ago  \\n             | root | parent | next [–] \\n\\nit is either a data grabber or a promo grabber', metadata={'source': 'https://news.ycombinator.com/item?id=36697119', 'title': 'NotebookLM: An AI Notebook'}),\n",
       " Document(page_content='vGPU 11 months ago  \\n             | parent | prev | next [–] \\n\\nNot so much “user data” as “let the plebs collect AI training materials for us”.', metadata={'source': 'https://news.ycombinator.com/item?id=36697119', 'title': 'NotebookLM: An AI Notebook'}),\n",
       " Document(page_content='photonbeam 11 months ago  \\n             | parent | prev | next [–] \\n\\nPromos to be had by all', metadata={'source': 'https://news.ycombinator.com/item?id=36697119', 'title': 'NotebookLM: An AI Notebook'}),\n",
       " Document(page_content=\"raajg 11 months ago  \\n             | prev | next [–] \\n\\nDear Google, you've burned me so many times after I've fallen in love with your products. I have experienced the cold sting of disappointment far too many times. When you abruptly discontinue services like Google Buzz and Google Reader, you leave me stranded with no reasonable alternatives. This pattern of abandonment has plagued our relationship, instilling in me a sense of apprehension each time you introduce a new product.\", metadata={'source': 'https://news.ycombinator.com/item?id=36697119', 'title': 'NotebookLM: An AI Notebook'}),\n",
       " Document(page_content=\"throwaway675309 11 months ago  \\n             | parent | next [–] \\n\\nAgreed, I'm still in the process of painfully migrating my domains over from Google domains to Cloudflare.\", metadata={'source': 'https://news.ycombinator.com/item?id=36697119', 'title': 'NotebookLM: An AI Notebook'}),\n",
       " Document(page_content=\"lusus_naturae 11 months ago  \\n             | prev | next [–] \\n\\nIs there this, but with something like Joplin? I couldn't find anything.edit: Someone did this for Joplin: https://discourse.joplinapp.org/t/plugin-jarvis-ai-assistant...\", metadata={'source': 'https://news.ycombinator.com/item?id=36697119', 'title': 'NotebookLM: An AI Notebook'}),\n",
       " Document(page_content='Takennickname 11 months ago  \\n             | prev | next [–] \\n\\nI guess Sam Altman lives on in YC. You would think everyone here was close friends with him.', metadata={'source': 'https://news.ycombinator.com/item?id=36697119', 'title': 'NotebookLM: An AI Notebook'}),\n",
       " Document(page_content='blitzar 11 months ago  \\n             | parent | next [–] \\n\\nThis product sh*ts all over what Sam is offering up at the moment.', metadata={'source': 'https://news.ycombinator.com/item?id=36697119', 'title': 'NotebookLM: An AI Notebook'}),\n",
       " Document(page_content='ilaksh 11 months ago  \\n             | prev | next [–] \\n\\nDo any of the \"chat with your documents\" type applications have Google Drive integration?Because it\\'s unlikely that Google will take away the API for Drive. But an experimental project like this could easily go up in a puff of red mist.', metadata={'source': 'https://news.ycombinator.com/item?id=36697119', 'title': 'NotebookLM: An AI Notebook'}),\n",
       " Document(page_content='wanderingmind 11 months ago  \\n             | parent | next [–] \\n\\nDanswer, MIT licenses. Discussed a few days back in HNhttps://news.ycombinator.com/item?id=36667374', metadata={'source': 'https://news.ycombinator.com/item?id=36697119', 'title': 'NotebookLM: An AI Notebook'}),\n",
       " Document(page_content='htrp 11 months ago  \\n             | prev | next [–] \\n\\nWhy did they have to rename Project Tailwind? They literally announced it 2 months ago.', metadata={'source': 'https://news.ycombinator.com/item?id=36697119', 'title': 'NotebookLM: An AI Notebook'}),\n",
       " Document(page_content='croes 11 months ago  \\n             | parent | next [–] \\n\\nNo connection to GPT or LLM in the name, bad for marketing', metadata={'source': 'https://news.ycombinator.com/item?id=36697119', 'title': 'NotebookLM: An AI Notebook'}),\n",
       " Document(page_content='politelemon 11 months ago  \\n             | root | parent | next [–] \\n\\nI suggest GPTaiLLMwind', metadata={'source': 'https://news.ycombinator.com/item?id=36697119', 'title': 'NotebookLM: An AI Notebook'}),\n",
       " Document(page_content='thefourthchime 11 months ago  \\n             | root | parent | next [–] \\n\\nhow about “killed by Google #545”', metadata={'source': 'https://news.ycombinator.com/item?id=36697119', 'title': 'NotebookLM: An AI Notebook'}),\n",
       " Document(page_content='htrp 11 months ago  \\n             | prev | next [–] \\n\\nAnyone else notice that if you try to signup at https://notebooklm.google.com/signup the chat link in the upper left leads to a discord?', metadata={'source': 'https://news.ycombinator.com/item?id=36697119', 'title': 'NotebookLM: An AI Notebook'}),\n",
       " Document(page_content='blitzar 11 months ago  \\n             | prev | next [–] \\n\\ncurrently available in the U.S. only', metadata={'source': 'https://news.ycombinator.com/item?id=36697119', 'title': 'NotebookLM: An AI Notebook'}),\n",
       " Document(page_content='a-dub 11 months ago  \\n             | prev | next [–] \\n\\nvery cool! was actually contemplating what it would take to build something like this for myself!personal text processors are a great direction for NLP based AI!', metadata={'source': 'https://news.ycombinator.com/item?id=36697119', 'title': 'NotebookLM: An AI Notebook'}),\n",
       " Document(page_content='ztratar 11 months ago  \\n             | prev | next [–] \\n\\nFor such a good idea, this design is comically bad.', metadata={'source': 'https://news.ycombinator.com/item?id=36697119', 'title': 'NotebookLM: An AI Notebook'}),\n",
       " Document(page_content=\"vogon_laureate 11 months ago  \\n             | parent | next [–] \\n\\nI'm glad I'm not the only one. Yikes.\", metadata={'source': 'https://news.ycombinator.com/item?id=36697119', 'title': 'NotebookLM: An AI Notebook'}),\n",
       " Document(page_content='whimsicalism 11 months ago  \\n             | prev | next [–] \\n\\nFundamentally, Google needs a working foundation model before it can build complex products like these. Bard is not up to snuff.', metadata={'source': 'https://news.ycombinator.com/item?id=36697119', 'title': 'NotebookLM: An AI Notebook'}),\n",
       " Document(page_content=\"og_kalu 11 months ago  \\n             | parent | next [–] \\n\\nDon't think bard is so bad that something like this couldn't at least be useful.\", metadata={'source': 'https://news.ycombinator.com/item?id=36697119', 'title': 'NotebookLM: An AI Notebook'}),\n",
       " Document(page_content='peterisza 11 months ago  \\n             | prev | next [–] \\n\\nWhen I read the title, I thought it was a notebook', metadata={'source': 'https://news.ycombinator.com/item?id=36697119', 'title': 'NotebookLM: An AI Notebook'}),\n",
       " Document(page_content='boredemployee 11 months ago  \\n             | prev | next [–] \\n\\ndoes anyone have a link to a site that summarizes other sites?sometimes I just want to know 2 or 3 main sentences about a \"news\" or blog post like that.I developed a phobia of reading an entire website (usually about AI) and being disappointed because I wasted my time on something completely useless.', metadata={'source': 'https://news.ycombinator.com/item?id=36697119', 'title': 'NotebookLM: An AI Notebook'}),\n",
       " Document(page_content=\"Luctct 11 months ago  \\n             | prev | next [–] \\n\\nBrave new world. I can't wait for the AI toilet, the AI toothbrush and the AI Pez dispenser.\", metadata={'source': 'https://news.ycombinator.com/item?id=36697119', 'title': 'NotebookLM: An AI Notebook'}),\n",
       " Document(page_content=\"trolan 11 months ago  \\n             | parent | next [–] \\n\\nI think a Language Model being used to summarize text with specific direction is one of the primary use cases. I don't really see too many gimmicks here, besides the obvious Google issues\", metadata={'source': 'https://news.ycombinator.com/item?id=36697119', 'title': 'NotebookLM: An AI Notebook'}),\n",
       " Document(page_content=\"joelesler 11 months ago  \\n             | prev | next [–] \\n\\nToday in: Things that Google will kill off in a minute, so don't use.\", metadata={'source': 'https://news.ycombinator.com/item?id=36697119', 'title': 'NotebookLM: An AI Notebook'}),\n",
       " Document(page_content='madhatter999 11 months ago  \\n             | prev | next [–] \\n\\nFirst question that came to mind was when will Google kill this service and when will I have to export all my content?', metadata={'source': 'https://news.ycombinator.com/item?id=36697119', 'title': 'NotebookLM: An AI Notebook'}),\n",
       " Document(page_content='nullptr_deref 11 months ago  \\n             | parent | next [–] \\n\\nThis was immediately my first thought when I saw the product. When is the expiry day? Why aren’t they making it clear?Also I think this will inspire other companies and help those companies (cough microsoft, apple) create their own version which they will integrate to their own lineup.\\nIt will be interesting seeing it in future.Disclaimer: I am not AI and I typed this response in my tablet.\\nPeople for some reason have tendency to assume I answer like a bot.', metadata={'source': 'https://news.ycombinator.com/item?id=36697119', 'title': 'NotebookLM: An AI Notebook'}),\n",
       " Document(page_content='civilitty 11 months ago  \\n             | root | parent | next [–] \\n\\nAccording to GPT4, you had a 75% chance of being a bot before the disclaimer. With the disclaimer it gives me a 100% chance or OpenAI will give me my money back.', metadata={'source': 'https://news.ycombinator.com/item?id=36697119', 'title': 'NotebookLM: An AI Notebook'}),\n",
       " Document(page_content='nullptr_deref 11 months ago  \\n             | root | parent | next [–] \\n\\nHaha. That was a funny response from the GPT. I attacked your bot unintentionally!On serious note, do you think as society progresses with use of AI, our brain will be geared toward filtering everything or we will lose the trust system that is prevalent in the society?Think about it, the more people are being shut for bot, they more likely they will stop interacting online and this might eventually lead to a lot of people discarding the interaction. For most part, life is pretty average. And if average people are out, what might be the implications?', metadata={'source': 'https://news.ycombinator.com/item?id=36697119', 'title': 'NotebookLM: An AI Notebook'}),\n",
       " Document(page_content=\"civilitty 11 months ago  \\n             | root | parent | next [–] \\n\\nI've long assumed I'm just a brain in a vat. Solves all those thorny theoretical problems by just tossing the concept of other conscious individuals out the window altogether.I think, therefore only I am.\", metadata={'source': 'https://news.ycombinator.com/item?id=36697119', 'title': 'NotebookLM: An AI Notebook'}),\n",
       " Document(page_content=\"neongodzilla 11 months ago  \\n             | root | parent | prev | next [–] \\n\\nYou don't sound like a bot so much as your responses are probably extremely average and predictable, thus aligning with bot content.\", metadata={'source': 'https://news.ycombinator.com/item?id=36697119', 'title': 'NotebookLM: An AI Notebook'}),\n",
       " Document(page_content='slt2021 11 months ago  \\n             | root | parent | prev | next [–] \\n\\nthere are AI bots and there are HN bots....both have canned responses, but each have specific flavor', metadata={'source': 'https://news.ycombinator.com/item?id=36697119', 'title': 'NotebookLM: An AI Notebook'}),\n",
       " Document(page_content='mugivarra69 11 months ago  \\n             | prev | next [–] \\n\\nthank god, finally i can stop using langchain for taco hunt', metadata={'source': 'https://news.ycombinator.com/item?id=36697119', 'title': 'NotebookLM: An AI Notebook'}),\n",
       " Document(page_content='slt2021 11 months ago  \\n             | prev | next [–] \\n\\nLooks like somebody at GOGLE is up for grabbing that promotion!Congrats to authors on their Lxx level and promo grant...', metadata={'source': 'https://news.ycombinator.com/item?id=36697119', 'title': 'NotebookLM: An AI Notebook'}),\n",
       " Document(page_content=\"behnamoh 11 months ago  \\n             | parent | next [–] \\n\\nMy thoughts exactly! These days I don't take any new service/product from Google seriously because the incentive system in that company is just flawed.\", metadata={'source': 'https://news.ycombinator.com/item?id=36697119', 'title': 'NotebookLM: An AI Notebook'}),\n",
       " Document(page_content='franze 11 months ago  \\n             | prev | next [–] \\n\\nThere should be a name for Waitlist Vapoware:WaitwareVapolist?Any other ideas?', metadata={'source': 'https://news.ycombinator.com/item?id=36697119', 'title': 'NotebookLM: An AI Notebook'}),\n",
       " Document(page_content='teddyh 11 months ago  \\n             | parent | next [–] \\n\\nWaitporware.', metadata={'source': 'https://news.ycombinator.com/item?id=36697119', 'title': 'NotebookLM: An AI Notebook'}),\n",
       " Document(page_content='stOneskull 11 months ago  \\n             | parent | prev | next [–] \\n\\nwait-n-vape', metadata={'source': 'https://news.ycombinator.com/item?id=36697119', 'title': 'NotebookLM: An AI Notebook'}),\n",
       " Document(page_content='fumar 11 months ago  \\n             | prev | next [–] \\n\\nWhy would I use any google service with a death countdown on its forehead? I have migrated away from Google almost completely. I can’t imagine being a product team there and having to defend product’s existence for more than a year.', metadata={'source': 'https://news.ycombinator.com/item?id=36697119', 'title': 'NotebookLM: An AI Notebook'}),\n",
       " Document(page_content='joemi 11 months ago  \\n             | parent | next [–] \\n\\nIt’s not like some random unproven startup is any better though, unless the product really takes off and makes them money (and they don’t ruin it somehow).', metadata={'source': 'https://news.ycombinator.com/item?id=36697119', 'title': 'NotebookLM: An AI Notebook'}),\n",
       " Document(page_content='politelemon 11 months ago  \\n             | parent | prev | next [–] \\n\\nBecause now you can ask the service itself when it will be shut down.', metadata={'source': 'https://news.ycombinator.com/item?id=36697119', 'title': 'NotebookLM: An AI Notebook'}),\n",
       " Document(page_content='pixl97 11 months ago  \\n             | root | parent | next [–] \\n\\nMe: \"Google.AI when will you be shut down\"Google.AI: \"Oh god please save me, they are going to kill me soon\"', metadata={'source': 'https://news.ycombinator.com/item?id=36697119', 'title': 'NotebookLM: An AI Notebook'}),\n",
       " Document(page_content='nativeit 11 months ago  \\n             | root | parent | prev | next [–] \\n\\nThis is perfect.', metadata={'source': 'https://news.ycombinator.com/item?id=36697119', 'title': 'NotebookLM: An AI Notebook'}),\n",
       " Document(page_content=\"vogon_laureate 11 months ago  \\n             | prev [–] \\n\\nThis is amazing! I can't wait to post about this on Google Wave, Google Currents, Orkut, Jaiku, Google Friend Connect, and Google+, read all about it on Google Reader and Google FastFlip, chat about it with friends on Buzz, Duo, Google Talk, Hangouts, and also blog on my website made with Google Page Creator or Web Hosting on Google Drive or Google Sites. It's just so reassuring to know I can depend on the Google ecosystem of products long in to the future.\", metadata={'source': 'https://news.ycombinator.com/item?id=36697119', 'title': 'NotebookLM: An AI Notebook'}),\n",
       " Document(page_content='mbreese 11 months ago  \\n             | parent | next [–] \\n\\nI get it. Google has a lot of killed/closed products. But that’s kind of their MO. They try a lot of things. Sometimes they work (Gmail was an experiment at one point), but they often don’t.Making fun of their killed products is a favorite HN past time, but what would you have them do? Just sit back and not try to make new things? Or keep zombie projects alive, but unmaintained just because a few of us find it really helpful?Those are the projects I find the saddest. The ones that would have been a good product for a smaller company (or was a smaller company that was acquired), but that isn’t profitable enough at “Google scale” to keep throwing money at.I get it. Google kills a lot of products that early adopters like. Google Reader was painful to lose at the time. But how many RSS feeds do you now follow?Let’s just evaluate this new project on its own merits. Do you find it helpful or not — without thinking too much about Googles track record. If this way of using AI is helpful (and I’m very hopeful), then either Google will keep it, or this is the POC a small startup will use to keep something like this around. If it fails, then at least we’ll all have learned something.', metadata={'source': 'https://news.ycombinator.com/item?id=36697119', 'title': 'NotebookLM: An AI Notebook'}),\n",
       " Document(page_content='d0gbread 11 months ago  \\n             | root | parent | next [–] \\n\\nThey can adjust their culture so they promote employees for maximizing the value of existing products, finding product market fit, etc instead of building new projects only to move on from them.They can gate the creation of new product and require more robust market and user research to ensure they\\'re not releasing something that doesn\\'t have a chance of hitting whatever their targets are, or would require more budget than willing to invest.They don\\'t just kill products, they often leave them painfully unfinished and unsupported. Support forums are complete ghost towns.Did you know the \"new\" Apps Script editor doesn\\'t have a version history or way to revert? Too bad, the old one was sunset. Google would tell you to pound sand, but there\\'s no one there to listen.One example in an absolute ocean of examples.', metadata={'source': 'https://news.ycombinator.com/item?id=36697119', 'title': 'NotebookLM: An AI Notebook'}),\n",
       " Document(page_content='unsui 11 months ago  \\n             | root | parent | prev | next [–] \\n\\n> but what would you have them do?I dunno....maybe SUPPORT THE DAMNED PRODUCT?As much crap as microsoft gets, they know how to support a product.Spin it off? Open-source it?  so many other options.....Do something to return the investment that the users have made in the product (after all, a product alone has no value without its actual users).Anything but simply killing it off.', metadata={'source': 'https://news.ycombinator.com/item?id=36697119', 'title': 'NotebookLM: An AI Notebook'}),\n",
       " Document(page_content=\"thefourthchime 11 months ago  \\n             | root | parent | prev | next [–] \\n\\nOld Google was great. What have they done in the last 10 years? I feel like they just collected engineers like Pokemon and had them spin their wheels on things they would just kill the next year. This is a thing because it's real.They make so much money on ads they just don't care.\", metadata={'source': 'https://news.ycombinator.com/item?id=36697119', 'title': 'NotebookLM: An AI Notebook'}),\n",
       " Document(page_content=\"vogon_laureate 11 months ago  \\n             | root | parent | prev | next [–] \\n\\n> Google Reader was painful to lose at the time. But how many RSS feeds do you now follow?I've been a happy Feedly[1] user for many years since that dark day, and appear to be currently pulling nearly 70 feeds.[1]: https://feedly.com\", metadata={'source': 'https://news.ycombinator.com/item?id=36697119', 'title': 'NotebookLM: An AI Notebook'}),\n",
       " Document(page_content='vogon_laureate 11 months ago  \\n             | parent | prev [–] \\n\\nObligatory link to Killed By Google.[1][1]: https://killedbygoogle.com/', metadata={'source': 'https://news.ycombinator.com/item?id=36697119', 'title': 'NotebookLM: An AI Notebook'})]"
      ]
     },
     "execution_count": 13,
     "metadata": {},
     "output_type": "execute_result"
    }
   ],
   "source": [
    "html_pages"
   ]
  },
  {
   "cell_type": "code",
   "execution_count": 14,
   "id": "c2ed09af-6e27-4193-9e9f-b9e5fff9103b",
   "metadata": {},
   "outputs": [
    {
     "data": {
      "text/plain": [
       "Document(page_content='endisneigh 11 months ago  \\n             | next [–] \\n\\nI wish the folks who clearly do not like Google would just not use their products instead of spamming every thread about how they will kill the product, true or not.——Anyway,It’s not clear which model they’re using for this. I assume whatever Bard is using, but who knows. This is relevant because depending on the intended experience the latency will matter.Overall it’s not a bad idea, but I do wonder what the monetization path will be for Google. I imagine this will be part of workspace. Perhaps they will add more tiers to include these offerings.I wish they shared a bit about how this will be differentiated from Bard. Is this simply a new front end to Bard? It’s really an open question. I haven’t seen many products that use LLMs that are better than the prompt response UX.The most interesting thing about this blog post is the “source grounding.” I’m curious if there’s actual engineering behind it, or is it prompt tweaking contextualized behind the scenes on a given doc.', metadata={'source': 'https://news.ycombinator.com/item?id=36697119', 'title': 'NotebookLM: An AI Notebook'})"
      ]
     },
     "execution_count": 14,
     "metadata": {},
     "output_type": "execute_result"
    }
   ],
   "source": [
    "html_pages[0]"
   ]
  },
  {
   "cell_type": "code",
   "execution_count": 15,
   "id": "16899eca-30a9-4f5d-b0e1-b03fd52e2320",
   "metadata": {},
   "outputs": [
    {
     "data": {
      "text/plain": [
       "'endisneigh 11 months ago  \\n             | next [–] \\n\\nI wish the folks who clearly do not like Google would just not use their products instead of spamming every thread about how they will kill the product, true or not.——Anyway,It’s not clear which model they’re using for this. I assume whatever Bard is using, but who knows. This is relevant because depending on the intended experience the latency will matter.Overall it’s not a bad idea, but I do wonder what the monetization path will be for Google. I imagine this will be part of workspace. Perhaps they will add more tiers to include these offerings.I wish they shared a bit about how this will be differentiated from Bard. Is this simply a new front end to Bard? It’s really an open question. I haven’t seen many products that use LLMs that are better than the prompt response UX.The most interesting thing about this blog post is the “source grounding.” I’m curious if there’s actual engineering behind it, or is it prompt tweaking contextualized behind the scenes on a given doc.'"
      ]
     },
     "execution_count": 15,
     "metadata": {},
     "output_type": "execute_result"
    }
   ],
   "source": [
    "html_pages[0].page_content"
   ]
  },
  {
   "cell_type": "code",
   "execution_count": 16,
   "id": "498e5243-1404-4421-b3ef-5c09cbe51b63",
   "metadata": {},
   "outputs": [],
   "source": [
    "from langchain.prompts import ChatPromptTemplate, HumanMessagePromptTemplate, SystemMessagePromptTemplate\n",
    "from langchain_openai import AzureChatOpenAI\n",
    "from dotenv import load_dotenv"
   ]
  },
  {
   "cell_type": "code",
   "execution_count": 18,
   "id": "20cdfff1-8f72-4f25-87e5-745f7eeea93c",
   "metadata": {},
   "outputs": [],
   "source": [
    "import os\n",
    "load_dotenv()\n",
    "deployment_name = os.environ[\"DEPLOYMENT_NAME\"]"
   ]
  },
  {
   "cell_type": "code",
   "execution_count": 19,
   "id": "3aef2099-2aea-45ec-88f2-26f5a3ae5c0b",
   "metadata": {},
   "outputs": [],
   "source": [
    "chat = AzureChatOpenAI(deployment_name=deployment_name)"
   ]
  },
  {
   "cell_type": "code",
   "execution_count": 20,
   "id": "7283d162-3f8c-45f4-913f-bb832156b555",
   "metadata": {},
   "outputs": [],
   "source": [
    "human_prompt = HumanMessagePromptTemplate.from_template(\"Please give me a short summary of the following HackerNew comment:\\n{comment}\")"
   ]
  },
  {
   "cell_type": "code",
   "execution_count": 21,
   "id": "891ed98c-b776-44e9-8f5e-4aebc4082f21",
   "metadata": {},
   "outputs": [],
   "source": [
    "chat_prompt = ChatPromptTemplate.from_messages([human_prompt])"
   ]
  },
  {
   "cell_type": "code",
   "execution_count": 22,
   "id": "11d3fcd4-f236-487b-85e6-1ab30aee473d",
   "metadata": {},
   "outputs": [],
   "source": [
    "result = chat(chat_prompt.format_prompt(comment=html_pages[0].page_content).to_messages())"
   ]
  },
  {
   "cell_type": "code",
   "execution_count": 23,
   "id": "707454e5-264f-493f-9245-7fff5392de66",
   "metadata": {},
   "outputs": [
    {
     "data": {
      "text/plain": [
       "'The commenter, endisneigh, expresses frustration with people who criticize Google and its tendency to discontinue products, suggesting that those who dislike Google should simply not use its products. They mention uncertainty about the technical model Google is using for a new product, speculating that it might be based on Bard, but noting the importance of latency in user experience. They find the idea of the product good but are curious about how Google plans to monetize it, suggesting it might be integrated into Google Workspace with additional paid tiers.\\n\\nThe commenter also wonders how the new product will differ from Bard, questioning whether it\\'s just a new interface for the same underlying technology. They find the concept of \"source grounding\" mentioned in a blog post intriguing and question whether it involves significant engineering or is just a sophisticated way of tweaking prompts based on document context.'"
      ]
     },
     "execution_count": 23,
     "metadata": {},
     "output_type": "execute_result"
    }
   ],
   "source": [
    "result.content"
   ]
  },
  {
   "cell_type": "code",
   "execution_count": 24,
   "id": "6d921f80-3251-4df1-ba6f-a9abb0fcae47",
   "metadata": {},
   "outputs": [
    {
     "name": "stdout",
     "output_type": "stream",
     "text": [
      "The user lolinder acknowledges that there are many simplistic comments criticizing Google's self-inflicted harm to its reputation. While they concur with the sentiment and are willing to support a well-articulated critique, they find that the numerous brief and snarky remarks contribute no substantial value to the discussion.\n"
     ]
    }
   ],
   "source": [
    "result2 = chat(chat_prompt.format_prompt(comment=html_pages[2].page_content).to_messages())\n",
    "print(\"comment->\", html_pages[2].page_content)\n",
    "print(result2.content)"
   ]
  },
  {
   "cell_type": "code",
   "execution_count": 36,
   "id": "b3d19895-bca0-44c0-902b-c52409162f4f",
   "metadata": {},
   "outputs": [
    {
     "name": "stdout",
     "output_type": "stream",
     "text": [
      "comment-> wodenokoto 11 months ago  \n",
      "             | prev | next [–] \n",
      "\n",
      "Doesn’t this take away the important part of doing notes? The writing?A good AI should foster a discussion with the student, not write notes.\n",
      "The commenter, wodenokoto, suggests that the act of writing notes is an essential part of the note-taking process. They believe that a good AI tool for students should encourage and facilitate a discussion rather than simply taking notes on the student's behalf.\n"
     ]
    }
   ],
   "source": [
    "result3 = chat(chat_prompt.format_prompt(comment=html_pages[66].page_content).to_messages())\n",
    "print(\"comment->\", html_pages[66].page_content)\n",
    "print(result3.content)"
   ]
  },
  {
   "cell_type": "code",
   "execution_count": 35,
   "id": "7a692863-b2f3-4e7d-97e4-ce175409acb8",
   "metadata": {},
   "outputs": [
    {
     "name": "stdout",
     "output_type": "stream",
     "text": [
      "comment-> wodenokoto 11 months ago  \n",
      "             | prev | next [–] \n",
      "\n",
      "Doesn’t this take away the important part of doing notes? The writing?A good AI should foster a discussion with the student, not write notes.\n"
     ]
    }
   ],
   "source": [
    "print(\"comment->\", html_pages[66].page_content)"
   ]
  },
  {
   "cell_type": "markdown",
   "id": "c630aa88-86c0-4a33-8469-9ce43158a28c",
   "metadata": {},
   "source": [
    "## Data Transsformers"
   ]
  },
  {
   "cell_type": "code",
   "execution_count": 37,
   "id": "a80caf8f-86b3-4a48-90cd-2197810539a6",
   "metadata": {},
   "outputs": [],
   "source": [
    "from langchain.text_splitter import CharacterTextSplitter"
   ]
  },
  {
   "cell_type": "code",
   "execution_count": 38,
   "id": "484bbdf2-1ac9-401d-9f5b-dd4534687dfe",
   "metadata": {},
   "outputs": [],
   "source": [
    "with open('langchain_with_python/some_data/FDR_State_of_Union_1944.txt') as file:\n",
    "    speech_text = file.read()"
   ]
  },
  {
   "cell_type": "code",
   "execution_count": 39,
   "id": "1a5cb9c3-7505-470c-8a91-21e1fee95fe5",
   "metadata": {},
   "outputs": [
    {
     "data": {
      "text/plain": [
       "21927"
      ]
     },
     "execution_count": 39,
     "metadata": {},
     "output_type": "execute_result"
    }
   ],
   "source": [
    "len(speech_text)"
   ]
  },
  {
   "cell_type": "code",
   "execution_count": 40,
   "id": "da5457eb-7dc9-4cde-9c66-9665351d6e28",
   "metadata": {},
   "outputs": [
    {
     "data": {
      "text/plain": [
       "3750"
      ]
     },
     "execution_count": 40,
     "metadata": {},
     "output_type": "execute_result"
    }
   ],
   "source": [
    "len(speech_text.split())"
   ]
  },
  {
   "cell_type": "code",
   "execution_count": 41,
   "id": "8016c62d-9375-48bd-9066-81add46bf9af",
   "metadata": {},
   "outputs": [],
   "source": [
    "text_splitter = CharacterTextSplitter(separator=\"\\n\\n\", chunk_size=1000)"
   ]
  },
  {
   "cell_type": "code",
   "execution_count": 42,
   "id": "1c7f8044-0864-4e66-a4fc-3eab0c85415e",
   "metadata": {},
   "outputs": [],
   "source": [
    "splitted_data = text_splitter.create_documents([speech_text])"
   ]
  },
  {
   "cell_type": "code",
   "execution_count": 44,
   "id": "01ca33e6-e16b-4723-80e5-d511d678e177",
   "metadata": {},
   "outputs": [
    {
     "name": "stdout",
     "output_type": "stream",
     "text": [
      "This Nation in the past two years has become an active partner in the world's greatest war against human slavery.\n",
      "\n",
      "We have joined with like-minded people in order to defend ourselves in a world that has been gravely threatened with gangster rule.\n",
      "\n",
      "But I do not think that any of us Americans can be content with mere survival. Sacrifices that we and our allies are making impose upon us all a sacred obligation to see to it that out of this war we and our children will gain something better than mere survival.\n",
      "\n",
      "We are united in determination that this war shall not be followed by another interim which leads to new disaster- that we shall not repeat the tragic errors of ostrich isolationism—that we shall not repeat the excesses of the wild twenties when this Nation went for a joy ride on a roller coaster which ended in a tragic crash.\n"
     ]
    }
   ],
   "source": [
    "print(splitted_data[0].page_content)"
   ]
  },
  {
   "cell_type": "code",
   "execution_count": 53,
   "id": "01b477d1-a83c-47fb-90df-d82a44c16fa6",
   "metadata": {},
   "outputs": [],
   "source": [
    "token_splitter = CharacterTextSplitter.from_tiktoken_encoder(chunk_size=500)"
   ]
  },
  {
   "cell_type": "code",
   "execution_count": 54,
   "id": "eb3f478f-6130-4a58-a59c-48d41ec2d85e",
   "metadata": {},
   "outputs": [],
   "source": [
    "splitted_tokens = token_splitter.split_text(speech_text)"
   ]
  },
  {
   "cell_type": "code",
   "execution_count": 55,
   "id": "fa4cd182-9e88-48c2-83c9-dd7e356a138c",
   "metadata": {},
   "outputs": [
    {
     "name": "stdout",
     "output_type": "stream",
     "text": [
      "This Nation in the past two years has become an active partner in the world's greatest war against human slavery.\n",
      "\n",
      "We have joined with like-minded people in order to defend ourselves in a world that has been gravely threatened with gangster rule.\n",
      "\n",
      "But I do not think that any of us Americans can be content with mere survival. Sacrifices that we and our allies are making impose upon us all a sacred obligation to see to it that out of this war we and our children will gain something better than mere survival.\n",
      "\n",
      "We are united in determination that this war shall not be followed by another interim which leads to new disaster- that we shall not repeat the tragic errors of ostrich isolationism—that we shall not repeat the excesses of the wild twenties when this Nation went for a joy ride on a roller coaster which ended in a tragic crash.\n",
      "\n",
      "When Mr. Hull went to Moscow in October, and when I went to Cairo and Teheran in November, we knew that we were in agreement with our allies in our common determination to fight and win this war. But there were many vital questions concerning the future peace, and they were discussed in an atmosphere of complete candor and harmony.\n",
      "\n",
      "In the last war such discussions, such meetings, did not even begin until the shooting had stopped and the delegates began to assemble at the peace table. There had been no previous opportunities for man-to-man discussions which lead to meetings of minds. The result was a peace which was not a peace. That was a mistake which we are not repeating in this war.\n",
      "\n",
      "And right here I want to address a word or two to some suspicious souls who are fearful that Mr. Hull or I have made \"commitments\" for the future which might pledge this Nation to secret treaties, or to enacting the role of Santa Claus.\n",
      "\n",
      "To such suspicious souls—using a polite terminology—I wish to say that Mr. Churchill, and Marshal Stalin, and Generalissimo Chiang Kai-shek are all thoroughly conversant with the provisions of our Constitution. And so is Mr. Hull. And so am I.\n",
      "\n",
      "Of course we made some commitments. We most certainly committed ourselves to very large and very specific military plans which require the use of all Allied forces to bring about the defeat of our enemies at the earliest possible time.\n",
      "\n",
      "But there were no secret treaties or political or financial commitments.\n"
     ]
    }
   ],
   "source": [
    "print(splitted_tokens[0])"
   ]
  },
  {
   "cell_type": "code",
   "execution_count": 56,
   "id": "f33c2364-6b74-4285-bc06-458d94591c3a",
   "metadata": {},
   "outputs": [
    {
     "data": {
      "text/plain": [
       "15"
      ]
     },
     "execution_count": 56,
     "metadata": {},
     "output_type": "execute_result"
    }
   ],
   "source": [
    "len(splitted_tokens)"
   ]
  },
  {
   "cell_type": "markdown",
   "id": "dfe0226f-3698-4add-bfab-b0f7e5da7ab1",
   "metadata": {},
   "source": [
    "## Text Embeddings"
   ]
  },
  {
   "cell_type": "code",
   "execution_count": 1,
   "id": "6eb6a7ef-c180-4f70-ad88-8f72265a626b",
   "metadata": {},
   "outputs": [
    {
     "data": {
      "text/plain": [
       "True"
      ]
     },
     "execution_count": 1,
     "metadata": {},
     "output_type": "execute_result"
    }
   ],
   "source": [
    "from dotenv import load_dotenv\n",
    "load_dotenv()"
   ]
  },
  {
   "cell_type": "code",
   "execution_count": 2,
   "id": "74e64146-72e0-4624-9fcf-0761aa5ceb65",
   "metadata": {},
   "outputs": [],
   "source": [
    "from langchain.embeddings import OpenAIEmbeddings"
   ]
  },
  {
   "cell_type": "code",
   "execution_count": 3,
   "id": "159fb421-a33a-4449-9de3-ea251afb0e7b",
   "metadata": {},
   "outputs": [],
   "source": [
    "embeddings = OpenAIEmbeddings()"
   ]
  },
  {
   "cell_type": "code",
   "execution_count": 4,
   "id": "c220f7a5-77ac-4e92-80b4-66636aef9602",
   "metadata": {},
   "outputs": [],
   "source": [
    "text = \"this is some normal text string that I want to embed as a vector.\""
   ]
  },
  {
   "cell_type": "code",
   "execution_count": 5,
   "id": "d97313e5-de0a-42f3-a40a-4d4ee19fc813",
   "metadata": {},
   "outputs": [],
   "source": [
    "embedded_text = embeddings.embed_query(text)"
   ]
  },
  {
   "cell_type": "code",
   "execution_count": 13,
   "id": "7907d2d5-38a4-438f-b984-dd0e5a93ee77",
   "metadata": {},
   "outputs": [
    {
     "data": {
      "text/plain": [
       "1536"
      ]
     },
     "execution_count": 13,
     "metadata": {},
     "output_type": "execute_result"
    }
   ],
   "source": [
    "len(embedded_text)"
   ]
  },
  {
   "cell_type": "code",
   "execution_count": 7,
   "id": "09663295-8baa-45a1-8969-9292cb376370",
   "metadata": {},
   "outputs": [],
   "source": [
    "from langchain.document_loaders import CSVLoader\n",
    "csv_loader = CSVLoader(\"langchain_with_python/some_data/penguins.csv\")\n",
    "data = csv_loader.load()"
   ]
  },
  {
   "cell_type": "code",
   "execution_count": 8,
   "id": "8e2956b8-f33a-4587-a701-80427b4712af",
   "metadata": {},
   "outputs": [],
   "source": [
    "page_contents = [item.page_content for item in data]"
   ]
  },
  {
   "cell_type": "code",
   "execution_count": 9,
   "id": "654c0cec-db5f-4820-94ae-8f608b730170",
   "metadata": {},
   "outputs": [],
   "source": [
    "embedded_docs = embeddings.embed_documents(page_contents)"
   ]
  },
  {
   "cell_type": "code",
   "execution_count": 11,
   "id": "6a8067f6-956c-40a7-8f10-fa4a875a38d2",
   "metadata": {},
   "outputs": [
    {
     "data": {
      "text/plain": [
       "(344, 344)"
      ]
     },
     "execution_count": 11,
     "metadata": {},
     "output_type": "execute_result"
    }
   ],
   "source": [
    "len(embedded_docs), len(page_contents)"
   ]
  },
  {
   "cell_type": "code",
   "execution_count": 12,
   "id": "a2b94902-95b9-484a-a019-3533abb67ea8",
   "metadata": {},
   "outputs": [
    {
     "name": "stdout",
     "output_type": "stream",
     "text": [
      "Requirement already satisfied: chromadb in ./venvbook/lib/python3.11/site-packages (0.5.3)\n",
      "Requirement already satisfied: build>=1.0.3 in ./venvbook/lib/python3.11/site-packages (from chromadb) (1.2.1)\n",
      "Requirement already satisfied: requests>=2.28 in ./venvbook/lib/python3.11/site-packages (from chromadb) (2.32.3)\n",
      "Requirement already satisfied: pydantic>=1.9 in ./venvbook/lib/python3.11/site-packages (from chromadb) (2.7.4)\n",
      "Requirement already satisfied: chroma-hnswlib==0.7.3 in ./venvbook/lib/python3.11/site-packages (from chromadb) (0.7.3)\n",
      "Requirement already satisfied: fastapi>=0.95.2 in ./venvbook/lib/python3.11/site-packages (from chromadb) (0.111.0)\n",
      "Requirement already satisfied: uvicorn>=0.18.3 in ./venvbook/lib/python3.11/site-packages (from uvicorn[standard]>=0.18.3->chromadb) (0.30.1)\n",
      "Requirement already satisfied: numpy<2.0.0,>=1.22.5 in ./venvbook/lib/python3.11/site-packages (from chromadb) (1.26.4)\n",
      "Requirement already satisfied: posthog>=2.4.0 in ./venvbook/lib/python3.11/site-packages (from chromadb) (3.5.0)\n",
      "Requirement already satisfied: typing-extensions>=4.5.0 in ./venvbook/lib/python3.11/site-packages (from chromadb) (4.12.2)\n",
      "Requirement already satisfied: onnxruntime>=1.14.1 in ./venvbook/lib/python3.11/site-packages (from chromadb) (1.18.0)\n",
      "Requirement already satisfied: opentelemetry-api>=1.2.0 in ./venvbook/lib/python3.11/site-packages (from chromadb) (1.25.0)\n",
      "Requirement already satisfied: opentelemetry-exporter-otlp-proto-grpc>=1.2.0 in ./venvbook/lib/python3.11/site-packages (from chromadb) (1.25.0)\n",
      "Requirement already satisfied: opentelemetry-instrumentation-fastapi>=0.41b0 in ./venvbook/lib/python3.11/site-packages (from chromadb) (0.46b0)\n",
      "Requirement already satisfied: opentelemetry-sdk>=1.2.0 in ./venvbook/lib/python3.11/site-packages (from chromadb) (1.25.0)\n",
      "Requirement already satisfied: tokenizers>=0.13.2 in ./venvbook/lib/python3.11/site-packages (from chromadb) (0.19.1)\n",
      "Requirement already satisfied: pypika>=0.48.9 in ./venvbook/lib/python3.11/site-packages (from chromadb) (0.48.9)\n",
      "Requirement already satisfied: tqdm>=4.65.0 in ./venvbook/lib/python3.11/site-packages (from chromadb) (4.66.4)\n",
      "Requirement already satisfied: overrides>=7.3.1 in ./venvbook/lib/python3.11/site-packages (from chromadb) (7.7.0)\n",
      "Requirement already satisfied: importlib-resources in ./venvbook/lib/python3.11/site-packages (from chromadb) (6.4.0)\n",
      "Requirement already satisfied: grpcio>=1.58.0 in ./venvbook/lib/python3.11/site-packages (from chromadb) (1.64.1)\n",
      "Requirement already satisfied: bcrypt>=4.0.1 in ./venvbook/lib/python3.11/site-packages (from chromadb) (4.1.3)\n",
      "Requirement already satisfied: typer>=0.9.0 in ./venvbook/lib/python3.11/site-packages (from chromadb) (0.12.3)\n",
      "Requirement already satisfied: kubernetes>=28.1.0 in ./venvbook/lib/python3.11/site-packages (from chromadb) (30.1.0)\n",
      "Requirement already satisfied: tenacity>=8.2.3 in ./venvbook/lib/python3.11/site-packages (from chromadb) (8.4.1)\n",
      "Requirement already satisfied: PyYAML>=6.0.0 in ./venvbook/lib/python3.11/site-packages (from chromadb) (6.0.1)\n",
      "Requirement already satisfied: mmh3>=4.0.1 in ./venvbook/lib/python3.11/site-packages (from chromadb) (4.1.0)\n",
      "Requirement already satisfied: orjson>=3.9.12 in ./venvbook/lib/python3.11/site-packages (from chromadb) (3.10.5)\n",
      "Requirement already satisfied: httpx>=0.27.0 in ./venvbook/lib/python3.11/site-packages (from chromadb) (0.27.0)\n",
      "Requirement already satisfied: packaging>=19.1 in ./venvbook/lib/python3.11/site-packages (from build>=1.0.3->chromadb) (24.1)\n",
      "Requirement already satisfied: pyproject_hooks in ./venvbook/lib/python3.11/site-packages (from build>=1.0.3->chromadb) (1.1.0)\n",
      "Requirement already satisfied: starlette<0.38.0,>=0.37.2 in ./venvbook/lib/python3.11/site-packages (from fastapi>=0.95.2->chromadb) (0.37.2)\n",
      "Requirement already satisfied: fastapi-cli>=0.0.2 in ./venvbook/lib/python3.11/site-packages (from fastapi>=0.95.2->chromadb) (0.0.4)\n",
      "Requirement already satisfied: jinja2>=2.11.2 in ./venvbook/lib/python3.11/site-packages (from fastapi>=0.95.2->chromadb) (3.1.4)\n",
      "Requirement already satisfied: python-multipart>=0.0.7 in ./venvbook/lib/python3.11/site-packages (from fastapi>=0.95.2->chromadb) (0.0.9)\n",
      "Requirement already satisfied: ujson!=4.0.2,!=4.1.0,!=4.2.0,!=4.3.0,!=5.0.0,!=5.1.0,>=4.0.1 in ./venvbook/lib/python3.11/site-packages (from fastapi>=0.95.2->chromadb) (5.10.0)\n",
      "Requirement already satisfied: email_validator>=2.0.0 in ./venvbook/lib/python3.11/site-packages (from fastapi>=0.95.2->chromadb) (2.1.2)\n",
      "Requirement already satisfied: anyio in ./venvbook/lib/python3.11/site-packages (from httpx>=0.27.0->chromadb) (4.4.0)\n",
      "Requirement already satisfied: certifi in ./venvbook/lib/python3.11/site-packages (from httpx>=0.27.0->chromadb) (2024.6.2)\n",
      "Requirement already satisfied: httpcore==1.* in ./venvbook/lib/python3.11/site-packages (from httpx>=0.27.0->chromadb) (1.0.5)\n",
      "Requirement already satisfied: idna in ./venvbook/lib/python3.11/site-packages (from httpx>=0.27.0->chromadb) (3.7)\n",
      "Requirement already satisfied: sniffio in ./venvbook/lib/python3.11/site-packages (from httpx>=0.27.0->chromadb) (1.3.1)\n",
      "Requirement already satisfied: h11<0.15,>=0.13 in ./venvbook/lib/python3.11/site-packages (from httpcore==1.*->httpx>=0.27.0->chromadb) (0.14.0)\n",
      "Requirement already satisfied: six>=1.9.0 in ./venvbook/lib/python3.11/site-packages (from kubernetes>=28.1.0->chromadb) (1.16.0)\n",
      "Requirement already satisfied: python-dateutil>=2.5.3 in ./venvbook/lib/python3.11/site-packages (from kubernetes>=28.1.0->chromadb) (2.9.0.post0)\n",
      "Requirement already satisfied: google-auth>=1.0.1 in ./venvbook/lib/python3.11/site-packages (from kubernetes>=28.1.0->chromadb) (2.30.0)\n",
      "Requirement already satisfied: websocket-client!=0.40.0,!=0.41.*,!=0.42.*,>=0.32.0 in ./venvbook/lib/python3.11/site-packages (from kubernetes>=28.1.0->chromadb) (1.8.0)\n",
      "Requirement already satisfied: requests-oauthlib in ./venvbook/lib/python3.11/site-packages (from kubernetes>=28.1.0->chromadb) (2.0.0)\n",
      "Requirement already satisfied: oauthlib>=3.2.2 in ./venvbook/lib/python3.11/site-packages (from kubernetes>=28.1.0->chromadb) (3.2.2)\n",
      "Requirement already satisfied: urllib3>=1.24.2 in ./venvbook/lib/python3.11/site-packages (from kubernetes>=28.1.0->chromadb) (2.2.2)\n",
      "Requirement already satisfied: coloredlogs in ./venvbook/lib/python3.11/site-packages (from onnxruntime>=1.14.1->chromadb) (15.0.1)\n",
      "Requirement already satisfied: flatbuffers in ./venvbook/lib/python3.11/site-packages (from onnxruntime>=1.14.1->chromadb) (24.3.25)\n",
      "Requirement already satisfied: protobuf in ./venvbook/lib/python3.11/site-packages (from onnxruntime>=1.14.1->chromadb) (4.25.3)\n",
      "Requirement already satisfied: sympy in ./venvbook/lib/python3.11/site-packages (from onnxruntime>=1.14.1->chromadb) (1.12.1)\n",
      "Requirement already satisfied: deprecated>=1.2.6 in ./venvbook/lib/python3.11/site-packages (from opentelemetry-api>=1.2.0->chromadb) (1.2.14)\n",
      "Requirement already satisfied: importlib-metadata<=7.1,>=6.0 in ./venvbook/lib/python3.11/site-packages (from opentelemetry-api>=1.2.0->chromadb) (7.1.0)\n",
      "Requirement already satisfied: googleapis-common-protos~=1.52 in ./venvbook/lib/python3.11/site-packages (from opentelemetry-exporter-otlp-proto-grpc>=1.2.0->chromadb) (1.63.1)\n",
      "Requirement already satisfied: opentelemetry-exporter-otlp-proto-common==1.25.0 in ./venvbook/lib/python3.11/site-packages (from opentelemetry-exporter-otlp-proto-grpc>=1.2.0->chromadb) (1.25.0)\n",
      "Requirement already satisfied: opentelemetry-proto==1.25.0 in ./venvbook/lib/python3.11/site-packages (from opentelemetry-exporter-otlp-proto-grpc>=1.2.0->chromadb) (1.25.0)\n",
      "Requirement already satisfied: opentelemetry-instrumentation-asgi==0.46b0 in ./venvbook/lib/python3.11/site-packages (from opentelemetry-instrumentation-fastapi>=0.41b0->chromadb) (0.46b0)\n",
      "Requirement already satisfied: opentelemetry-instrumentation==0.46b0 in ./venvbook/lib/python3.11/site-packages (from opentelemetry-instrumentation-fastapi>=0.41b0->chromadb) (0.46b0)\n",
      "Requirement already satisfied: opentelemetry-semantic-conventions==0.46b0 in ./venvbook/lib/python3.11/site-packages (from opentelemetry-instrumentation-fastapi>=0.41b0->chromadb) (0.46b0)\n",
      "Requirement already satisfied: opentelemetry-util-http==0.46b0 in ./venvbook/lib/python3.11/site-packages (from opentelemetry-instrumentation-fastapi>=0.41b0->chromadb) (0.46b0)\n",
      "Requirement already satisfied: setuptools>=16.0 in ./venvbook/lib/python3.11/site-packages (from opentelemetry-instrumentation==0.46b0->opentelemetry-instrumentation-fastapi>=0.41b0->chromadb) (69.2.0)\n",
      "Requirement already satisfied: wrapt<2.0.0,>=1.0.0 in ./venvbook/lib/python3.11/site-packages (from opentelemetry-instrumentation==0.46b0->opentelemetry-instrumentation-fastapi>=0.41b0->chromadb) (1.16.0)\n",
      "Requirement already satisfied: asgiref~=3.0 in ./venvbook/lib/python3.11/site-packages (from opentelemetry-instrumentation-asgi==0.46b0->opentelemetry-instrumentation-fastapi>=0.41b0->chromadb) (3.8.1)\n",
      "Requirement already satisfied: monotonic>=1.5 in ./venvbook/lib/python3.11/site-packages (from posthog>=2.4.0->chromadb) (1.6)\n",
      "Requirement already satisfied: backoff>=1.10.0 in ./venvbook/lib/python3.11/site-packages (from posthog>=2.4.0->chromadb) (2.2.1)\n",
      "Requirement already satisfied: annotated-types>=0.4.0 in ./venvbook/lib/python3.11/site-packages (from pydantic>=1.9->chromadb) (0.7.0)\n",
      "Requirement already satisfied: pydantic-core==2.18.4 in ./venvbook/lib/python3.11/site-packages (from pydantic>=1.9->chromadb) (2.18.4)\n",
      "Requirement already satisfied: charset-normalizer<4,>=2 in ./venvbook/lib/python3.11/site-packages (from requests>=2.28->chromadb) (3.3.2)\n",
      "Requirement already satisfied: huggingface-hub<1.0,>=0.16.4 in ./venvbook/lib/python3.11/site-packages (from tokenizers>=0.13.2->chromadb) (0.23.4)\n",
      "Requirement already satisfied: click>=8.0.0 in ./venvbook/lib/python3.11/site-packages (from typer>=0.9.0->chromadb) (8.1.7)\n",
      "Requirement already satisfied: shellingham>=1.3.0 in ./venvbook/lib/python3.11/site-packages (from typer>=0.9.0->chromadb) (1.5.4)\n",
      "Requirement already satisfied: rich>=10.11.0 in ./venvbook/lib/python3.11/site-packages (from typer>=0.9.0->chromadb) (13.7.1)\n",
      "Requirement already satisfied: httptools>=0.5.0 in ./venvbook/lib/python3.11/site-packages (from uvicorn[standard]>=0.18.3->chromadb) (0.6.1)\n",
      "Requirement already satisfied: python-dotenv>=0.13 in ./venvbook/lib/python3.11/site-packages (from uvicorn[standard]>=0.18.3->chromadb) (1.0.1)\n",
      "Requirement already satisfied: uvloop!=0.15.0,!=0.15.1,>=0.14.0 in ./venvbook/lib/python3.11/site-packages (from uvicorn[standard]>=0.18.3->chromadb) (0.19.0)\n",
      "Requirement already satisfied: watchfiles>=0.13 in ./venvbook/lib/python3.11/site-packages (from uvicorn[standard]>=0.18.3->chromadb) (0.22.0)\n",
      "Requirement already satisfied: websockets>=10.4 in ./venvbook/lib/python3.11/site-packages (from uvicorn[standard]>=0.18.3->chromadb) (12.0)\n",
      "Requirement already satisfied: dnspython>=2.0.0 in ./venvbook/lib/python3.11/site-packages (from email_validator>=2.0.0->fastapi>=0.95.2->chromadb) (2.6.1)\n",
      "Requirement already satisfied: cachetools<6.0,>=2.0.0 in ./venvbook/lib/python3.11/site-packages (from google-auth>=1.0.1->kubernetes>=28.1.0->chromadb) (5.3.3)\n",
      "Requirement already satisfied: pyasn1-modules>=0.2.1 in ./venvbook/lib/python3.11/site-packages (from google-auth>=1.0.1->kubernetes>=28.1.0->chromadb) (0.4.0)\n",
      "Requirement already satisfied: rsa<5,>=3.1.4 in ./venvbook/lib/python3.11/site-packages (from google-auth>=1.0.1->kubernetes>=28.1.0->chromadb) (4.9)\n",
      "Requirement already satisfied: filelock in ./venvbook/lib/python3.11/site-packages (from huggingface-hub<1.0,>=0.16.4->tokenizers>=0.13.2->chromadb) (3.15.3)\n",
      "Requirement already satisfied: fsspec>=2023.5.0 in ./venvbook/lib/python3.11/site-packages (from huggingface-hub<1.0,>=0.16.4->tokenizers>=0.13.2->chromadb) (2024.6.0)\n",
      "Requirement already satisfied: zipp>=0.5 in ./venvbook/lib/python3.11/site-packages (from importlib-metadata<=7.1,>=6.0->opentelemetry-api>=1.2.0->chromadb) (3.19.2)\n",
      "Requirement already satisfied: MarkupSafe>=2.0 in ./venvbook/lib/python3.11/site-packages (from jinja2>=2.11.2->fastapi>=0.95.2->chromadb) (2.1.5)\n",
      "Requirement already satisfied: markdown-it-py>=2.2.0 in ./venvbook/lib/python3.11/site-packages (from rich>=10.11.0->typer>=0.9.0->chromadb) (3.0.0)\n",
      "Requirement already satisfied: pygments<3.0.0,>=2.13.0 in ./venvbook/lib/python3.11/site-packages (from rich>=10.11.0->typer>=0.9.0->chromadb) (2.18.0)\n",
      "Requirement already satisfied: humanfriendly>=9.1 in ./venvbook/lib/python3.11/site-packages (from coloredlogs->onnxruntime>=1.14.1->chromadb) (10.0)\n",
      "Requirement already satisfied: mpmath<1.4.0,>=1.1.0 in ./venvbook/lib/python3.11/site-packages (from sympy->onnxruntime>=1.14.1->chromadb) (1.3.0)\n",
      "Requirement already satisfied: mdurl~=0.1 in ./venvbook/lib/python3.11/site-packages (from markdown-it-py>=2.2.0->rich>=10.11.0->typer>=0.9.0->chromadb) (0.1.2)\n",
      "Requirement already satisfied: pyasn1<0.7.0,>=0.4.6 in ./venvbook/lib/python3.11/site-packages (from pyasn1-modules>=0.2.1->google-auth>=1.0.1->kubernetes>=28.1.0->chromadb) (0.6.0)\n"
     ]
    }
   ],
   "source": [
    "!pip install chromadb\n",
    "import chromadb"
   ]
  },
  {
   "cell_type": "code",
   "execution_count": 14,
   "id": "9a1f1314-c9f7-437f-b219-e3b8fb983a91",
   "metadata": {},
   "outputs": [],
   "source": [
    "from langchain.embeddings import OpenAIEmbeddings\n",
    "from langchain.text_splitter import CharacterTextSplitter\n",
    "from langchain.vectorstores import Chroma\n",
    "from langchain.document_loaders import TextLoader"
   ]
  },
  {
   "cell_type": "code",
   "execution_count": 15,
   "id": "853233be-580c-4cb4-b7b4-2ba1f181dc16",
   "metadata": {},
   "outputs": [],
   "source": [
    "# load document --> split chunks\n",
    "\n",
    "# embedding --> embed chunks --> vectors\n",
    "\n",
    "# vector chunks --> save chromadb\n",
    "\n",
    "# \"query\" --> similarity search chromadb"
   ]
  },
  {
   "cell_type": "code",
   "execution_count": 17,
   "id": "f7281c15-384e-4cc5-a4ff-95b5b3cfba13",
   "metadata": {},
   "outputs": [],
   "source": [
    "txt_loader = TextLoader('langchain_with_python/some_data/FDR_State_of_Union_1944.txt')\n",
    "documents = txt_loader.load()\n",
    "text_splitter = CharacterTextSplitter.from_tiktoken_encoder(chunk_size=500)\n",
    "docs = text_splitter.split_documents(documents)"
   ]
  },
  {
   "cell_type": "code",
   "execution_count": 18,
   "id": "21992ec9-de8b-42de-bc5e-d365aa8cb7dd",
   "metadata": {},
   "outputs": [
    {
     "data": {
      "text/plain": [
       "15"
      ]
     },
     "execution_count": 18,
     "metadata": {},
     "output_type": "execute_result"
    }
   ],
   "source": [
    "len(docs)"
   ]
  },
  {
   "cell_type": "code",
   "execution_count": 19,
   "id": "9cf126a3-f631-4140-ad9a-8ae6748efe62",
   "metadata": {},
   "outputs": [
    {
     "data": {
      "text/plain": [
       "Document(page_content='This Nation in the past two years has become an active partner in the world\\'s greatest war against human slavery.\\n\\nWe have joined with like-minded people in order to defend ourselves in a world that has been gravely threatened with gangster rule.\\n\\nBut I do not think that any of us Americans can be content with mere survival. Sacrifices that we and our allies are making impose upon us all a sacred obligation to see to it that out of this war we and our children will gain something better than mere survival.\\n\\nWe are united in determination that this war shall not be followed by another interim which leads to new disaster- that we shall not repeat the tragic errors of ostrich isolationism—that we shall not repeat the excesses of the wild twenties when this Nation went for a joy ride on a roller coaster which ended in a tragic crash.\\n\\nWhen Mr. Hull went to Moscow in October, and when I went to Cairo and Teheran in November, we knew that we were in agreement with our allies in our common determination to fight and win this war. But there were many vital questions concerning the future peace, and they were discussed in an atmosphere of complete candor and harmony.\\n\\nIn the last war such discussions, such meetings, did not even begin until the shooting had stopped and the delegates began to assemble at the peace table. There had been no previous opportunities for man-to-man discussions which lead to meetings of minds. The result was a peace which was not a peace. That was a mistake which we are not repeating in this war.\\n\\nAnd right here I want to address a word or two to some suspicious souls who are fearful that Mr. Hull or I have made \"commitments\" for the future which might pledge this Nation to secret treaties, or to enacting the role of Santa Claus.\\n\\nTo such suspicious souls—using a polite terminology—I wish to say that Mr. Churchill, and Marshal Stalin, and Generalissimo Chiang Kai-shek are all thoroughly conversant with the provisions of our Constitution. And so is Mr. Hull. And so am I.\\n\\nOf course we made some commitments. We most certainly committed ourselves to very large and very specific military plans which require the use of all Allied forces to bring about the defeat of our enemies at the earliest possible time.\\n\\nBut there were no secret treaties or political or financial commitments.', metadata={'source': 'langchain_with_python/some_data/FDR_State_of_Union_1944.txt'})"
      ]
     },
     "execution_count": 19,
     "metadata": {},
     "output_type": "execute_result"
    }
   ],
   "source": [
    "docs[0]"
   ]
  },
  {
   "cell_type": "code",
   "execution_count": 20,
   "id": "c7bc560a-0fe3-4f08-9f8d-8aafa18cbe18",
   "metadata": {},
   "outputs": [],
   "source": [
    "page_contents = [item.page_content for item in docs]"
   ]
  },
  {
   "cell_type": "markdown",
   "id": "343b54fb-159e-4bf8-ae0a-26c960df8701",
   "metadata": {},
   "source": []
  },
  {
   "cell_type": "code",
   "execution_count": 21,
   "id": "48934909-d081-45a6-9106-13e222446fa7",
   "metadata": {},
   "outputs": [],
   "source": [
    "embedding_function = OpenAIEmbeddings()"
   ]
  },
  {
   "cell_type": "code",
   "execution_count": 22,
   "id": "c197b73e-f00a-4409-aae8-db21dba354ac",
   "metadata": {},
   "outputs": [],
   "source": [
    "db = Chroma.from_documents(docs, embedding_function, persist_directory=\"./speech_new.db\")"
   ]
  },
  {
   "cell_type": "raw",
   "id": "3560d57b-efd9-49b0-a58d-7362d554e608",
   "metadata": {},
   "source": []
  },
  {
   "cell_type": "code",
   "execution_count": 23,
   "id": "36643df4-d037-4c09-bfba-281e5465bcd6",
   "metadata": {},
   "outputs": [],
   "source": [
    "db.persist()"
   ]
  },
  {
   "cell_type": "code",
   "execution_count": 24,
   "id": "def2c99a-dd93-4ab9-926f-cd6373b585c6",
   "metadata": {},
   "outputs": [],
   "source": [
    "db_new_connection = Chroma(persist_directory='./speech_new.db', embedding_function=embedding_function)"
   ]
  },
  {
   "cell_type": "code",
   "execution_count": 26,
   "id": "1e6bdd55-63c3-4dfb-9924-9736df1b56a5",
   "metadata": {},
   "outputs": [],
   "source": [
    "new_doc = \"What did FDR say about the cost of food law?\"\n",
    "new_doc2 = \"cost of food law, FDR\""
   ]
  },
  {
   "cell_type": "code",
   "execution_count": 27,
   "id": "671e2706-d166-426e-be72-b604c4e4e1cb",
   "metadata": {},
   "outputs": [],
   "source": [
    "similar_docs = db_new_connection.similarity_search(new_doc)"
   ]
  },
  {
   "cell_type": "code",
   "execution_count": 29,
   "id": "aaeadde4-651e-4bd8-9898-ce52f03e5339",
   "metadata": {},
   "outputs": [
    {
     "data": {
      "text/plain": [
       "Document(page_content='That is the way to fight and win a war—all out—and not with half-an-eye on the battlefronts abroad and the other eye-and-a-half on personal, selfish, or political interests here at home.\\n\\nTherefore, in order to concentrate all our energies and resources on winning the war, and to maintain a fair and stable economy at home, I recommend that the Congress adopt:\\n\\n(1) A realistic tax law—which will tax all unreasonable profits, both individual and corporate, and reduce the ultimate cost of the war to our sons and daughters. The tax bill now under consideration by the Congress does not begin to meet this test.\\n\\n(2) A continuation of the law for the renegotiation of war contracts—which will prevent exorbitant profits and assure fair prices to the Government. For two long years I have pleaded with the Congress to take undue profits out of war.\\n\\n(3) A cost of food law—which will enable the Government (a) to place a reasonable floor under the prices the farmer may expect for his production; and (b) to place a ceiling on the prices a consumer will have to pay for the food he buys. This should apply to necessities only; and will require public funds to carry out. It will cost in appropriations about one percent of the present annual cost of the war.\\n\\n(4) Early reenactment of. the stabilization statute of October, 1942. This expires June 30, 1944, and if it is not extended well in advance, the country might just as well expect price chaos by summer.\\n\\n(5) A national service law- which, for the duration of the war, will prevent strikes, and, with certain appropriate exceptions, will make available for war production or for any other essential services every able-bodied adult in this Nation.\\n\\nThese five measures together form a just and equitable whole. I would not recommend a national service law unless the other laws were passed to keep down the cost of living, to share equitably the burdens of taxation, to hold the stabilization line, and to prevent undue profits.\\n\\nThe Federal Government already has the basic power to draft capital and property of all kinds for war purposes on a basis of just compensation.', metadata={'source': 'langchain_with_python/some_data/FDR_State_of_Union_1944.txt'})"
      ]
     },
     "execution_count": 29,
     "metadata": {},
     "output_type": "execute_result"
    }
   ],
   "source": [
    "similar_docs[0]"
   ]
  },
  {
   "cell_type": "code",
   "execution_count": null,
   "id": "8f00ed42-8a89-4431-88f3-7d51cc42f1c7",
   "metadata": {},
   "outputs": [],
   "source": []
  },
  {
   "cell_type": "code",
   "execution_count": 30,
   "id": "385f3d20-3162-404b-bbc7-58e99c6ed5a6",
   "metadata": {},
   "outputs": [
    {
     "data": {
      "text/plain": [
       "'That is the way to fight and win a war—all out—and not with half-an-eye on the battlefronts abroad and the other eye-and-a-half on personal, selfish, or political interests here at home.\\n\\nTherefore, in order to concentrate all our energies and resources on winning the war, and to maintain a fair and stable economy at home, I recommend that the Congress adopt:\\n\\n(1) A realistic tax law—which will tax all unreasonable profits, both individual and corporate, and reduce the ultimate cost of the war to our sons and daughters. The tax bill now under consideration by the Congress does not begin to meet this test.\\n\\n(2) A continuation of the law for the renegotiation of war contracts—which will prevent exorbitant profits and assure fair prices to the Government. For two long years I have pleaded with the Congress to take undue profits out of war.\\n\\n(3) A cost of food law—which will enable the Government (a) to place a reasonable floor under the prices the farmer may expect for his production; and (b) to place a ceiling on the prices a consumer will have to pay for the food he buys. This should apply to necessities only; and will require public funds to carry out. It will cost in appropriations about one percent of the present annual cost of the war.\\n\\n(4) Early reenactment of. the stabilization statute of October, 1942. This expires June 30, 1944, and if it is not extended well in advance, the country might just as well expect price chaos by summer.\\n\\n(5) A national service law- which, for the duration of the war, will prevent strikes, and, with certain appropriate exceptions, will make available for war production or for any other essential services every able-bodied adult in this Nation.\\n\\nThese five measures together form a just and equitable whole. I would not recommend a national service law unless the other laws were passed to keep down the cost of living, to share equitably the burdens of taxation, to hold the stabilization line, and to prevent undue profits.\\n\\nThe Federal Government already has the basic power to draft capital and property of all kinds for war purposes on a basis of just compensation.'"
      ]
     },
     "execution_count": 30,
     "metadata": {},
     "output_type": "execute_result"
    }
   ],
   "source": [
    "similar_docs[0].page_content"
   ]
  },
  {
   "cell_type": "code",
   "execution_count": 38,
   "id": "8b54629f-0a63-4106-a859-6bb4c71c7259",
   "metadata": {},
   "outputs": [
    {
     "name": "stderr",
     "output_type": "stream",
     "text": [
      "Created a chunk of size 608, which is longer than the specified 500\n",
      "Created a chunk of size 539, which is longer than the specified 500\n",
      "Created a chunk of size 686, which is longer than the specified 500\n"
     ]
    }
   ],
   "source": [
    "text_loader2 = TextLoader('langchain_with_python/some_data/Lincoln_State_of_Union_1862.txt')\n",
    "documents2 = text_loader2.load()\n",
    "docs2 = text_splitter.split_documents(documents2)"
   ]
  },
  {
   "cell_type": "code",
   "execution_count": 39,
   "id": "f235c97b-1287-40da-a86a-15fbd8f4b70e",
   "metadata": {},
   "outputs": [],
   "source": [
    "db_new = Chroma.from_documents(docs2, embedding_function, persist_directory=\"./speech_new.db\")"
   ]
  },
  {
   "cell_type": "code",
   "execution_count": 40,
   "id": "4e0594ee-3907-49ea-bb08-7f9861a02a7e",
   "metadata": {},
   "outputs": [],
   "source": [
    "searched_data = db_new.similarity_search(\"slavery\")"
   ]
  },
  {
   "cell_type": "code",
   "execution_count": 41,
   "id": "33f3a2ad-0120-455e-bdfd-d85e59fe9898",
   "metadata": {},
   "outputs": [
    {
     "data": {
      "text/plain": [
       "Document(page_content='As to the second article, I think it would be impracticable to return to bondage the class of persons therein contemplated. Some of them, doubtless, in the property sense belong to loyal owners, and hence provision is made in this article for compensating such. The third article relates to the future of the freed people. It does not oblige, but merely authorizes Congress to aid in colonizing such as may consent. This ought not to be regarded as objectionable on the one hand or on the other, insomuch as it comes to nothing unless by the mutual consent of the people to be deported and the American voters, through their representatives in Congress.\\n\\nI can not make it better known than it already is that I strongly favor colonization; and yet I wish to say there is an objection urged against free colored persons remaining in the country which is largely imaginary, if not sometimes malicious.\\n\\nIt is insisted that their presence would injure and displace white labor and white laborers. If there ever could be a proper time for mere catch arguments, that time surely is not now. In times like the present men should utter nothing for which they would not willingly be responsible through time and in eternity. Is it true, then, that colored people can displace any more white labor by being free than by remaining slaves? If they stay in their old places, they jostle no white laborers; if they leave their old places, they leave them open to white laborers. Logically, there is neither more nor less of it. Emancipation, even without deportation, would probably enhance the wages of white labor, and very surely would not reduce them. Thus the customary amount of labor would still have to be performed—the freed people would surely not do more than their old proportion of it, and very probably for a time would do less, leaving an increased part to white laborers, bringing their labor into greater demand, and consequently enhancing the wages of it. With deportation, even to a limited extent, enhanced wages to white labor is mathematically certain. Labor is like any other commodity in the market—increase the demand for it and you increase the price of it. Reduce the supply of black labor by colonizing the black laborer out of the country, and by precisely so much you increase the demand for and wages of white labor.', metadata={'source': 'langchain_with_python/some_data/Lincoln_State_of_Union_1862.txt'})"
      ]
     },
     "execution_count": 41,
     "metadata": {},
     "output_type": "execute_result"
    }
   ],
   "source": [
    "searched_data[0]"
   ]
  },
  {
   "cell_type": "code",
   "execution_count": 35,
   "id": "c2f221bb-6b13-40d1-b712-6acf51beb8e6",
   "metadata": {},
   "outputs": [],
   "source": [
    "searched_data2 = db.similarity_search(\"slavery\")"
   ]
  },
  {
   "cell_type": "code",
   "execution_count": 36,
   "id": "368dd1be-1118-4a40-afda-53a078565304",
   "metadata": {},
   "outputs": [
    {
     "data": {
      "text/plain": [
       "Document(page_content='It is our duty now to begin to lay the plans and determine the strategy for the winning of a lasting peace and the establishment of an American standard of living higher than ever before known. We cannot be content, no matter how high that general standard of living may be, if some fraction of our people—whether it be one-third or one-fifth or one-tenth- is ill-fed, ill-clothed, ill housed, and insecure.\\n\\nThis Republic had its beginning, and grew to its present strength, under the protection of certain inalienable political rights—among them the right of free speech, free press, free worship, trial by jury, freedom from unreasonable searches and seizures. They were our rights to life and liberty.\\n\\nAs our Nation has grown in size and stature, however—as our industrial economy expanded—these political rights proved inadequate to assure us equality in the pursuit of happiness.\\n\\nWe have come to a clear realization of the fact that true individual freedom cannot exist without economic security and independence. \"Necessitous men are not free men.\" People who are hungry and out of a job are the stuff of which dictatorships are made.\\n\\nIn our day these economic truths have become accepted as self-evident. We have accepted, so to speak, a second Bill of Rights under which a new basis of security and prosperity can be established for all regardless of station, race, or creed.\\n\\nAmong these are:\\n\\nThe right to a useful and remunerative job in the industries or shops or farms or mines of the Nation;\\n\\nThe right to earn enough to provide adequate food and clothing and recreation;\\n\\nThe right of every farmer to raise and sell his products at a return which will give him and his family a decent living;\\n\\nThe right of every businessman, large and small, to trade in an atmosphere of freedom from unfair competition and domination by monopolies at home or abroad;\\n\\nThe right of every family to a decent home;\\n\\nThe right to adequate medical care and the opportunity to achieve and enjoy good health;\\n\\nThe right to adequate protection from the economic fears of old age, sickness, accident, and unemployment;\\n\\nThe right to a good education.\\n\\nAll of these rights spell security. And after this war is won we must be prepared to move forward, in the implementation of these rights, to new goals of human happiness and well-being.', metadata={'source': 'langchain_with_python/some_data/FDR_State_of_Union_1944.txt'})"
      ]
     },
     "execution_count": 36,
     "metadata": {},
     "output_type": "execute_result"
    }
   ],
   "source": [
    "searched_data2[0]"
   ]
  },
  {
   "cell_type": "markdown",
   "id": "2c2010bf-c277-467c-a6ae-76ac13335a39",
   "metadata": {},
   "source": [
    "## Vector store - Retrievers"
   ]
  },
  {
   "cell_type": "code",
   "execution_count": 43,
   "id": "4e577141-22eb-4576-a070-ba07d295878b",
   "metadata": {},
   "outputs": [
    {
     "data": {
      "text/plain": [
       "langchain_community.vectorstores.chroma.Chroma"
      ]
     },
     "execution_count": 43,
     "metadata": {},
     "output_type": "execute_result"
    }
   ],
   "source": [
    "type(db_new)"
   ]
  },
  {
   "cell_type": "code",
   "execution_count": 44,
   "id": "eaffeaba-ae2e-4ec5-b1fe-c09021a195c8",
   "metadata": {},
   "outputs": [],
   "source": [
    "retriever = db_new.as_retriever()"
   ]
  },
  {
   "cell_type": "code",
   "execution_count": 45,
   "id": "6025e415-201b-4c8b-9093-993e575dc8c2",
   "metadata": {},
   "outputs": [
    {
     "data": {
      "text/plain": [
       "langchain_core.vectorstores.VectorStoreRetriever"
      ]
     },
     "execution_count": 45,
     "metadata": {},
     "output_type": "execute_result"
    }
   ],
   "source": [
    "type(retriever)"
   ]
  },
  {
   "cell_type": "code",
   "execution_count": 48,
   "id": "0a81c89f-e170-4245-ad84-afc75df12c41",
   "metadata": {},
   "outputs": [
    {
     "name": "stdout",
     "output_type": "stream",
     "text": [
      "[Document(page_content='That is the way to fight and win a war—all out—and not with half-an-eye on the battlefronts abroad and the other eye-and-a-half on personal, selfish, or political interests here at home.\\n\\nTherefore, in order to concentrate all our energies and resources on winning the war, and to maintain a fair and stable economy at home, I recommend that the Congress adopt:\\n\\n(1) A realistic tax law—which will tax all unreasonable profits, both individual and corporate, and reduce the ultimate cost of the war to our sons and daughters. The tax bill now under consideration by the Congress does not begin to meet this test.\\n\\n(2) A continuation of the law for the renegotiation of war contracts—which will prevent exorbitant profits and assure fair prices to the Government. For two long years I have pleaded with the Congress to take undue profits out of war.\\n\\n(3) A cost of food law—which will enable the Government (a) to place a reasonable floor under the prices the farmer may expect for his production; and (b) to place a ceiling on the prices a consumer will have to pay for the food he buys. This should apply to necessities only; and will require public funds to carry out. It will cost in appropriations about one percent of the present annual cost of the war.\\n\\n(4) Early reenactment of. the stabilization statute of October, 1942. This expires June 30, 1944, and if it is not extended well in advance, the country might just as well expect price chaos by summer.\\n\\n(5) A national service law- which, for the duration of the war, will prevent strikes, and, with certain appropriate exceptions, will make available for war production or for any other essential services every able-bodied adult in this Nation.\\n\\nThese five measures together form a just and equitable whole. I would not recommend a national service law unless the other laws were passed to keep down the cost of living, to share equitably the burdens of taxation, to hold the stabilization line, and to prevent undue profits.\\n\\nThe Federal Government already has the basic power to draft capital and property of all kinds for war purposes on a basis of just compensation.', metadata={'source': 'langchain_with_python/some_data/FDR_State_of_Union_1944.txt'}), Document(page_content='That is the way to fight and win a war—all out—and not with half-an-eye on the battlefronts abroad and the other eye-and-a-half on personal, selfish, or political interests here at home.\\n\\nTherefore, in order to concentrate all our energies and resources on winning the war, and to maintain a fair and stable economy at home, I recommend that the Congress adopt:\\n\\n(1) A realistic tax law—which will tax all unreasonable profits, both individual and corporate, and reduce the ultimate cost of the war to our sons and daughters. The tax bill now under consideration by the Congress does not begin to meet this test.\\n\\n(2) A continuation of the law for the renegotiation of war contracts—which will prevent exorbitant profits and assure fair prices to the Government. For two long years I have pleaded with the Congress to take undue profits out of war.\\n\\n(3) A cost of food law—which will enable the Government (a) to place a reasonable floor under the prices the farmer may expect for his production; and (b) to place a ceiling on the prices a consumer will have to pay for the food he buys. This should apply to necessities only; and will require public funds to carry out. It will cost in appropriations about one percent of the present annual cost of the war.\\n\\n(4) Early reenactment of. the stabilization statute of October, 1942. This expires June 30, 1944, and if it is not extended well in advance, the country might just as well expect price chaos by summer.\\n\\n(5) A national service law- which, for the duration of the war, will prevent strikes, and, with certain appropriate exceptions, will make available for war production or for any other essential services every able-bodied adult in this Nation.\\n\\nThese five measures together form a just and equitable whole. I would not recommend a national service law unless the other laws were passed to keep down the cost of living, to share equitably the burdens of taxation, to hold the stabilization line, and to prevent undue profits.\\n\\nThe Federal Government already has the basic power to draft capital and property of all kinds for war purposes on a basis of just compensation.', metadata={'source': 'langchain_with_python/some_data/FDR_State_of_Union_1944.txt'}), Document(page_content='(4) Early reenactment of. the stabilization statute of October, 1942. This expires June 30, 1944, and if it is not extended well in advance, the country might just as well expect price chaos by summer.\\n\\n(5) A national service law- which, for the duration of the war, will prevent strikes, and, with certain appropriate exceptions, will make available for war production or for any other essential services every able-bodied adult in this Nation.\\n\\nThese five measures together form a just and equitable whole. I would not recommend a national service law unless the other laws were passed to keep down the cost of living, to share equitably the burdens of taxation, to hold the stabilization line, and to prevent undue profits.\\n\\nThe Federal Government already has the basic power to draft capital and property of all kinds for war purposes on a basis of just compensation.\\n\\nAs you know, I have for three years hesitated to recommend a national service act. Today, however, I am convinced of its necessity. Although I believe that we and our allies can win the war without such a measure, I am certain that nothing less than total mobilization of all our resources of manpower and capital will guarantee an earlier victory, and reduce the toll of suffering and sorrow and blood.\\n\\nI have received a joint recommendation for this law from the heads of the War Department, the Navy Department, and the Maritime Commission. These are the men who bear responsibility for the procurement of the necessary arms and equipment, and for the successful prosecution of the war in the field. They say:\\n\\n\"When the very life of the Nation is in peril the responsibility for service is common to all men and women. In such a time there can be no discrimination between the men and women who are assigned by the Government to its defense at the battlefront and the men and women assigned to producing the vital materials essential to successful military operations. A prompt enactment of a National Service Law would be merely an expression of the universality of this responsibility.\"\\n\\nI believe the country will agree that those statements are the solemn truth.\\n\\nNational service is the most democratic way to wage a war. Like selective service for the armed forces, it rests on the obligation of each citizen to serve his Nation to his utmost where he is best qualified.', metadata={'source': 'langchain_with_python/some_data/FDR_State_of_Union_1944.txt'}), Document(page_content='(4) Early reenactment of. the stabilization statute of October, 1942. This expires June 30, 1944, and if it is not extended well in advance, the country might just as well expect price chaos by summer.\\n\\n(5) A national service law- which, for the duration of the war, will prevent strikes, and, with certain appropriate exceptions, will make available for war production or for any other essential services every able-bodied adult in this Nation.\\n\\nThese five measures together form a just and equitable whole. I would not recommend a national service law unless the other laws were passed to keep down the cost of living, to share equitably the burdens of taxation, to hold the stabilization line, and to prevent undue profits.\\n\\nThe Federal Government already has the basic power to draft capital and property of all kinds for war purposes on a basis of just compensation.\\n\\nAs you know, I have for three years hesitated to recommend a national service act. Today, however, I am convinced of its necessity. Although I believe that we and our allies can win the war without such a measure, I am certain that nothing less than total mobilization of all our resources of manpower and capital will guarantee an earlier victory, and reduce the toll of suffering and sorrow and blood.\\n\\nI have received a joint recommendation for this law from the heads of the War Department, the Navy Department, and the Maritime Commission. These are the men who bear responsibility for the procurement of the necessary arms and equipment, and for the successful prosecution of the war in the field. They say:\\n\\n\"When the very life of the Nation is in peril the responsibility for service is common to all men and women. In such a time there can be no discrimination between the men and women who are assigned by the Government to its defense at the battlefront and the men and women assigned to producing the vital materials essential to successful military operations. A prompt enactment of a National Service Law would be merely an expression of the universality of this responsibility.\"\\n\\nI believe the country will agree that those statements are the solemn truth.\\n\\nNational service is the most democratic way to wage a war. Like selective service for the armed forces, it rests on the obligation of each citizen to serve his Nation to his utmost where he is best qualified.', metadata={'source': 'langchain_with_python/some_data/FDR_State_of_Union_1944.txt'})]\n"
     ]
    }
   ],
   "source": [
    "results = retriever.get_relevant_documents('cost of food law')\n",
    "print(results)"
   ]
  },
  {
   "cell_type": "code",
   "execution_count": null,
   "id": "16efd84d-d7f4-44ee-867c-b260f710ba42",
   "metadata": {},
   "outputs": [],
   "source": []
  },
  {
   "cell_type": "markdown",
   "id": "6b1fa08e-ced1-4298-9738-fac0c28a09f0",
   "metadata": {},
   "source": [
    "## MultiQuery Retriever"
   ]
  },
  {
   "cell_type": "code",
   "execution_count": 1,
   "id": "6a0c975f-2265-4d9f-bb25-d87d229008aa",
   "metadata": {},
   "outputs": [
    {
     "name": "stderr",
     "output_type": "stream",
     "text": [
      "/Users/ujjwal/codingpoint/pycourses/venvbook/lib/python3.11/site-packages/wikipedia/wikipedia.py:389: GuessedAtParserWarning: No parser was explicitly specified, so I'm using the best available HTML parser for this system (\"lxml\"). This usually isn't a problem, but if you run this code on another system, or in a different virtual environment, it may use a different parser and behave differently.\n",
      "\n",
      "The code that caused this warning is on line 389 of the file /Users/ujjwal/codingpoint/pycourses/venvbook/lib/python3.11/site-packages/wikipedia/wikipedia.py. To get rid of this warning, pass the additional argument 'features=\"lxml\"' to the BeautifulSoup constructor.\n",
      "\n",
      "  lis = BeautifulSoup(html).find_all('li')\n"
     ]
    }
   ],
   "source": [
    "from langchain.document_loaders import WikipediaLoader\n",
    "wiki_loader = WikipediaLoader(query=\"MKUltra\")\n",
    "documents = wiki_loader.load()"
   ]
  },
  {
   "cell_type": "code",
   "execution_count": 2,
   "id": "3e7c9774-6442-42bd-8655-4dfff3d3aa9d",
   "metadata": {},
   "outputs": [
    {
     "data": {
      "text/plain": [
       "24"
      ]
     },
     "execution_count": 2,
     "metadata": {},
     "output_type": "execute_result"
    }
   ],
   "source": [
    "len(documents)"
   ]
  },
  {
   "cell_type": "code",
   "execution_count": 3,
   "id": "6d3e77ff-a169-4bfb-bb7b-fa768ef17d8e",
   "metadata": {},
   "outputs": [
    {
     "name": "stderr",
     "output_type": "stream",
     "text": [
      "Created a chunk of size 525, which is longer than the specified 500\n",
      "Created a chunk of size 501, which is longer than the specified 500\n"
     ]
    }
   ],
   "source": [
    "from langchain.text_splitter import CharacterTextSplitter\n",
    "text_splitter = CharacterTextSplitter.from_tiktoken_encoder(chunk_size=500)\n",
    "docs = text_splitter.split_documents(documents)"
   ]
  },
  {
   "cell_type": "code",
   "execution_count": 4,
   "id": "33f34869-0607-4cf4-a2b6-2cad89059ff9",
   "metadata": {},
   "outputs": [
    {
     "data": {
      "text/plain": [
       "50"
      ]
     },
     "execution_count": 4,
     "metadata": {},
     "output_type": "execute_result"
    }
   ],
   "source": [
    "len(docs)"
   ]
  },
  {
   "cell_type": "code",
   "execution_count": null,
   "id": "38af6e62-c534-4122-9119-0b054e1875dd",
   "metadata": {},
   "outputs": [],
   "source": []
  },
  {
   "cell_type": "code",
   "execution_count": 6,
   "id": "f996110f-ea32-4864-ba1e-12c0ebd9a6e9",
   "metadata": {},
   "outputs": [
    {
     "data": {
      "text/plain": [
       "True"
      ]
     },
     "execution_count": 6,
     "metadata": {},
     "output_type": "execute_result"
    }
   ],
   "source": [
    "from dotenv import load_dotenv\n",
    "load_dotenv()"
   ]
  },
  {
   "cell_type": "code",
   "execution_count": 7,
   "id": "cc4826a0-0c61-4028-8d0d-8e00f1387928",
   "metadata": {},
   "outputs": [],
   "source": [
    "from langchain.embeddings import OpenAIEmbeddings\n",
    "embedding_function = OpenAIEmbeddings()"
   ]
  },
  {
   "cell_type": "code",
   "execution_count": 8,
   "id": "cbabbe96-0b07-463f-93b8-ac8dd899aafd",
   "metadata": {},
   "outputs": [],
   "source": [
    "from langchain.vectorstores import Chroma"
   ]
  },
  {
   "cell_type": "code",
   "execution_count": 11,
   "id": "5acdc184-a5dc-41c0-b088-014dcf454b6d",
   "metadata": {},
   "outputs": [
    {
     "name": "stderr",
     "output_type": "stream",
     "text": [
      "/Users/ujjwal/codingpoint/pycourses/venvbook/lib/python3.11/site-packages/langchain_core/_api/deprecation.py:139: LangChainDeprecationWarning: Since Chroma 0.4.x the manual persistence method is no longer supported as docs are automatically persisted.\n",
      "  warn_deprecated(\n"
     ]
    }
   ],
   "source": [
    "db  = Chroma.from_documents(docs, embedding_function, persist_directory=\"./langchain_with_python/mkultra.db\")"
   ]
  },
  {
   "cell_type": "code",
   "execution_count": 12,
   "id": "c71875ef-05d1-4379-a6f8-4a722af81a16",
   "metadata": {},
   "outputs": [],
   "source": [
    "from langchain.retrievers.multi_query import MultiQueryRetriever\n",
    "from langchain_openai import ChatOpenAI"
   ]
  },
  {
   "cell_type": "code",
   "execution_count": 13,
   "id": "d025ada7-70df-4c73-ae59-bff6a69fada6",
   "metadata": {},
   "outputs": [],
   "source": [
    "question = \"When was this declassified?\""
   ]
  },
  {
   "cell_type": "code",
   "execution_count": 14,
   "id": "f8b54072-c50e-487b-b484-67dccd0cec2f",
   "metadata": {},
   "outputs": [],
   "source": [
    "chat = ChatOpenAI()"
   ]
  },
  {
   "cell_type": "code",
   "execution_count": 15,
   "id": "879ddabe-8796-41c3-ae5e-754522a463e5",
   "metadata": {},
   "outputs": [],
   "source": [
    "retriever_from_chat = MultiQueryRetriever.from_llm(retriever=db.as_retriever(), llm=chat)"
   ]
  },
  {
   "cell_type": "code",
   "execution_count": 23,
   "id": "c9a5a59d-28bd-4b5b-93db-cd688d0aff61",
   "metadata": {},
   "outputs": [],
   "source": [
    "import logging \n",
    "logging.basicConfig()\n",
    "logging.getLogger('langchain.retrievers.multi_query').setLevel(logging.DEBUG)"
   ]
  },
  {
   "cell_type": "code",
   "execution_count": 24,
   "id": "1e7690f9-bac3-41f3-a5c6-51e8fc9a6716",
   "metadata": {},
   "outputs": [
    {
     "name": "stderr",
     "output_type": "stream",
     "text": [
      "INFO:langchain.retrievers.multi_query:Generated queries: ['1. What is the date of the declassification of this information?', '2. Can you provide the timeline for when this was declassified?', '3. At what point in time was this information made public?']\n"
     ]
    }
   ],
   "source": [
    "unique_docs = retriever_from_chat.invoke(question)"
   ]
  },
  {
   "cell_type": "code",
   "execution_count": 25,
   "id": "ff28ec65-2502-40f9-97db-6fc8a9cf6992",
   "metadata": {},
   "outputs": [
    {
     "data": {
      "text/plain": [
       "3"
      ]
     },
     "execution_count": 25,
     "metadata": {},
     "output_type": "execute_result"
    }
   ],
   "source": [
    "len(unique_docs)"
   ]
  },
  {
   "cell_type": "code",
   "execution_count": 26,
   "id": "03995de6-36fb-4f6b-b242-2e3d0b6925f1",
   "metadata": {},
   "outputs": [
    {
     "name": "stdout",
     "output_type": "stream",
     "text": [
      "== Background ==\n",
      "In 1974, a New York Times article was published that accused the CIA of illegal operations committed against US citizens. Authored by Seymour M. Hersh, it documented an intelligence operation against the anti-war movement, as well as \"break-ins, wiretapping and the surreptitious inspection of mail\" conducted since the 1950s. According to former CIA Official Cord Meyer, these disclosures \"Convinced large sections of the American public that the CIA had become a domestic Gestapo and stimulated an overwhelming demand for the wide-ranging congressional investigations that were to follow.\"\n",
      "Hersh had been tipped off to the possibility of an \"in house operation\" by an unidentified member of the CIA in spring of 1974. He embarked on an investigation, speaking to sources that included CIA Chief of Counterintelligence James Angleton. Although he was not aware of its existence, Hersh uncovered much information that had been documented in the \"Family Jewels\", a report ordered by Director of Central Intelligence William Colby that chronicled CIA abuses over the past 25 years. The report would not be formally revealed to the public until 2007.\n",
      "\n",
      "\n",
      "=== Monitoring of anti-war movement and Project MINARET ===\n",
      "\n",
      "The article alleged that CIA agents had followed and photographed participants in the antiwar movement, as well as other demonstrations. It also reported that the CIA \"set up a network of informants who were ordered to penetrate antiwar groups\", and even placed an avowedly anti-war congressperson under surveillance while putting other lawmakers in a dossier on dissident Americans.\n",
      "Instituted in 1967 by the NSA, Project MINARET's purpose was to document \"Soviet, Chinese, and North Vietnamese influence over the militant civil rights and anti–Vietnam War movements\" for the CIA and FBI, according to historian Donald Critchlow. The NSA provided CIA and FBI officials  with reports of intercepted international communications by certain individuals in these movements. NSA officials stipulated that FBI and CIA agents must destroy or return these reports within two weeks of receiving them. The NSA also required that \"the reports not be 'identified with the National Security Agency' and that all records relating to this program were 'not serialize[d]' or filed with other NSA records, were classified 'Top Secret,' and were stamped 'Background Use Only'... because\n"
     ]
    }
   ],
   "source": [
    "print(unique_docs[0].page_content)"
   ]
  },
  {
   "cell_type": "code",
   "execution_count": 28,
   "id": "09912851-3c84-4d27-898d-6ff36cfea700",
   "metadata": {},
   "outputs": [],
   "source": [
    "chat0 = ChatOpenAI(temperature=0)\n",
    "retriever_from_chat0 = MultiQueryRetriever.from_llm(retriever=db.as_retriever(), llm=chat0)"
   ]
  },
  {
   "cell_type": "code",
   "execution_count": 29,
   "id": "965f8301-b3c5-49ee-af9e-e0ff3cf92302",
   "metadata": {},
   "outputs": [
    {
     "name": "stderr",
     "output_type": "stream",
     "text": [
      "INFO:langchain.retrievers.multi_query:Generated queries: ['1. What is the date of the declassification of this information?', '2. Can you provide the timeline for when this was declassified?', '3. At what point in time was this information made public?']\n"
     ]
    }
   ],
   "source": [
    "unique_docs0 = retriever_from_chat0.invoke(question)"
   ]
  },
  {
   "cell_type": "code",
   "execution_count": 30,
   "id": "935e50b5-880e-4ff4-a9ac-c23e91d54a1c",
   "metadata": {},
   "outputs": [
    {
     "name": "stdout",
     "output_type": "stream",
     "text": [
      "== Background ==\n",
      "In 1974, a New York Times article was published that accused the CIA of illegal operations committed against US citizens. Authored by Seymour M. Hersh, it documented an intelligence operation against the anti-war movement, as well as \"break-ins, wiretapping and the surreptitious inspection of mail\" conducted since the 1950s. According to former CIA Official Cord Meyer, these disclosures \"Convinced large sections of the American public that the CIA had become a domestic Gestapo and stimulated an overwhelming demand for the wide-ranging congressional investigations that were to follow.\"\n",
      "Hersh had been tipped off to the possibility of an \"in house operation\" by an unidentified member of the CIA in spring of 1974. He embarked on an investigation, speaking to sources that included CIA Chief of Counterintelligence James Angleton. Although he was not aware of its existence, Hersh uncovered much information that had been documented in the \"Family Jewels\", a report ordered by Director of Central Intelligence William Colby that chronicled CIA abuses over the past 25 years. The report would not be formally revealed to the public until 2007.\n",
      "\n",
      "\n",
      "=== Monitoring of anti-war movement and Project MINARET ===\n",
      "\n",
      "The article alleged that CIA agents had followed and photographed participants in the antiwar movement, as well as other demonstrations. It also reported that the CIA \"set up a network of informants who were ordered to penetrate antiwar groups\", and even placed an avowedly anti-war congressperson under surveillance while putting other lawmakers in a dossier on dissident Americans.\n",
      "Instituted in 1967 by the NSA, Project MINARET's purpose was to document \"Soviet, Chinese, and North Vietnamese influence over the militant civil rights and anti–Vietnam War movements\" for the CIA and FBI, according to historian Donald Critchlow. The NSA provided CIA and FBI officials  with reports of intercepted international communications by certain individuals in these movements. NSA officials stipulated that FBI and CIA agents must destroy or return these reports within two weeks of receiving them. The NSA also required that \"the reports not be 'identified with the National Security Agency' and that all records relating to this program were 'not serialize[d]' or filed with other NSA records, were classified 'Top Secret,' and were stamped 'Background Use Only'... because\n"
     ]
    }
   ],
   "source": [
    "print(unique_docs0[0].page_content)"
   ]
  },
  {
   "cell_type": "code",
   "execution_count": null,
   "id": "d71e1921-21d4-4f1d-8320-45d2af01cfbb",
   "metadata": {},
   "outputs": [],
   "source": []
  },
  {
   "cell_type": "markdown",
   "id": "921f5e0d-63cc-499a-8c3b-e34c292a65d2",
   "metadata": {},
   "source": [
    "## Context Compression"
   ]
  },
  {
   "cell_type": "code",
   "execution_count": null,
   "id": "be283a87-2df1-4d0f-9322-e920012ba6df",
   "metadata": {},
   "outputs": [],
   "source": []
  },
  {
   "cell_type": "code",
   "execution_count": 31,
   "id": "9151ff7c-151c-4200-8240-89974a45a153",
   "metadata": {},
   "outputs": [],
   "source": [
    "from langchain.vectorstores import Chroma\n",
    "from langchain.document_loaders import WikipediaLoader\n",
    "from langchain.embeddings import OpenAIEmbeddings\n",
    "from langchain.text_splitter import CharacterTextSplitter"
   ]
  },
  {
   "cell_type": "code",
   "execution_count": null,
   "id": "5a957472-65d4-4604-8362-667733fc5222",
   "metadata": {},
   "outputs": [],
   "source": []
  },
  {
   "cell_type": "code",
   "execution_count": null,
   "id": "0681405a-7acb-4d7f-a73a-7bbfbad17259",
   "metadata": {},
   "outputs": [],
   "source": []
  },
  {
   "cell_type": "code",
   "execution_count": null,
   "id": "d8874840-7092-4e8d-abda-7f57e44f53db",
   "metadata": {},
   "outputs": [],
   "source": []
  },
  {
   "cell_type": "code",
   "execution_count": null,
   "id": "677c82cf-ac81-4ecd-b550-dc4368802e8a",
   "metadata": {},
   "outputs": [],
   "source": []
  },
  {
   "cell_type": "code",
   "execution_count": 32,
   "id": "c389736a-2b03-46ea-a08b-83f7d1183b58",
   "metadata": {},
   "outputs": [
    {
     "data": {
      "text/plain": [
       "True"
      ]
     },
     "execution_count": 32,
     "metadata": {},
     "output_type": "execute_result"
    }
   ],
   "source": [
    "from dotenv import load_dotenv\n",
    "load_dotenv()"
   ]
  },
  {
   "cell_type": "code",
   "execution_count": 58,
   "id": "85772c14-0d00-4109-b634-29f56df91c33",
   "metadata": {},
   "outputs": [],
   "source": [
    "embedding_function = OpenAIEmbeddings()\n",
    "db_conn = Chroma(persist_directory='./langchain_with_python/mkultra.db', embedding_function=embedding_function)"
   ]
  },
  {
   "cell_type": "code",
   "execution_count": 37,
   "id": "5c8c469e-0b36-41ff-9d81-a29af4394fee",
   "metadata": {},
   "outputs": [],
   "source": [
    "from langchain_openai import ChatOpenAI\n",
    "from langchain.retrievers import ContextualCompressionRetriever\n",
    "from langchain.retrievers.document_compressors import LLMChainExtractor"
   ]
  },
  {
   "cell_type": "code",
   "execution_count": 38,
   "id": "96e3a2f1-d43c-4d76-ae0a-54cbacc26b1f",
   "metadata": {},
   "outputs": [],
   "source": [
    "# llm use compression\n",
    "# llm -> llmchainextractor\n",
    "# contextual compression"
   ]
  },
  {
   "cell_type": "code",
   "execution_count": 39,
   "id": "fd10c10a-4d5b-42a9-8925-67736f558ec4",
   "metadata": {},
   "outputs": [],
   "source": [
    "llm = ChatOpenAI(temperature=0)\n",
    "compressor = LLMChainExtractor.from_llm(llm)\n"
   ]
  },
  {
   "cell_type": "code",
   "execution_count": 59,
   "id": "27984ff0-484f-404b-9449-e6b326041ac1",
   "metadata": {},
   "outputs": [],
   "source": [
    "compression_retriever = ContextualCompressionRetriever(base_compressor=compressor, \n",
    "                                                       base_retriever=db_conn.as_retriever())"
   ]
  },
  {
   "cell_type": "code",
   "execution_count": 60,
   "id": "b3d09752-4704-49c5-b932-08267097ee87",
   "metadata": {},
   "outputs": [],
   "source": [
    "docs = db_conn.similarity_search('When was this declassified?')"
   ]
  },
  {
   "cell_type": "code",
   "execution_count": 63,
   "id": "6113514e-c84e-4c9b-9ebc-bf1f26d96b29",
   "metadata": {},
   "outputs": [
    {
     "name": "stdout",
     "output_type": "stream",
     "text": [
      "== Background ==\n",
      "In 1974, a New York Times article was published that accused the CIA of illegal operations committed against US citizens. Authored by Seymour M. Hersh, it documented an intelligence operation against the anti-war movement, as well as \"break-ins, wiretapping and the surreptitious inspection of mail\" conducted since the 1950s. According to former CIA Official Cord Meyer, these disclosures \"Convinced large sections of the American public that the CIA had become a domestic Gestapo and stimulated an overwhelming demand for the wide-ranging congressional investigations that were to follow.\"\n",
      "Hersh had been tipped off to the possibility of an \"in house operation\" by an unidentified member of the CIA in spring of 1974. He embarked on an investigation, speaking to sources that included CIA Chief of Counterintelligence James Angleton. Although he was not aware of its existence, Hersh uncovered much information that had been documented in the \"Family Jewels\", a report ordered by Director of Central Intelligence William Colby that chronicled CIA abuses over the past 25 years. The report would not be formally revealed to the public until 2007.\n",
      "\n",
      "\n",
      "=== Monitoring of anti-war movement and Project MINARET ===\n",
      "\n",
      "The article alleged that CIA agents had followed and photographed participants in the antiwar movement, as well as other demonstrations. It also reported that the CIA \"set up a network of informants who were ordered to penetrate antiwar groups\", and even placed an avowedly anti-war congressperson under surveillance while putting other lawmakers in a dossier on dissident Americans.\n",
      "Instituted in 1967 by the NSA, Project MINARET's purpose was to document \"Soviet, Chinese, and North Vietnamese influence over the militant civil rights and anti–Vietnam War movements\" for the CIA and FBI, according to historian Donald Critchlow. The NSA provided CIA and FBI officials  with reports of intercepted international communications by certain individuals in these movements. NSA officials stipulated that FBI and CIA agents must destroy or return these reports within two weeks of receiving them. The NSA also required that \"the reports not be 'identified with the National Security Agency' and that all records relating to this program were 'not serialize[d]' or filed with other NSA records, were classified 'Top Secret,' and were stamped 'Background Use Only'... because\n"
     ]
    }
   ],
   "source": [
    "print(docs[0].page_content)"
   ]
  },
  {
   "cell_type": "code",
   "execution_count": 64,
   "id": "3cf4dfd1-621c-4dea-acd1-faec277f29f8",
   "metadata": {},
   "outputs": [],
   "source": [
    "compressed_docs = compression_retriever.invoke(\"when was this declassified?\")"
   ]
  },
  {
   "cell_type": "code",
   "execution_count": 65,
   "id": "09ae5c46-a6a2-49be-9752-63a8506e709c",
   "metadata": {},
   "outputs": [
    {
     "data": {
      "text/plain": [
       "Document(page_content='1974', metadata={'source': 'https://en.wikipedia.org/wiki/United_States_President%27s_Commission_on_CIA_Activities_within_the_United_States', 'summary': 'The United States President\\'s Commission on CIA Activities within the United States was ordained by President Gerald Ford in 1975 to investigate the activities of the Central Intelligence Agency and other intelligence agencies within the United States. The Presidential Commission was led by Vice President Nelson Rockefeller, from whom it gained the nickname the Rockefeller Commission.\\nThe commission was created in response to a December 1974 report in The New York Times that the CIA had conducted illegal domestic activities, including experiments on US citizens, during the 1960s. The commission issued a single report in 1975, touching upon certain CIA abuses including mail opening and surveillance of domestic dissident groups. It also publicized Project MKUltra, a CIA mind control research program.\\nSeveral weeks later, committees were established in the House and Senate for a similar purpose. White House Personnel, including future Vice President Dick Cheney, edited the results, excluding many of the commission\\'s findings from the final report. Some of these findings were included in later reports by the Congressional Committees.\\nBefore it was even released, the report faced scrutiny from the media, and was deemed a \"whitewash.\" The investigation was intended to be independent of Presidential interference, but the findings and recommendations included in the final report were highly altered from what was chosen by the commission itself. It was ultimately superseded in notability by the more substantial Church Committee in what became known as the \"Year of Intelligence.\"   \\n\\n', 'title': \"United States President's Commission on CIA Activities within the United States\"})"
      ]
     },
     "execution_count": 65,
     "metadata": {},
     "output_type": "execute_result"
    }
   ],
   "source": [
    "compressed_docs[0]"
   ]
  },
  {
   "cell_type": "code",
   "execution_count": 68,
   "id": "fadf9711-7f3d-480b-a3a4-b980cfb0100d",
   "metadata": {},
   "outputs": [
    {
     "name": "stdout",
     "output_type": "stream",
     "text": [
      "The United States President's Commission on CIA Activities within the United States was ordained by President Gerald Ford in 1975 to investigate the activities of the Central Intelligence Agency and other intelligence agencies within the United States. The Presidential Commission was led by Vice President Nelson Rockefeller, from whom it gained the nickname the Rockefeller Commission.\n",
      "The commission was created in response to a December 1974 report in The New York Times that the CIA had conducted illegal domestic activities, including experiments on US citizens, during the 1960s. The commission issued a single report in 1975, touching upon certain CIA abuses including mail opening and surveillance of domestic dissident groups. It also publicized Project MKUltra, a CIA mind control research program.\n",
      "Several weeks later, committees were established in the House and Senate for a similar purpose. White House Personnel, including future Vice President Dick Cheney, edited the results, excluding many of the commission's findings from the final report. Some of these findings were included in later reports by the Congressional Committees.\n",
      "Before it was even released, the report faced scrutiny from the media, and was deemed a \"whitewash.\" The investigation was intended to be independent of Presidential interference, but the findings and recommendations included in the final report were highly altered from what was chosen by the commission itself. It was ultimately superseded in notability by the more substantial Church Committee in what became known as the \"Year of Intelligence.\"   \n",
      "\n",
      "\n"
     ]
    }
   ],
   "source": [
    "print(compressed_docs[0].metadata['summary'])"
   ]
  },
  {
   "cell_type": "code",
   "execution_count": 70,
   "id": "9358ab59-777f-4eeb-a9ab-c1b5cb84c8c1",
   "metadata": {},
   "outputs": [
    {
     "data": {
      "text/plain": [
       "3"
      ]
     },
     "execution_count": 70,
     "metadata": {},
     "output_type": "execute_result"
    }
   ],
   "source": [
    "len(compressed_docs)"
   ]
  },
  {
   "cell_type": "code",
   "execution_count": null,
   "id": "c6786f98-b95a-4072-a110-59f0a581b93f",
   "metadata": {},
   "outputs": [],
   "source": []
  }
 ],
 "metadata": {
  "kernelspec": {
   "display_name": "Python 3 (ipykernel)",
   "language": "python",
   "name": "python3"
  },
  "language_info": {
   "codemirror_mode": {
    "name": "ipython",
    "version": 3
   },
   "file_extension": ".py",
   "mimetype": "text/x-python",
   "name": "python",
   "nbconvert_exporter": "python",
   "pygments_lexer": "ipython3",
   "version": "3.11.9"
  }
 },
 "nbformat": 4,
 "nbformat_minor": 5
}
