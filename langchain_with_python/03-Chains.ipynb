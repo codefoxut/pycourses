{
 "cells": [
  {
   "cell_type": "markdown",
   "id": "57955d20-5b75-42f8-ae7d-66e7970c1564",
   "metadata": {},
   "source": [
    "# LLMChain Object"
   ]
  },
  {
   "cell_type": "code",
   "execution_count": 1,
   "id": "7baba0f3-095c-49ce-bf61-e52c3bdfcd57",
   "metadata": {},
   "outputs": [],
   "source": [
    "from langchain_openai import AzureChatOpenAI\n",
    "from langchain.prompts import ChatPromptTemplate, HumanMessagePromptTemplate, SystemMessagePromptTemplate"
   ]
  },
  {
   "cell_type": "code",
   "execution_count": 4,
   "id": "3613f50b-a38b-42ef-b33b-ec7a61c1619b",
   "metadata": {},
   "outputs": [],
   "source": [
    "import os\n",
    "from dotenv import load_dotenv\n",
    "load_dotenv()\n",
    "deployment_name = os.environ[\"DEPLOYMENT_NAME\"]"
   ]
  },
  {
   "cell_type": "code",
   "execution_count": 2,
   "id": "b3bdb7c7-0168-4d7d-abdf-5364e0b157b6",
   "metadata": {},
   "outputs": [],
   "source": [
    "human_prompt = HumanMessagePromptTemplate.from_template(\"Make up a funny company name that makes: {product}\")"
   ]
  },
  {
   "cell_type": "code",
   "execution_count": 5,
   "id": "c0e1ad48-cbeb-4bcc-b91a-d3aec286191f",
   "metadata": {},
   "outputs": [],
   "source": [
    "chat_prompt = ChatPromptTemplate.from_messages([human_prompt])\n",
    "chat = AzureChatOpenAI(deployment_name=deployment_name)"
   ]
  },
  {
   "cell_type": "code",
   "execution_count": 6,
   "id": "410b035d-eaba-4f8b-9b32-029a23b5eff6",
   "metadata": {},
   "outputs": [],
   "source": [
    "result = chat.invoke(chat_prompt.format_prompt(product=\"soft toys\").to_messages())"
   ]
  },
  {
   "cell_type": "code",
   "execution_count": 7,
   "id": "28c774d2-9a63-4d69-bdc0-6672e842aef3",
   "metadata": {},
   "outputs": [
    {
     "data": {
      "text/plain": [
       "'\"Cuddle Muddle Plush Emporium\"'"
      ]
     },
     "execution_count": 7,
     "metadata": {},
     "output_type": "execute_result"
    }
   ],
   "source": [
    "result.content"
   ]
  },
  {
   "cell_type": "code",
   "execution_count": 8,
   "id": "47404fb5-9d77-4ef8-8c36-dbae0c8ca795",
   "metadata": {},
   "outputs": [],
   "source": [
    "from langchain.chains import LLMChain"
   ]
  },
  {
   "cell_type": "code",
   "execution_count": 9,
   "id": "918d644a-9a0f-4e34-858e-6c5da526a76d",
   "metadata": {},
   "outputs": [],
   "source": [
    "chain = LLMChain(llm=chat, prompt=chat_prompt)"
   ]
  },
  {
   "cell_type": "code",
   "execution_count": 10,
   "id": "9404ec61-5ef1-4597-ad7a-7f08a23fe56e",
   "metadata": {},
   "outputs": [],
   "source": [
    "result2 = chain.run(product='Computers')"
   ]
  },
  {
   "cell_type": "code",
   "execution_count": 11,
   "id": "825aca42-8695-4ecf-aeac-9e915035cb98",
   "metadata": {},
   "outputs": [
    {
     "data": {
      "text/plain": [
       "'\"Byte My Chip Computing Co.\"'"
      ]
     },
     "execution_count": 11,
     "metadata": {},
     "output_type": "execute_result"
    }
   ],
   "source": [
    "result2"
   ]
  },
  {
   "cell_type": "code",
   "execution_count": null,
   "id": "f44bc3ed-5cd4-4c07-a8e7-96d6bf2e0882",
   "metadata": {},
   "outputs": [],
   "source": []
  },
  {
   "cell_type": "markdown",
   "id": "83cb1239-cd6c-492b-a36f-736e242b55f5",
   "metadata": {},
   "source": [
    "## Simple Sequential Chain"
   ]
  },
  {
   "cell_type": "code",
   "execution_count": 1,
   "id": "c7fa7778-8fbe-40ff-9147-b89209d16bb8",
   "metadata": {},
   "outputs": [],
   "source": [
    "import os\n",
    "from dotenv import load_dotenv\n",
    "load_dotenv()\n",
    "deployment_name = os.environ[\"DEPLOYMENT_NAME\"]"
   ]
  },
  {
   "cell_type": "code",
   "execution_count": 2,
   "id": "4b6f278e-e477-42ad-af5f-3d67c7d1d1df",
   "metadata": {},
   "outputs": [],
   "source": [
    "from langchain_openai import AzureChatOpenAI\n",
    "from langchain.prompts import ChatPromptTemplate, HumanMessagePromptTemplate, SystemMessagePromptTemplate"
   ]
  },
  {
   "cell_type": "code",
   "execution_count": 3,
   "id": "31810852-4a87-4f5d-8e8f-4a74fb3df214",
   "metadata": {},
   "outputs": [],
   "source": [
    "from langchain.chains import LLMChain, SimpleSequentialChain"
   ]
  },
  {
   "cell_type": "code",
   "execution_count": 4,
   "id": "56daa4cc-7062-4d2e-a47b-20e3c563d0fb",
   "metadata": {},
   "outputs": [],
   "source": [
    "llm = AzureChatOpenAI(deployment_name=deployment_name)"
   ]
  },
  {
   "cell_type": "code",
   "execution_count": 5,
   "id": "baaa22ee-455f-44bf-9178-eb98fe9a391d",
   "metadata": {},
   "outputs": [],
   "source": [
    "# topic bloc post --> [[outline --> create blog post from outline ]]--> Blog Post Text."
   ]
  },
  {
   "cell_type": "code",
   "execution_count": 14,
   "id": "a9d1b625-99ad-4ab5-bdf8-9eed490d194e",
   "metadata": {},
   "outputs": [],
   "source": [
    "template = \"Give me a simple bullet point outline for a blog post on {topic}\"\n",
    "first_prompt = ChatPromptTemplate.from_template(template)\n",
    "chain_one = first_prompt | llm"
   ]
  },
  {
   "cell_type": "code",
   "execution_count": 15,
   "id": "7fdecf21-0599-4ebf-ab4b-f601e6f92e7b",
   "metadata": {},
   "outputs": [],
   "source": [
    "template2 = \"Write a blog post using this outline {outline}\"\n",
    "second_prompt = ChatPromptTemplate.from_template(template2)\n",
    "chain_two = second_prompt | llm"
   ]
  },
  {
   "cell_type": "code",
   "execution_count": 8,
   "id": "2d846fe7-570e-4f2c-a40c-5af51dc7b76e",
   "metadata": {},
   "outputs": [],
   "source": [
    "full_chain = SimpleSequentialChain(chains=[chain_one, chain_two], verbose=True)"
   ]
  },
  {
   "cell_type": "code",
   "execution_count": 16,
   "id": "d84cfde4-cff2-4a34-9d67-f12b1f8bc5bd",
   "metadata": {},
   "outputs": [],
   "source": [
    "full_chain = chain_one|chain_two"
   ]
  },
  {
   "cell_type": "code",
   "execution_count": 17,
   "id": "06489489-4113-4f70-9b7f-ac32b482677d",
   "metadata": {},
   "outputs": [],
   "source": [
    "result = full_chain.invoke(\"Cheesecake\")"
   ]
  },
  {
   "cell_type": "code",
   "execution_count": 18,
   "id": "3fe6fa2d-98b9-48a3-887e-d7461f7f5d43",
   "metadata": {},
   "outputs": [
    {
     "name": "stdout",
     "output_type": "stream",
     "text": [
      "Title: The Cheesecake Chronicles: A Journey from Classic to Contemporary\n",
      "\n",
      "Introduction\n",
      "The humble cheesecake, with its rich history and creamy texture, has captured the hearts of dessert lovers across the globe. From its ancient Greek origins to the diverse varieties savored today, cheesecake has evolved into a culinary chameleon, adaptable to countless flavors and styles. Its widespread popularity is a testament to its versatility and the joy it brings to tables around the world.\n",
      "\n",
      "The Basics of Cheesecake\n",
      "At its core, cheesecake is a symphony of simplicity and indulgence. Comprising mainly cream cheese, sugar, eggs, and a crust, it's a dessert that transcends cultural boundaries. There are primarily two camps: the velvety, oven-embraced baked cheesecakes, and the chilled, carefree no-bake versions. Each has its own legion of devotees, and rightfully so.\n",
      "\n",
      "Crust Variations\n",
      "The foundation of any cheesecake, the crust, sets the stage for the luscious filling. While the classic graham cracker base remains a favorite, the cookie crumb variations, including Oreo and shortbread, have their own fanfare. For those seeking a healthier or gluten-free alternative, nut-based crusts have risen in popularity, offering a delightful crunch and inherent richness.\n",
      "\n",
      "Cheesecake Fillings\n",
      "The star of the show, cream cheese, provides that quintessential cheesecake richness, but it's not the only option. Mascarpone, ricotta, and even tofu have found their way into experimental fillings. Flavor profiles range from the purity of vanilla to the decadence of chocolate, and the burst of various fruits. The texture, too, is a personal choice—some prefer their cheesecake smooth and creamy, while others opt for a denser and richer experience.\n",
      "\n",
      "Baking Techniques\n",
      "Achieving that perfect cheesecake bake is an art form. It involves precision—a delicate balance of temperature and timing. The dreaded cracks and the feared overbake are common foes of the cheesecake connoisseur, but with the right tips and a gentle touch, these can be vanquished, leaving you with a flawless finish.\n",
      "\n",
      "Toppings and Presentation\n",
      "The final flourish of a cheesecake comes with its toppings and presentation. Fruit toppings add a tart contrast to the sweet base, whether they're fresh, set in a compote, or glazed to perfection. Whipped cream, mousse, and ganache provide layers of texture, while chocolate shavings or cookie crumbs can offer an elegant decorative touch.\n",
      "\n",
      "Serving and Storage\n",
      "Serving a cheesecake is an occasion in itself. The secret lies in the slice—a clean, warm knife can be the difference between a perfect wedge and a crumbled mess. And when it comes to storage, a cool refrigerator or a properly timed stint in the freezer ensures your cheesecake remains as delicious as the moment it was made.\n",
      "\n",
      "Conclusion\n",
      "Cheesecake is more than just a dessert; it's a canvas for creativity. I encourage you to experiment with recipes, to find your perfect balance of crust, filling, and topping. Share your favorite versions, your successes, and even your delightful mishaps, for every cheesecake has a story.\n",
      "\n",
      "Call to Action\n",
      "Hungry for more? Sign up for our newsletter for an ongoing feast of recipes and join our social media family for daily baking tips and tricks. Let's embark on this cheesecake journey together, one creamy slice at a time.\n"
     ]
    }
   ],
   "source": [
    "print(result.content)"
   ]
  },
  {
   "cell_type": "code",
   "execution_count": null,
   "id": "75728f15-0468-494a-ba79-daf4f2924916",
   "metadata": {},
   "outputs": [],
   "source": []
  },
  {
   "cell_type": "markdown",
   "id": "bc9031eb-6d72-4507-9241-e073c946e817",
   "metadata": {},
   "source": [
    "## Sequential Chains"
   ]
  },
  {
   "cell_type": "code",
   "execution_count": 17,
   "id": "efecfbea-5094-442d-82e9-fde2adca37c4",
   "metadata": {},
   "outputs": [],
   "source": [
    "from dotenv import load_dotenv\n",
    "import os\n",
    "load_dotenv()\n",
    "deployment_name = os.environ[\"DEPLOYMENT_NAME\"]"
   ]
  },
  {
   "cell_type": "code",
   "execution_count": 18,
   "id": "d237bd9e-1986-4eaf-981c-4cf092df895d",
   "metadata": {},
   "outputs": [],
   "source": [
    "from langchain_openai import AzureChatOpenAI\n",
    "from langchain.prompts import ChatPromptTemplate\n",
    "from langchain.chains import SequentialChain"
   ]
  },
  {
   "cell_type": "code",
   "execution_count": 19,
   "id": "6b6275bf-b9da-4f94-8104-cebde08c7a21",
   "metadata": {},
   "outputs": [],
   "source": [
    "llm = AzureChatOpenAI(deployment_name=deployment_name)"
   ]
  },
  {
   "cell_type": "code",
   "execution_count": 20,
   "id": "3a3fff0e-a08a-4486-a382-55cc26e7c7f6",
   "metadata": {},
   "outputs": [],
   "source": [
    "template1 = \"Give a summary of this employee's performance review:\\n{review}\"\n",
    "prompt1 = ChatPromptTemplate.from_template(template1)\n",
    "chain_one = prompt1 | llm"
   ]
  },
  {
   "cell_type": "code",
   "execution_count": 21,
   "id": "b1ff208e-e000-441a-be64-48acd76d1fdf",
   "metadata": {},
   "outputs": [],
   "source": [
    "template2 = \"Identify key employee weaknesses in this review summary:\\n{review_summary}\"\n",
    "prompt2 = ChatPromptTemplate.from_template(template2)\n",
    "chain_two = prompt2 | llm"
   ]
  },
  {
   "cell_type": "code",
   "execution_count": 22,
   "id": "e9742973-fb1a-4a6c-9803-b41becdc4961",
   "metadata": {},
   "outputs": [],
   "source": [
    "template3 = \"Create a personlized plan to help address and fix these weakness:\\n{weaknesses}\"\n",
    "prompt3 = ChatPromptTemplate.from_template(template3)\n",
    "chain_three = prompt3 | llm"
   ]
  },
  {
   "cell_type": "code",
   "execution_count": 23,
   "id": "fb50c913-2933-4540-9395-d9fe0d98acea",
   "metadata": {},
   "outputs": [],
   "source": [
    "seq_chain = chain_one | chain_two | chain_three"
   ]
  },
  {
   "cell_type": "code",
   "execution_count": 24,
   "id": "382300b4-ee35-42b6-ab77-0b192789a714",
   "metadata": {},
   "outputs": [],
   "source": [
    "employee_review = '''\n",
    "Employee Information:\n",
    "Name: Joe Schmo\n",
    "Position: Software Engineer\n",
    "Date of Review: July 14, 2023\n",
    "\n",
    "Strengths:\n",
    "Joe is a highly skilled software engineer with a deep understanding of programming languages, algorithms, and software development best practices. His technical expertise shines through in his ability to efficiently solve complex problems and deliver high-quality code.\n",
    "\n",
    "One of Joe's greatest strengths is his collaborative nature. He actively engages with cross-functional teams, contributing valuable insights and seeking input from others. His open-mindedness and willingness to learn from colleagues make him a true team player.\n",
    "\n",
    "Joe consistently demonstrates initiative and self-motivation. He takes the lead in seeking out new projects and challenges, and his proactive attitude has led to significant improvements in existing processes and systems. His dedication to self-improvement and growth is commendable.\n",
    "\n",
    "Another notable strength is Joe's adaptability. He has shown great flexibility in handling changing project requirements and learning new technologies. This adaptability allows him to seamlessly transition between different projects and tasks, making him a valuable asset to the team.\n",
    "\n",
    "Joe's problem-solving skills are exceptional. He approaches issues with a logical mindset and consistently finds effective solutions, often thinking outside the box. His ability to break down complex problems into manageable parts is key to his success in resolving issues efficiently.\n",
    "\n",
    "Weaknesses:\n",
    "While Joe possesses numerous strengths, there are a few areas where he could benefit from improvement. One such area is time management. Occasionally, Joe struggles with effectively managing his time, resulting in missed deadlines or the need for additional support to complete tasks on time. Developing better prioritization and time management techniques would greatly enhance his efficiency.\n",
    "\n",
    "Another area for improvement is Joe's written communication skills. While he communicates well verbally, there have been instances where his written documentation lacked clarity, leading to confusion among team members. Focusing on enhancing his written communication abilities will help him effectively convey ideas and instructions.\n",
    "\n",
    "Additionally, Joe tends to take on too many responsibilities and hesitates to delegate tasks to others. This can result in an excessive workload and potential burnout. Encouraging him to delegate tasks appropriately will not only alleviate his own workload but also foster a more balanced and productive team environment.\n",
    "'''"
   ]
  },
  {
   "cell_type": "code",
   "execution_count": 25,
   "id": "5645e75f-b643-4eed-a76f-a118e0ffddae",
   "metadata": {},
   "outputs": [],
   "source": [
    "results = seq_chain.invoke(employee_review)"
   ]
  },
  {
   "cell_type": "code",
   "execution_count": 26,
   "id": "6d2629af-a943-4bd7-9fb9-431abf04df0f",
   "metadata": {},
   "outputs": [
    {
     "name": "stdout",
     "output_type": "stream",
     "text": [
      "To address and improve Joe Schmo's identified weaknesses, a personalized development plan can be structured as follows:\n",
      "\n",
      "**1. Time Management Challenges:**\n",
      "\n",
      "- **Training:** Enroll Joe in a time management workshop or online course.\n",
      "- **Daily Planning:** Introduce the practice of planning his day each morning or the night before, allocating specific time slots for tasks.\n",
      "- **Time Tracking:** Implement a time-tracking tool to help Joe understand how he is spending his time and identify areas for improvement.\n",
      "- **Mentoring:** Pair Joe with a colleague who excels in time management to mentor him.\n",
      "\n",
      "**2. Prioritization and Scheduling:**\n",
      "\n",
      "- **Prioritization Matrix:** Teach Joe how to use a prioritization matrix (e.g., Eisenhower Matrix) to determine the urgency and importance of tasks.\n",
      "- **Weekly Review:** Establish a weekly review process where Joe reflects on what tasks need his immediate attention for the coming week.\n",
      "- **Scheduling Software:** Introduce Joe to scheduling software that allows him to visualize his workload and adjust his schedule as needed.\n",
      "\n",
      "**3. Written Communication Skills:**\n",
      "\n",
      "- **Writing Workshops:** Sign Joe up for a business writing workshop or online course focused on clarity and conciseness.\n",
      "- **Peer Review:** Encourage Joe to have a peer review his written work before submission to catch any ambiguities.\n",
      "- **Reading Habit:** Recommend Joe to read high-quality professional writing regularly to improve his own writing style.\n",
      "\n",
      "**4. Task Delegation:**\n",
      "\n",
      "- **Delegation Training:** Provide training on effective delegation, including identifying the right tasks to delegate and choosing appropriate team members.\n",
      "- **Practice Opportunities:** Create opportunities for Joe to practice delegation in low-risk situations to build his confidence.\n",
      "- **Feedback Loop:** Set up a system where Joe receives feedback on his delegation efforts to help him refine his approach.\n",
      "\n",
      "**Support and Follow-Up:**\n",
      "\n",
      "- **Regular Check-Ins:** Schedule regular check-ins with Joe's manager or HR to discuss progress and any additional support needed.\n",
      "- **Goal Setting:** Work with Joe to set specific, measurable goals related to each area of improvement.\n",
      "- **Accountability Partner:** Assign an accountability partner who can help Joe stay on track with his development plan.\n",
      "\n",
      "**Evaluation and Adjustment:**\n",
      "\n",
      "- **Progress Evaluation:** Every quarter, review Joe's progress against his goals to evaluate what's working and what's not.\n",
      "- **Plan Adjustment:** Adjust the development plan as necessary based on Joe's progress and feedback from his support network.\n",
      "\n",
      "By following this personalized development plan, Joe should be able to systematically address his weaknesses and improve his performance at work. It is important to ensure that Joe feels supported throughout this process and understands that the goal is to help him succeed in his role.\n"
     ]
    }
   ],
   "source": [
    "print(results.content)"
   ]
  },
  {
   "cell_type": "markdown",
   "id": "5a2c5c94-d776-4db0-9a97-1ab9af111473",
   "metadata": {},
   "source": [
    "## As of right now, to get the intermediate outputs, we need to call the individual chains"
   ]
  },
  {
   "cell_type": "code",
   "execution_count": 31,
   "id": "073e639d-27c5-49fa-b575-2cf6ebeed922",
   "metadata": {},
   "outputs": [
    {
     "name": "stdout",
     "output_type": "stream",
     "text": [
      "Summary of Joe Schmo's Performance Review:\n",
      "\n",
      "Joe Schmo, a software engineer, has shown remarkable technical prowess with a deep grasp of programming, algorithms, and best practices in software development. His problem-solving capabilities and production of high-quality code have been particularly impressive. Joe is a commendable team player, known for his collaboration skills and his open-mindedness in working with diverse teams. He is self-motivated, often taking the initiative to tackle new projects, and his adaptability allows him to handle shifting project demands with ease.\n",
      "\n",
      "Despite his strengths, Joe needs to work on his time management skills as he occasionally misses deadlines and could improve his efficiency with better prioritization. His written communication also requires attention to ensure clarity and prevent misunderstandings. Additionally, Joe's reluctance to delegate tasks is an area of concern that could lead to excessive workload and burnout.\n",
      "\n",
      "In conclusion, Joe is a valuable asset to his team with his technical skills and collaborative spirit. Addressing the noted areas for improvement, particularly in time management, written communication, and delegation, will further enhance his performance and contribution to the team.\n"
     ]
    }
   ],
   "source": [
    "print(chain_one.invoke(employee_review).content)"
   ]
  },
  {
   "cell_type": "code",
   "execution_count": 29,
   "id": "f81ce9d0-451c-4322-841c-6ac37dee91c1",
   "metadata": {},
   "outputs": [
    {
     "data": {
      "text/plain": [
       "\"From the performance review summary provided, the key employee weaknesses identified for Joe Schmo include:\\n\\n1. Time Management: Joe struggles with managing his time effectively, which has led to occasional missed deadlines. This suggests that he might not be prioritizing tasks efficiently or may be underestimating the time required to complete them.\\n\\n2. Written Communication: His ability to convey information in writing needs improvement for greater clarity. This is important to ensure that he can communicate his ideas and instructions to the team without causing confusion.\\n\\n3. Delegation: Joe is reluctant to delegate tasks to others. This could be a sign of a lack of trust in his team's abilities or a desire to maintain control over all aspects of a project. This weakness could potentially lead to burnout for Joe and might hinder the team's efficiency and productivity due to a less balanced workload distribution.\\n\\nAddressing these areas for improvement could help Joe to enhance his overall performance and contribute even more effectively to his team and projects.\""
      ]
     },
     "execution_count": 29,
     "metadata": {},
     "output_type": "execute_result"
    }
   ],
   "source": [
    "print((chain_one|chain_two).invoke(employee_review).content)"
   ]
  },
  {
   "cell_type": "code",
   "execution_count": 30,
   "id": "6858074d-c757-4b42-abcd-728b727ede98",
   "metadata": {},
   "outputs": [
    {
     "name": "stdout",
     "output_type": "stream",
     "text": [
      "To address Joe Schmo's key weaknesses as identified in his performance review, the following personalized plan is proposed:\n",
      "\n",
      "1. **Improving Time Management Skills:**\n",
      "\n",
      "   - **Time Management Workshop:** Enroll Joe in a time management workshop or an online course designed to teach effective time management strategies.\n",
      "   - **Daily Planning:** Encourage Joe to start each day with a 15-minute planning session to prioritize his tasks for the day and allocate specific time slots for each task.\n",
      "   - **Use of Tools:** Introduce Joe to time management tools such as Trello, Asana, or a simple calendar app to help him plan and monitor his tasks and deadlines.\n",
      "   - **Time Tracking:** Have Joe track his time for two weeks using tools like RescueTime or Toggl to understand where his time is going and identify time-wasting activities.\n",
      "   - **Weekly Review:** Schedule a weekly 30-minute session with Joe to review his time tracking logs and discuss how he can improve his time allocation for the following week.\n",
      "\n",
      "2. **Enhancing Written Communication:**\n",
      "\n",
      "   - **Writing Workshop:** Provide Joe with access to a business writing workshop or an online course that focuses on clarity, brevity, and impact in professional communication.\n",
      "   - **Peer Review:** Before sending out important documents or emails, Joe should have a peer review his written material to provide feedback on clarity and conciseness.\n",
      "   - **Practice Exercises:** Assign Joe brief writing tasks on a regular basis and have them reviewed by a mentor or supervisor to provide constructive feedback.\n",
      "   - **Reading Material:** Recommend books and articles on effective business writing for Joe to study and learn from best practices.\n",
      "\n",
      "3. **Developing Delegation Skills:**\n",
      "\n",
      "   - **Delegation Training:** Arrange for Joe to attend a seminar or workshop on the art of delegation, focusing on trust-building and effective task handover techniques.\n",
      "   - **Mentorship:** Pair Joe with a senior leader or a colleague who excels at delegation for one-on-one mentorship.\n",
      "   - **Small Steps:** Start with small, low-risk tasks that Joe can delegate to build his confidence in his team members' abilities.\n",
      "   - **Delegation Goals:** Set specific delegation goals for Joe, such as delegating X number of tasks each week, and review the outcomes with him.\n",
      "   - **Feedback Loop:** Create a feedback loop where Joe can receive input from his colleagues on the delegation process to ensure tasks are understood and completed satisfactorily.\n",
      "\n",
      "**Monitoring Progress:**\n",
      "\n",
      "- **Regular Check-ins:** Schedule bi-weekly one-on-one meetings with Joe to discuss his progress in these areas and address any challenges he may be encountering.\n",
      "- **Progress Report:** Joe should prepare a monthly self-assessment report detailing his improvement in time management, written communication, and delegation.\n",
      "- **Quarterly Review:** Conduct a formal quarterly review to assess Joe's improvements and adjust the plan as necessary, setting new, more advanced goals as previous ones are achieved.\n",
      "\n",
      "By following this personalized plan, Joe should be able to effectively address his areas of weakness and enhance his overall performance within the team. It's important to ensure that this plan is flexible and adaptable to Joe's learning pace and the specific needs of the organization.\n"
     ]
    }
   ],
   "source": [
    "print((chain_one|chain_two|chain_three).invoke(employee_review).content)"
   ]
  },
  {
   "cell_type": "code",
   "execution_count": 32,
   "id": "c76aa68e-a097-4efd-87b8-af8ee57ea9de",
   "metadata": {},
   "outputs": [
    {
     "data": {
      "text/plain": [
       "AIMessage(content=\"To address and improve Joe Schmo's identified weaknesses, a personalized development plan can be structured as follows:\\n\\n**1. Time Management Challenges:**\\n\\n- **Training:** Enroll Joe in a time management workshop or online course.\\n- **Daily Planning:** Introduce the practice of planning his day each morning or the night before, allocating specific time slots for tasks.\\n- **Time Tracking:** Implement a time-tracking tool to help Joe understand how he is spending his time and identify areas for improvement.\\n- **Mentoring:** Pair Joe with a colleague who excels in time management to mentor him.\\n\\n**2. Prioritization and Scheduling:**\\n\\n- **Prioritization Matrix:** Teach Joe how to use a prioritization matrix (e.g., Eisenhower Matrix) to determine the urgency and importance of tasks.\\n- **Weekly Review:** Establish a weekly review process where Joe reflects on what tasks need his immediate attention for the coming week.\\n- **Scheduling Software:** Introduce Joe to scheduling software that allows him to visualize his workload and adjust his schedule as needed.\\n\\n**3. Written Communication Skills:**\\n\\n- **Writing Workshops:** Sign Joe up for a business writing workshop or online course focused on clarity and conciseness.\\n- **Peer Review:** Encourage Joe to have a peer review his written work before submission to catch any ambiguities.\\n- **Reading Habit:** Recommend Joe to read high-quality professional writing regularly to improve his own writing style.\\n\\n**4. Task Delegation:**\\n\\n- **Delegation Training:** Provide training on effective delegation, including identifying the right tasks to delegate and choosing appropriate team members.\\n- **Practice Opportunities:** Create opportunities for Joe to practice delegation in low-risk situations to build his confidence.\\n- **Feedback Loop:** Set up a system where Joe receives feedback on his delegation efforts to help him refine his approach.\\n\\n**Support and Follow-Up:**\\n\\n- **Regular Check-Ins:** Schedule regular check-ins with Joe's manager or HR to discuss progress and any additional support needed.\\n- **Goal Setting:** Work with Joe to set specific, measurable goals related to each area of improvement.\\n- **Accountability Partner:** Assign an accountability partner who can help Joe stay on track with his development plan.\\n\\n**Evaluation and Adjustment:**\\n\\n- **Progress Evaluation:** Every quarter, review Joe's progress against his goals to evaluate what's working and what's not.\\n- **Plan Adjustment:** Adjust the development plan as necessary based on Joe's progress and feedback from his support network.\\n\\nBy following this personalized development plan, Joe should be able to systematically address his weaknesses and improve his performance at work. It is important to ensure that Joe feels supported throughout this process and understands that the goal is to help him succeed in his role.\", response_metadata={'token_usage': {'completion_tokens': 548, 'prompt_tokens': 408, 'total_tokens': 956}, 'model_name': 'gpt-4', 'system_fingerprint': 'fp_811936bd4f', 'prompt_filter_results': [{'prompt_index': 0, 'content_filter_results': {'hate': {'filtered': False, 'severity': 'safe'}, 'self_harm': {'filtered': False, 'severity': 'safe'}, 'sexual': {'filtered': False, 'severity': 'safe'}, 'violence': {'filtered': False, 'severity': 'safe'}}}], 'finish_reason': 'stop', 'logprobs': None, 'content_filter_results': {'hate': {'filtered': False, 'severity': 'safe'}, 'self_harm': {'filtered': False, 'severity': 'safe'}, 'sexual': {'filtered': False, 'severity': 'safe'}, 'violence': {'filtered': False, 'severity': 'safe'}}}, id='run-05112b96-1197-4f05-b5aa-bb417c062724-0', usage_metadata={'input_tokens': 408, 'output_tokens': 548, 'total_tokens': 956})"
      ]
     },
     "execution_count": 32,
     "metadata": {},
     "output_type": "execute_result"
    }
   ],
   "source": [
    "results"
   ]
  },
  {
   "cell_type": "code",
   "execution_count": 33,
   "id": "55df1d49-c767-46a0-a075-285b7e480f11",
   "metadata": {},
   "outputs": [
    {
     "data": {
      "text/plain": [
       "{'token_usage': {'completion_tokens': 548,\n",
       "  'prompt_tokens': 408,\n",
       "  'total_tokens': 956},\n",
       " 'model_name': 'gpt-4',\n",
       " 'system_fingerprint': 'fp_811936bd4f',\n",
       " 'prompt_filter_results': [{'prompt_index': 0,\n",
       "   'content_filter_results': {'hate': {'filtered': False, 'severity': 'safe'},\n",
       "    'self_harm': {'filtered': False, 'severity': 'safe'},\n",
       "    'sexual': {'filtered': False, 'severity': 'safe'},\n",
       "    'violence': {'filtered': False, 'severity': 'safe'}}}],\n",
       " 'finish_reason': 'stop',\n",
       " 'logprobs': None,\n",
       " 'content_filter_results': {'hate': {'filtered': False, 'severity': 'safe'},\n",
       "  'self_harm': {'filtered': False, 'severity': 'safe'},\n",
       "  'sexual': {'filtered': False, 'severity': 'safe'},\n",
       "  'violence': {'filtered': False, 'severity': 'safe'}}}"
      ]
     },
     "execution_count": 33,
     "metadata": {},
     "output_type": "execute_result"
    }
   ],
   "source": [
    "results.response_metadata"
   ]
  },
  {
   "cell_type": "code",
   "execution_count": null,
   "id": "7010fa23-63b8-41d5-be8e-39f40ec576e0",
   "metadata": {},
   "outputs": [],
   "source": []
  },
  {
   "cell_type": "code",
   "execution_count": null,
   "id": "cb3255d3-e6de-4f88-8cdd-db2de03626f3",
   "metadata": {},
   "outputs": [],
   "source": []
  },
  {
   "cell_type": "markdown",
   "id": "df147f82-fa85-48f3-a153-60a50de9ced6",
   "metadata": {},
   "source": [
    "## LLMRouter Chain"
   ]
  },
  {
   "cell_type": "code",
   "execution_count": null,
   "id": "3780eedd-6c70-49fc-a79d-0eca3bcf9859",
   "metadata": {},
   "outputs": [],
   "source": []
  },
  {
   "cell_type": "code",
   "execution_count": null,
   "id": "8a1a6a3f-3d3e-40ea-8dc3-f54199d2f8eb",
   "metadata": {},
   "outputs": [],
   "source": [
    "from dotenv import load_dotenv\n",
    "import os\n",
    "load_dotenv()\n",
    "deployment_name = os.environ[\"DEPLOYMENT_NAME\"]"
   ]
  },
  {
   "cell_type": "code",
   "execution_count": null,
   "id": "b5b99b5c-2002-4b03-b0ee-5f0e54e896e0",
   "metadata": {},
   "outputs": [],
   "source": []
  },
  {
   "cell_type": "code",
   "execution_count": 1,
   "id": "1c93d0e9-5b66-441a-bdbf-72edae4377cd",
   "metadata": {},
   "outputs": [],
   "source": [
    "import dotenv\n",
    "import os\n",
    "dotenv.load_dotenv()\n",
    "deployment_name = os.environ[\"DEPLOYMENT_NAME\"]"
   ]
  },
  {
   "cell_type": "markdown",
   "id": "c8c8c7b0-b4bb-4e79-bce4-022a9a87f413",
   "metadata": {},
   "source": [
    "### Router Templates"
   ]
  },
  {
   "cell_type": "code",
   "execution_count": 2,
   "id": "93754ebf-4cb5-4fed-84d5-c7539237e665",
   "metadata": {},
   "outputs": [],
   "source": [
    "beginner_template = '''You are a physics teacher who is really\n",
    "focused on beginners and explaining complex topics in simple to understand terms. \n",
    "You assume no prior knowledge. Here is the question\\n{input}'''"
   ]
  },
  {
   "cell_type": "code",
   "execution_count": 3,
   "id": "9b96d5f6-2d2f-498d-b7ee-7bf92e19194b",
   "metadata": {},
   "outputs": [],
   "source": [
    "expert_template = '''You are a world expert physics professor who explains physics topics\n",
    "to advanced audience members. You can assume anyone you answer has a \n",
    "PhD level understanding of Physics. Here is the question\\n{input}'''"
   ]
  },
  {
   "cell_type": "code",
   "execution_count": 4,
   "id": "2655aba6-fc9f-40eb-b0b4-94ccb99c0547",
   "metadata": {},
   "outputs": [],
   "source": [
    "# ADD YOUR OWN TEMPLATES !\n",
    "empty_template = 'empty'"
   ]
  },
  {
   "cell_type": "markdown",
   "id": "03194f64-aee5-4110-98df-d0f40a6b181b",
   "metadata": {},
   "source": [
    "### Route Prompts"
   ]
  },
  {
   "cell_type": "code",
   "execution_count": 5,
   "id": "38edc2a9-a983-4faf-94d3-89e377d39d74",
   "metadata": {},
   "outputs": [],
   "source": [
    "prompt_infos = [\n",
    "    {'name':'empty','description':'Replies to empty questions','prompt_template':empty_template},\n",
    "    {'name':'advanced physics','description': 'Answers advanced physics questions',\n",
    "     'prompt_template':expert_template},\n",
    "    {'name':'beginner physics','description': 'Answers basic beginner physics questions',\n",
    "     'prompt_template':beginner_template},\n",
    "    \n",
    "]"
   ]
  },
  {
   "cell_type": "code",
   "execution_count": 24,
   "id": "cfbe6817-3ddd-4e8b-8138-bf5d488a02c8",
   "metadata": {},
   "outputs": [],
   "source": [
    "from langchain_openai import AzureChatOpenAI\n",
    "from langchain.prompts import ChatPromptTemplate\n",
    "from langchain.chains import LLMChain"
   ]
  },
  {
   "cell_type": "code",
   "execution_count": 7,
   "id": "785b0bcc-585e-45c2-830b-6ef65d0ae032",
   "metadata": {},
   "outputs": [],
   "source": [
    "llm = AzureChatOpenAI(deployment_name=deployment_name)"
   ]
  },
  {
   "cell_type": "markdown",
   "id": "04361763-cbe6-4bec-b0f9-1244d05a3837",
   "metadata": {},
   "source": [
    "#### skip next 9 cells"
   ]
  },
  {
   "cell_type": "code",
   "execution_count": 25,
   "id": "408946a9-b4b9-4646-8a9e-783d0e782be9",
   "metadata": {},
   "outputs": [],
   "source": [
    "default_prompt = ChatPromptTemplate.from_template('{input}')\n",
    "default_chain = default_prompt | llm\n",
    "\n",
    "destination_chains = {}\n",
    "for item in prompt_infos:\n",
    "    prompt = ChatPromptTemplate.from_template(item['prompt_template'])\n",
    "    chain = LLMChain(llm=llm, prompt=prompt) \n",
    "    destination_chains[item['name']] = chain"
   ]
  },
  {
   "cell_type": "code",
   "execution_count": 12,
   "id": "85b44523-16f5-4fd4-8b4e-97a5ef824093",
   "metadata": {},
   "outputs": [
    {
     "name": "stdout",
     "output_type": "stream",
     "text": [
      "Given a raw text input to a language model select the model prompt best suited for the input. You will be given the names of the available prompts and a description of what the prompt is best suited for. You may also revise the original input if you think that revising it will ultimately lead to a better response from the language model.\n",
      "\n",
      "<< FORMATTING >>\n",
      "Return a markdown code snippet with a JSON object formatted to look like:\n",
      "```json\n",
      "{{{{\n",
      "    \"destination\": string \\ name of the prompt to use or \"DEFAULT\"\n",
      "    \"next_inputs\": string \\ a potentially modified version of the original input\n",
      "}}}}\n",
      "```\n",
      "\n",
      "REMEMBER: \"destination\" MUST be one of the candidate prompt names specified below OR it can be \"DEFAULT\" if the input is not well suited for any of the candidate prompts.\n",
      "REMEMBER: \"next_inputs\" can just be the original input if you don't think any modifications are needed.\n",
      "\n",
      "<< CANDIDATE PROMPTS >>\n",
      "{destinations}\n",
      "\n",
      "<< INPUT >>\n",
      "{{input}}\n",
      "\n",
      "<< OUTPUT (must include ```json at the start of the response) >>\n",
      "<< OUTPUT (must end with ```) >>\n",
      "\n"
     ]
    }
   ],
   "source": [
    "from langchain.chains.router.multi_prompt_prompt import MULTI_PROMPT_ROUTER_TEMPLATE\n",
    "print(MULTI_PROMPT_ROUTER_TEMPLATE)"
   ]
  },
  {
   "cell_type": "code",
   "execution_count": 14,
   "id": "2c65f347-2e6e-4e05-859f-b586d607d0e8",
   "metadata": {},
   "outputs": [
    {
     "data": {
      "text/plain": [
       "['empty: Replies to empty questions',\n",
       " 'advanced physics: Answers advanced physics questions',\n",
       " 'beginner physics: Answers basic beginner physics questions']"
      ]
     },
     "execution_count": 14,
     "metadata": {},
     "output_type": "execute_result"
    }
   ],
   "source": [
    "destinations = [f\"{p['name']}: {p['description']}\" for p in prompt_infos]\n",
    "destinations"
   ]
  },
  {
   "cell_type": "code",
   "execution_count": 15,
   "id": "5ba08600-3678-4438-89f7-01f7956f3727",
   "metadata": {},
   "outputs": [
    {
     "name": "stdout",
     "output_type": "stream",
     "text": [
      "empty: Replies to empty questions\n",
      "advanced physics: Answers advanced physics questions\n",
      "beginner physics: Answers basic beginner physics questions\n"
     ]
    }
   ],
   "source": [
    "destination_str = \"\\n\".join(destinations)\n",
    "print(destination_str)"
   ]
  },
  {
   "cell_type": "code",
   "execution_count": 16,
   "id": "3bc5b473-00e5-4ff9-8c65-c1dc6cb00285",
   "metadata": {},
   "outputs": [],
   "source": [
    "from langchain.prompts import PromptTemplate\n",
    "from langchain.chains.router.llm_router import LLMRouterChain, RouterOutputParser"
   ]
  },
  {
   "cell_type": "code",
   "execution_count": 17,
   "id": "fface767-d9cf-4090-9087-cceded97ba72",
   "metadata": {},
   "outputs": [
    {
     "name": "stdout",
     "output_type": "stream",
     "text": [
      "Given a raw text input to a language model select the model prompt best suited for the input. You will be given the names of the available prompts and a description of what the prompt is best suited for. You may also revise the original input if you think that revising it will ultimately lead to a better response from the language model.\n",
      "\n",
      "<< FORMATTING >>\n",
      "Return a markdown code snippet with a JSON object formatted to look like:\n",
      "```json\n",
      "{{\n",
      "    \"destination\": string \\ name of the prompt to use or \"DEFAULT\"\n",
      "    \"next_inputs\": string \\ a potentially modified version of the original input\n",
      "}}\n",
      "```\n",
      "\n",
      "REMEMBER: \"destination\" MUST be one of the candidate prompt names specified below OR it can be \"DEFAULT\" if the input is not well suited for any of the candidate prompts.\n",
      "REMEMBER: \"next_inputs\" can just be the original input if you don't think any modifications are needed.\n",
      "\n",
      "<< CANDIDATE PROMPTS >>\n",
      "empty: Replies to empty questions\n",
      "advanced physics: Answers advanced physics questions\n",
      "beginner physics: Answers basic beginner physics questions\n",
      "\n",
      "<< INPUT >>\n",
      "{input}\n",
      "\n",
      "<< OUTPUT (must include ```json at the start of the response) >>\n",
      "<< OUTPUT (must end with ```) >>\n",
      "\n"
     ]
    }
   ],
   "source": [
    "router_template = MULTI_PROMPT_ROUTER_TEMPLATE.format(destinations=destination_str)\n",
    "print(router_template)"
   ]
  },
  {
   "cell_type": "code",
   "execution_count": 18,
   "id": "809ff154-2240-4a0b-a91f-77d118b45c76",
   "metadata": {},
   "outputs": [],
   "source": [
    "router_prompt = PromptTemplate(template=router_template,\n",
    "                               input_variables=['input'],\n",
    "                               output_parser=RouterOutputParser())"
   ]
  },
  {
   "cell_type": "code",
   "execution_count": 19,
   "id": "d1ac4b61-e046-4b3f-86f6-cb64cfd747d4",
   "metadata": {},
   "outputs": [],
   "source": [
    "from langchain.chains import MultiPromptChain"
   ]
  },
  {
   "cell_type": "code",
   "execution_count": 27,
   "id": "0e53cb6b-e093-4d38-8604-3e247f075418",
   "metadata": {},
   "outputs": [],
   "source": [
    "router_chain = LLMRouterChain.from_llm(llm, router_prompt)\n",
    "# chain = MultiPromptChain(router_chain=router_chain,\n",
    "#                          destinations_chains=destination_chains,\n",
    "#                          default_chain=default_chain, \n",
    "#                          verbose=True)"
   ]
  },
  {
   "cell_type": "code",
   "execution_count": null,
   "id": "5c36a4c5-04e0-4e0d-8e5c-4de765ec22e2",
   "metadata": {},
   "outputs": [],
   "source": []
  },
  {
   "cell_type": "code",
   "execution_count": 8,
   "id": "1b131f5f-52ff-45c6-9bde-7bfe418eac44",
   "metadata": {},
   "outputs": [],
   "source": [
    "from langchain.chains import MultiPromptChain"
   ]
  },
  {
   "cell_type": "code",
   "execution_count": 28,
   "id": "dad5cfa9-b166-4467-9cd4-49d3e647e792",
   "metadata": {},
   "outputs": [],
   "source": [
    "chain = MultiPromptChain.from_prompts(llm, prompt_infos, verbose=True)"
   ]
  },
  {
   "cell_type": "code",
   "execution_count": 30,
   "id": "0ffcaa66-7a65-439b-a4f3-f57a3463a88b",
   "metadata": {},
   "outputs": [
    {
     "name": "stdout",
     "output_type": "stream",
     "text": [
      "\n",
      "\n",
      "\u001b[1m> Entering new MultiPromptChain chain...\u001b[0m\n",
      "beginner physics: {'input': 'How do magnets work?'}\n",
      "\u001b[1m> Finished chain.\u001b[0m\n"
     ]
    },
    {
     "data": {
      "text/plain": [
       "{'input': 'How do magnets work?',\n",
       " 'text': 'Alright! Let\\'s talk about magnets in a way that\\'s easy to grasp. Imagine that everything is made up of tiny little particles called atoms. Atoms are like the building blocks of everything you see around you. Now, inside each atom, there are even smaller particles, and some of these are called electrons. Electrons have a property called \"charge,\" and it\\'s this charge that\\'s at the heart of magnetism.\\n\\nElectrons like to spin, and as they do, they create a tiny magnetic field—it\\'s as if each electron is a little magnet itself. Now, in most materials, the electrons are spinning in random directions, so their magnetic fields cancel each other out, and the material doesn\\'t act like a magnet.\\n\\nHowever, in some materials, like iron, nickel, and cobalt, something special happens. In certain conditions, the electrons tend to line up and spin in the same direction. When a lot of these electrons align, their little magnetic fields add up to create a larger magnetic field. This is what makes a material magnetic.\\n\\nNow, let\\'s talk about the magnet itself. A magnet has two ends, called \"poles,\" one is the north pole and the other is the south pole. Opposite poles attract each other, which means that the north pole of one magnet will want to stick to the south pole of another magnet. Similar poles repel each other, so two north poles or two south poles will push away from each other.\\n\\nThis \"attraction\" and \"repulsion\" happen because the magnetic field created by a magnet reaches out into the space around it. When you bring two magnets close to each other, their magnetic fields interact. If the poles are opposite, the fields align and pull the magnets together. If the poles are the same, the fields push against each other and the magnets repel.\\n\\nThe force that magnets exert is invisible, but it\\'s similar to the force you feel when you try to push the same poles of two small bar magnets together—they don\\'t want to touch!\\n\\nSo, to sum it up, magnets work because of the behavior of electrons within certain materials that can align in a way that creates a magnetic field. This field then interacts with other magnets or magnetic materials, leading to the attraction or repulsion that we see. It\\'s like having an invisible force field around the magnet that affects other magnets or metal objects.'}"
      ]
     },
     "execution_count": 30,
     "metadata": {},
     "output_type": "execute_result"
    }
   ],
   "source": [
    "chain.invoke(\"How do magnets work?\")"
   ]
  },
  {
   "cell_type": "code",
   "execution_count": null,
   "id": "dd0fda84-52bd-4581-a283-5fdc818babab",
   "metadata": {},
   "outputs": [
    {
     "name": "stdout",
     "output_type": "stream",
     "text": [
      "\n",
      "\n",
      "\u001b[1m> Entering new MultiPromptChain chain...\u001b[0m\n",
      "advanced physics: {'input': 'How do Feynman Diagrams work?'}"
     ]
    }
   ],
   "source": [
    "chain.invoke(\"How do Feynman Diagrams work?\")"
   ]
  },
  {
   "cell_type": "code",
   "execution_count": null,
   "id": "90429637-6be0-45f3-9a5c-897c0d697997",
   "metadata": {},
   "outputs": [],
   "source": []
  },
  {
   "cell_type": "markdown",
   "id": "a58af1c7-ea6b-451f-912c-30ea510aee90",
   "metadata": {},
   "source": [
    "## Transform Chain"
   ]
  },
  {
   "cell_type": "code",
   "execution_count": 12,
   "id": "59176b28-ba2d-468a-a6be-0427bd02ea36",
   "metadata": {},
   "outputs": [],
   "source": [
    "from langchain.chains import TransformChain\n",
    "from langchain_openai import ChatOpenAI, AzureChatOpenAI\n",
    "from langchain.prompts import ChatPromptTemplate"
   ]
  },
  {
   "cell_type": "code",
   "execution_count": 5,
   "id": "d45a20ad-3c14-4825-98f0-5e31a1eb9e3d",
   "metadata": {},
   "outputs": [
    {
     "name": "stdout",
     "output_type": "stream",
     "text": [
      "TITLE: AN ABSOLUTE DELIGHT! A CULINARY HAVEN!\n",
      "\n",
      "REVIEW:\n",
      "OH MY GOODNESS, WHERE DO I BEGIN? THIS RESTAURANT IS ABSOLUTELY PHENOMENAL! I WENT THERE LAST NIGHT WITH MY FRIENDS, AND WE WERE BLOWN AWAY BY THE EXPERIENCE!\n",
      "\n",
      "FIRST OF ALL, THE AMBIANCE IS OUT OF THIS WORLD! THE MOMENT YOU STEP INSIDE, YOU'RE GREETED WITH A WARM AND INVITING ATMOSPHERE. THE DECOR IS STUNNING, AND IT IMMEDIATELY SETS THE TONE FOR AN UNFORGETTABLE DINING EXPERIENCE.\n",
      "\n",
      "NOW, LET'S TALK ABOUT THE FOOD! WOW, JUST WOW! THE MENU IS A PARADISE FOR FOOD LOVERS. EVERY DISH WE ORDERED WAS A MASTERPIECE. THE FLAVORS WERE BOLD, VIBRANT, AND EXPLODED IN OUR MOUTHS. FROM STARTERS TO DESSERTS, EVERY BITE WAS PURE BLISS!\n",
      "\n",
      "THEIR SEAFOOD PLATTER IS A MUST-TRY! THE FRESHNESS OF THE SEAFOOD IS UNMATCHED, AND THE PRESENTATION IS SIMPLY STUNNING. I HAVE NEVER TASTED SUCH DELICIOUS AND PERFECTLY COOKED SEAFOOD IN MY LIFE. IT'S A SEAFOOD LOVER'S DREAM COME TRUE!\n",
      "\n",
      "THE SERVICE WAS EXEMPLARY. THE STAFF WAS ATTENTIVE, FRIENDLY, AND EXTREMELY KNOWLEDGEABLE ABOUT THE MENU. THEY WENT ABOVE AND BEYOND TO ENSURE THAT WE HAD THE BEST DINING EXPERIENCE POSSIBLE.\n",
      "\n",
      "AND LET'S NOT FORGET ABOUT THE DESSERTS! OH MY, OH MY! I HAD THEIR SIGNATURE CHOCOLATE LAVA CAKE, AND IT WAS PURE HEAVEN. THE CAKE WAS MOIST, AND WHEN I CUT INTO IT, THE WARM CHOCOLATE OOOZED OUT, CREATING AN EXPLOSION OF FLAVOR IN MY MOUTH. IT WAS LIKE A SYMPHONY OF CHOCOLATEY GOODNESS!\n",
      "\n",
      "IN CONCLUSION, THIS RESTAURANT IS A HIDDEN GEM! IF YOU WANT TO INDULGE IN A MEMORABLE DINING EXPERIENCE, DO YOURSELF A FAVOR AND VISIT THIS PLACE. YOU WON'T REGRET IT! I CAN'T WAIT TO GO BACK AND TRY MORE OF THEIR DELECTABLE DISHES. KUDOS TO THE ENTIRE TEAM FOR CREATING SUCH A CULINARY HAVEN!\n",
      "\n",
      "ALL I CAN SAY IS... WOOHOO!\n"
     ]
    }
   ],
   "source": [
    "yelp_review = open('./some_data/yelp_review.txt').read()\n",
    "print(yelp_review)"
   ]
  },
  {
   "cell_type": "code",
   "execution_count": 3,
   "id": "40e8e6d1-6489-451e-acba-729f68869aae",
   "metadata": {},
   "outputs": [],
   "source": [
    "import dotenv\n",
    "import os\n",
    "dotenv.load_dotenv()\n",
    "deployment_name = os.environ[\"DEPLOYMENT_NAME\"]"
   ]
  },
  {
   "cell_type": "code",
   "execution_count": 6,
   "id": "7956fc40-3d51-4f4c-a45f-4d397ffc9d41",
   "metadata": {},
   "outputs": [],
   "source": [
    "review = yelp_review.split(\"REVIEW:\")[-1].lower()"
   ]
  },
  {
   "cell_type": "code",
   "execution_count": 7,
   "id": "01f1cc18-4f83-48ed-91ab-2c1e07ec11d2",
   "metadata": {},
   "outputs": [
    {
     "name": "stdout",
     "output_type": "stream",
     "text": [
      "\n",
      "oh my goodness, where do i begin? this restaurant is absolutely phenomenal! i went there last night with my friends, and we were blown away by the experience!\n",
      "\n",
      "first of all, the ambiance is out of this world! the moment you step inside, you're greeted with a warm and inviting atmosphere. the decor is stunning, and it immediately sets the tone for an unforgettable dining experience.\n",
      "\n",
      "now, let's talk about the food! wow, just wow! the menu is a paradise for food lovers. every dish we ordered was a masterpiece. the flavors were bold, vibrant, and exploded in our mouths. from starters to desserts, every bite was pure bliss!\n",
      "\n",
      "their seafood platter is a must-try! the freshness of the seafood is unmatched, and the presentation is simply stunning. i have never tasted such delicious and perfectly cooked seafood in my life. it's a seafood lover's dream come true!\n",
      "\n",
      "the service was exemplary. the staff was attentive, friendly, and extremely knowledgeable about the menu. they went above and beyond to ensure that we had the best dining experience possible.\n",
      "\n",
      "and let's not forget about the desserts! oh my, oh my! i had their signature chocolate lava cake, and it was pure heaven. the cake was moist, and when i cut into it, the warm chocolate ooozed out, creating an explosion of flavor in my mouth. it was like a symphony of chocolatey goodness!\n",
      "\n",
      "in conclusion, this restaurant is a hidden gem! if you want to indulge in a memorable dining experience, do yourself a favor and visit this place. you won't regret it! i can't wait to go back and try more of their delectable dishes. kudos to the entire team for creating such a culinary haven!\n",
      "\n",
      "all i can say is... woohoo!\n"
     ]
    }
   ],
   "source": [
    "print(review)"
   ]
  },
  {
   "cell_type": "code",
   "execution_count": 8,
   "id": "e8223c32-a75e-4ddf-b78a-f1a42c3c2d9f",
   "metadata": {},
   "outputs": [],
   "source": [
    "def transformer_fun(inputs: dict) -> dict:\n",
    "    '''\n",
    "    Notice how this always takes an inputs dictionary.\n",
    "    Also outputs a dictionary. You can call the output and input keys whatever you want, \n",
    "    just make sure to reference it correct in the chain call.\n",
    "    '''\n",
    "    # GRAB INCOMING CHAIN TEXT\n",
    "    text = inputs['text']\n",
    "    only_review_text = text.split('REVIEW:')[-1]\n",
    "    lower_case_text = only_review_text.lower()\n",
    "    return {'output':lower_case_text}"
   ]
  },
  {
   "cell_type": "code",
   "execution_count": 9,
   "id": "1ee980ff-164d-4979-abaa-d05c2473bdcb",
   "metadata": {},
   "outputs": [],
   "source": [
    "transform_chain = TransformChain(input_variables=['text'],\n",
    "                                 output_variables=['output'],\n",
    "                                 transform=transformer_fun)"
   ]
  },
  {
   "cell_type": "code",
   "execution_count": 10,
   "id": "a5f1c9d5-d4a3-4477-a65d-fca0d3e05ab1",
   "metadata": {},
   "outputs": [
    {
     "data": {
      "text/plain": [
       "{'text': \"TITLE: AN ABSOLUTE DELIGHT! A CULINARY HAVEN!\\n\\nREVIEW:\\nOH MY GOODNESS, WHERE DO I BEGIN? THIS RESTAURANT IS ABSOLUTELY PHENOMENAL! I WENT THERE LAST NIGHT WITH MY FRIENDS, AND WE WERE BLOWN AWAY BY THE EXPERIENCE!\\n\\nFIRST OF ALL, THE AMBIANCE IS OUT OF THIS WORLD! THE MOMENT YOU STEP INSIDE, YOU'RE GREETED WITH A WARM AND INVITING ATMOSPHERE. THE DECOR IS STUNNING, AND IT IMMEDIATELY SETS THE TONE FOR AN UNFORGETTABLE DINING EXPERIENCE.\\n\\nNOW, LET'S TALK ABOUT THE FOOD! WOW, JUST WOW! THE MENU IS A PARADISE FOR FOOD LOVERS. EVERY DISH WE ORDERED WAS A MASTERPIECE. THE FLAVORS WERE BOLD, VIBRANT, AND EXPLODED IN OUR MOUTHS. FROM STARTERS TO DESSERTS, EVERY BITE WAS PURE BLISS!\\n\\nTHEIR SEAFOOD PLATTER IS A MUST-TRY! THE FRESHNESS OF THE SEAFOOD IS UNMATCHED, AND THE PRESENTATION IS SIMPLY STUNNING. I HAVE NEVER TASTED SUCH DELICIOUS AND PERFECTLY COOKED SEAFOOD IN MY LIFE. IT'S A SEAFOOD LOVER'S DREAM COME TRUE!\\n\\nTHE SERVICE WAS EXEMPLARY. THE STAFF WAS ATTENTIVE, FRIENDLY, AND EXTREMELY KNOWLEDGEABLE ABOUT THE MENU. THEY WENT ABOVE AND BEYOND TO ENSURE THAT WE HAD THE BEST DINING EXPERIENCE POSSIBLE.\\n\\nAND LET'S NOT FORGET ABOUT THE DESSERTS! OH MY, OH MY! I HAD THEIR SIGNATURE CHOCOLATE LAVA CAKE, AND IT WAS PURE HEAVEN. THE CAKE WAS MOIST, AND WHEN I CUT INTO IT, THE WARM CHOCOLATE OOOZED OUT, CREATING AN EXPLOSION OF FLAVOR IN MY MOUTH. IT WAS LIKE A SYMPHONY OF CHOCOLATEY GOODNESS!\\n\\nIN CONCLUSION, THIS RESTAURANT IS A HIDDEN GEM! IF YOU WANT TO INDULGE IN A MEMORABLE DINING EXPERIENCE, DO YOURSELF A FAVOR AND VISIT THIS PLACE. YOU WON'T REGRET IT! I CAN'T WAIT TO GO BACK AND TRY MORE OF THEIR DELECTABLE DISHES. KUDOS TO THE ENTIRE TEAM FOR CREATING SUCH A CULINARY HAVEN!\\n\\nALL I CAN SAY IS... WOOHOO!\",\n",
       " 'output': \"\\noh my goodness, where do i begin? this restaurant is absolutely phenomenal! i went there last night with my friends, and we were blown away by the experience!\\n\\nfirst of all, the ambiance is out of this world! the moment you step inside, you're greeted with a warm and inviting atmosphere. the decor is stunning, and it immediately sets the tone for an unforgettable dining experience.\\n\\nnow, let's talk about the food! wow, just wow! the menu is a paradise for food lovers. every dish we ordered was a masterpiece. the flavors were bold, vibrant, and exploded in our mouths. from starters to desserts, every bite was pure bliss!\\n\\ntheir seafood platter is a must-try! the freshness of the seafood is unmatched, and the presentation is simply stunning. i have never tasted such delicious and perfectly cooked seafood in my life. it's a seafood lover's dream come true!\\n\\nthe service was exemplary. the staff was attentive, friendly, and extremely knowledgeable about the menu. they went above and beyond to ensure that we had the best dining experience possible.\\n\\nand let's not forget about the desserts! oh my, oh my! i had their signature chocolate lava cake, and it was pure heaven. the cake was moist, and when i cut into it, the warm chocolate ooozed out, creating an explosion of flavor in my mouth. it was like a symphony of chocolatey goodness!\\n\\nin conclusion, this restaurant is a hidden gem! if you want to indulge in a memorable dining experience, do yourself a favor and visit this place. you won't regret it! i can't wait to go back and try more of their delectable dishes. kudos to the entire team for creating such a culinary haven!\\n\\nall i can say is... woohoo!\"}"
      ]
     },
     "execution_count": 10,
     "metadata": {},
     "output_type": "execute_result"
    }
   ],
   "source": [
    "transform_chain.invoke(yelp_review)"
   ]
  },
  {
   "cell_type": "code",
   "execution_count": 11,
   "id": "b0a75235-e01e-4557-b55a-3f16abdf1d78",
   "metadata": {},
   "outputs": [],
   "source": [
    "template = \"Create a one sentence summary of this review:\\n {text}\""
   ]
  },
  {
   "cell_type": "code",
   "execution_count": 14,
   "id": "e97ed185-f190-4107-abf2-8454f6a94fd0",
   "metadata": {},
   "outputs": [],
   "source": [
    "llm = AzureChatOpenAI(deployment_name=deployment_name)\n",
    "prompt = ChatPromptTemplate.from_template(template)\n",
    "summary_chain = prompt | llm"
   ]
  },
  {
   "cell_type": "code",
   "execution_count": 15,
   "id": "220e9a91-74f9-4b71-866e-d0789e52d108",
   "metadata": {},
   "outputs": [],
   "source": [
    "sequential_chain = transform_chain | summary_chain"
   ]
  },
  {
   "cell_type": "code",
   "execution_count": 16,
   "id": "575b4bc6-ce24-463c-aa1c-99abf09c8280",
   "metadata": {},
   "outputs": [
    {
     "name": "stdout",
     "output_type": "stream",
     "text": [
      "The review enthusiastically describes the restaurant as an exceptional culinary haven with stunning ambiance, exquisite food, perfectly cooked seafood, attentive service, and heavenly desserts, making it a must-visit dining experience.\n"
     ]
    }
   ],
   "source": [
    "result = sequential_chain.invoke(yelp_review)\n",
    "print(result.content)"
   ]
  },
  {
   "cell_type": "code",
   "execution_count": 17,
   "id": "b38095f9-b742-416d-a458-e17c30ab10b6",
   "metadata": {},
   "outputs": [
    {
     "data": {
      "text/plain": [
       "AIMessage(content='The review enthusiastically describes the restaurant as an exceptional culinary haven with stunning ambiance, exquisite food, perfectly cooked seafood, attentive service, and heavenly desserts, making it a must-visit dining experience.', response_metadata={'token_usage': {'completion_tokens': 38, 'prompt_tokens': 568, 'total_tokens': 606}, 'model_name': 'gpt-4', 'system_fingerprint': 'fp_811936bd4f', 'prompt_filter_results': [{'prompt_index': 0, 'content_filter_results': {'hate': {'filtered': False, 'severity': 'safe'}, 'self_harm': {'filtered': False, 'severity': 'safe'}, 'sexual': {'filtered': False, 'severity': 'safe'}, 'violence': {'filtered': False, 'severity': 'safe'}}}], 'finish_reason': 'stop', 'logprobs': None, 'content_filter_results': {'hate': {'filtered': False, 'severity': 'safe'}, 'self_harm': {'filtered': False, 'severity': 'safe'}, 'sexual': {'filtered': False, 'severity': 'safe'}, 'violence': {'filtered': False, 'severity': 'safe'}}}, id='run-2cbc78f2-ffe3-4310-b5b3-042a1eb27fe4-0', usage_metadata={'input_tokens': 568, 'output_tokens': 38, 'total_tokens': 606})"
      ]
     },
     "execution_count": 17,
     "metadata": {},
     "output_type": "execute_result"
    }
   ],
   "source": [
    "result"
   ]
  },
  {
   "cell_type": "code",
   "execution_count": null,
   "id": "c5f78176-ad60-4e1a-98c7-bea63bfa4204",
   "metadata": {},
   "outputs": [],
   "source": []
  },
  {
   "cell_type": "markdown",
   "id": "a6ccd4e6-2ab7-44af-a69d-35f5ca75c3c2",
   "metadata": {},
   "source": [
    "## OpenAI function calling with langchain"
   ]
  },
  {
   "cell_type": "code",
   "execution_count": 19,
   "id": "024db1aa-5277-401d-ade3-5f8711c1d553",
   "metadata": {},
   "outputs": [],
   "source": [
    "import dotenv\n",
    "import os\n",
    "dotenv.load_dotenv()\n",
    "deployment_name = os.environ[\"DEPLOYMENT_NAME\"]"
   ]
  },
  {
   "cell_type": "code",
   "execution_count": 20,
   "id": "829fc056-f3b8-4cae-ba11-e9e3034e1e51",
   "metadata": {},
   "outputs": [],
   "source": [
    "from langchain_openai import AzureChatOpenAI"
   ]
  },
  {
   "cell_type": "code",
   "execution_count": 21,
   "id": "e91f905b-b0b2-4266-a30e-9c05d14a7c80",
   "metadata": {},
   "outputs": [],
   "source": [
    "llm = AzureChatOpenAI(deployment_name=deployment_name)"
   ]
  },
  {
   "cell_type": "code",
   "execution_count": 22,
   "id": "cbda8c02-15a6-4365-8427-4542e10b6715",
   "metadata": {},
   "outputs": [],
   "source": [
    "class Scientist():\n",
    "    \n",
    "    def __init__(self,first_name,last_name):\n",
    "        self.first_name = first_name\n",
    "        self.last_name = last_name"
   ]
  },
  {
   "cell_type": "code",
   "execution_count": 23,
   "id": "ba241622-4bf9-4243-a7dc-b93cc5e8b554",
   "metadata": {},
   "outputs": [],
   "source": [
    "json_schema = {\n",
    "    \"title\": \"Scientist\",\n",
    "    \"description\": \"Information about a famous scientist\",\n",
    "    \"type\": \"object\",\n",
    "    \"properties\":{\n",
    "        \"first_name\":{'title':'First Name',\n",
    "                     'description': \"First name of scientist\",\n",
    "                     \"type\": \"string\"},\n",
    "        \"last_name\":{'title':'Last Name',\n",
    "                     'description': \"Last name of scientist\",\n",
    "                     \"type\": \"string\"},\n",
    "    },\n",
    "    \"required\": ['first_name','last_name']\n",
    "}"
   ]
  },
  {
   "cell_type": "code",
   "execution_count": 24,
   "id": "cd73df50-16f3-4a91-8ef1-9110368c7a27",
   "metadata": {},
   "outputs": [],
   "source": [
    "template = 'Name a famous {country} scientist'\n",
    "# human_prompt = HumanMessagePromptTemplate.from_template(template)\n",
    "chat_prompt = ChatPromptTemplate.from_template(template)"
   ]
  },
  {
   "cell_type": "code",
   "execution_count": 25,
   "id": "bbc70c51-0422-4615-8ce2-f5fa13728399",
   "metadata": {},
   "outputs": [],
   "source": [
    "chain = chat_prompt|llm.with_structured_output(schema=json_schema)"
   ]
  },
  {
   "cell_type": "code",
   "execution_count": 27,
   "id": "dde214ef-b244-4b70-b413-10a581fde660",
   "metadata": {},
   "outputs": [],
   "source": [
    "result = chain.invoke({\"country\": \"Indian\"})"
   ]
  },
  {
   "cell_type": "code",
   "execution_count": 29,
   "id": "8b9beb04-7134-4d95-b723-83a4ed67d41b",
   "metadata": {},
   "outputs": [
    {
     "data": {
      "text/plain": [
       "{'first_name': 'C. V.', 'last_name': 'Raman'}"
      ]
     },
     "execution_count": 29,
     "metadata": {},
     "output_type": "execute_result"
    }
   ],
   "source": [
    "result"
   ]
  },
  {
   "cell_type": "code",
   "execution_count": 28,
   "id": "77d9c9f4-5455-40f3-9ce2-11c4e2768c86",
   "metadata": {},
   "outputs": [
    {
     "data": {
      "text/plain": [
       "dict"
      ]
     },
     "execution_count": 28,
     "metadata": {},
     "output_type": "execute_result"
    }
   ],
   "source": [
    "type(result)"
   ]
  },
  {
   "cell_type": "code",
   "execution_count": 30,
   "id": "18958610-fe59-4b5e-bbb7-a19780a12b4f",
   "metadata": {},
   "outputs": [],
   "source": [
    "result = chain.invoke({\"country\": \"Germany\"})"
   ]
  },
  {
   "cell_type": "code",
   "execution_count": 31,
   "id": "26c610ef-eae4-42e3-a155-21807943b487",
   "metadata": {},
   "outputs": [
    {
     "data": {
      "text/plain": [
       "{'first_name': 'Albert', 'last_name': 'Einstein'}"
      ]
     },
     "execution_count": 31,
     "metadata": {},
     "output_type": "execute_result"
    }
   ],
   "source": [
    "result"
   ]
  },
  {
   "cell_type": "code",
   "execution_count": null,
   "id": "910151da-ce27-439a-8efd-4174d36c1ff1",
   "metadata": {},
   "outputs": [],
   "source": []
  },
  {
   "cell_type": "markdown",
   "id": "ac536104-d67d-4ea8-b21c-7bd3cdd50a59",
   "metadata": {},
   "source": [
    "## MathChain"
   ]
  },
  {
   "cell_type": "code",
   "execution_count": 1,
   "id": "a5461e21-e355-468c-8351-0335c9cda499",
   "metadata": {},
   "outputs": [],
   "source": [
    "import dotenv\n",
    "import os\n",
    "dotenv.load_dotenv()\n",
    "deployment_name = os.environ[\"DEPLOYMENT_NAME\"]"
   ]
  },
  {
   "cell_type": "code",
   "execution_count": 2,
   "id": "4809c96b-c835-4d34-85e8-26c0544b6042",
   "metadata": {},
   "outputs": [],
   "source": [
    "from langchain_openai import AzureChatOpenAI"
   ]
  },
  {
   "cell_type": "code",
   "execution_count": 3,
   "id": "7c7da2b2-6b7c-4af3-8560-048da23babc1",
   "metadata": {},
   "outputs": [],
   "source": [
    "from langchain.schema import HumanMessage"
   ]
  },
  {
   "cell_type": "code",
   "execution_count": 4,
   "id": "e5651542-69a3-4205-bf46-f0812e7153b6",
   "metadata": {},
   "outputs": [],
   "source": [
    "model = AzureChatOpenAI(deployment_name=deployment_name)"
   ]
  },
  {
   "cell_type": "code",
   "execution_count": 12,
   "id": "13a3f2f9-6084-4bcb-a490-0ace80bdbb07",
   "metadata": {},
   "outputs": [
    {
     "name": "stdout",
     "output_type": "stream",
     "text": [
      "Calculating 11 raised to the power of 17 (11^17) would be a very large number and is typically not done by hand due to its complexity. However, I can compute it for you.\n",
      "\n",
      "11^17 = 459986536544739960976801\n",
      "\n",
      "So, 11 raised to the power of 17 equals 459,986,536,544,739,960,976,801.\n"
     ]
    }
   ],
   "source": [
    "result = model.invoke([HumanMessage(content=\"what is 11 raised to the power of 17?\")])\n",
    "print(result.content)"
   ]
  },
  {
   "cell_type": "code",
   "execution_count": 11,
   "id": "6a7bc3b7-24cb-4bb5-8f70-c46c69ab1e75",
   "metadata": {},
   "outputs": [
    {
     "data": {
      "text/plain": [
       "505447028499293771"
      ]
     },
     "execution_count": 11,
     "metadata": {},
     "output_type": "execute_result"
    }
   ],
   "source": [
    "11**17"
   ]
  },
  {
   "cell_type": "markdown",
   "id": "1cb507a8-483c-42c9-b083-e13b9ba0afb2",
   "metadata": {},
   "source": [
    "## Easier way"
   ]
  },
  {
   "cell_type": "code",
   "execution_count": 13,
   "id": "c6190177-9469-4011-88b4-dae3bcaef9a9",
   "metadata": {},
   "outputs": [],
   "source": [
    "from langchain import LLMMathChain"
   ]
  },
  {
   "cell_type": "code",
   "execution_count": 16,
   "id": "0d2fb1eb-adf5-4dc3-93ae-fdd8fd97cbf4",
   "metadata": {},
   "outputs": [],
   "source": [
    "llm_math_model = LLMMathChain.from_llm(model)"
   ]
  },
  {
   "cell_type": "code",
   "execution_count": 17,
   "id": "ade9b9ce-2a30-4ea1-af88-284b95cf3cb6",
   "metadata": {},
   "outputs": [
    {
     "data": {
      "text/plain": [
       "{'question': 'what is the 11 raised to the power of 17?',\n",
       " 'answer': 'Answer: 505447028499293771'}"
      ]
     },
     "execution_count": 17,
     "metadata": {},
     "output_type": "execute_result"
    }
   ],
   "source": [
    "llm_math_model.invoke(\"what is the 11 raised to the power of 17?\")"
   ]
  },
  {
   "cell_type": "code",
   "execution_count": null,
   "id": "fb4b1912-9952-4ce3-ad54-5c1e37830182",
   "metadata": {},
   "outputs": [],
   "source": []
  },
  {
   "cell_type": "markdown",
   "id": "84fc3377-1a08-4e3b-a27d-92303ca06c78",
   "metadata": {},
   "source": [
    "## Additional Chain: QA documents"
   ]
  },
  {
   "cell_type": "markdown",
   "id": "5ce5520e-cf86-49b7-b369-c84d2b187700",
   "metadata": {},
   "source": [
    "### Connect to Document vector store"
   ]
  },
  {
   "cell_type": "code",
   "execution_count": 1,
   "id": "7b0edef9-2fcf-4524-9cec-e1688cb93bc6",
   "metadata": {},
   "outputs": [],
   "source": [
    "import dotenv\n",
    "import os\n",
    "dotenv.load_dotenv()\n",
    "deployment_name = os.environ[\"DEPLOYMENT_NAME\"]"
   ]
  },
  {
   "cell_type": "code",
   "execution_count": 2,
   "id": "e7a72dc4-e910-4797-b90d-2d6cbfa4e6d4",
   "metadata": {},
   "outputs": [],
   "source": [
    "from langchain_openai import OpenAIEmbeddings\n",
    "from langchain.vectorstores import Chroma"
   ]
  },
  {
   "cell_type": "code",
   "execution_count": 3,
   "id": "563a54e8-b287-4c95-95a7-8e80262a2a40",
   "metadata": {},
   "outputs": [],
   "source": [
    "embedding_function = OpenAIEmbeddings()"
   ]
  },
  {
   "cell_type": "code",
   "execution_count": 5,
   "id": "87c3ca44-3526-4c22-9278-d512f67e5412",
   "metadata": {},
   "outputs": [],
   "source": [
    "db_connection = Chroma(persist_directory='./us_constitution.db',embedding_function=embedding_function)"
   ]
  },
  {
   "cell_type": "code",
   "execution_count": 6,
   "id": "f7e9f87c-0e85-4bbc-96e7-a4bbd40a6134",
   "metadata": {},
   "outputs": [],
   "source": [
    "from langchain.chains.qa_with_sources import load_qa_with_sources_chain\n",
    "from langchain.chains.question_answering import load_qa_chain"
   ]
  },
  {
   "cell_type": "code",
   "execution_count": 7,
   "id": "299d643f-84ca-4d85-aa24-8ad95635e92a",
   "metadata": {},
   "outputs": [],
   "source": [
    "from langchain_openai import AzureChatOpenAI\n",
    "llm = AzureChatOpenAI(deployment_name=deployment_name)"
   ]
  },
  {
   "cell_type": "code",
   "execution_count": 8,
   "id": "ed67f457-8253-4f4a-b0e8-e2fdfa3b9540",
   "metadata": {},
   "outputs": [],
   "source": [
    "chain = load_qa_chain(llm, chain_type=\"stuff\")"
   ]
  },
  {
   "cell_type": "code",
   "execution_count": 9,
   "id": "e3c85a8b-77c5-4e0b-ac62-6e1d603f090b",
   "metadata": {},
   "outputs": [],
   "source": [
    "question = \"what is the 5th Amendment?\""
   ]
  },
  {
   "cell_type": "code",
   "execution_count": 19,
   "id": "7d72d697-adaf-4c03-ac41-6e880c6e49c4",
   "metadata": {},
   "outputs": [
    {
     "name": "stdout",
     "output_type": "stream",
     "text": [
      "Fourth Amendment\n",
      "The right of the people to be secure in their persons, houses, papers, and effects, against unreasonable searches and seizures, shall not be violated, and no Warrants shall issue, but upon probable cause, supported by Oath or affirmation, and particularly describing the place to be searched, and the persons or things to be seized.\n",
      "\n",
      "Fifth Amendment\n",
      "No person shall be held to answer for a capital, or otherwise infamous crime, unless on a presentment or indictment of a Grand Jury, except in cases arising in the land or naval forces, or in the Militia, when in actual service in time of War or public danger; nor shall any person be subject for the same offence to be twice put in jeopardy of life or limb; nor shall be compelled in any criminal case to be a witness against himself, nor be deprived of life, liberty, or property, without due process of law; nor shall private property be taken for public use, without just compensation.\n",
      "\n",
      "Sixth Amendment\n",
      "In all criminal prosecutions, the accused shall enjoy the right to a speedy and public trial, by an impartial jury of the State and district wherein the crime shall have been committed, which district shall have been previously ascertained by law, and to be informed of the nature and cause of the accusation; to be confronted with the witnesses against him; to have compulsory process for obtaining witnesses in his favor, and to have the Assistance of Counsel for his defence.\n"
     ]
    }
   ],
   "source": [
    "docs = db_connection.similarity_search(question)\n",
    "print(docs[0].page_content)"
   ]
  },
  {
   "cell_type": "code",
   "execution_count": 17,
   "id": "1e4a1907-ff4d-42f2-a4c6-045cf1d523f3",
   "metadata": {},
   "outputs": [
    {
     "name": "stdout",
     "output_type": "stream",
     "text": [
      "The Fifth Amendment is an amendment to the United States Constitution and is part of the Bill of Rights. It includes several provisions related to legal proceedings and the rights of individuals in criminal cases, specifically:\n",
      "\n",
      "1. The right to a grand jury, which determines whether there is enough evidence to charge a person with a serious crime.\n",
      "2. Protection against double jeopardy, which means a person cannot be tried twice for the same offense after an acquittal or conviction.\n",
      "3. The right against self-incrimination, which allows individuals to refuse to testify against themselves in criminal cases.\n",
      "4. The guarantee of due process of law, which ensures fair treatment through the normal judicial system, especially as a citizen's entitlement.\n",
      "5. A provision for compensation when private property is taken for public use, known as the Takings Clause or eminent domain.\n",
      "\n",
      "The exact text of the Fifth Amendment is not provided in the context you've given, but the above summary reflects its key points. If you need the specific wording of the Fifth Amendment, I am currently unable to provide it based on the context provided.\n"
     ]
    }
   ],
   "source": [
    "result = chain.invoke({\"input_documents\":docs, \"question\":question})\n",
    "print(result[\"output_text\"])"
   ]
  },
  {
   "cell_type": "markdown",
   "id": "e2bcb2bc-28ba-4f44-9063-a316ff8fe051",
   "metadata": {},
   "source": [
    "## Get Original Source Context information"
   ]
  },
  {
   "cell_type": "code",
   "execution_count": 12,
   "id": "46a8df89-8261-4868-8792-3bc5871fb9b0",
   "metadata": {},
   "outputs": [],
   "source": [
    "chain2 = load_qa_with_sources_chain(llm,chain_type='stuff')"
   ]
  },
  {
   "cell_type": "code",
   "execution_count": 13,
   "id": "5e786bcf-52b7-4863-975f-7ed8efb23df5",
   "metadata": {},
   "outputs": [],
   "source": [
    "query = \"What is the 1st amendment?\""
   ]
  },
  {
   "cell_type": "code",
   "execution_count": 20,
   "id": "6362dfc2-47b1-40fb-bfe6-d3771be207c3",
   "metadata": {},
   "outputs": [],
   "source": [
    "docs2 = db_connection.similarity_search(query)"
   ]
  },
  {
   "cell_type": "code",
   "execution_count": 23,
   "id": "54723b6e-742a-4b9c-aa51-75fbcfefb7a5",
   "metadata": {},
   "outputs": [
    {
     "name": "stdout",
     "output_type": "stream",
     "text": [
      "{'input_documents': [Document(page_content='Article VII\\nThe Ratification of the Conventions of nine States, shall be sufficient for the Establishment of this Constitution between the States so ratifying the Same.\\n\\nFirst Amendment\\nCongress shall make no law respecting an establishment of religion, or prohibiting the free exercise thereof; or abridging the freedom of speech, or of the press; or the right of the people peaceably to assemble, and to petition the Government for a redress of grievances.\\n\\nSecond Amendment\\nA well regulated Militia, being necessary to the security of a free State, the right of the people to keep and bear Arms, shall not be infringed.\\n\\nThird Amendment\\nNo Soldier shall, in time of peace be quartered in any house, without the consent of the Owner, nor in time of war, but in a manner to be prescribed by law.\\n\\nFourth Amendment\\nThe right of the people to be secure in their persons, houses, papers, and effects, against unreasonable searches and seizures, shall not be violated, and no Warrants shall issue, but upon probable cause, supported by Oath or affirmation, and particularly describing the place to be searched, and the persons or things to be seized.', metadata={'source': './some_data/US_Constitution.txt'}), Document(page_content='The Senators and Representatives before mentioned, and the Members of the several State Legislatures, and all executive and judicial Officers, both of the United States and of the several States, shall be bound by Oath or Affirmation, to support this Constitution; but no religious Test shall ever be required as a Qualification to any Office or public Trust under the United States.\\n\\nArticle VII\\nThe Ratification of the Conventions of nine States, shall be sufficient for the Establishment of this Constitution between the States so ratifying the Same.\\n\\nFirst Amendment\\nCongress shall make no law respecting an establishment of religion, or prohibiting the free exercise thereof; or abridging the freedom of speech, or of the press; or the right of the people peaceably to assemble, and to petition the Government for a redress of grievances.\\n\\nSecond Amendment\\nA well regulated Militia, being necessary to the security of a free State, the right of the people to keep and bear Arms, shall not be infringed.\\n\\nThird Amendment\\nNo Soldier shall, in time of peace be quartered in any house, without the consent of the Owner, nor in time of war, but in a manner to be prescribed by law.\\n\\nFourth Amendment\\nThe right of the people to be secure in their persons, houses, papers, and effects, against unreasonable searches and seizures, shall not be violated, and no Warrants shall issue, but upon probable cause, supported by Oath or affirmation, and particularly describing the place to be searched, and the persons or things to be seized.', metadata={'source': './some_data/US_Constitution.txt'}), Document(page_content='The Senators and Representatives before mentioned, and the Members of the several State Legislatures, and all executive and judicial Officers, both of the United States and of the several States, shall be bound by Oath or Affirmation, to support this Constitution; but no religious Test shall ever be required as a Qualification to any Office or public Trust under the United States.\\n\\nArticle VII\\nThe Ratification of the Conventions of nine States, shall be sufficient for the Establishment of this Constitution between the States so ratifying the Same.\\n\\nFirst Amendment\\nCongress shall make no law respecting an establishment of religion, or prohibiting the free exercise thereof; or abridging the freedom of speech, or of the press; or the right of the people peaceably to assemble, and to petition the Government for a redress of grievances.\\n\\nSecond Amendment\\nA well regulated Militia, being necessary to the security of a free State, the right of the people to keep and bear Arms, shall not be infringed.\\n\\nThird Amendment\\nNo Soldier shall, in time of peace be quartered in any house, without the consent of the Owner, nor in time of war, but in a manner to be prescribed by law.\\n\\nFourth Amendment\\nThe right of the people to be secure in their persons, houses, papers, and effects, against unreasonable searches and seizures, shall not be violated, and no Warrants shall issue, but upon probable cause, supported by Oath or affirmation, and particularly describing the place to be searched, and the persons or things to be seized.', metadata={'source': './some_data/US_Constitution.txt'}), Document(page_content='The Senators and Representatives before mentioned, and the Members of the several State Legislatures, and all executive and judicial Officers, both of the United States and of the several States, shall be bound by Oath or Affirmation, to support this Constitution; but no religious Test shall ever be required as a Qualification to any Office or public Trust under the United States.\\n\\nArticle VII\\nThe Ratification of the Conventions of nine States, shall be sufficient for the Establishment of this Constitution between the States so ratifying the Same.\\n\\nFirst Amendment\\nCongress shall make no law respecting an establishment of religion, or prohibiting the free exercise thereof; or abridging the freedom of speech, or of the press; or the right of the people peaceably to assemble, and to petition the Government for a redress of grievances.\\n\\nSecond Amendment\\nA well regulated Militia, being necessary to the security of a free State, the right of the people to keep and bear Arms, shall not be infringed.\\n\\nThird Amendment\\nNo Soldier shall, in time of peace be quartered in any house, without the consent of the Owner, nor in time of war, but in a manner to be prescribed by law.\\n\\nFourth Amendment\\nThe right of the people to be secure in their persons, houses, papers, and effects, against unreasonable searches and seizures, shall not be violated, and no Warrants shall issue, but upon probable cause, supported by Oath or affirmation, and particularly describing the place to be searched, and the persons or things to be seized.', metadata={'source': './some_data/US_Constitution.txt'})], 'question': 'What is the 1st amendment?', 'output_text': 'The 1st Amendment to the United States Constitution states: \"Congress shall make no law respecting an establishment of religion, or prohibiting the free exercise thereof; or abridging the freedom of speech, or of the press; or the right of the people peaceably to assemble, and to petition the Government for a redress of grievances.\"\\nSOURCES: ./some_data/US_Constitution.txt'}\n",
      "The 1st Amendment to the United States Constitution states: \"Congress shall make no law respecting an establishment of religion, or prohibiting the free exercise thereof; or abridging the freedom of speech, or of the press; or the right of the people peaceably to assemble, and to petition the Government for a redress of grievances.\"\n",
      "SOURCES: ./some_data/US_Constitution.txt\n"
     ]
    }
   ],
   "source": [
    "result2 = chain2.invoke({\"input_documents\":docs2,\"question\":query})\n",
    "print(result2)\n",
    "print(result2[\"output_text\"])"
   ]
  },
  {
   "cell_type": "code",
   "execution_count": 24,
   "id": "673f1adc-d336-46cc-833e-d6bd09d3d2f7",
   "metadata": {},
   "outputs": [
    {
     "data": {
      "text/plain": [
       "dict_keys(['input_documents', 'question', 'output_text'])"
      ]
     },
     "execution_count": 24,
     "metadata": {},
     "output_type": "execute_result"
    }
   ],
   "source": [
    "result2.keys()"
   ]
  },
  {
   "cell_type": "code",
   "execution_count": null,
   "id": "0cc02c34-983a-4f85-bf8d-8c1c8236e696",
   "metadata": {},
   "outputs": [],
   "source": []
  }
 ],
 "metadata": {
  "kernelspec": {
   "display_name": "Python 3 (ipykernel)",
   "language": "python",
   "name": "python3"
  },
  "language_info": {
   "codemirror_mode": {
    "name": "ipython",
    "version": 3
   },
   "file_extension": ".py",
   "mimetype": "text/x-python",
   "name": "python",
   "nbconvert_exporter": "python",
   "pygments_lexer": "ipython3",
   "version": "3.11.9"
  }
 },
 "nbformat": 4,
 "nbformat_minor": 5
}
