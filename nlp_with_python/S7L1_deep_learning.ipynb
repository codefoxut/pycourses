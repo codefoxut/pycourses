{
 "cells": [
  {
   "cell_type": "code",
   "execution_count": 1,
   "id": "2ea0aa6a-7a23-4260-8202-3003008c7913",
   "metadata": {},
   "outputs": [],
   "source": [
    "from sklearn.datasets import load_iris"
   ]
  },
  {
   "cell_type": "code",
   "execution_count": 2,
   "id": "db3b0d2b-a85f-496d-bbff-780f7a0620e5",
   "metadata": {},
   "outputs": [],
   "source": [
    "iris = load_iris()"
   ]
  },
  {
   "cell_type": "code",
   "execution_count": 3,
   "id": "291c6bfc-a07c-4bd5-baff-17ee203bf9e6",
   "metadata": {},
   "outputs": [
    {
     "data": {
      "text/plain": [
       "sklearn.utils._bunch.Bunch"
      ]
     },
     "execution_count": 3,
     "metadata": {},
     "output_type": "execute_result"
    }
   ],
   "source": [
    "type(iris)"
   ]
  },
  {
   "cell_type": "code",
   "execution_count": 4,
   "id": "4d4be0b9-1fa2-4c26-b125-292604ab8e50",
   "metadata": {},
   "outputs": [
    {
     "name": "stdout",
     "output_type": "stream",
     "text": [
      ".. _iris_dataset:\n",
      "\n",
      "Iris plants dataset\n",
      "--------------------\n",
      "\n",
      "**Data Set Characteristics:**\n",
      "\n",
      ":Number of Instances: 150 (50 in each of three classes)\n",
      ":Number of Attributes: 4 numeric, predictive attributes and the class\n",
      ":Attribute Information:\n",
      "    - sepal length in cm\n",
      "    - sepal width in cm\n",
      "    - petal length in cm\n",
      "    - petal width in cm\n",
      "    - class:\n",
      "            - Iris-Setosa\n",
      "            - Iris-Versicolour\n",
      "            - Iris-Virginica\n",
      "\n",
      ":Summary Statistics:\n",
      "\n",
      "============== ==== ==== ======= ===== ====================\n",
      "                Min  Max   Mean    SD   Class Correlation\n",
      "============== ==== ==== ======= ===== ====================\n",
      "sepal length:   4.3  7.9   5.84   0.83    0.7826\n",
      "sepal width:    2.0  4.4   3.05   0.43   -0.4194\n",
      "petal length:   1.0  6.9   3.76   1.76    0.9490  (high!)\n",
      "petal width:    0.1  2.5   1.20   0.76    0.9565  (high!)\n",
      "============== ==== ==== ======= ===== ====================\n",
      "\n",
      ":Missing Attribute Values: None\n",
      ":Class Distribution: 33.3% for each of 3 classes.\n",
      ":Creator: R.A. Fisher\n",
      ":Donor: Michael Marshall (MARSHALL%PLU@io.arc.nasa.gov)\n",
      ":Date: July, 1988\n",
      "\n",
      "The famous Iris database, first used by Sir R.A. Fisher. The dataset is taken\n",
      "from Fisher's paper. Note that it's the same as in R, but not as in the UCI\n",
      "Machine Learning Repository, which has two wrong data points.\n",
      "\n",
      "This is perhaps the best known database to be found in the\n",
      "pattern recognition literature.  Fisher's paper is a classic in the field and\n",
      "is referenced frequently to this day.  (See Duda & Hart, for example.)  The\n",
      "data set contains 3 classes of 50 instances each, where each class refers to a\n",
      "type of iris plant.  One class is linearly separable from the other 2; the\n",
      "latter are NOT linearly separable from each other.\n",
      "\n",
      ".. dropdown:: References\n",
      "\n",
      "  - Fisher, R.A. \"The use of multiple measurements in taxonomic problems\"\n",
      "    Annual Eugenics, 7, Part II, 179-188 (1936); also in \"Contributions to\n",
      "    Mathematical Statistics\" (John Wiley, NY, 1950).\n",
      "  - Duda, R.O., & Hart, P.E. (1973) Pattern Classification and Scene Analysis.\n",
      "    (Q327.D83) John Wiley & Sons.  ISBN 0-471-22361-1.  See page 218.\n",
      "  - Dasarathy, B.V. (1980) \"Nosing Around the Neighborhood: A New System\n",
      "    Structure and Classification Rule for Recognition in Partially Exposed\n",
      "    Environments\".  IEEE Transactions on Pattern Analysis and Machine\n",
      "    Intelligence, Vol. PAMI-2, No. 1, 67-71.\n",
      "  - Gates, G.W. (1972) \"The Reduced Nearest Neighbor Rule\".  IEEE Transactions\n",
      "    on Information Theory, May 1972, 431-433.\n",
      "  - See also: 1988 MLC Proceedings, 54-64.  Cheeseman et al\"s AUTOCLASS II\n",
      "    conceptual clustering system finds 3 classes in the data.\n",
      "  - Many, many more ...\n",
      "\n"
     ]
    }
   ],
   "source": [
    "print(iris.DESCR)"
   ]
  },
  {
   "cell_type": "code",
   "execution_count": 5,
   "id": "54cffe9a-c099-4941-95c7-376b4bb83fe4",
   "metadata": {},
   "outputs": [],
   "source": [
    "X = iris.data"
   ]
  },
  {
   "cell_type": "code",
   "execution_count": 6,
   "id": "f6d499b1-b321-488b-a175-09eefaedffd1",
   "metadata": {},
   "outputs": [
    {
     "data": {
      "text/plain": [
       "array([[5.1, 3.5, 1.4, 0.2],\n",
       "       [4.9, 3. , 1.4, 0.2],\n",
       "       [4.7, 3.2, 1.3, 0.2],\n",
       "       [4.6, 3.1, 1.5, 0.2],\n",
       "       [5. , 3.6, 1.4, 0.2],\n",
       "       [5.4, 3.9, 1.7, 0.4],\n",
       "       [4.6, 3.4, 1.4, 0.3],\n",
       "       [5. , 3.4, 1.5, 0.2],\n",
       "       [4.4, 2.9, 1.4, 0.2],\n",
       "       [4.9, 3.1, 1.5, 0.1],\n",
       "       [5.4, 3.7, 1.5, 0.2],\n",
       "       [4.8, 3.4, 1.6, 0.2],\n",
       "       [4.8, 3. , 1.4, 0.1],\n",
       "       [4.3, 3. , 1.1, 0.1],\n",
       "       [5.8, 4. , 1.2, 0.2],\n",
       "       [5.7, 4.4, 1.5, 0.4],\n",
       "       [5.4, 3.9, 1.3, 0.4],\n",
       "       [5.1, 3.5, 1.4, 0.3],\n",
       "       [5.7, 3.8, 1.7, 0.3],\n",
       "       [5.1, 3.8, 1.5, 0.3],\n",
       "       [5.4, 3.4, 1.7, 0.2],\n",
       "       [5.1, 3.7, 1.5, 0.4],\n",
       "       [4.6, 3.6, 1. , 0.2],\n",
       "       [5.1, 3.3, 1.7, 0.5],\n",
       "       [4.8, 3.4, 1.9, 0.2],\n",
       "       [5. , 3. , 1.6, 0.2],\n",
       "       [5. , 3.4, 1.6, 0.4],\n",
       "       [5.2, 3.5, 1.5, 0.2],\n",
       "       [5.2, 3.4, 1.4, 0.2],\n",
       "       [4.7, 3.2, 1.6, 0.2],\n",
       "       [4.8, 3.1, 1.6, 0.2],\n",
       "       [5.4, 3.4, 1.5, 0.4],\n",
       "       [5.2, 4.1, 1.5, 0.1],\n",
       "       [5.5, 4.2, 1.4, 0.2],\n",
       "       [4.9, 3.1, 1.5, 0.2],\n",
       "       [5. , 3.2, 1.2, 0.2],\n",
       "       [5.5, 3.5, 1.3, 0.2],\n",
       "       [4.9, 3.6, 1.4, 0.1],\n",
       "       [4.4, 3. , 1.3, 0.2],\n",
       "       [5.1, 3.4, 1.5, 0.2],\n",
       "       [5. , 3.5, 1.3, 0.3],\n",
       "       [4.5, 2.3, 1.3, 0.3],\n",
       "       [4.4, 3.2, 1.3, 0.2],\n",
       "       [5. , 3.5, 1.6, 0.6],\n",
       "       [5.1, 3.8, 1.9, 0.4],\n",
       "       [4.8, 3. , 1.4, 0.3],\n",
       "       [5.1, 3.8, 1.6, 0.2],\n",
       "       [4.6, 3.2, 1.4, 0.2],\n",
       "       [5.3, 3.7, 1.5, 0.2],\n",
       "       [5. , 3.3, 1.4, 0.2],\n",
       "       [7. , 3.2, 4.7, 1.4],\n",
       "       [6.4, 3.2, 4.5, 1.5],\n",
       "       [6.9, 3.1, 4.9, 1.5],\n",
       "       [5.5, 2.3, 4. , 1.3],\n",
       "       [6.5, 2.8, 4.6, 1.5],\n",
       "       [5.7, 2.8, 4.5, 1.3],\n",
       "       [6.3, 3.3, 4.7, 1.6],\n",
       "       [4.9, 2.4, 3.3, 1. ],\n",
       "       [6.6, 2.9, 4.6, 1.3],\n",
       "       [5.2, 2.7, 3.9, 1.4],\n",
       "       [5. , 2. , 3.5, 1. ],\n",
       "       [5.9, 3. , 4.2, 1.5],\n",
       "       [6. , 2.2, 4. , 1. ],\n",
       "       [6.1, 2.9, 4.7, 1.4],\n",
       "       [5.6, 2.9, 3.6, 1.3],\n",
       "       [6.7, 3.1, 4.4, 1.4],\n",
       "       [5.6, 3. , 4.5, 1.5],\n",
       "       [5.8, 2.7, 4.1, 1. ],\n",
       "       [6.2, 2.2, 4.5, 1.5],\n",
       "       [5.6, 2.5, 3.9, 1.1],\n",
       "       [5.9, 3.2, 4.8, 1.8],\n",
       "       [6.1, 2.8, 4. , 1.3],\n",
       "       [6.3, 2.5, 4.9, 1.5],\n",
       "       [6.1, 2.8, 4.7, 1.2],\n",
       "       [6.4, 2.9, 4.3, 1.3],\n",
       "       [6.6, 3. , 4.4, 1.4],\n",
       "       [6.8, 2.8, 4.8, 1.4],\n",
       "       [6.7, 3. , 5. , 1.7],\n",
       "       [6. , 2.9, 4.5, 1.5],\n",
       "       [5.7, 2.6, 3.5, 1. ],\n",
       "       [5.5, 2.4, 3.8, 1.1],\n",
       "       [5.5, 2.4, 3.7, 1. ],\n",
       "       [5.8, 2.7, 3.9, 1.2],\n",
       "       [6. , 2.7, 5.1, 1.6],\n",
       "       [5.4, 3. , 4.5, 1.5],\n",
       "       [6. , 3.4, 4.5, 1.6],\n",
       "       [6.7, 3.1, 4.7, 1.5],\n",
       "       [6.3, 2.3, 4.4, 1.3],\n",
       "       [5.6, 3. , 4.1, 1.3],\n",
       "       [5.5, 2.5, 4. , 1.3],\n",
       "       [5.5, 2.6, 4.4, 1.2],\n",
       "       [6.1, 3. , 4.6, 1.4],\n",
       "       [5.8, 2.6, 4. , 1.2],\n",
       "       [5. , 2.3, 3.3, 1. ],\n",
       "       [5.6, 2.7, 4.2, 1.3],\n",
       "       [5.7, 3. , 4.2, 1.2],\n",
       "       [5.7, 2.9, 4.2, 1.3],\n",
       "       [6.2, 2.9, 4.3, 1.3],\n",
       "       [5.1, 2.5, 3. , 1.1],\n",
       "       [5.7, 2.8, 4.1, 1.3],\n",
       "       [6.3, 3.3, 6. , 2.5],\n",
       "       [5.8, 2.7, 5.1, 1.9],\n",
       "       [7.1, 3. , 5.9, 2.1],\n",
       "       [6.3, 2.9, 5.6, 1.8],\n",
       "       [6.5, 3. , 5.8, 2.2],\n",
       "       [7.6, 3. , 6.6, 2.1],\n",
       "       [4.9, 2.5, 4.5, 1.7],\n",
       "       [7.3, 2.9, 6.3, 1.8],\n",
       "       [6.7, 2.5, 5.8, 1.8],\n",
       "       [7.2, 3.6, 6.1, 2.5],\n",
       "       [6.5, 3.2, 5.1, 2. ],\n",
       "       [6.4, 2.7, 5.3, 1.9],\n",
       "       [6.8, 3. , 5.5, 2.1],\n",
       "       [5.7, 2.5, 5. , 2. ],\n",
       "       [5.8, 2.8, 5.1, 2.4],\n",
       "       [6.4, 3.2, 5.3, 2.3],\n",
       "       [6.5, 3. , 5.5, 1.8],\n",
       "       [7.7, 3.8, 6.7, 2.2],\n",
       "       [7.7, 2.6, 6.9, 2.3],\n",
       "       [6. , 2.2, 5. , 1.5],\n",
       "       [6.9, 3.2, 5.7, 2.3],\n",
       "       [5.6, 2.8, 4.9, 2. ],\n",
       "       [7.7, 2.8, 6.7, 2. ],\n",
       "       [6.3, 2.7, 4.9, 1.8],\n",
       "       [6.7, 3.3, 5.7, 2.1],\n",
       "       [7.2, 3.2, 6. , 1.8],\n",
       "       [6.2, 2.8, 4.8, 1.8],\n",
       "       [6.1, 3. , 4.9, 1.8],\n",
       "       [6.4, 2.8, 5.6, 2.1],\n",
       "       [7.2, 3. , 5.8, 1.6],\n",
       "       [7.4, 2.8, 6.1, 1.9],\n",
       "       [7.9, 3.8, 6.4, 2. ],\n",
       "       [6.4, 2.8, 5.6, 2.2],\n",
       "       [6.3, 2.8, 5.1, 1.5],\n",
       "       [6.1, 2.6, 5.6, 1.4],\n",
       "       [7.7, 3. , 6.1, 2.3],\n",
       "       [6.3, 3.4, 5.6, 2.4],\n",
       "       [6.4, 3.1, 5.5, 1.8],\n",
       "       [6. , 3. , 4.8, 1.8],\n",
       "       [6.9, 3.1, 5.4, 2.1],\n",
       "       [6.7, 3.1, 5.6, 2.4],\n",
       "       [6.9, 3.1, 5.1, 2.3],\n",
       "       [5.8, 2.7, 5.1, 1.9],\n",
       "       [6.8, 3.2, 5.9, 2.3],\n",
       "       [6.7, 3.3, 5.7, 2.5],\n",
       "       [6.7, 3. , 5.2, 2.3],\n",
       "       [6.3, 2.5, 5. , 1.9],\n",
       "       [6.5, 3. , 5.2, 2. ],\n",
       "       [6.2, 3.4, 5.4, 2.3],\n",
       "       [5.9, 3. , 5.1, 1.8]])"
      ]
     },
     "execution_count": 6,
     "metadata": {},
     "output_type": "execute_result"
    }
   ],
   "source": [
    "X"
   ]
  },
  {
   "cell_type": "code",
   "execution_count": 7,
   "id": "d0780277-08fb-45d3-b6a5-c86e0035faa0",
   "metadata": {},
   "outputs": [
    {
     "data": {
      "text/plain": [
       "(150, 4)"
      ]
     },
     "execution_count": 7,
     "metadata": {},
     "output_type": "execute_result"
    }
   ],
   "source": [
    "X.shape"
   ]
  },
  {
   "cell_type": "code",
   "execution_count": 8,
   "id": "1bb65138-cfa5-40ea-a97c-2afe47b927f6",
   "metadata": {},
   "outputs": [],
   "source": [
    "y = iris.target"
   ]
  },
  {
   "cell_type": "code",
   "execution_count": 9,
   "id": "9ace33a8-b2c2-440d-b8ea-daec45687446",
   "metadata": {},
   "outputs": [
    {
     "data": {
      "text/plain": [
       "array([0, 0, 0, 0, 0, 0, 0, 0, 0, 0, 0, 0, 0, 0, 0, 0, 0, 0, 0, 0, 0, 0,\n",
       "       0, 0, 0, 0, 0, 0, 0, 0, 0, 0, 0, 0, 0, 0, 0, 0, 0, 0, 0, 0, 0, 0,\n",
       "       0, 0, 0, 0, 0, 0, 1, 1, 1, 1, 1, 1, 1, 1, 1, 1, 1, 1, 1, 1, 1, 1,\n",
       "       1, 1, 1, 1, 1, 1, 1, 1, 1, 1, 1, 1, 1, 1, 1, 1, 1, 1, 1, 1, 1, 1,\n",
       "       1, 1, 1, 1, 1, 1, 1, 1, 1, 1, 1, 1, 2, 2, 2, 2, 2, 2, 2, 2, 2, 2,\n",
       "       2, 2, 2, 2, 2, 2, 2, 2, 2, 2, 2, 2, 2, 2, 2, 2, 2, 2, 2, 2, 2, 2,\n",
       "       2, 2, 2, 2, 2, 2, 2, 2, 2, 2, 2, 2, 2, 2, 2, 2, 2, 2])"
      ]
     },
     "execution_count": 9,
     "metadata": {},
     "output_type": "execute_result"
    }
   ],
   "source": [
    "y"
   ]
  },
  {
   "cell_type": "code",
   "execution_count": 10,
   "id": "987af923-74d9-4dcd-b6f0-84aa98cdd046",
   "metadata": {},
   "outputs": [
    {
     "data": {
      "text/plain": [
       "(150,)"
      ]
     },
     "execution_count": 10,
     "metadata": {},
     "output_type": "execute_result"
    }
   ],
   "source": [
    "y.shape"
   ]
  },
  {
   "cell_type": "code",
   "execution_count": 11,
   "id": "a0452c61-c7d6-4ce5-bbb7-9e98f379ef5b",
   "metadata": {},
   "outputs": [],
   "source": [
    "from keras.utils import to_categorical"
   ]
  },
  {
   "cell_type": "code",
   "execution_count": 12,
   "id": "5243394d-947d-43ee-a075-bd2b4f64663f",
   "metadata": {},
   "outputs": [],
   "source": [
    "y = to_categorical(y)"
   ]
  },
  {
   "cell_type": "code",
   "execution_count": 13,
   "id": "80331b57-1c59-4284-81b3-7311b0bcd44b",
   "metadata": {},
   "outputs": [
    {
     "data": {
      "text/plain": [
       "array([[1., 0., 0.],\n",
       "       [1., 0., 0.],\n",
       "       [1., 0., 0.],\n",
       "       [1., 0., 0.],\n",
       "       [1., 0., 0.],\n",
       "       [1., 0., 0.],\n",
       "       [1., 0., 0.],\n",
       "       [1., 0., 0.],\n",
       "       [1., 0., 0.],\n",
       "       [1., 0., 0.],\n",
       "       [1., 0., 0.],\n",
       "       [1., 0., 0.],\n",
       "       [1., 0., 0.],\n",
       "       [1., 0., 0.],\n",
       "       [1., 0., 0.],\n",
       "       [1., 0., 0.],\n",
       "       [1., 0., 0.],\n",
       "       [1., 0., 0.],\n",
       "       [1., 0., 0.],\n",
       "       [1., 0., 0.],\n",
       "       [1., 0., 0.],\n",
       "       [1., 0., 0.],\n",
       "       [1., 0., 0.],\n",
       "       [1., 0., 0.],\n",
       "       [1., 0., 0.],\n",
       "       [1., 0., 0.],\n",
       "       [1., 0., 0.],\n",
       "       [1., 0., 0.],\n",
       "       [1., 0., 0.],\n",
       "       [1., 0., 0.],\n",
       "       [1., 0., 0.],\n",
       "       [1., 0., 0.],\n",
       "       [1., 0., 0.],\n",
       "       [1., 0., 0.],\n",
       "       [1., 0., 0.],\n",
       "       [1., 0., 0.],\n",
       "       [1., 0., 0.],\n",
       "       [1., 0., 0.],\n",
       "       [1., 0., 0.],\n",
       "       [1., 0., 0.],\n",
       "       [1., 0., 0.],\n",
       "       [1., 0., 0.],\n",
       "       [1., 0., 0.],\n",
       "       [1., 0., 0.],\n",
       "       [1., 0., 0.],\n",
       "       [1., 0., 0.],\n",
       "       [1., 0., 0.],\n",
       "       [1., 0., 0.],\n",
       "       [1., 0., 0.],\n",
       "       [1., 0., 0.],\n",
       "       [0., 1., 0.],\n",
       "       [0., 1., 0.],\n",
       "       [0., 1., 0.],\n",
       "       [0., 1., 0.],\n",
       "       [0., 1., 0.],\n",
       "       [0., 1., 0.],\n",
       "       [0., 1., 0.],\n",
       "       [0., 1., 0.],\n",
       "       [0., 1., 0.],\n",
       "       [0., 1., 0.],\n",
       "       [0., 1., 0.],\n",
       "       [0., 1., 0.],\n",
       "       [0., 1., 0.],\n",
       "       [0., 1., 0.],\n",
       "       [0., 1., 0.],\n",
       "       [0., 1., 0.],\n",
       "       [0., 1., 0.],\n",
       "       [0., 1., 0.],\n",
       "       [0., 1., 0.],\n",
       "       [0., 1., 0.],\n",
       "       [0., 1., 0.],\n",
       "       [0., 1., 0.],\n",
       "       [0., 1., 0.],\n",
       "       [0., 1., 0.],\n",
       "       [0., 1., 0.],\n",
       "       [0., 1., 0.],\n",
       "       [0., 1., 0.],\n",
       "       [0., 1., 0.],\n",
       "       [0., 1., 0.],\n",
       "       [0., 1., 0.],\n",
       "       [0., 1., 0.],\n",
       "       [0., 1., 0.],\n",
       "       [0., 1., 0.],\n",
       "       [0., 1., 0.],\n",
       "       [0., 1., 0.],\n",
       "       [0., 1., 0.],\n",
       "       [0., 1., 0.],\n",
       "       [0., 1., 0.],\n",
       "       [0., 1., 0.],\n",
       "       [0., 1., 0.],\n",
       "       [0., 1., 0.],\n",
       "       [0., 1., 0.],\n",
       "       [0., 1., 0.],\n",
       "       [0., 1., 0.],\n",
       "       [0., 1., 0.],\n",
       "       [0., 1., 0.],\n",
       "       [0., 1., 0.],\n",
       "       [0., 1., 0.],\n",
       "       [0., 1., 0.],\n",
       "       [0., 1., 0.],\n",
       "       [0., 0., 1.],\n",
       "       [0., 0., 1.],\n",
       "       [0., 0., 1.],\n",
       "       [0., 0., 1.],\n",
       "       [0., 0., 1.],\n",
       "       [0., 0., 1.],\n",
       "       [0., 0., 1.],\n",
       "       [0., 0., 1.],\n",
       "       [0., 0., 1.],\n",
       "       [0., 0., 1.],\n",
       "       [0., 0., 1.],\n",
       "       [0., 0., 1.],\n",
       "       [0., 0., 1.],\n",
       "       [0., 0., 1.],\n",
       "       [0., 0., 1.],\n",
       "       [0., 0., 1.],\n",
       "       [0., 0., 1.],\n",
       "       [0., 0., 1.],\n",
       "       [0., 0., 1.],\n",
       "       [0., 0., 1.],\n",
       "       [0., 0., 1.],\n",
       "       [0., 0., 1.],\n",
       "       [0., 0., 1.],\n",
       "       [0., 0., 1.],\n",
       "       [0., 0., 1.],\n",
       "       [0., 0., 1.],\n",
       "       [0., 0., 1.],\n",
       "       [0., 0., 1.],\n",
       "       [0., 0., 1.],\n",
       "       [0., 0., 1.],\n",
       "       [0., 0., 1.],\n",
       "       [0., 0., 1.],\n",
       "       [0., 0., 1.],\n",
       "       [0., 0., 1.],\n",
       "       [0., 0., 1.],\n",
       "       [0., 0., 1.],\n",
       "       [0., 0., 1.],\n",
       "       [0., 0., 1.],\n",
       "       [0., 0., 1.],\n",
       "       [0., 0., 1.],\n",
       "       [0., 0., 1.],\n",
       "       [0., 0., 1.],\n",
       "       [0., 0., 1.],\n",
       "       [0., 0., 1.],\n",
       "       [0., 0., 1.],\n",
       "       [0., 0., 1.],\n",
       "       [0., 0., 1.],\n",
       "       [0., 0., 1.],\n",
       "       [0., 0., 1.],\n",
       "       [0., 0., 1.]])"
      ]
     },
     "execution_count": 13,
     "metadata": {},
     "output_type": "execute_result"
    }
   ],
   "source": [
    "y"
   ]
  },
  {
   "cell_type": "code",
   "execution_count": 14,
   "id": "bc1a5c2d-fcf9-4a11-917f-4c5e412a6d3e",
   "metadata": {},
   "outputs": [
    {
     "data": {
      "text/plain": [
       "(150, 3)"
      ]
     },
     "execution_count": 14,
     "metadata": {},
     "output_type": "execute_result"
    }
   ],
   "source": [
    "y.shape"
   ]
  },
  {
   "cell_type": "code",
   "execution_count": 15,
   "id": "028219ae-c990-411f-81ce-f1309d055ddd",
   "metadata": {},
   "outputs": [],
   "source": [
    "from sklearn.model_selection import train_test_split"
   ]
  },
  {
   "cell_type": "code",
   "execution_count": 16,
   "id": "e5c9fe3b-cc4f-44f9-9497-9352c5add5fc",
   "metadata": {},
   "outputs": [],
   "source": [
    "X_train, X_test, y_train, y_test = train_test_split(X, y, test_size=0.33, random_state=43)"
   ]
  },
  {
   "cell_type": "code",
   "execution_count": 17,
   "id": "41a6d9d2-9793-43be-a630-4d7fff78b18f",
   "metadata": {},
   "outputs": [
    {
     "data": {
      "text/plain": [
       "array([[6.3, 2.5, 4.9, 1.5],\n",
       "       [5.8, 2.7, 3.9, 1.2],\n",
       "       [6.7, 3.1, 4.7, 1.5],\n",
       "       [5.8, 2.7, 5.1, 1.9],\n",
       "       [5.4, 3.4, 1.7, 0.2],\n",
       "       [4.9, 2.5, 4.5, 1.7],\n",
       "       [7.7, 3. , 6.1, 2.3],\n",
       "       [5. , 3.5, 1.6, 0.6],\n",
       "       [6. , 2.7, 5.1, 1.6],\n",
       "       [6.4, 3.2, 5.3, 2.3],\n",
       "       [5.8, 2.6, 4. , 1.2],\n",
       "       [5. , 3.6, 1.4, 0.2],\n",
       "       [4.9, 3.1, 1.5, 0.1],\n",
       "       [6.5, 2.8, 4.6, 1.5],\n",
       "       [7.1, 3. , 5.9, 2.1],\n",
       "       [6.9, 3.1, 5.4, 2.1],\n",
       "       [4.4, 2.9, 1.4, 0.2],\n",
       "       [4.3, 3. , 1.1, 0.1],\n",
       "       [5.4, 3.9, 1.7, 0.4],\n",
       "       [5.5, 4.2, 1.4, 0.2],\n",
       "       [5.4, 3.4, 1.5, 0.4],\n",
       "       [5.2, 2.7, 3.9, 1.4],\n",
       "       [6. , 2.2, 5. , 1.5],\n",
       "       [6.1, 2.9, 4.7, 1.4],\n",
       "       [6.4, 2.8, 5.6, 2.2],\n",
       "       [6.7, 3.3, 5.7, 2.5],\n",
       "       [6.7, 3.1, 5.6, 2.4],\n",
       "       [6.5, 3. , 5.2, 2. ],\n",
       "       [4.4, 3.2, 1.3, 0.2],\n",
       "       [5.7, 2.8, 4.1, 1.3],\n",
       "       [5. , 3.5, 1.3, 0.3],\n",
       "       [5.8, 4. , 1.2, 0.2],\n",
       "       [7.4, 2.8, 6.1, 1.9],\n",
       "       [5.1, 3.8, 1.9, 0.4],\n",
       "       [4.6, 3.4, 1.4, 0.3],\n",
       "       [5.6, 2.7, 4.2, 1.3],\n",
       "       [4.8, 3.4, 1.9, 0.2],\n",
       "       [5.9, 3.2, 4.8, 1.8],\n",
       "       [6.9, 3.1, 5.1, 2.3],\n",
       "       [5.1, 3.3, 1.7, 0.5],\n",
       "       [5.7, 3.8, 1.7, 0.3],\n",
       "       [5.6, 2.8, 4.9, 2. ],\n",
       "       [5.1, 3.8, 1.6, 0.2],\n",
       "       [7.2, 3.6, 6.1, 2.5],\n",
       "       [6.8, 3.2, 5.9, 2.3],\n",
       "       [6.5, 3. , 5.5, 1.8],\n",
       "       [5.7, 3. , 4.2, 1.2],\n",
       "       [7.2, 3. , 5.8, 1.6],\n",
       "       [6.7, 3. , 5.2, 2.3],\n",
       "       [5.2, 3.5, 1.5, 0.2],\n",
       "       [6.4, 3.1, 5.5, 1.8],\n",
       "       [6.3, 2.5, 5. , 1.9],\n",
       "       [6. , 3.4, 4.5, 1.6],\n",
       "       [7.2, 3.2, 6. , 1.8],\n",
       "       [5. , 3.4, 1.6, 0.4],\n",
       "       [4.7, 3.2, 1.6, 0.2],\n",
       "       [5. , 3. , 1.6, 0.2],\n",
       "       [7.3, 2.9, 6.3, 1.8],\n",
       "       [4.5, 2.3, 1.3, 0.3],\n",
       "       [6.3, 3.4, 5.6, 2.4],\n",
       "       [4.6, 3.1, 1.5, 0.2],\n",
       "       [6.4, 2.8, 5.6, 2.1],\n",
       "       [5.5, 2.3, 4. , 1.3],\n",
       "       [6.5, 3. , 5.8, 2.2],\n",
       "       [4.6, 3.2, 1.4, 0.2],\n",
       "       [5.4, 3. , 4.5, 1.5],\n",
       "       [5.9, 3. , 4.2, 1.5],\n",
       "       [5. , 3.4, 1.5, 0.2],\n",
       "       [6.7, 3.3, 5.7, 2.1],\n",
       "       [5.2, 3.4, 1.4, 0.2],\n",
       "       [5.9, 3. , 5.1, 1.8],\n",
       "       [6.9, 3.1, 4.9, 1.5],\n",
       "       [5.3, 3.7, 1.5, 0.2],\n",
       "       [6.3, 2.8, 5.1, 1.5],\n",
       "       [6.1, 2.8, 4.7, 1.2],\n",
       "       [6.8, 3. , 5.5, 2.1],\n",
       "       [5. , 2. , 3.5, 1. ],\n",
       "       [6.4, 2.9, 4.3, 1.3],\n",
       "       [5.2, 4.1, 1.5, 0.1],\n",
       "       [7.9, 3.8, 6.4, 2. ],\n",
       "       [5.5, 3.5, 1.3, 0.2],\n",
       "       [7.7, 3.8, 6.7, 2.2],\n",
       "       [6.6, 3. , 4.4, 1.4],\n",
       "       [4.9, 3.1, 1.5, 0.2],\n",
       "       [6.4, 2.7, 5.3, 1.9],\n",
       "       [5.5, 2.5, 4. , 1.3],\n",
       "       [6.3, 2.7, 4.9, 1.8],\n",
       "       [6.1, 3. , 4.9, 1.8],\n",
       "       [5. , 3.2, 1.2, 0.2],\n",
       "       [6.2, 3.4, 5.4, 2.3],\n",
       "       [6.3, 2.3, 4.4, 1.3],\n",
       "       [6.5, 3.2, 5.1, 2. ],\n",
       "       [6.1, 3. , 4.6, 1.4],\n",
       "       [6.4, 3.2, 4.5, 1.5],\n",
       "       [5.4, 3.9, 1.3, 0.4],\n",
       "       [6.6, 2.9, 4.6, 1.3],\n",
       "       [5.1, 3.7, 1.5, 0.4],\n",
       "       [5. , 3.3, 1.4, 0.2],\n",
       "       [5.6, 2.9, 3.6, 1.3],\n",
       "       [6.2, 2.2, 4.5, 1.5]])"
      ]
     },
     "execution_count": 17,
     "metadata": {},
     "output_type": "execute_result"
    }
   ],
   "source": [
    "X_train"
   ]
  },
  {
   "cell_type": "code",
   "execution_count": 19,
   "id": "49dd3e4c-4c03-461f-854b-086bb39e7668",
   "metadata": {},
   "outputs": [
    {
     "data": {
      "text/plain": [
       "(100, 4)"
      ]
     },
     "execution_count": 19,
     "metadata": {},
     "output_type": "execute_result"
    }
   ],
   "source": [
    "X_train.shape"
   ]
  },
  {
   "cell_type": "code",
   "execution_count": 20,
   "id": "4a46460a-8850-4084-a17c-b40d1c5c2515",
   "metadata": {},
   "outputs": [
    {
     "data": {
      "text/plain": [
       "(50, 4)"
      ]
     },
     "execution_count": 20,
     "metadata": {},
     "output_type": "execute_result"
    }
   ],
   "source": [
    "X_test.shape"
   ]
  },
  {
   "cell_type": "code",
   "execution_count": 21,
   "id": "2603f066-e41e-4263-9e84-3dcaffad7a73",
   "metadata": {},
   "outputs": [
    {
     "data": {
      "text/plain": [
       "(100, 3)"
      ]
     },
     "execution_count": 21,
     "metadata": {},
     "output_type": "execute_result"
    }
   ],
   "source": [
    "y_train.shape"
   ]
  },
  {
   "cell_type": "code",
   "execution_count": 22,
   "id": "9c9322f3-3cdf-4aad-9357-4f326e0a23cb",
   "metadata": {},
   "outputs": [
    {
     "data": {
      "text/plain": [
       "(50, 3)"
      ]
     },
     "execution_count": 22,
     "metadata": {},
     "output_type": "execute_result"
    }
   ],
   "source": [
    "y_test.shape"
   ]
  },
  {
   "cell_type": "code",
   "execution_count": 23,
   "id": "a798d12f-251b-4f28-9292-a79e32b99471",
   "metadata": {},
   "outputs": [],
   "source": [
    "from sklearn.preprocessing import MinMaxScaler"
   ]
  },
  {
   "cell_type": "code",
   "execution_count": 24,
   "id": "61577ead-740e-46ff-8a03-c56b5d0d0077",
   "metadata": {},
   "outputs": [],
   "source": [
    "scaler_obj = MinMaxScaler()"
   ]
  },
  {
   "cell_type": "code",
   "execution_count": 25,
   "id": "e593c5ee-3d98-4dbd-afe2-eff209470756",
   "metadata": {},
   "outputs": [
    {
     "data": {
      "text/html": [
       "<style>#sk-container-id-1 {\n",
       "  /* Definition of color scheme common for light and dark mode */\n",
       "  --sklearn-color-text: black;\n",
       "  --sklearn-color-line: gray;\n",
       "  /* Definition of color scheme for unfitted estimators */\n",
       "  --sklearn-color-unfitted-level-0: #fff5e6;\n",
       "  --sklearn-color-unfitted-level-1: #f6e4d2;\n",
       "  --sklearn-color-unfitted-level-2: #ffe0b3;\n",
       "  --sklearn-color-unfitted-level-3: chocolate;\n",
       "  /* Definition of color scheme for fitted estimators */\n",
       "  --sklearn-color-fitted-level-0: #f0f8ff;\n",
       "  --sklearn-color-fitted-level-1: #d4ebff;\n",
       "  --sklearn-color-fitted-level-2: #b3dbfd;\n",
       "  --sklearn-color-fitted-level-3: cornflowerblue;\n",
       "\n",
       "  /* Specific color for light theme */\n",
       "  --sklearn-color-text-on-default-background: var(--sg-text-color, var(--theme-code-foreground, var(--jp-content-font-color1, black)));\n",
       "  --sklearn-color-background: var(--sg-background-color, var(--theme-background, var(--jp-layout-color0, white)));\n",
       "  --sklearn-color-border-box: var(--sg-text-color, var(--theme-code-foreground, var(--jp-content-font-color1, black)));\n",
       "  --sklearn-color-icon: #696969;\n",
       "\n",
       "  @media (prefers-color-scheme: dark) {\n",
       "    /* Redefinition of color scheme for dark theme */\n",
       "    --sklearn-color-text-on-default-background: var(--sg-text-color, var(--theme-code-foreground, var(--jp-content-font-color1, white)));\n",
       "    --sklearn-color-background: var(--sg-background-color, var(--theme-background, var(--jp-layout-color0, #111)));\n",
       "    --sklearn-color-border-box: var(--sg-text-color, var(--theme-code-foreground, var(--jp-content-font-color1, white)));\n",
       "    --sklearn-color-icon: #878787;\n",
       "  }\n",
       "}\n",
       "\n",
       "#sk-container-id-1 {\n",
       "  color: var(--sklearn-color-text);\n",
       "}\n",
       "\n",
       "#sk-container-id-1 pre {\n",
       "  padding: 0;\n",
       "}\n",
       "\n",
       "#sk-container-id-1 input.sk-hidden--visually {\n",
       "  border: 0;\n",
       "  clip: rect(1px 1px 1px 1px);\n",
       "  clip: rect(1px, 1px, 1px, 1px);\n",
       "  height: 1px;\n",
       "  margin: -1px;\n",
       "  overflow: hidden;\n",
       "  padding: 0;\n",
       "  position: absolute;\n",
       "  width: 1px;\n",
       "}\n",
       "\n",
       "#sk-container-id-1 div.sk-dashed-wrapped {\n",
       "  border: 1px dashed var(--sklearn-color-line);\n",
       "  margin: 0 0.4em 0.5em 0.4em;\n",
       "  box-sizing: border-box;\n",
       "  padding-bottom: 0.4em;\n",
       "  background-color: var(--sklearn-color-background);\n",
       "}\n",
       "\n",
       "#sk-container-id-1 div.sk-container {\n",
       "  /* jupyter's `normalize.less` sets `[hidden] { display: none; }`\n",
       "     but bootstrap.min.css set `[hidden] { display: none !important; }`\n",
       "     so we also need the `!important` here to be able to override the\n",
       "     default hidden behavior on the sphinx rendered scikit-learn.org.\n",
       "     See: https://github.com/scikit-learn/scikit-learn/issues/21755 */\n",
       "  display: inline-block !important;\n",
       "  position: relative;\n",
       "}\n",
       "\n",
       "#sk-container-id-1 div.sk-text-repr-fallback {\n",
       "  display: none;\n",
       "}\n",
       "\n",
       "div.sk-parallel-item,\n",
       "div.sk-serial,\n",
       "div.sk-item {\n",
       "  /* draw centered vertical line to link estimators */\n",
       "  background-image: linear-gradient(var(--sklearn-color-text-on-default-background), var(--sklearn-color-text-on-default-background));\n",
       "  background-size: 2px 100%;\n",
       "  background-repeat: no-repeat;\n",
       "  background-position: center center;\n",
       "}\n",
       "\n",
       "/* Parallel-specific style estimator block */\n",
       "\n",
       "#sk-container-id-1 div.sk-parallel-item::after {\n",
       "  content: \"\";\n",
       "  width: 100%;\n",
       "  border-bottom: 2px solid var(--sklearn-color-text-on-default-background);\n",
       "  flex-grow: 1;\n",
       "}\n",
       "\n",
       "#sk-container-id-1 div.sk-parallel {\n",
       "  display: flex;\n",
       "  align-items: stretch;\n",
       "  justify-content: center;\n",
       "  background-color: var(--sklearn-color-background);\n",
       "  position: relative;\n",
       "}\n",
       "\n",
       "#sk-container-id-1 div.sk-parallel-item {\n",
       "  display: flex;\n",
       "  flex-direction: column;\n",
       "}\n",
       "\n",
       "#sk-container-id-1 div.sk-parallel-item:first-child::after {\n",
       "  align-self: flex-end;\n",
       "  width: 50%;\n",
       "}\n",
       "\n",
       "#sk-container-id-1 div.sk-parallel-item:last-child::after {\n",
       "  align-self: flex-start;\n",
       "  width: 50%;\n",
       "}\n",
       "\n",
       "#sk-container-id-1 div.sk-parallel-item:only-child::after {\n",
       "  width: 0;\n",
       "}\n",
       "\n",
       "/* Serial-specific style estimator block */\n",
       "\n",
       "#sk-container-id-1 div.sk-serial {\n",
       "  display: flex;\n",
       "  flex-direction: column;\n",
       "  align-items: center;\n",
       "  background-color: var(--sklearn-color-background);\n",
       "  padding-right: 1em;\n",
       "  padding-left: 1em;\n",
       "}\n",
       "\n",
       "\n",
       "/* Toggleable style: style used for estimator/Pipeline/ColumnTransformer box that is\n",
       "clickable and can be expanded/collapsed.\n",
       "- Pipeline and ColumnTransformer use this feature and define the default style\n",
       "- Estimators will overwrite some part of the style using the `sk-estimator` class\n",
       "*/\n",
       "\n",
       "/* Pipeline and ColumnTransformer style (default) */\n",
       "\n",
       "#sk-container-id-1 div.sk-toggleable {\n",
       "  /* Default theme specific background. It is overwritten whether we have a\n",
       "  specific estimator or a Pipeline/ColumnTransformer */\n",
       "  background-color: var(--sklearn-color-background);\n",
       "}\n",
       "\n",
       "/* Toggleable label */\n",
       "#sk-container-id-1 label.sk-toggleable__label {\n",
       "  cursor: pointer;\n",
       "  display: block;\n",
       "  width: 100%;\n",
       "  margin-bottom: 0;\n",
       "  padding: 0.5em;\n",
       "  box-sizing: border-box;\n",
       "  text-align: center;\n",
       "}\n",
       "\n",
       "#sk-container-id-1 label.sk-toggleable__label-arrow:before {\n",
       "  /* Arrow on the left of the label */\n",
       "  content: \"▸\";\n",
       "  float: left;\n",
       "  margin-right: 0.25em;\n",
       "  color: var(--sklearn-color-icon);\n",
       "}\n",
       "\n",
       "#sk-container-id-1 label.sk-toggleable__label-arrow:hover:before {\n",
       "  color: var(--sklearn-color-text);\n",
       "}\n",
       "\n",
       "/* Toggleable content - dropdown */\n",
       "\n",
       "#sk-container-id-1 div.sk-toggleable__content {\n",
       "  max-height: 0;\n",
       "  max-width: 0;\n",
       "  overflow: hidden;\n",
       "  text-align: left;\n",
       "  /* unfitted */\n",
       "  background-color: var(--sklearn-color-unfitted-level-0);\n",
       "}\n",
       "\n",
       "#sk-container-id-1 div.sk-toggleable__content.fitted {\n",
       "  /* fitted */\n",
       "  background-color: var(--sklearn-color-fitted-level-0);\n",
       "}\n",
       "\n",
       "#sk-container-id-1 div.sk-toggleable__content pre {\n",
       "  margin: 0.2em;\n",
       "  border-radius: 0.25em;\n",
       "  color: var(--sklearn-color-text);\n",
       "  /* unfitted */\n",
       "  background-color: var(--sklearn-color-unfitted-level-0);\n",
       "}\n",
       "\n",
       "#sk-container-id-1 div.sk-toggleable__content.fitted pre {\n",
       "  /* unfitted */\n",
       "  background-color: var(--sklearn-color-fitted-level-0);\n",
       "}\n",
       "\n",
       "#sk-container-id-1 input.sk-toggleable__control:checked~div.sk-toggleable__content {\n",
       "  /* Expand drop-down */\n",
       "  max-height: 200px;\n",
       "  max-width: 100%;\n",
       "  overflow: auto;\n",
       "}\n",
       "\n",
       "#sk-container-id-1 input.sk-toggleable__control:checked~label.sk-toggleable__label-arrow:before {\n",
       "  content: \"▾\";\n",
       "}\n",
       "\n",
       "/* Pipeline/ColumnTransformer-specific style */\n",
       "\n",
       "#sk-container-id-1 div.sk-label input.sk-toggleable__control:checked~label.sk-toggleable__label {\n",
       "  color: var(--sklearn-color-text);\n",
       "  background-color: var(--sklearn-color-unfitted-level-2);\n",
       "}\n",
       "\n",
       "#sk-container-id-1 div.sk-label.fitted input.sk-toggleable__control:checked~label.sk-toggleable__label {\n",
       "  background-color: var(--sklearn-color-fitted-level-2);\n",
       "}\n",
       "\n",
       "/* Estimator-specific style */\n",
       "\n",
       "/* Colorize estimator box */\n",
       "#sk-container-id-1 div.sk-estimator input.sk-toggleable__control:checked~label.sk-toggleable__label {\n",
       "  /* unfitted */\n",
       "  background-color: var(--sklearn-color-unfitted-level-2);\n",
       "}\n",
       "\n",
       "#sk-container-id-1 div.sk-estimator.fitted input.sk-toggleable__control:checked~label.sk-toggleable__label {\n",
       "  /* fitted */\n",
       "  background-color: var(--sklearn-color-fitted-level-2);\n",
       "}\n",
       "\n",
       "#sk-container-id-1 div.sk-label label.sk-toggleable__label,\n",
       "#sk-container-id-1 div.sk-label label {\n",
       "  /* The background is the default theme color */\n",
       "  color: var(--sklearn-color-text-on-default-background);\n",
       "}\n",
       "\n",
       "/* On hover, darken the color of the background */\n",
       "#sk-container-id-1 div.sk-label:hover label.sk-toggleable__label {\n",
       "  color: var(--sklearn-color-text);\n",
       "  background-color: var(--sklearn-color-unfitted-level-2);\n",
       "}\n",
       "\n",
       "/* Label box, darken color on hover, fitted */\n",
       "#sk-container-id-1 div.sk-label.fitted:hover label.sk-toggleable__label.fitted {\n",
       "  color: var(--sklearn-color-text);\n",
       "  background-color: var(--sklearn-color-fitted-level-2);\n",
       "}\n",
       "\n",
       "/* Estimator label */\n",
       "\n",
       "#sk-container-id-1 div.sk-label label {\n",
       "  font-family: monospace;\n",
       "  font-weight: bold;\n",
       "  display: inline-block;\n",
       "  line-height: 1.2em;\n",
       "}\n",
       "\n",
       "#sk-container-id-1 div.sk-label-container {\n",
       "  text-align: center;\n",
       "}\n",
       "\n",
       "/* Estimator-specific */\n",
       "#sk-container-id-1 div.sk-estimator {\n",
       "  font-family: monospace;\n",
       "  border: 1px dotted var(--sklearn-color-border-box);\n",
       "  border-radius: 0.25em;\n",
       "  box-sizing: border-box;\n",
       "  margin-bottom: 0.5em;\n",
       "  /* unfitted */\n",
       "  background-color: var(--sklearn-color-unfitted-level-0);\n",
       "}\n",
       "\n",
       "#sk-container-id-1 div.sk-estimator.fitted {\n",
       "  /* fitted */\n",
       "  background-color: var(--sklearn-color-fitted-level-0);\n",
       "}\n",
       "\n",
       "/* on hover */\n",
       "#sk-container-id-1 div.sk-estimator:hover {\n",
       "  /* unfitted */\n",
       "  background-color: var(--sklearn-color-unfitted-level-2);\n",
       "}\n",
       "\n",
       "#sk-container-id-1 div.sk-estimator.fitted:hover {\n",
       "  /* fitted */\n",
       "  background-color: var(--sklearn-color-fitted-level-2);\n",
       "}\n",
       "\n",
       "/* Specification for estimator info (e.g. \"i\" and \"?\") */\n",
       "\n",
       "/* Common style for \"i\" and \"?\" */\n",
       "\n",
       ".sk-estimator-doc-link,\n",
       "a:link.sk-estimator-doc-link,\n",
       "a:visited.sk-estimator-doc-link {\n",
       "  float: right;\n",
       "  font-size: smaller;\n",
       "  line-height: 1em;\n",
       "  font-family: monospace;\n",
       "  background-color: var(--sklearn-color-background);\n",
       "  border-radius: 1em;\n",
       "  height: 1em;\n",
       "  width: 1em;\n",
       "  text-decoration: none !important;\n",
       "  margin-left: 1ex;\n",
       "  /* unfitted */\n",
       "  border: var(--sklearn-color-unfitted-level-1) 1pt solid;\n",
       "  color: var(--sklearn-color-unfitted-level-1);\n",
       "}\n",
       "\n",
       ".sk-estimator-doc-link.fitted,\n",
       "a:link.sk-estimator-doc-link.fitted,\n",
       "a:visited.sk-estimator-doc-link.fitted {\n",
       "  /* fitted */\n",
       "  border: var(--sklearn-color-fitted-level-1) 1pt solid;\n",
       "  color: var(--sklearn-color-fitted-level-1);\n",
       "}\n",
       "\n",
       "/* On hover */\n",
       "div.sk-estimator:hover .sk-estimator-doc-link:hover,\n",
       ".sk-estimator-doc-link:hover,\n",
       "div.sk-label-container:hover .sk-estimator-doc-link:hover,\n",
       ".sk-estimator-doc-link:hover {\n",
       "  /* unfitted */\n",
       "  background-color: var(--sklearn-color-unfitted-level-3);\n",
       "  color: var(--sklearn-color-background);\n",
       "  text-decoration: none;\n",
       "}\n",
       "\n",
       "div.sk-estimator.fitted:hover .sk-estimator-doc-link.fitted:hover,\n",
       ".sk-estimator-doc-link.fitted:hover,\n",
       "div.sk-label-container:hover .sk-estimator-doc-link.fitted:hover,\n",
       ".sk-estimator-doc-link.fitted:hover {\n",
       "  /* fitted */\n",
       "  background-color: var(--sklearn-color-fitted-level-3);\n",
       "  color: var(--sklearn-color-background);\n",
       "  text-decoration: none;\n",
       "}\n",
       "\n",
       "/* Span, style for the box shown on hovering the info icon */\n",
       ".sk-estimator-doc-link span {\n",
       "  display: none;\n",
       "  z-index: 9999;\n",
       "  position: relative;\n",
       "  font-weight: normal;\n",
       "  right: .2ex;\n",
       "  padding: .5ex;\n",
       "  margin: .5ex;\n",
       "  width: min-content;\n",
       "  min-width: 20ex;\n",
       "  max-width: 50ex;\n",
       "  color: var(--sklearn-color-text);\n",
       "  box-shadow: 2pt 2pt 4pt #999;\n",
       "  /* unfitted */\n",
       "  background: var(--sklearn-color-unfitted-level-0);\n",
       "  border: .5pt solid var(--sklearn-color-unfitted-level-3);\n",
       "}\n",
       "\n",
       ".sk-estimator-doc-link.fitted span {\n",
       "  /* fitted */\n",
       "  background: var(--sklearn-color-fitted-level-0);\n",
       "  border: var(--sklearn-color-fitted-level-3);\n",
       "}\n",
       "\n",
       ".sk-estimator-doc-link:hover span {\n",
       "  display: block;\n",
       "}\n",
       "\n",
       "/* \"?\"-specific style due to the `<a>` HTML tag */\n",
       "\n",
       "#sk-container-id-1 a.estimator_doc_link {\n",
       "  float: right;\n",
       "  font-size: 1rem;\n",
       "  line-height: 1em;\n",
       "  font-family: monospace;\n",
       "  background-color: var(--sklearn-color-background);\n",
       "  border-radius: 1rem;\n",
       "  height: 1rem;\n",
       "  width: 1rem;\n",
       "  text-decoration: none;\n",
       "  /* unfitted */\n",
       "  color: var(--sklearn-color-unfitted-level-1);\n",
       "  border: var(--sklearn-color-unfitted-level-1) 1pt solid;\n",
       "}\n",
       "\n",
       "#sk-container-id-1 a.estimator_doc_link.fitted {\n",
       "  /* fitted */\n",
       "  border: var(--sklearn-color-fitted-level-1) 1pt solid;\n",
       "  color: var(--sklearn-color-fitted-level-1);\n",
       "}\n",
       "\n",
       "/* On hover */\n",
       "#sk-container-id-1 a.estimator_doc_link:hover {\n",
       "  /* unfitted */\n",
       "  background-color: var(--sklearn-color-unfitted-level-3);\n",
       "  color: var(--sklearn-color-background);\n",
       "  text-decoration: none;\n",
       "}\n",
       "\n",
       "#sk-container-id-1 a.estimator_doc_link.fitted:hover {\n",
       "  /* fitted */\n",
       "  background-color: var(--sklearn-color-fitted-level-3);\n",
       "}\n",
       "</style><div id=\"sk-container-id-1\" class=\"sk-top-container\"><div class=\"sk-text-repr-fallback\"><pre>MinMaxScaler()</pre><b>In a Jupyter environment, please rerun this cell to show the HTML representation or trust the notebook. <br />On GitHub, the HTML representation is unable to render, please try loading this page with nbviewer.org.</b></div><div class=\"sk-container\" hidden><div class=\"sk-item\"><div class=\"sk-estimator fitted sk-toggleable\"><input class=\"sk-toggleable__control sk-hidden--visually\" id=\"sk-estimator-id-1\" type=\"checkbox\" checked><label for=\"sk-estimator-id-1\" class=\"sk-toggleable__label fitted sk-toggleable__label-arrow fitted\">&nbsp;&nbsp;MinMaxScaler<a class=\"sk-estimator-doc-link fitted\" rel=\"noreferrer\" target=\"_blank\" href=\"https://scikit-learn.org/1.5/modules/generated/sklearn.preprocessing.MinMaxScaler.html\">?<span>Documentation for MinMaxScaler</span></a><span class=\"sk-estimator-doc-link fitted\">i<span>Fitted</span></span></label><div class=\"sk-toggleable__content fitted\"><pre>MinMaxScaler()</pre></div> </div></div></div></div>"
      ],
      "text/plain": [
       "MinMaxScaler()"
      ]
     },
     "execution_count": 25,
     "metadata": {},
     "output_type": "execute_result"
    }
   ],
   "source": [
    "scaler_obj.fit(X_train)"
   ]
  },
  {
   "cell_type": "code",
   "execution_count": 26,
   "id": "e9c5d5aa-e7d4-4dce-ba07-4a4a46b80679",
   "metadata": {},
   "outputs": [],
   "source": [
    "scaled_X_train = scaler_obj.transform(X_train)"
   ]
  },
  {
   "cell_type": "code",
   "execution_count": 27,
   "id": "792a31a6-5eab-4bb6-a7fa-ff3c8d04c08c",
   "metadata": {},
   "outputs": [],
   "source": [
    "scaled_X_test = scaler_obj.transform(X_test)"
   ]
  },
  {
   "cell_type": "code",
   "execution_count": 28,
   "id": "b8e66f7d-0aba-447c-b921-61f0e09a2947",
   "metadata": {},
   "outputs": [
    {
     "data": {
      "text/plain": [
       "7.9"
      ]
     },
     "execution_count": 28,
     "metadata": {},
     "output_type": "execute_result"
    }
   ],
   "source": [
    "X_train.max()"
   ]
  },
  {
   "cell_type": "code",
   "execution_count": 29,
   "id": "6198a53c-acfa-4e72-927a-881c40043fb9",
   "metadata": {},
   "outputs": [
    {
     "data": {
      "text/plain": [
       "1.0"
      ]
     },
     "execution_count": 29,
     "metadata": {},
     "output_type": "execute_result"
    }
   ],
   "source": [
    "scaled_X_train.max()"
   ]
  },
  {
   "cell_type": "markdown",
   "id": "fc45afec-326f-4563-9518-5efb674872ef",
   "metadata": {},
   "source": [
    "# builing a network with KERAS"
   ]
  },
  {
   "cell_type": "code",
   "execution_count": 31,
   "id": "fe26b30c-3139-40c6-a0e1-e29b64f051b7",
   "metadata": {},
   "outputs": [],
   "source": [
    "from keras.models import Sequential\n",
    "from keras.layers import Dense"
   ]
  },
  {
   "cell_type": "code",
   "execution_count": 35,
   "id": "f39e203b-9f7e-405e-b77f-041957b981b1",
   "metadata": {},
   "outputs": [
    {
     "name": "stderr",
     "output_type": "stream",
     "text": [
      "/Users/ujjwal/codingpoint/pycourses/venvnlp/lib/python3.11/site-packages/keras/src/layers/core/dense.py:87: UserWarning: Do not pass an `input_shape`/`input_dim` argument to a layer. When using Sequential models, prefer using an `Input(shape)` object as the first layer in the model instead.\n",
      "  super().__init__(activity_regularizer=activity_regularizer, **kwargs)\n"
     ]
    }
   ],
   "source": [
    "model = Sequential()\n",
    "model.add(Dense(8, input_dim=4, activation='relu'))\n",
    "model.add(Dense(8, input_dim=4, activation='relu'))\n",
    "model.add(Dense(3, activation='softmax'))\n",
    "\n",
    "model.compile(loss='categorical_crossentropy', optimizer='adam', metrics=['accuracy'])"
   ]
  },
  {
   "cell_type": "code",
   "execution_count": 36,
   "id": "c8ee2e99-9fa2-49e1-9eb6-97cec61bb58d",
   "metadata": {},
   "outputs": [
    {
     "data": {
      "text/html": [
       "<pre style=\"white-space:pre;overflow-x:auto;line-height:normal;font-family:Menlo,'DejaVu Sans Mono',consolas,'Courier New',monospace\"><span style=\"font-weight: bold\">Model: \"sequential_1\"</span>\n",
       "</pre>\n"
      ],
      "text/plain": [
       "\u001b[1mModel: \"sequential_1\"\u001b[0m\n"
      ]
     },
     "metadata": {},
     "output_type": "display_data"
    },
    {
     "data": {
      "text/html": [
       "<pre style=\"white-space:pre;overflow-x:auto;line-height:normal;font-family:Menlo,'DejaVu Sans Mono',consolas,'Courier New',monospace\">┏━━━━━━━━━━━━━━━━━━━━━━━━━━━━━━━━━┳━━━━━━━━━━━━━━━━━━━━━━━━┳━━━━━━━━━━━━━━━┓\n",
       "┃<span style=\"font-weight: bold\"> Layer (type)                    </span>┃<span style=\"font-weight: bold\"> Output Shape           </span>┃<span style=\"font-weight: bold\">       Param # </span>┃\n",
       "┡━━━━━━━━━━━━━━━━━━━━━━━━━━━━━━━━━╇━━━━━━━━━━━━━━━━━━━━━━━━╇━━━━━━━━━━━━━━━┩\n",
       "│ dense_3 (<span style=\"color: #0087ff; text-decoration-color: #0087ff\">Dense</span>)                 │ (<span style=\"color: #00d7ff; text-decoration-color: #00d7ff\">None</span>, <span style=\"color: #00af00; text-decoration-color: #00af00\">8</span>)              │            <span style=\"color: #00af00; text-decoration-color: #00af00\">40</span> │\n",
       "├─────────────────────────────────┼────────────────────────┼───────────────┤\n",
       "│ dense_4 (<span style=\"color: #0087ff; text-decoration-color: #0087ff\">Dense</span>)                 │ (<span style=\"color: #00d7ff; text-decoration-color: #00d7ff\">None</span>, <span style=\"color: #00af00; text-decoration-color: #00af00\">8</span>)              │            <span style=\"color: #00af00; text-decoration-color: #00af00\">72</span> │\n",
       "├─────────────────────────────────┼────────────────────────┼───────────────┤\n",
       "│ dense_5 (<span style=\"color: #0087ff; text-decoration-color: #0087ff\">Dense</span>)                 │ (<span style=\"color: #00d7ff; text-decoration-color: #00d7ff\">None</span>, <span style=\"color: #00af00; text-decoration-color: #00af00\">3</span>)              │            <span style=\"color: #00af00; text-decoration-color: #00af00\">27</span> │\n",
       "└─────────────────────────────────┴────────────────────────┴───────────────┘\n",
       "</pre>\n"
      ],
      "text/plain": [
       "┏━━━━━━━━━━━━━━━━━━━━━━━━━━━━━━━━━┳━━━━━━━━━━━━━━━━━━━━━━━━┳━━━━━━━━━━━━━━━┓\n",
       "┃\u001b[1m \u001b[0m\u001b[1mLayer (type)                   \u001b[0m\u001b[1m \u001b[0m┃\u001b[1m \u001b[0m\u001b[1mOutput Shape          \u001b[0m\u001b[1m \u001b[0m┃\u001b[1m \u001b[0m\u001b[1m      Param #\u001b[0m\u001b[1m \u001b[0m┃\n",
       "┡━━━━━━━━━━━━━━━━━━━━━━━━━━━━━━━━━╇━━━━━━━━━━━━━━━━━━━━━━━━╇━━━━━━━━━━━━━━━┩\n",
       "│ dense_3 (\u001b[38;5;33mDense\u001b[0m)                 │ (\u001b[38;5;45mNone\u001b[0m, \u001b[38;5;34m8\u001b[0m)              │            \u001b[38;5;34m40\u001b[0m │\n",
       "├─────────────────────────────────┼────────────────────────┼───────────────┤\n",
       "│ dense_4 (\u001b[38;5;33mDense\u001b[0m)                 │ (\u001b[38;5;45mNone\u001b[0m, \u001b[38;5;34m8\u001b[0m)              │            \u001b[38;5;34m72\u001b[0m │\n",
       "├─────────────────────────────────┼────────────────────────┼───────────────┤\n",
       "│ dense_5 (\u001b[38;5;33mDense\u001b[0m)                 │ (\u001b[38;5;45mNone\u001b[0m, \u001b[38;5;34m3\u001b[0m)              │            \u001b[38;5;34m27\u001b[0m │\n",
       "└─────────────────────────────────┴────────────────────────┴───────────────┘\n"
      ]
     },
     "metadata": {},
     "output_type": "display_data"
    },
    {
     "data": {
      "text/html": [
       "<pre style=\"white-space:pre;overflow-x:auto;line-height:normal;font-family:Menlo,'DejaVu Sans Mono',consolas,'Courier New',monospace\"><span style=\"font-weight: bold\"> Total params: </span><span style=\"color: #00af00; text-decoration-color: #00af00\">139</span> (556.00 B)\n",
       "</pre>\n"
      ],
      "text/plain": [
       "\u001b[1m Total params: \u001b[0m\u001b[38;5;34m139\u001b[0m (556.00 B)\n"
      ]
     },
     "metadata": {},
     "output_type": "display_data"
    },
    {
     "data": {
      "text/html": [
       "<pre style=\"white-space:pre;overflow-x:auto;line-height:normal;font-family:Menlo,'DejaVu Sans Mono',consolas,'Courier New',monospace\"><span style=\"font-weight: bold\"> Trainable params: </span><span style=\"color: #00af00; text-decoration-color: #00af00\">139</span> (556.00 B)\n",
       "</pre>\n"
      ],
      "text/plain": [
       "\u001b[1m Trainable params: \u001b[0m\u001b[38;5;34m139\u001b[0m (556.00 B)\n"
      ]
     },
     "metadata": {},
     "output_type": "display_data"
    },
    {
     "data": {
      "text/html": [
       "<pre style=\"white-space:pre;overflow-x:auto;line-height:normal;font-family:Menlo,'DejaVu Sans Mono',consolas,'Courier New',monospace\"><span style=\"font-weight: bold\"> Non-trainable params: </span><span style=\"color: #00af00; text-decoration-color: #00af00\">0</span> (0.00 B)\n",
       "</pre>\n"
      ],
      "text/plain": [
       "\u001b[1m Non-trainable params: \u001b[0m\u001b[38;5;34m0\u001b[0m (0.00 B)\n"
      ]
     },
     "metadata": {},
     "output_type": "display_data"
    }
   ],
   "source": [
    "model.summary()"
   ]
  },
  {
   "cell_type": "code",
   "execution_count": 57,
   "id": "990d4457-ff96-476b-bb85-4555ddb87eb6",
   "metadata": {},
   "outputs": [
    {
     "name": "stdout",
     "output_type": "stream",
     "text": [
      "Epoch 1/150\n",
      "4/4 - 0s - 3ms/step - accuracy: 0.7200 - loss: 0.7577\n",
      "Epoch 2/150\n",
      "4/4 - 0s - 3ms/step - accuracy: 0.7200 - loss: 0.7556\n",
      "Epoch 3/150\n",
      "4/4 - 0s - 3ms/step - accuracy: 0.7200 - loss: 0.7535\n",
      "Epoch 4/150\n",
      "4/4 - 0s - 3ms/step - accuracy: 0.7200 - loss: 0.7511\n",
      "Epoch 5/150\n",
      "4/4 - 0s - 3ms/step - accuracy: 0.7200 - loss: 0.7491\n",
      "Epoch 6/150\n",
      "4/4 - 0s - 3ms/step - accuracy: 0.7200 - loss: 0.7471\n",
      "Epoch 7/150\n",
      "4/4 - 0s - 3ms/step - accuracy: 0.7200 - loss: 0.7451\n",
      "Epoch 8/150\n",
      "4/4 - 0s - 3ms/step - accuracy: 0.7200 - loss: 0.7430\n",
      "Epoch 9/150\n",
      "4/4 - 0s - 3ms/step - accuracy: 0.7200 - loss: 0.7410\n",
      "Epoch 10/150\n",
      "4/4 - 0s - 2ms/step - accuracy: 0.7200 - loss: 0.7392\n",
      "Epoch 11/150\n",
      "4/4 - 0s - 3ms/step - accuracy: 0.7200 - loss: 0.7372\n",
      "Epoch 12/150\n",
      "4/4 - 0s - 2ms/step - accuracy: 0.7200 - loss: 0.7353\n",
      "Epoch 13/150\n",
      "4/4 - 0s - 3ms/step - accuracy: 0.7200 - loss: 0.7334\n",
      "Epoch 14/150\n",
      "4/4 - 0s - 3ms/step - accuracy: 0.7200 - loss: 0.7315\n",
      "Epoch 15/150\n",
      "4/4 - 0s - 2ms/step - accuracy: 0.7200 - loss: 0.7297\n",
      "Epoch 16/150\n",
      "4/4 - 0s - 3ms/step - accuracy: 0.7200 - loss: 0.7278\n",
      "Epoch 17/150\n",
      "4/4 - 0s - 2ms/step - accuracy: 0.7200 - loss: 0.7262\n",
      "Epoch 18/150\n",
      "4/4 - 0s - 2ms/step - accuracy: 0.7200 - loss: 0.7245\n",
      "Epoch 19/150\n",
      "4/4 - 0s - 2ms/step - accuracy: 0.7200 - loss: 0.7226\n",
      "Epoch 20/150\n",
      "4/4 - 0s - 3ms/step - accuracy: 0.7200 - loss: 0.7209\n",
      "Epoch 21/150\n",
      "4/4 - 0s - 2ms/step - accuracy: 0.7200 - loss: 0.7190\n",
      "Epoch 22/150\n",
      "4/4 - 0s - 2ms/step - accuracy: 0.7200 - loss: 0.7173\n",
      "Epoch 23/150\n",
      "4/4 - 0s - 2ms/step - accuracy: 0.7200 - loss: 0.7155\n",
      "Epoch 24/150\n",
      "4/4 - 0s - 2ms/step - accuracy: 0.7200 - loss: 0.7138\n",
      "Epoch 25/150\n",
      "4/4 - 0s - 3ms/step - accuracy: 0.7200 - loss: 0.7121\n",
      "Epoch 26/150\n",
      "4/4 - 0s - 3ms/step - accuracy: 0.7200 - loss: 0.7106\n",
      "Epoch 27/150\n",
      "4/4 - 0s - 3ms/step - accuracy: 0.7200 - loss: 0.7090\n",
      "Epoch 28/150\n",
      "4/4 - 0s - 2ms/step - accuracy: 0.7200 - loss: 0.7074\n",
      "Epoch 29/150\n",
      "4/4 - 0s - 2ms/step - accuracy: 0.7200 - loss: 0.7059\n",
      "Epoch 30/150\n",
      "4/4 - 0s - 3ms/step - accuracy: 0.7200 - loss: 0.7044\n",
      "Epoch 31/150\n",
      "4/4 - 0s - 2ms/step - accuracy: 0.7200 - loss: 0.7031\n",
      "Epoch 32/150\n",
      "4/4 - 0s - 3ms/step - accuracy: 0.7200 - loss: 0.7015\n",
      "Epoch 33/150\n",
      "4/4 - 0s - 2ms/step - accuracy: 0.7200 - loss: 0.7000\n",
      "Epoch 34/150\n",
      "4/4 - 0s - 3ms/step - accuracy: 0.7200 - loss: 0.6983\n",
      "Epoch 35/150\n",
      "4/4 - 0s - 2ms/step - accuracy: 0.7200 - loss: 0.6968\n",
      "Epoch 36/150\n",
      "4/4 - 0s - 2ms/step - accuracy: 0.7200 - loss: 0.6952\n",
      "Epoch 37/150\n",
      "4/4 - 0s - 2ms/step - accuracy: 0.7200 - loss: 0.6936\n",
      "Epoch 38/150\n",
      "4/4 - 0s - 3ms/step - accuracy: 0.7200 - loss: 0.6920\n",
      "Epoch 39/150\n",
      "4/4 - 0s - 3ms/step - accuracy: 0.7200 - loss: 0.6907\n",
      "Epoch 40/150\n",
      "4/4 - 0s - 2ms/step - accuracy: 0.7200 - loss: 0.6896\n",
      "Epoch 41/150\n",
      "4/4 - 0s - 2ms/step - accuracy: 0.7200 - loss: 0.6881\n",
      "Epoch 42/150\n",
      "4/4 - 0s - 2ms/step - accuracy: 0.7200 - loss: 0.6869\n",
      "Epoch 43/150\n",
      "4/4 - 0s - 3ms/step - accuracy: 0.7200 - loss: 0.6858\n",
      "Epoch 44/150\n",
      "4/4 - 0s - 3ms/step - accuracy: 0.7200 - loss: 0.6849\n",
      "Epoch 45/150\n",
      "4/4 - 0s - 3ms/step - accuracy: 0.7200 - loss: 0.6834\n",
      "Epoch 46/150\n",
      "4/4 - 0s - 2ms/step - accuracy: 0.7200 - loss: 0.6818\n",
      "Epoch 47/150\n",
      "4/4 - 0s - 2ms/step - accuracy: 0.7200 - loss: 0.6804\n",
      "Epoch 48/150\n",
      "4/4 - 0s - 2ms/step - accuracy: 0.7200 - loss: 0.6784\n",
      "Epoch 49/150\n",
      "4/4 - 0s - 2ms/step - accuracy: 0.7200 - loss: 0.6767\n",
      "Epoch 50/150\n",
      "4/4 - 0s - 2ms/step - accuracy: 0.7200 - loss: 0.6750\n",
      "Epoch 51/150\n",
      "4/4 - 0s - 2ms/step - accuracy: 0.7200 - loss: 0.6735\n",
      "Epoch 52/150\n",
      "4/4 - 0s - 2ms/step - accuracy: 0.7200 - loss: 0.6723\n",
      "Epoch 53/150\n",
      "4/4 - 0s - 2ms/step - accuracy: 0.7200 - loss: 0.6705\n",
      "Epoch 54/150\n",
      "4/4 - 0s - 2ms/step - accuracy: 0.7200 - loss: 0.6691\n",
      "Epoch 55/150\n",
      "4/4 - 0s - 3ms/step - accuracy: 0.7200 - loss: 0.6676\n",
      "Epoch 56/150\n",
      "4/4 - 0s - 3ms/step - accuracy: 0.7200 - loss: 0.6663\n",
      "Epoch 57/150\n",
      "4/4 - 0s - 2ms/step - accuracy: 0.7200 - loss: 0.6649\n",
      "Epoch 58/150\n",
      "4/4 - 0s - 3ms/step - accuracy: 0.7200 - loss: 0.6636\n",
      "Epoch 59/150\n",
      "4/4 - 0s - 3ms/step - accuracy: 0.7200 - loss: 0.6623\n",
      "Epoch 60/150\n",
      "4/4 - 0s - 2ms/step - accuracy: 0.7200 - loss: 0.6608\n",
      "Epoch 61/150\n",
      "4/4 - 0s - 3ms/step - accuracy: 0.7200 - loss: 0.6589\n",
      "Epoch 62/150\n",
      "4/4 - 0s - 3ms/step - accuracy: 0.7200 - loss: 0.6574\n",
      "Epoch 63/150\n",
      "4/4 - 0s - 3ms/step - accuracy: 0.7200 - loss: 0.6559\n",
      "Epoch 64/150\n",
      "4/4 - 0s - 3ms/step - accuracy: 0.7200 - loss: 0.6543\n",
      "Epoch 65/150\n",
      "4/4 - 0s - 3ms/step - accuracy: 0.7200 - loss: 0.6529\n",
      "Epoch 66/150\n",
      "4/4 - 0s - 3ms/step - accuracy: 0.7200 - loss: 0.6514\n",
      "Epoch 67/150\n",
      "4/4 - 0s - 2ms/step - accuracy: 0.7200 - loss: 0.6501\n",
      "Epoch 68/150\n",
      "4/4 - 0s - 2ms/step - accuracy: 0.7200 - loss: 0.6488\n",
      "Epoch 69/150\n",
      "4/4 - 0s - 2ms/step - accuracy: 0.7200 - loss: 0.6474\n",
      "Epoch 70/150\n",
      "4/4 - 0s - 2ms/step - accuracy: 0.7200 - loss: 0.6460\n",
      "Epoch 71/150\n",
      "4/4 - 0s - 2ms/step - accuracy: 0.7200 - loss: 0.6446\n",
      "Epoch 72/150\n",
      "4/4 - 0s - 2ms/step - accuracy: 0.7200 - loss: 0.6432\n",
      "Epoch 73/150\n",
      "4/4 - 0s - 3ms/step - accuracy: 0.7200 - loss: 0.6421\n",
      "Epoch 74/150\n",
      "4/4 - 0s - 3ms/step - accuracy: 0.7200 - loss: 0.6409\n",
      "Epoch 75/150\n",
      "4/4 - 0s - 2ms/step - accuracy: 0.7200 - loss: 0.6397\n",
      "Epoch 76/150\n",
      "4/4 - 0s - 3ms/step - accuracy: 0.7200 - loss: 0.6383\n",
      "Epoch 77/150\n",
      "4/4 - 0s - 3ms/step - accuracy: 0.7200 - loss: 0.6371\n",
      "Epoch 78/150\n",
      "4/4 - 0s - 2ms/step - accuracy: 0.7200 - loss: 0.6357\n",
      "Epoch 79/150\n",
      "4/4 - 0s - 3ms/step - accuracy: 0.7200 - loss: 0.6346\n",
      "Epoch 80/150\n",
      "4/4 - 0s - 3ms/step - accuracy: 0.7200 - loss: 0.6333\n",
      "Epoch 81/150\n",
      "4/4 - 0s - 3ms/step - accuracy: 0.7200 - loss: 0.6318\n",
      "Epoch 82/150\n",
      "4/4 - 0s - 3ms/step - accuracy: 0.7200 - loss: 0.6303\n",
      "Epoch 83/150\n",
      "4/4 - 0s - 3ms/step - accuracy: 0.7200 - loss: 0.6288\n",
      "Epoch 84/150\n",
      "4/4 - 0s - 2ms/step - accuracy: 0.7200 - loss: 0.6275\n",
      "Epoch 85/150\n",
      "4/4 - 0s - 3ms/step - accuracy: 0.7200 - loss: 0.6260\n",
      "Epoch 86/150\n",
      "4/4 - 0s - 3ms/step - accuracy: 0.7200 - loss: 0.6247\n",
      "Epoch 87/150\n",
      "4/4 - 0s - 3ms/step - accuracy: 0.7200 - loss: 0.6233\n",
      "Epoch 88/150\n",
      "4/4 - 0s - 2ms/step - accuracy: 0.7200 - loss: 0.6219\n",
      "Epoch 89/150\n",
      "4/4 - 0s - 3ms/step - accuracy: 0.7200 - loss: 0.6206\n",
      "Epoch 90/150\n",
      "4/4 - 0s - 3ms/step - accuracy: 0.7200 - loss: 0.6193\n",
      "Epoch 91/150\n",
      "4/4 - 0s - 2ms/step - accuracy: 0.7200 - loss: 0.6178\n",
      "Epoch 92/150\n",
      "4/4 - 0s - 2ms/step - accuracy: 0.7200 - loss: 0.6165\n",
      "Epoch 93/150\n",
      "4/4 - 0s - 2ms/step - accuracy: 0.7200 - loss: 0.6149\n",
      "Epoch 94/150\n",
      "4/4 - 0s - 2ms/step - accuracy: 0.7200 - loss: 0.6140\n",
      "Epoch 95/150\n",
      "4/4 - 0s - 2ms/step - accuracy: 0.7200 - loss: 0.6126\n",
      "Epoch 96/150\n",
      "4/4 - 0s - 3ms/step - accuracy: 0.7200 - loss: 0.6113\n",
      "Epoch 97/150\n",
      "4/4 - 0s - 2ms/step - accuracy: 0.7200 - loss: 0.6098\n",
      "Epoch 98/150\n",
      "4/4 - 0s - 2ms/step - accuracy: 0.7200 - loss: 0.6081\n",
      "Epoch 99/150\n",
      "4/4 - 0s - 3ms/step - accuracy: 0.7200 - loss: 0.6067\n",
      "Epoch 100/150\n",
      "4/4 - 0s - 2ms/step - accuracy: 0.7200 - loss: 0.6054\n",
      "Epoch 101/150\n",
      "4/4 - 0s - 2ms/step - accuracy: 0.7200 - loss: 0.6037\n",
      "Epoch 102/150\n",
      "4/4 - 0s - 2ms/step - accuracy: 0.7200 - loss: 0.6022\n",
      "Epoch 103/150\n",
      "4/4 - 0s - 2ms/step - accuracy: 0.7200 - loss: 0.6007\n",
      "Epoch 104/150\n",
      "4/4 - 0s - 2ms/step - accuracy: 0.7200 - loss: 0.5987\n",
      "Epoch 105/150\n",
      "4/4 - 0s - 2ms/step - accuracy: 0.7200 - loss: 0.5975\n",
      "Epoch 106/150\n",
      "4/4 - 0s - 2ms/step - accuracy: 0.7200 - loss: 0.5961\n",
      "Epoch 107/150\n",
      "4/4 - 0s - 2ms/step - accuracy: 0.7200 - loss: 0.5947\n",
      "Epoch 108/150\n",
      "4/4 - 0s - 3ms/step - accuracy: 0.7200 - loss: 0.5928\n",
      "Epoch 109/150\n",
      "4/4 - 0s - 2ms/step - accuracy: 0.7200 - loss: 0.5910\n",
      "Epoch 110/150\n",
      "4/4 - 0s - 2ms/step - accuracy: 0.7200 - loss: 0.5892\n",
      "Epoch 111/150\n",
      "4/4 - 0s - 2ms/step - accuracy: 0.7200 - loss: 0.5872\n",
      "Epoch 112/150\n",
      "4/4 - 0s - 2ms/step - accuracy: 0.7200 - loss: 0.5851\n",
      "Epoch 113/150\n",
      "4/4 - 0s - 2ms/step - accuracy: 0.7200 - loss: 0.5845\n",
      "Epoch 114/150\n",
      "4/4 - 0s - 2ms/step - accuracy: 0.7200 - loss: 0.5825\n",
      "Epoch 115/150\n",
      "4/4 - 0s - 2ms/step - accuracy: 0.7200 - loss: 0.5810\n",
      "Epoch 116/150\n",
      "4/4 - 0s - 3ms/step - accuracy: 0.7200 - loss: 0.5797\n",
      "Epoch 117/150\n",
      "4/4 - 0s - 2ms/step - accuracy: 0.7200 - loss: 0.5778\n",
      "Epoch 118/150\n",
      "4/4 - 0s - 3ms/step - accuracy: 0.7200 - loss: 0.5759\n",
      "Epoch 119/150\n",
      "4/4 - 0s - 2ms/step - accuracy: 0.7200 - loss: 0.5739\n",
      "Epoch 120/150\n",
      "4/4 - 0s - 2ms/step - accuracy: 0.7200 - loss: 0.5723\n",
      "Epoch 121/150\n",
      "4/4 - 0s - 2ms/step - accuracy: 0.7200 - loss: 0.5702\n",
      "Epoch 122/150\n",
      "4/4 - 0s - 3ms/step - accuracy: 0.7200 - loss: 0.5690\n",
      "Epoch 123/150\n",
      "4/4 - 0s - 2ms/step - accuracy: 0.7300 - loss: 0.5671\n",
      "Epoch 124/150\n",
      "4/4 - 0s - 2ms/step - accuracy: 0.7300 - loss: 0.5648\n",
      "Epoch 125/150\n",
      "4/4 - 0s - 2ms/step - accuracy: 0.7300 - loss: 0.5630\n",
      "Epoch 126/150\n",
      "4/4 - 0s - 2ms/step - accuracy: 0.7300 - loss: 0.5609\n",
      "Epoch 127/150\n",
      "4/4 - 0s - 3ms/step - accuracy: 0.7300 - loss: 0.5595\n",
      "Epoch 128/150\n",
      "4/4 - 0s - 3ms/step - accuracy: 0.7300 - loss: 0.5576\n",
      "Epoch 129/150\n",
      "4/4 - 0s - 3ms/step - accuracy: 0.7300 - loss: 0.5560\n",
      "Epoch 130/150\n",
      "4/4 - 0s - 2ms/step - accuracy: 0.7300 - loss: 0.5539\n",
      "Epoch 131/150\n",
      "4/4 - 0s - 2ms/step - accuracy: 0.7300 - loss: 0.5521\n",
      "Epoch 132/150\n",
      "4/4 - 0s - 3ms/step - accuracy: 0.7400 - loss: 0.5510\n",
      "Epoch 133/150\n",
      "4/4 - 0s - 2ms/step - accuracy: 0.7500 - loss: 0.5499\n",
      "Epoch 134/150\n",
      "4/4 - 0s - 2ms/step - accuracy: 0.7700 - loss: 0.5480\n",
      "Epoch 135/150\n",
      "4/4 - 0s - 3ms/step - accuracy: 0.7700 - loss: 0.5458\n",
      "Epoch 136/150\n",
      "4/4 - 0s - 2ms/step - accuracy: 0.7700 - loss: 0.5435\n",
      "Epoch 137/150\n",
      "4/4 - 0s - 2ms/step - accuracy: 0.7700 - loss: 0.5414\n",
      "Epoch 138/150\n",
      "4/4 - 0s - 2ms/step - accuracy: 0.7700 - loss: 0.5397\n",
      "Epoch 139/150\n",
      "4/4 - 0s - 3ms/step - accuracy: 0.7500 - loss: 0.5386\n",
      "Epoch 140/150\n",
      "4/4 - 0s - 3ms/step - accuracy: 0.7500 - loss: 0.5373\n",
      "Epoch 141/150\n",
      "4/4 - 0s - 3ms/step - accuracy: 0.7500 - loss: 0.5353\n",
      "Epoch 142/150\n",
      "4/4 - 0s - 2ms/step - accuracy: 0.7700 - loss: 0.5325\n",
      "Epoch 143/150\n",
      "4/4 - 0s - 2ms/step - accuracy: 0.7800 - loss: 0.5308\n",
      "Epoch 144/150\n",
      "4/4 - 0s - 2ms/step - accuracy: 0.7900 - loss: 0.5292\n",
      "Epoch 145/150\n",
      "4/4 - 0s - 2ms/step - accuracy: 0.8000 - loss: 0.5281\n",
      "Epoch 146/150\n",
      "4/4 - 0s - 2ms/step - accuracy: 0.8100 - loss: 0.5255\n",
      "Epoch 147/150\n",
      "4/4 - 0s - 2ms/step - accuracy: 0.8000 - loss: 0.5239\n",
      "Epoch 148/150\n",
      "4/4 - 0s - 2ms/step - accuracy: 0.7900 - loss: 0.5216\n",
      "Epoch 149/150\n",
      "4/4 - 0s - 2ms/step - accuracy: 0.7900 - loss: 0.5203\n",
      "Epoch 150/150\n",
      "4/4 - 0s - 2ms/step - accuracy: 0.7900 - loss: 0.5183\n"
     ]
    },
    {
     "data": {
      "text/plain": [
       "<keras.src.callbacks.history.History at 0x3006438d0>"
      ]
     },
     "execution_count": 57,
     "metadata": {},
     "output_type": "execute_result"
    }
   ],
   "source": [
    "model.fit(scaled_X_train, y_train, epochs=150, verbose=2)"
   ]
  },
  {
   "cell_type": "code",
   "execution_count": 58,
   "id": "73b9daf2-552e-47db-9df0-93ed5a9c662b",
   "metadata": {},
   "outputs": [
    {
     "data": {
      "text/plain": [
       "(50, 4)"
      ]
     },
     "execution_count": 58,
     "metadata": {},
     "output_type": "execute_result"
    }
   ],
   "source": [
    "scaled_X_test.shape"
   ]
  },
  {
   "cell_type": "code",
   "execution_count": 59,
   "id": "2c93e339-e428-45f6-959a-0fbb0ef91eb1",
   "metadata": {},
   "outputs": [
    {
     "data": {
      "text/plain": [
       "['__call__',\n",
       " '__class__',\n",
       " '__delattr__',\n",
       " '__dict__',\n",
       " '__dir__',\n",
       " '__doc__',\n",
       " '__eq__',\n",
       " '__format__',\n",
       " '__ge__',\n",
       " '__getattribute__',\n",
       " '__getstate__',\n",
       " '__gt__',\n",
       " '__hash__',\n",
       " '__init__',\n",
       " '__init_subclass__',\n",
       " '__le__',\n",
       " '__lt__',\n",
       " '__module__',\n",
       " '__ne__',\n",
       " '__new__',\n",
       " '__reduce__',\n",
       " '__reduce_ex__',\n",
       " '__repr__',\n",
       " '__setattr__',\n",
       " '__sizeof__',\n",
       " '__str__',\n",
       " '__subclasshook__',\n",
       " '__weakref__',\n",
       " '_add_trackable_child',\n",
       " '_add_variable_with_custom_getter',\n",
       " '_allow_non_tensor_positional_args',\n",
       " '_api_export_path',\n",
       " '_api_export_symbol_id',\n",
       " '_assert_compile_called',\n",
       " '_assert_input_compatibility',\n",
       " '_auto_config',\n",
       " '_build_by_run_for_kwargs',\n",
       " '_build_by_run_for_single_pos_arg',\n",
       " '_build_shapes_dict',\n",
       " '_call_has_mask_arg',\n",
       " '_call_has_training_arg',\n",
       " '_call_signature',\n",
       " '_called',\n",
       " '_check_quantize_args',\n",
       " '_check_super_called',\n",
       " '_checkpoint_adapter',\n",
       " '_checkpoint_dependencies',\n",
       " '_clear_losses',\n",
       " '_compile_config',\n",
       " '_compile_loss',\n",
       " '_compile_metrics',\n",
       " '_compiled_metrics_update_state',\n",
       " '_compute_loss',\n",
       " '_compute_loss_has_training_arg',\n",
       " '_convert_input_args',\n",
       " '_copy_trackable_to_cpu',\n",
       " '_default_save_signature',\n",
       " '_deferred_dependencies',\n",
       " '_delete_tracking',\n",
       " '_deserialization_dependencies',\n",
       " '_deserialize_from_proto',\n",
       " '_distribute_strategy',\n",
       " '_dtype_policy',\n",
       " '_eval_epoch_iterator',\n",
       " '_export_to_saved_model_graph',\n",
       " '_flatten_layers',\n",
       " '_flatten_metrics_in_order',\n",
       " '_functional',\n",
       " '_gather_saveables_for_checkpoint',\n",
       " '_get_call_context',\n",
       " '_get_metrics_result_or_logs',\n",
       " '_get_node_attribute_at_index',\n",
       " '_get_own_losses',\n",
       " '_get_regularization_losses',\n",
       " '_get_variable_map',\n",
       " '_handle_deferred_dependencies',\n",
       " '_inbound_nodes',\n",
       " '_initial_epoch',\n",
       " '_initialize_tracker',\n",
       " '_input_spec',\n",
       " '_is_layer_name_unique',\n",
       " '_jit_compile',\n",
       " '_layers',\n",
       " '_lock',\n",
       " '_lock_state',\n",
       " '_lookup_dependency',\n",
       " '_loss_ids',\n",
       " '_loss_tracker',\n",
       " '_losses',\n",
       " '_losses_override',\n",
       " '_maybe_build',\n",
       " '_maybe_initialize_trackable',\n",
       " '_maybe_rebuild',\n",
       " '_maybe_reset_call_context',\n",
       " '_metrics',\n",
       " '_name_based_attribute_restore',\n",
       " '_name_based_restores',\n",
       " '_no_dependency',\n",
       " '_non_trainable_variables',\n",
       " '_obj_type',\n",
       " '_object_identifier',\n",
       " '_open_name_scope',\n",
       " '_outbound_nodes',\n",
       " '_parent_path',\n",
       " '_path',\n",
       " '_post_build',\n",
       " '_post_track_variable',\n",
       " '_post_untrack_variable',\n",
       " '_preload_simple_restoration',\n",
       " '_pythonify_logs',\n",
       " '_resolve_auto_jit_compile',\n",
       " '_restore_from_tensors',\n",
       " '_run_eagerly',\n",
       " '_saved_model_arg_spec',\n",
       " '_saved_model_inputs_spec',\n",
       " '_seed_generators',\n",
       " '_self_name_based_restores',\n",
       " '_self_saveable_object_factories',\n",
       " '_self_setattr_tracking',\n",
       " '_self_unconditional_checkpoint_dependencies',\n",
       " '_self_unconditional_deferred_dependencies',\n",
       " '_self_unconditional_dependency_names',\n",
       " '_self_update_uid',\n",
       " '_serialize_to_proto',\n",
       " '_serialize_to_tensors',\n",
       " '_set_mask_metadata',\n",
       " '_set_save_spec',\n",
       " '_setattr_hook',\n",
       " '_setattr_tracking',\n",
       " '_should_eval',\n",
       " '_supports_masking',\n",
       " '_symbolic_build',\n",
       " '_tf_api_names',\n",
       " '_tf_api_names_v1',\n",
       " '_track_trackable',\n",
       " '_track_variable',\n",
       " '_trackable_children',\n",
       " '_tracked',\n",
       " '_tracker',\n",
       " '_trainable',\n",
       " '_trainable_variables',\n",
       " '_unconditional_checkpoint_dependencies',\n",
       " '_unconditional_dependency_names',\n",
       " '_unpickle_model',\n",
       " '_untrack_variable',\n",
       " '_update_uid',\n",
       " 'activity_regularizer',\n",
       " 'add',\n",
       " 'add_loss',\n",
       " 'add_metric',\n",
       " 'add_variable',\n",
       " 'add_weight',\n",
       " 'autocast',\n",
       " 'build',\n",
       " 'build_from_config',\n",
       " 'built',\n",
       " 'call',\n",
       " 'compile',\n",
       " 'compile_from_config',\n",
       " 'compiled',\n",
       " 'compiled_loss',\n",
       " 'compiled_metrics',\n",
       " 'compute_dtype',\n",
       " 'compute_loss',\n",
       " 'compute_mask',\n",
       " 'compute_metrics',\n",
       " 'compute_output_shape',\n",
       " 'compute_output_spec',\n",
       " 'count_params',\n",
       " 'distribute_reduction_method',\n",
       " 'distribute_strategy',\n",
       " 'dtype',\n",
       " 'dtype_policy',\n",
       " 'evaluate',\n",
       " 'export',\n",
       " 'fit',\n",
       " 'from_config',\n",
       " 'get_build_config',\n",
       " 'get_compile_config',\n",
       " 'get_config',\n",
       " 'get_layer',\n",
       " 'get_metrics_result',\n",
       " 'get_weights',\n",
       " 'history',\n",
       " 'input',\n",
       " 'input_dtype',\n",
       " 'input_shape',\n",
       " 'input_spec',\n",
       " 'inputs',\n",
       " 'jit_compile',\n",
       " 'layers',\n",
       " 'load_own_variables',\n",
       " 'load_weights',\n",
       " 'loss',\n",
       " 'losses',\n",
       " 'make_predict_function',\n",
       " 'make_test_function',\n",
       " 'make_train_function',\n",
       " 'metrics',\n",
       " 'metrics_names',\n",
       " 'metrics_variables',\n",
       " 'name',\n",
       " 'non_trainable_variables',\n",
       " 'non_trainable_weights',\n",
       " 'optimizer',\n",
       " 'output',\n",
       " 'output_shape',\n",
       " 'outputs',\n",
       " 'path',\n",
       " 'pop',\n",
       " 'predict',\n",
       " 'predict_function',\n",
       " 'predict_on_batch',\n",
       " 'predict_step',\n",
       " 'quantization_mode',\n",
       " 'quantize',\n",
       " 'quantized_call',\n",
       " 'reset_metrics',\n",
       " 'run_eagerly',\n",
       " 'save',\n",
       " 'save_own_variables',\n",
       " 'save_weights',\n",
       " 'set_weights',\n",
       " 'stateless_call',\n",
       " 'stateless_compute_loss',\n",
       " 'steps_per_execution',\n",
       " 'stop_predicting',\n",
       " 'stop_training',\n",
       " 'summary',\n",
       " 'supports_jit',\n",
       " 'supports_masking',\n",
       " 'symbolic_call',\n",
       " 'test_function',\n",
       " 'test_on_batch',\n",
       " 'test_step',\n",
       " 'to_json',\n",
       " 'train_function',\n",
       " 'train_on_batch',\n",
       " 'train_step',\n",
       " 'trainable',\n",
       " 'trainable_variables',\n",
       " 'trainable_weights',\n",
       " 'variable_dtype',\n",
       " 'variables',\n",
       " 'weights']"
      ]
     },
     "execution_count": 59,
     "metadata": {},
     "output_type": "execute_result"
    }
   ],
   "source": [
    "dir(model)"
   ]
  },
  {
   "cell_type": "code",
   "execution_count": 60,
   "id": "a2999e4a-6138-42a7-aa69-dddec96215ef",
   "metadata": {},
   "outputs": [
    {
     "name": "stdout",
     "output_type": "stream",
     "text": [
      "\u001b[1m2/2\u001b[0m \u001b[32m━━━━━━━━━━━━━━━━━━━━\u001b[0m\u001b[37m\u001b[0m \u001b[1m0s\u001b[0m 1ms/step\n"
     ]
    }
   ],
   "source": [
    "predictions = model.predict(scaled_X_test)"
   ]
  },
  {
   "cell_type": "code",
   "execution_count": 61,
   "id": "a275029a-461c-49a2-a223-9cc880c7c0b7",
   "metadata": {},
   "outputs": [
    {
     "data": {
      "text/plain": [
       "array([[6.0304606e-01, 2.3479415e-01, 1.6215985e-01],\n",
       "       [6.0304606e-01, 2.3479415e-01, 1.6215985e-01],\n",
       "       [4.5080683e-03, 3.5094371e-01, 6.4454818e-01],\n",
       "       [5.1726323e-02, 5.0233173e-01, 4.4594204e-01],\n",
       "       [1.4852817e-04, 1.4879622e-01, 8.5105520e-01],\n",
       "       [6.0304606e-01, 2.3479415e-01, 1.6215985e-01],\n",
       "       [1.7373705e-03, 2.5672331e-01, 7.4153936e-01],\n",
       "       [2.2554837e-02, 4.7853708e-01, 4.9890804e-01],\n",
       "       [6.5421224e-02, 5.0479704e-01, 4.2978176e-01],\n",
       "       [1.3799615e-01, 4.9350345e-01, 3.6850038e-01],\n",
       "       [6.0304606e-01, 2.3479415e-01, 1.6215985e-01],\n",
       "       [5.5560716e-03, 3.5849744e-01, 6.3594639e-01],\n",
       "       [1.5280354e-04, 1.4777116e-01, 8.5207593e-01],\n",
       "       [6.0304606e-01, 2.3479415e-01, 1.6215985e-01],\n",
       "       [1.1230831e-02, 4.1880247e-01, 5.6996667e-01],\n",
       "       [1.8445557e-02, 4.6238577e-01, 5.1916862e-01],\n",
       "       [6.0304606e-01, 2.3479415e-01, 1.6215985e-01],\n",
       "       [6.0304606e-01, 2.3479415e-01, 1.6215985e-01],\n",
       "       [6.7244854e-04, 2.1709232e-01, 7.8223521e-01],\n",
       "       [2.6975718e-04, 1.7965157e-01, 8.2007861e-01],\n",
       "       [6.0304606e-01, 2.3479415e-01, 1.6215985e-01],\n",
       "       [6.0304606e-01, 2.3479415e-01, 1.6215985e-01],\n",
       "       [6.0304606e-01, 2.3479415e-01, 1.6215985e-01],\n",
       "       [4.2372365e-03, 3.1189060e-01, 6.8387228e-01],\n",
       "       [3.1377389e-03, 3.1598148e-01, 6.8088073e-01],\n",
       "       [6.1689592e-05, 1.1801325e-01, 8.8192499e-01],\n",
       "       [6.0304606e-01, 2.3479415e-01, 1.6215985e-01],\n",
       "       [3.8256917e-02, 4.9664229e-01, 4.6510080e-01],\n",
       "       [6.0304606e-01, 2.3479415e-01, 1.6215985e-01],\n",
       "       [6.0304606e-01, 2.3479415e-01, 1.6215985e-01],\n",
       "       [2.9228054e-02, 4.9140903e-01, 4.7936285e-01],\n",
       "       [6.0304606e-01, 2.3479415e-01, 1.6215985e-01],\n",
       "       [1.1664866e-01, 4.9926889e-01, 3.8408250e-01],\n",
       "       [1.3012141e-01, 4.9418229e-01, 3.7569624e-01],\n",
       "       [7.3294493e-04, 2.0763403e-01, 7.9163301e-01],\n",
       "       [1.6924614e-03, 2.6470137e-01, 7.3360610e-01],\n",
       "       [7.4814893e-03, 4.0929300e-01, 5.8322549e-01],\n",
       "       [3.2480288e-04, 1.9177805e-01, 8.0789715e-01],\n",
       "       [2.9683286e-02, 4.6143022e-01, 5.0888652e-01],\n",
       "       [1.6880002e-02, 4.5232970e-01, 5.3079027e-01],\n",
       "       [4.4362742e-02, 5.0085294e-01, 4.5478424e-01],\n",
       "       [2.3803087e-03, 2.8359312e-01, 7.1402663e-01],\n",
       "       [4.6748634e-02, 5.0192845e-01, 4.5132282e-01],\n",
       "       [2.8368325e-03, 3.1841579e-01, 6.7874742e-01],\n",
       "       [6.0304606e-01, 2.3479415e-01, 1.6215985e-01],\n",
       "       [2.1381976e-02, 4.5921800e-01, 5.1940000e-01],\n",
       "       [2.8430691e-02, 4.7079191e-01, 5.0077736e-01],\n",
       "       [8.0928139e-02, 5.0300884e-01, 4.1606298e-01],\n",
       "       [1.0793719e-02, 4.3688822e-01, 5.5231810e-01],\n",
       "       [8.5749300e-03, 4.2113906e-01, 5.7028604e-01]], dtype=float32)"
      ]
     },
     "execution_count": 61,
     "metadata": {},
     "output_type": "execute_result"
    }
   ],
   "source": [
    "predictions"
   ]
  },
  {
   "cell_type": "code",
   "execution_count": 67,
   "id": "140f31fc-a301-484d-8474-16bed55ed9af",
   "metadata": {},
   "outputs": [
    {
     "name": "stdout",
     "output_type": "stream",
     "text": [
      "[0 0 2 1 2 0 2 2 1 1 0 2 2 0 2 2 0 0 2 2 0 0 0 2 2 2 0 1 0 0 1 0 1 1 2 2 2\n",
      " 2 2 2 1 2 1 2 0 2 2 1 2 2]\n"
     ]
    }
   ],
   "source": [
    "outputs = predictions.argmax(axis=1)\n",
    "print(outputs)"
   ]
  },
  {
   "cell_type": "code",
   "execution_count": 64,
   "id": "993c481d-50dc-4655-bf53-96f2fee3e16c",
   "metadata": {},
   "outputs": [
    {
     "data": {
      "text/plain": [
       "['loss', 'compile_metrics']"
      ]
     },
     "execution_count": 64,
     "metadata": {},
     "output_type": "execute_result"
    }
   ],
   "source": [
    "model.metrics_names"
   ]
  },
  {
   "cell_type": "code",
   "execution_count": 65,
   "id": "b9a97f0d-036b-4b83-b3b7-f05c241499cd",
   "metadata": {},
   "outputs": [
    {
     "name": "stdout",
     "output_type": "stream",
     "text": [
      "\u001b[1m2/2\u001b[0m \u001b[32m━━━━━━━━━━━━━━━━━━━━\u001b[0m\u001b[37m\u001b[0m \u001b[1m0s\u001b[0m 2ms/step - accuracy: 0.7983 - loss: 0.5473 \n"
     ]
    },
    {
     "data": {
      "text/plain": [
       "[0.5652619004249573, 0.7599999904632568]"
      ]
     },
     "execution_count": 65,
     "metadata": {},
     "output_type": "execute_result"
    }
   ],
   "source": [
    "model.evaluate(x=scaled_X_test, y=y_test)"
   ]
  },
  {
   "cell_type": "code",
   "execution_count": 66,
   "id": "fee7cc51-0417-4bf2-af28-15c27ed5e82b",
   "metadata": {},
   "outputs": [],
   "source": [
    "from sklearn.metrics import confusion_matrix, accuracy_score, classification_report"
   ]
  },
  {
   "cell_type": "code",
   "execution_count": 68,
   "id": "9e0087e6-7ea6-4c70-915b-6f53c01ffe81",
   "metadata": {},
   "outputs": [],
   "source": [
    "y_res = y_test.argmax(axis=1)"
   ]
  },
  {
   "cell_type": "code",
   "execution_count": 69,
   "id": "d309ca89-6d2a-46d4-b92c-ee77aeb650aa",
   "metadata": {},
   "outputs": [
    {
     "data": {
      "text/plain": [
       "array([[15,  0,  0],\n",
       "       [ 0, 10, 12],\n",
       "       [ 0,  0, 13]])"
      ]
     },
     "execution_count": 69,
     "metadata": {},
     "output_type": "execute_result"
    }
   ],
   "source": [
    "confusion_matrix(y_res, outputs)"
   ]
  },
  {
   "cell_type": "code",
   "execution_count": 71,
   "id": "31897201-93f1-44ba-bc87-de4fcb9f1f4c",
   "metadata": {},
   "outputs": [
    {
     "name": "stdout",
     "output_type": "stream",
     "text": [
      "              precision    recall  f1-score   support\n",
      "\n",
      "           0       1.00      1.00      1.00        15\n",
      "           1       1.00      0.45      0.62        22\n",
      "           2       0.52      1.00      0.68        13\n",
      "\n",
      "    accuracy                           0.76        50\n",
      "   macro avg       0.84      0.82      0.77        50\n",
      "weighted avg       0.88      0.76      0.75        50\n",
      "\n"
     ]
    }
   ],
   "source": [
    "print(classification_report(y_res, outputs))"
   ]
  },
  {
   "cell_type": "code",
   "execution_count": 72,
   "id": "1242015f-4eaf-4c55-a2a8-8def89b1d47e",
   "metadata": {},
   "outputs": [
    {
     "data": {
      "text/plain": [
       "0.76"
      ]
     },
     "execution_count": 72,
     "metadata": {},
     "output_type": "execute_result"
    }
   ],
   "source": [
    "accuracy_score(y_res, outputs)"
   ]
  },
  {
   "cell_type": "code",
   "execution_count": 80,
   "id": "a85e4c4a-3643-4a6d-9bf5-809c409b026e",
   "metadata": {},
   "outputs": [
    {
     "name": "stderr",
     "output_type": "stream",
     "text": [
      "WARNING:absl:You are saving your model as an HDF5 file via `model.save()` or `keras.saving.save_model(model)`. This file format is considered legacy. We recommend using instead the native Keras format, e.g. `model.save('my_model.keras')` or `keras.saving.save_model(model, 'my_model.keras')`. \n"
     ]
    }
   ],
   "source": [
    "model.save('files/dl/my_first_model.h5')"
   ]
  },
  {
   "cell_type": "code",
   "execution_count": 74,
   "id": "879fd22e-846a-4908-9c09-6aa8519c1f39",
   "metadata": {},
   "outputs": [],
   "source": [
    "from keras.saving import save_model"
   ]
  },
  {
   "cell_type": "code",
   "execution_count": 81,
   "id": "c70041ee-64b5-4eaf-b411-5bfa51fd8da7",
   "metadata": {},
   "outputs": [
    {
     "name": "stderr",
     "output_type": "stream",
     "text": [
      "WARNING:absl:You are saving your model as an HDF5 file via `model.save()` or `keras.saving.save_model(model)`. This file format is considered legacy. We recommend using instead the native Keras format, e.g. `model.save('my_model.keras')` or `keras.saving.save_model(model, 'my_model.keras')`. \n"
     ]
    }
   ],
   "source": [
    "save_model(model, 'files/dl/my_first_model2.h5')"
   ]
  },
  {
   "cell_type": "code",
   "execution_count": 82,
   "id": "6d47b15b-3d77-444f-b9b1-58d15d97d977",
   "metadata": {},
   "outputs": [
    {
     "name": "stderr",
     "output_type": "stream",
     "text": [
      "WARNING:absl:Compiled the loaded model, but the compiled metrics have yet to be built. `model.compile_metrics` will be empty until you train or evaluate the model.\n"
     ]
    }
   ],
   "source": [
    "from keras.models import load_model\n",
    "new_model = load_model('files/dl/my_first_model2.h5')"
   ]
  },
  {
   "cell_type": "code",
   "execution_count": 78,
   "id": "1e365374-e912-4ac9-82a3-92c06814f448",
   "metadata": {},
   "outputs": [
    {
     "name": "stdout",
     "output_type": "stream",
     "text": [
      "\u001b[1m2/2\u001b[0m \u001b[32m━━━━━━━━━━━━━━━━━━━━\u001b[0m\u001b[37m\u001b[0m \u001b[1m0s\u001b[0m 13ms/step\n"
     ]
    }
   ],
   "source": [
    "y_pred = new_model.predict(scaled_X_test)"
   ]
  },
  {
   "cell_type": "code",
   "execution_count": 79,
   "id": "afa8dde1-e076-41e5-be7a-e368c8ba82c6",
   "metadata": {},
   "outputs": [
    {
     "data": {
      "text/plain": [
       "array([0, 0, 2, 1, 2, 0, 2, 2, 1, 1, 0, 2, 2, 0, 2, 2, 0, 0, 2, 2, 0, 0,\n",
       "       0, 2, 2, 2, 0, 1, 0, 0, 1, 0, 1, 1, 2, 2, 2, 2, 2, 2, 1, 2, 1, 2,\n",
       "       0, 2, 2, 1, 2, 2])"
      ]
     },
     "execution_count": 79,
     "metadata": {},
     "output_type": "execute_result"
    }
   ],
   "source": [
    "y_pred.argmax(axis=1)"
   ]
  },
  {
   "cell_type": "code",
   "execution_count": null,
   "id": "aafcedb2-fc58-4ed9-bf54-7866f0cfc791",
   "metadata": {},
   "outputs": [],
   "source": []
  }
 ],
 "metadata": {
  "kernelspec": {
   "display_name": "Python 3 (ipykernel)",
   "language": "python",
   "name": "python3"
  },
  "language_info": {
   "codemirror_mode": {
    "name": "ipython",
    "version": 3
   },
   "file_extension": ".py",
   "mimetype": "text/x-python",
   "name": "python",
   "nbconvert_exporter": "python",
   "pygments_lexer": "ipython3",
   "version": "3.11.9"
  }
 },
 "nbformat": 4,
 "nbformat_minor": 5
}
