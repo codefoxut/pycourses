{
 "cells": [
  {
   "cell_type": "code",
   "execution_count": 1,
   "id": "106eaab5-829a-4e34-9fa5-c4bbd2870299",
   "metadata": {},
   "outputs": [],
   "source": [
    "# Perform standard imports\n",
    "import spacy\n",
    "nlp = spacy.load('en_core_web_sm')"
   ]
  },
  {
   "cell_type": "code",
   "execution_count": 2,
   "id": "217bb75e-27c8-4563-954b-51e241891f39",
   "metadata": {},
   "outputs": [],
   "source": [
    "# Import the Matcher library\n",
    "from spacy.matcher import Matcher\n",
    "matcher = Matcher(nlp.vocab)"
   ]
  },
  {
   "cell_type": "code",
   "execution_count": 4,
   "id": "2aada33f-c2c4-4ca5-96fc-0aa4cae071d4",
   "metadata": {},
   "outputs": [],
   "source": [
    "pattern1 = [{'LOWER': 'solarpower'}]\n",
    "pattern2 = [{'LOWER': 'solar'}, {'LOWER': 'power'}]\n",
    "pattern3 = [{'LOWER': 'solar'}, {'IS_PUNCT': True}, {'LOWER': 'power'}]\n",
    "\n",
    "matcher.add('SolarPower', [pattern1, pattern2, pattern3])"
   ]
  },
  {
   "cell_type": "code",
   "execution_count": 5,
   "id": "b5597e40-2c81-49a4-b73c-cfdc089b5e45",
   "metadata": {},
   "outputs": [],
   "source": [
    "doc = nlp(u'The Solar Power industry continues to grow as demand \\\n",
    "for solarpower increases. Solar-power cars are gaining popularity.')"
   ]
  },
  {
   "cell_type": "code",
   "execution_count": 6,
   "id": "a5f7e2af-8cd6-4177-9d18-c71b837526ba",
   "metadata": {},
   "outputs": [
    {
     "name": "stdout",
     "output_type": "stream",
     "text": [
      "[(8656102463236116519, 1, 3), (8656102463236116519, 10, 11), (8656102463236116519, 13, 16)]\n"
     ]
    }
   ],
   "source": [
    "found_matches = matcher(doc)\n",
    "print(found_matches)"
   ]
  },
  {
   "cell_type": "code",
   "execution_count": 7,
   "id": "0950db61-a87d-464f-929b-18f32a5738f9",
   "metadata": {},
   "outputs": [
    {
     "name": "stdout",
     "output_type": "stream",
     "text": [
      "8656102463236116519 SolarPower 1 3 Solar Power\n",
      "8656102463236116519 SolarPower 10 11 solarpower\n",
      "8656102463236116519 SolarPower 13 16 Solar-power\n"
     ]
    }
   ],
   "source": [
    "for match_id, start, end in found_matches:\n",
    "    string_id = nlp.vocab.strings[match_id]  # get string representation\n",
    "    span = doc[start:end]                    # get the matched span\n",
    "    print(match_id, string_id, start, end, span.text)"
   ]
  },
  {
   "cell_type": "code",
   "execution_count": 8,
   "id": "fe13769c-dd32-49bc-a159-66c0f2676e67",
   "metadata": {},
   "outputs": [],
   "source": [
    "# Redefine the patterns:\n",
    "pattern1 = [{'LOWER': 'solarpower'}]\n",
    "pattern2 = [{'LOWER': 'solar'}, {'IS_PUNCT': True, 'OP':'*'}, {'LOWER': 'power'}]\n",
    "\n",
    "# Remove the old patterns to avoid duplication:\n",
    "matcher.remove('SolarPower')\n",
    "\n",
    "# Add the new set of patterns to the 'SolarPower' matcher:\n",
    "matcher.add('SolarPower', [pattern1, pattern2])"
   ]
  },
  {
   "cell_type": "code",
   "execution_count": 9,
   "id": "770b3f50-2d9d-45f1-b1c1-5105187ca999",
   "metadata": {},
   "outputs": [
    {
     "name": "stdout",
     "output_type": "stream",
     "text": [
      "[(8656102463236116519, 1, 3), (8656102463236116519, 10, 11), (8656102463236116519, 13, 16)]\n"
     ]
    }
   ],
   "source": [
    "found_matches2 = matcher(doc)\n",
    "print(found_matches2)"
   ]
  },
  {
   "cell_type": "code",
   "execution_count": 10,
   "id": "af9c9834-86fd-431d-b92d-15b0d3659d70",
   "metadata": {},
   "outputs": [],
   "source": [
    "pattern1 = [{'LOWER': 'solarpower'}]\n",
    "pattern2 = [{'LOWER': 'solar'}, {'IS_PUNCT': True, 'OP':'*'}, {'LEMMA': 'power'}] # CHANGE THIS PATTERN\n",
    "\n",
    "# Remove the old patterns to avoid duplication:\n",
    "matcher.remove('SolarPower')\n",
    "\n",
    "# Add the new set of patterns to the 'SolarPower' matcher:\n",
    "matcher.add('SolarPower', [pattern1, pattern2])"
   ]
  },
  {
   "cell_type": "code",
   "execution_count": 11,
   "id": "46c2c8c7-35f6-4440-9a20-05bded052e39",
   "metadata": {},
   "outputs": [
    {
     "name": "stdout",
     "output_type": "stream",
     "text": [
      "[(8656102463236116519, 0, 3), (8656102463236116519, 5, 8)]\n"
     ]
    }
   ],
   "source": [
    "doc2 = nlp(u'Solar-powered energy runs solar-powered cars.')\n",
    "found_matches3 = matcher(doc2)\n",
    "print(found_matches3)"
   ]
  },
  {
   "cell_type": "code",
   "execution_count": 12,
   "id": "5d5dfd9f-2ec7-4069-b0be-2400f304ddc7",
   "metadata": {},
   "outputs": [
    {
     "name": "stdout",
     "output_type": "stream",
     "text": [
      "Solar solar\n",
      "- -\n",
      "powered power\n",
      "energy energy\n",
      "runs run\n",
      "solar solar\n",
      "- -\n",
      "powered power\n",
      "cars car\n",
      ". .\n"
     ]
    }
   ],
   "source": [
    "for token in doc2:\n",
    "    print(token.text, token.lemma_)"
   ]
  },
  {
   "cell_type": "code",
   "execution_count": null,
   "id": "74fb2a67-0368-41b0-815a-f3a009117210",
   "metadata": {},
   "outputs": [],
   "source": []
  },
  {
   "cell_type": "markdown",
   "id": "4fb831f3-4f78-463d-bcf4-fac5b55d5d63",
   "metadata": {},
   "source": [
    "# PhraseMatcher"
   ]
  },
  {
   "cell_type": "code",
   "execution_count": 13,
   "id": "9a9ba1ac-cd90-428b-9875-8ae97365f996",
   "metadata": {},
   "outputs": [],
   "source": [
    "# Perform standard imports, reset nlp\n",
    "import spacy\n",
    "nlp = spacy.load('en_core_web_sm')"
   ]
  },
  {
   "cell_type": "code",
   "execution_count": 14,
   "id": "968a0ea3-8bc2-4c53-a75c-07a69e020088",
   "metadata": {},
   "outputs": [],
   "source": [
    "# Import the PhraseMatcher library\n",
    "from spacy.matcher import PhraseMatcher\n",
    "matcher = PhraseMatcher(nlp.vocab)"
   ]
  },
  {
   "cell_type": "code",
   "execution_count": 17,
   "id": "6a85e013-b604-4ff7-8308-1474f77665a0",
   "metadata": {},
   "outputs": [],
   "source": [
    "with open('TextFiles/reaganomics2.txt', encoding='utf8') as f:\n",
    "    doc3 = nlp(f.read())"
   ]
  },
  {
   "cell_type": "code",
   "execution_count": 18,
   "id": "bee6c662-0415-42fd-9243-1e9e5d12cab6",
   "metadata": {},
   "outputs": [],
   "source": [
    "# First, create a list of match phrases:\n",
    "phrase_list = ['voodoo economics', 'supply-side economics', 'trickle-down economics', 'free-market economics']\n",
    "\n",
    "# Next, convert each phrase to a Doc object:\n",
    "phrase_patterns = [nlp(text) for text in phrase_list]\n",
    "\n",
    "# Pass each Doc object into matcher (note the use of the asterisk!):\n",
    "matcher.add('VoodooEconomics', phrase_patterns)\n",
    "\n",
    "# Build a list of matches:\n",
    "matches = matcher(doc3)"
   ]
  },
  {
   "cell_type": "code",
   "execution_count": 19,
   "id": "d8bde96c-b38f-4b30-8f17-de31779937ee",
   "metadata": {},
   "outputs": [
    {
     "data": {
      "text/plain": [
       "[(3473369816841043438, 39, 43),\n",
       " (3473369816841043438, 44, 48),\n",
       " (3473369816841043438, 51, 53),\n",
       " (3473369816841043438, 66, 70),\n",
       " (3473369816841043438, 732, 736),\n",
       " (3473369816841043438, 6623, 6625)]"
      ]
     },
     "execution_count": 19,
     "metadata": {},
     "output_type": "execute_result"
    }
   ],
   "source": [
    "matches"
   ]
  },
  {
   "cell_type": "code",
   "execution_count": 20,
   "id": "7408931d-9a97-4804-b375-5ca98007e14f",
   "metadata": {},
   "outputs": [
    {
     "data": {
      "text/plain": [
       "Reaganomics (/reɪɡəˈnɒmɪks/; a portmanteau of Reagan and economics attributed to Paul Harvey),[1] or Reaganism, were the neoliberal[2][3][4] economic policies promoted by U.S. President Ronald Reagan during the 1980s. These policies are characterized as supply-side economics, trickle-down economics, or \"voodoo economics\" by opponents,[5][6] while Reagan and his advocates preferred to call it free-market economics.\n",
       "\n",
       "The pillars of"
      ]
     },
     "execution_count": 20,
     "metadata": {},
     "output_type": "execute_result"
    }
   ],
   "source": [
    "doc3[:75]"
   ]
  },
  {
   "cell_type": "code",
   "execution_count": 21,
   "id": "80c4ef64-0d07-427a-a877-39f9d9f368a7",
   "metadata": {},
   "outputs": [
    {
     "data": {
      "text/plain": [
       "policies. At the same time he attracted a following from the supply-side economics movement, which formed"
      ]
     },
     "execution_count": 21,
     "metadata": {},
     "output_type": "execute_result"
    }
   ],
   "source": [
    "doc3[720:740]"
   ]
  },
  {
   "cell_type": "code",
   "execution_count": 23,
   "id": "1fd98ec7-9923-4ac0-9157-ae28053bbc94",
   "metadata": {},
   "outputs": [
    {
     "data": {
      "text/plain": [
       "Reagonomics or 'voodoo economics'?\". BBC News. June 5,"
      ]
     },
     "execution_count": 23,
     "metadata": {},
     "output_type": "execute_result"
    }
   ],
   "source": [
    "doc3[6620:6635] "
   ]
  },
  {
   "cell_type": "code",
   "execution_count": 24,
   "id": "0dbedb88-5cfe-408a-938f-c39bc4d769bb",
   "metadata": {},
   "outputs": [
    {
     "name": "stdout",
     "output_type": "stream",
     "text": [
      "3473369816841043438 VoodooEconomics 39 43 These policies are characterized as supply-side economics, trickle-down economics\n",
      "3473369816841043438 VoodooEconomics 44 48 supply-side economics, trickle-down economics, or \"voodoo economics\n",
      "3473369816841043438 VoodooEconomics 51 53 down economics, or \"voodoo economics\" by opponents,[5][6] while\n",
      "3473369816841043438 VoodooEconomics 66 70 advocates preferred to call it free-market economics.\n",
      "\n",
      "The pillars of\n",
      "3473369816841043438 VoodooEconomics 732 736 attracted a following from the supply-side economics movement, which formed in\n",
      "3473369816841043438 VoodooEconomics 6623 6625 \n",
      " \"Reagonomics or 'voodoo economics'?\". BBC\n"
     ]
    }
   ],
   "source": [
    "for match_id, start, end in matches:\n",
    "    string_id = nlp.vocab.strings[match_id]\n",
    "    span = doc3[start-5:end+5]\n",
    "    print(match_id, string_id, start, end, span)"
   ]
  },
  {
   "cell_type": "code",
   "execution_count": 25,
   "id": "6e0532dd-1b00-4f3c-82c8-72f3cd5841be",
   "metadata": {},
   "outputs": [
    {
     "name": "stdout",
     "output_type": "stream",
     "text": [
      "0 34\n"
     ]
    }
   ],
   "source": [
    "# Build a list of sentences\n",
    "sents = [sent for sent in doc3.sents]\n",
    "\n",
    "# In the next section we'll see that sentences contain start and end token values:\n",
    "print(sents[0].start, sents[0].end)"
   ]
  },
  {
   "cell_type": "code",
   "execution_count": 26,
   "id": "786b6a97-5ffe-4cb7-83cc-36319d40d876",
   "metadata": {},
   "outputs": [
    {
     "name": "stdout",
     "output_type": "stream",
     "text": [
      "3473369816841043438 VoodooEconomics 39 43 These policies are characterized as supply-side economics, trickle-down economics, or \"voodoo economics\" by opponents,[5][6] while Reagan and his advocates preferred to call it free-market economics.\n",
      "\n",
      "\n",
      "3473369816841043438 VoodooEconomics 44 48 These policies are characterized as supply-side economics, trickle-down economics, or \"voodoo economics\" by opponents,[5][6] while Reagan and his advocates preferred to call it free-market economics.\n",
      "\n",
      "\n",
      "3473369816841043438 VoodooEconomics 51 53 These policies are characterized as supply-side economics, trickle-down economics, or \"voodoo economics\" by opponents,[5][6] while Reagan and his advocates preferred to call it free-market economics.\n",
      "\n",
      "\n",
      "3473369816841043438 VoodooEconomics 66 70 These policies are characterized as supply-side economics, trickle-down economics, or \"voodoo economics\" by opponents,[5][6] while Reagan and his advocates preferred to call it free-market economics.\n",
      "\n",
      "\n",
      "3473369816841043438 VoodooEconomics 732 736 At the same time he attracted a following from the supply-side economics movement, which formed in opposition to Keynesian demand-stimulus economics.\n",
      "3473369816841043438 VoodooEconomics 6623 6625 \"Reagonomics or 'voodoo economics'?\".\n"
     ]
    }
   ],
   "source": [
    "sent_index = 0\n",
    "\n",
    "while sent_index < len(sents):\n",
    "    sent = sents[sent_index]\n",
    "    for match_id, start, end in matches:\n",
    "        string_id = nlp.vocab.strings[match_id]\n",
    "        if sent.end >= end and sent.start <= start:\n",
    "            span = doc3[sent.start:sent.end]\n",
    "            print(match_id, string_id, start, end, span)\n",
    "    sent_index += 1"
   ]
  },
  {
   "cell_type": "code",
   "execution_count": null,
   "id": "c23dfb9a-93c3-4e85-b08a-8e7a220b80cd",
   "metadata": {},
   "outputs": [],
   "source": []
  }
 ],
 "metadata": {
  "kernelspec": {
   "display_name": "Python 3 (ipykernel)",
   "language": "python",
   "name": "python3"
  },
  "language_info": {
   "codemirror_mode": {
    "name": "ipython",
    "version": 3
   },
   "file_extension": ".py",
   "mimetype": "text/x-python",
   "name": "python",
   "nbconvert_exporter": "python",
   "pygments_lexer": "ipython3",
   "version": "3.11.9"
  }
 },
 "nbformat": 4,
 "nbformat_minor": 5
}
