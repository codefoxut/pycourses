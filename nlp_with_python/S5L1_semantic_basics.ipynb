{
 "cells": [
  {
   "cell_type": "code",
   "execution_count": 1,
   "id": "ec2775a4-38c3-4778-8bbb-aaae9ad14887",
   "metadata": {},
   "outputs": [],
   "source": [
    "# Import spaCy and load the language library\n",
    "import spacy\n",
    "nlp = spacy.load('en_core_web_md') "
   ]
  },
  {
   "cell_type": "code",
   "execution_count": 2,
   "id": "0b4b434c-8af9-41fa-8c58-4cf0bb898e34",
   "metadata": {},
   "outputs": [
    {
     "data": {
      "text/plain": [
       "array([  1.2746  ,   0.46242 ,  -1.1829  ,  -5.2661  ,  -2.7128  ,\n",
       "         1.8521  ,  -0.94273 ,   2.1865  ,   6.503   ,   0.6704  ,\n",
       "         1.5361  ,   2.5992  ,  -0.36233 ,   4.3965  ,  -6.5644  ,\n",
       "         1.6141  ,  -1.2897  ,   2.1184  ,  -0.63654 ,  -3.4572  ,\n",
       "        -4.3771  ,   4.2074  ,  -3.6411  ,  -0.97214 ,   1.3253  ,\n",
       "        -2.3125  ,  -3.6531  ,  -2.8398  ,   2.7913  ,  -1.53    ,\n",
       "        -2.9984  ,  -2.6357  ,   0.50615 ,  -2.6925  ,   4.3401  ,\n",
       "        -5.6017  ,   0.045691,   4.3832  ,  -0.19535 ,  -1.0751  ,\n",
       "         0.32172 ,   2.4395  ,   4.6638  ,   3.4471  ,  -3.3847  ,\n",
       "        -1.8238  ,   0.70212 ,   0.58557 ,   5.0032  ,  -3.1072  ,\n",
       "         1.2364  ,   7.4595  ,   0.057368,   1.0111  ,  -1.0827  ,\n",
       "         0.69113 ,   2.8009  ,  -3.4383  ,  -1.0599  ,  -2.2627  ,\n",
       "        -5.149   ,  -5.0636  ,   3.1405  ,   1.0793  ,  -0.72892 ,\n",
       "        -3.9939  ,  -0.69551 ,  -0.55767 ,   3.2555  ,  -2.9449  ,\n",
       "         4.7114  ,   1.6388  ,   1.3828  ,   1.4255  ,  -3.2334  ,\n",
       "        -2.274   ,  -1.8136  ,   2.2966  ,   2.5462  ,   1.0722  ,\n",
       "        -0.73447 ,   1.2148  ,  -0.9196  ,  -0.065012,   2.088   ,\n",
       "         0.57002 ,   3.5746  ,   1.7192  ,  -8.335   ,   0.71079 ,\n",
       "         0.91314 ,  -5.0107  ,   1.899   ,  -4.4658  ,   4.7993  ,\n",
       "        -0.39899 ,  -2.673   ,  -2.9354  ,   4.304   ,   1.4336  ,\n",
       "         3.7121  ,   0.34882 ,   4.6512  ,  -4.5731  ,  -4.5665  ,\n",
       "         1.5988  ,  -0.50383 ,   0.95857 ,   0.68728 ,  -0.39976 ,\n",
       "        -3.1922  ,   4.4363  ,  -0.69479 ,  -1.9528  ,   4.9376  ,\n",
       "         2.7259  ,   2.2485  ,   5.5734  ,   2.5842  ,   4.7836  ,\n",
       "        -1.0274  ,   2.2703  ,  -2.0696  ,  -1.0642  ,  -4.932   ,\n",
       "        -2.274   ,   4.1409  ,   0.73313 ,   2.1889  ,  -0.098888,\n",
       "         1.6472  ,  -2.3985  ,   2.5911  ,   3.6026  ,   1.885   ,\n",
       "         5.7822  ,  -1.4481  ,   1.8914  , -10.044   ,  -5.7452  ,\n",
       "        -4.3224  ,  -3.854   ,   2.3084  ,  -0.84018 ,  -0.40526 ,\n",
       "         4.7741  ,  -2.3271  ,   7.064   ,   0.95753 ,  -2.356   ,\n",
       "         0.83953 ,   0.40004 ,   0.33743 ,   0.8376  ,   3.9285  ,\n",
       "         0.05955 ,   2.4422  ,   4.3492  ,   3.9861  ,   2.1043  ,\n",
       "        -1.0197  ,  -0.61752 ,  -0.42999 ,  -0.1014  ,  -5.9571  ,\n",
       "        -0.53818 ,  -1.7797  ,   1.7446  ,   2.3934  ,  -0.50263 ,\n",
       "        -1.6222  ,  -0.37372 ,  -6.8938  ,   0.55018 ,  -2.267   ,\n",
       "         0.64912 ,   3.1525  ,  -2.2541  ,  -4.0384  ,   3.206   ,\n",
       "         0.14962 ,  -2.6662  ,   0.18167 ,   5.0028  ,   2.1521  ,\n",
       "         0.92419 ,   5.4163  ,  -2.2408  ,   1.6585  ,  -5.1625  ,\n",
       "         5.029   ,   0.1026  ,  -0.44542 ,   2.0557  ,   3.7778  ,\n",
       "         3.8679  ,  -2.7135  ,   5.3242  ,  -3.2916  ,   5.6421  ,\n",
       "         5.0466  ,   1.6072  ,  -1.3206  ,   4.2044  ,  -0.33793 ,\n",
       "        -3.1139  ,   2.8841  ,  -3.1565  ,  -2.9832  ,  -0.23235 ,\n",
       "         2.3259  ,   3.5477  ,  -2.1299  ,  -1.8344  ,   2.7271  ,\n",
       "         1.5568  ,   5.6865  ,   0.9412  ,  -2.6412  ,  -5.3254  ,\n",
       "         1.3494  ,  -0.47159 ,   2.4979  ,  -1.5568  ,  -1.6911  ,\n",
       "        -2.1842  ,   6.0319  ,   0.022573,   2.3824  ,  -1.1002  ,\n",
       "         0.90216 ,  -1.9113  ,   1.5527  ,   5.7413  ,  -3.1956  ,\n",
       "         0.68655 ,  -1.6068  ,   1.7404  ,  -3.2142  ,   6.4783  ,\n",
       "         1.7548  ,  -2.9795  ,   0.97631 ,  -0.018354,  -0.6379  ,\n",
       "         0.80559 ,   3.1923  ,   3.3335  ,   4.3068  ,  -1.0819  ,\n",
       "        -1.3839  ,  -4.7626  ,  -4.6637  ,  -1.2201  ,  -3.2741  ,\n",
       "         1.5204  ,   0.78119 ,   8.7339  ,   1.6009  ,  -0.79332 ,\n",
       "         5.8416  ,  -1.485   ,   1.5978  ,   2.9746  ,  -0.30759 ,\n",
       "        -1.8023  ,  -4.8344  ,   1.2817  ,  -2.5469  ,   2.6517  ,\n",
       "         1.4881  ,   2.1952  ,  -0.12652 ,   1.2223  ,   0.44763 ,\n",
       "        -3.1445  ,  -2.2051  ,  -4.1785  ,  -3.6539  ,   5.1929  ,\n",
       "         0.78457 ,  -1.2312  ,   5.5624  ,  -1.8462  ,   6.1262  ,\n",
       "        -1.6653  ,  -2.7557  ,  -0.066465,  -3.6362  ,   5.2005  ,\n",
       "        -1.2865  ,   2.8855  ,   6.1219  ,   1.7824  ,   1.4264  ,\n",
       "        10.628   ,  -0.36028 ,   1.9268  ,  -7.835   ,   0.57865 ],\n",
       "      dtype=float32)"
      ]
     },
     "execution_count": 2,
     "metadata": {},
     "output_type": "execute_result"
    }
   ],
   "source": [
    "nlp('lion').vector"
   ]
  },
  {
   "cell_type": "code",
   "execution_count": 3,
   "id": "3db46bc2-b076-4668-82d7-1aa3d384be7a",
   "metadata": {},
   "outputs": [
    {
     "data": {
      "text/plain": [
       "array([-1.7769655 ,  0.39714497, -1.695121  , -0.1089559 ,  3.861494  ,\n",
       "       -0.10778303, -0.02750097,  3.191314  ,  1.0857747 , -0.2615487 ,\n",
       "        4.0720797 ,  1.5932049 , -2.7569218 ,  0.70982707,  2.0976841 ,\n",
       "        0.08150103,  0.8847861 , -0.505237  ,  0.767067  , -2.88911   ,\n",
       "       -0.28514975, -0.331664  ,  0.306348  , -2.25347   ,  0.96798134,\n",
       "       -0.030282  , -3.765162  , -2.168157  ,  1.3985709 ,  2.175709  ,\n",
       "       -0.81103534, -0.55156004, -1.033463  , -2.3130198 , -2.892054  ,\n",
       "       -2.843568  , -0.33247897,  1.620013  ,  3.03307   , -0.42730814,\n",
       "        1.298548  ,  0.18969259,  1.234282  , -0.14263602, -1.427765  ,\n",
       "       -0.05807757,  0.33836406, -1.6987331 , -2.13661   ,  0.10412004,\n",
       "        0.62479395,  3.9712129 , -0.31110606, -1.9676571 , -0.11860895,\n",
       "        0.55582994, -0.660888  ,  1.947435  ,  1.6391805 ,  0.6569032 ,\n",
       "        0.054408  , -2.08993   ,  1.0370519 ,  0.5363236 ,  0.00807395,\n",
       "       -0.91060096, -3.3870788 , -1.4823462 ,  1.4170542 ,  0.32670596,\n",
       "        0.602952  , -1.047483  , -0.3633799 , -0.09132097,  0.722465  ,\n",
       "       -0.74786097, -1.8563267 ,  0.827946  , -0.99609107, -0.3298212 ,\n",
       "       -3.472247  , -0.94788504, -0.46503416,  0.6626488 ,  2.5601602 ,\n",
       "       -1.2395241 ,  0.61391175, -0.61511296, -1.459838  ,  0.14399411,\n",
       "       -1.1767578 , -0.10416207,  1.6930513 , -1.6688293 ,  0.26341552,\n",
       "       -0.84874   ,  1.5149789 ,  0.03238799,  1.768853  ,  0.42900094,\n",
       "        1.43253   , -0.53126115,  2.916109  ,  1.7515122 ,  0.62033385,\n",
       "        1.7113819 , -1.5602219 ,  1.0098228 , -1.277114  , -0.816329  ,\n",
       "       -0.28804332,  0.0696778 , -1.0609343 ,  0.960142  ,  1.765322  ,\n",
       "       -0.18756203,  0.75897396, -0.64144975,  1.7536061 ,  0.10283799,\n",
       "       -0.31856102, -1.091177  , -1.6496038 ,  1.657584  , -1.5179831 ,\n",
       "       -1.886636  ,  1.6479073 , -1.196546  ,  3.3722177 , -0.22696403,\n",
       "       -3.203148  , -1.708502  ,  2.9725442 , -0.320748  ,  0.466757  ,\n",
       "        1.6034908 , -1.6832211 , -2.80418   ,  1.4318919 , -1.0059    ,\n",
       "       -2.9437232 , -1.430186  , -1.3512889 , -0.09892895, -0.38347203,\n",
       "        1.071111  , -1.02584   ,  0.30393195,  1.5452302 ,  0.28571904,\n",
       "        0.10674398,  2.7844248 ,  0.43838865, -0.21123195, -0.69085443,\n",
       "        0.04283998,  2.3449368 , -0.8889019 , -0.2773927 ,  0.3125515 ,\n",
       "        0.264121  , -2.649219  ,  0.33148596,  0.39187098, -2.2444918 ,\n",
       "       -1.1317899 , -1.935579  ,  0.52987385,  0.303826  ,  1.681892  ,\n",
       "        1.0111669 ,  1.5380409 ,  1.7308229 , -0.080899  , -0.892347  ,\n",
       "       -0.23734598, -0.21603405, -0.69041294, -1.6095406 , -0.8730756 ,\n",
       "       -1.5468609 , -0.17627892, -0.1907803 ,  0.17952934, -0.803991  ,\n",
       "       -0.03223496, -1.9790027 , -1.6414549 ,  0.20527199, -1.104895  ,\n",
       "        0.24875899,  1.186315  , -0.8186741 , -2.410284  ,  0.5833171 ,\n",
       "       -0.784715  , -2.627035  , -0.15004005, -1.4183891 ,  0.442288  ,\n",
       "       -0.62965304, -1.113676  , -0.46552286, -1.651365  ,  1.8519121 ,\n",
       "        1.1279902 , -3.2509658 ,  0.04463506,  0.11902802,  0.68590844,\n",
       "        0.77328   ,  1.3373908 , -1.7096472 , -0.5530244 , -0.02548897,\n",
       "        1.19019   ,  0.10446696, -1.351313  , -1.7751659 , -0.44060117,\n",
       "       -1.4011772 ,  0.9672308 , -0.97586805,  1.2529299 , -1.9867659 ,\n",
       "       -0.7944795 ,  0.6362045 ,  2.010871  ,  3.6185539 ,  0.62658596,\n",
       "        0.9231445 , -3.4679253 ,  0.42413408,  1.219738  , -0.0507701 ,\n",
       "        2.0426223 , -1.5670619 ,  1.5156981 , -0.09616538,  1.6220791 ,\n",
       "        0.775658  , -1.8741112 ,  2.0503078 , -0.7602806 , -1.442644  ,\n",
       "        1.69713   , -1.6083733 , -0.278282  , -1.431804  ,  0.60193396,\n",
       "       -0.51194596, -2.1616828 , -4.4544115 , -0.3637256 , -0.98130643,\n",
       "       -2.1879544 ,  1.471617  ,  3.2054775 , -0.562816  , -1.099867  ,\n",
       "        2.353531  ,  1.6450421 ,  2.8005474 ,  1.1693535 ,  0.086842  ,\n",
       "       -2.5300715 , -1.5670309 ,  0.31365603, -2.450636  ,  1.4588621 ,\n",
       "        1.24279   ,  0.08502197,  1.06439   , -0.86917496,  0.32117197,\n",
       "       -0.909351  ,  0.52400905, -1.35512   , -0.72316396,  1.9528949 ,\n",
       "        0.49172202,  0.4663611 , -0.43013096, -0.09305   ,  1.265938  ,\n",
       "       -1.251461  , -0.85874796, -0.2679918 , -0.173774  ,  0.56781405,\n",
       "       -0.5377843 ,  0.871497  ,  2.4677212 ,  0.6728541 , -0.97043693,\n",
       "        2.501867  , -0.572828  ,  0.504657  , -3.4507267 ,  0.45634192],\n",
       "      dtype=float32)"
      ]
     },
     "execution_count": 3,
     "metadata": {},
     "output_type": "execute_result"
    }
   ],
   "source": [
    "doc = nlp(u'The quick brown fox jumped over the lazy dogs.')\n",
    "\n",
    "doc.vector"
   ]
  },
  {
   "cell_type": "code",
   "execution_count": 4,
   "id": "5c208e2b-654b-4072-b392-10a4d10bffa2",
   "metadata": {},
   "outputs": [
    {
     "name": "stdout",
     "output_type": "stream",
     "text": [
      "lion lion 1.0\n",
      "lion cat 0.3854507803916931\n",
      "lion pet 0.20031583309173584\n",
      "cat lion 0.3854507803916931\n",
      "cat cat 1.0\n",
      "cat pet 0.732966423034668\n",
      "pet lion 0.20031583309173584\n",
      "pet cat 0.732966423034668\n",
      "pet pet 1.0\n"
     ]
    }
   ],
   "source": [
    "# Create a three-token Doc object:\n",
    "tokens = nlp('lion cat pet')\n",
    "\n",
    "# Iterate through token combinations:\n",
    "for token1 in tokens:\n",
    "    for token2 in tokens:\n",
    "        print(token1.text, token2.text, token1.similarity(token2))"
   ]
  },
  {
   "cell_type": "code",
   "execution_count": 5,
   "id": "85ca6f1a-9f40-427b-91a0-11cde675bc9f",
   "metadata": {},
   "outputs": [
    {
     "data": {
      "text/markdown": [
       "<table><tr><th></th><th>lion</th><th>cat</th><th>pet</th></tr><tr><td>**lion**</td><td>1.0</td><td>0.3855</td><td>0.2003</td></tr><tr><td>**cat**</td><td>0.3855</td><td>1.0</td><td>0.733</td></tr><tr><td>**pet**</td><td>0.2003</td><td>0.733</td><td>1.0</td></tr>"
      ],
      "text/plain": [
       "<IPython.core.display.Markdown object>"
      ]
     },
     "metadata": {},
     "output_type": "display_data"
    }
   ],
   "source": [
    "# For brevity, assign each token a name\n",
    "a,b,c = tokens\n",
    "\n",
    "# Display as a Markdown table (this only works in Jupyter!)\n",
    "from IPython.display import Markdown, display\n",
    "display(Markdown(f'<table><tr><th></th><th>{a.text}</th><th>{b.text}</th><th>{c.text}</th></tr>\\\n",
    "<tr><td>**{a.text}**</td><td>{a.similarity(a):{.4}}</td><td>{b.similarity(a):{.4}}</td><td>{c.similarity(a):{.4}}</td></tr>\\\n",
    "<tr><td>**{b.text}**</td><td>{a.similarity(b):{.4}}</td><td>{b.similarity(b):{.4}}</td><td>{c.similarity(b):{.4}}</td></tr>\\\n",
    "<tr><td>**{c.text}**</td><td>{a.similarity(c):{.4}}</td><td>{b.similarity(c):{.4}}</td><td>{c.similarity(c):{.4}}</td></tr>'))"
   ]
  },
  {
   "cell_type": "code",
   "execution_count": 7,
   "id": "7749c251-9421-457c-bb41-e0b098380cfe",
   "metadata": {},
   "outputs": [
    {
     "data": {
      "text/plain": [
       "0.14681950412585115"
      ]
     },
     "execution_count": 7,
     "metadata": {},
     "output_type": "execute_result"
    }
   ],
   "source": [
    "nlp('lion').similarity(nlp('dandelion'))"
   ]
  },
  {
   "cell_type": "code",
   "execution_count": 8,
   "id": "65b53ec3-ac4a-4508-baea-f8e638f4ba42",
   "metadata": {},
   "outputs": [
    {
     "name": "stdout",
     "output_type": "stream",
     "text": [
      "like like 1.0\n",
      "like love 0.5212638974189758\n",
      "like hate 0.5065141320228577\n",
      "love like 0.5212638974189758\n",
      "love love 1.0\n",
      "love hate 0.5708349943161011\n",
      "hate like 0.5065141320228577\n",
      "hate love 0.5708349943161011\n",
      "hate hate 1.0\n"
     ]
    }
   ],
   "source": [
    "# Create a three-token Doc object:\n",
    "tokens = nlp(u'like love hate')\n",
    "\n",
    "# Iterate through token combinations:\n",
    "for token1 in tokens:\n",
    "    for token2 in tokens:\n",
    "        print(token1.text, token2.text, token1.similarity(token2))"
   ]
  },
  {
   "cell_type": "code",
   "execution_count": 10,
   "id": "f852cf82-bfe7-40f2-923b-4c217dcd5300",
   "metadata": {},
   "outputs": [
    {
     "data": {
      "text/plain": [
       "0.8608536029767759"
      ]
     },
     "execution_count": 10,
     "metadata": {},
     "output_type": "execute_result"
    }
   ],
   "source": [
    "nlp('project management').similarity(nlp('product management'))"
   ]
  },
  {
   "cell_type": "code",
   "execution_count": 11,
   "id": "8b24104d-4f33-4dfa-be65-d52c973654b8",
   "metadata": {},
   "outputs": [
    {
     "data": {
      "text/plain": [
       "0.8621978001306744"
      ]
     },
     "execution_count": 11,
     "metadata": {},
     "output_type": "execute_result"
    }
   ],
   "source": [
    "nlp('software engineering').similarity(nlp('frontend engineering'))"
   ]
  },
  {
   "cell_type": "code",
   "execution_count": 12,
   "id": "970cb82c-59e0-400e-9a09-12bfee7470af",
   "metadata": {},
   "outputs": [
    {
     "data": {
      "text/plain": [
       "0.8477989641280202"
      ]
     },
     "execution_count": 12,
     "metadata": {},
     "output_type": "execute_result"
    }
   ],
   "source": [
    "nlp('software engineering').similarity(nlp('mechanical engineering'))"
   ]
  },
  {
   "cell_type": "code",
   "execution_count": 13,
   "id": "6ecb2aa5-f11c-46a0-b39e-e8f7499e1ac7",
   "metadata": {},
   "outputs": [
    {
     "name": "stdout",
     "output_type": "stream",
     "text": [
      "dog True 75.254234 False\n",
      "cat True 63.188496 False\n",
      "nargle False 0.0 True\n"
     ]
    }
   ],
   "source": [
    "tokens = nlp(u'dog cat nargle')\n",
    "\n",
    "for token in tokens:\n",
    "    print(token.text, token.has_vector, token.vector_norm, token.is_oov)"
   ]
  },
  {
   "cell_type": "code",
   "execution_count": 39,
   "id": "47db2f0c-cea4-43e9-87b1-36a322abdf6b",
   "metadata": {},
   "outputs": [
    {
     "name": "stdout",
     "output_type": "stream",
     "text": [
      "[('king',), ('kingi',), ('kingii',), ('kingly',), ('kingmaker',), ('overlord',), ('annals',), ('deigns',), ('kinglet',), ('kinglets',), ('kinglink',), ('kings',), ('kingship',), ('kingside',), ('kingsize',), ('kingsport',), ('majesties',), ('musulmanes',), ('pharaohs',), ('abbesses',), ('aristocracies',), ('aristocrats',), ('concubinage',), ('concubines',), ('consort',), ('courtesans',), ('courtiers',), ('dowagers',), ('duchesses',), ('empereurs',), ('ennobles',), ('entourage',), ('gematria',), ('matriarchs',), ('morganatic',), ('nobles',), ('persia',), ('princedoms',), ('princeling',), ('princelings',), ('princely',), ('princes',), ('princesses',), ('quinces',), ('viziers',), ('alendronate',), ('coronata',), ('coronatus',), ('monad',), ('monads',), ('monani',), ('monarch',), ('monarchs',), ('mucronate',), ('regency',), ('concubine',), ('courtier',), ('prince',), ('princedom',), ('princeps',), ('regalo',), ('voivodship',), ('princesa',), ('princess',), ('princesse',), ('datu',), ('dérouler',), ('juguler',), ('kingpost',), ('ruler',), ('satrap',), ('suzerainty',), ('tlatoani',), ('vassal',), ('vassalage',), ('caliphates',), ('despots',), ('kingmakers',), ('overlords',), ('patriarchs',), ('rulers',), ('rulership',), ('sheikhdoms',), ('sultanates',), ('suzerains',), ('tyrants',), ('usurpers',), ('mcqueen',), ('queef',), ('queen',), ('queenie',), ('queenless',), ('queenly',), ('queens',), ('dethrone',), ('dethroned',), ('enthrone',), ('enthroned',), ('rege',), ('suzerain',)]\n"
     ]
    }
   ],
   "source": [
    "from scipy import spatial\n",
    "\n",
    "cosine_similarity = lambda x, y: 1 - spatial.distance.cosine(x, y)\n",
    "\n",
    "\n",
    "king = nlp.vocab['king'].vector\n",
    "man = nlp.vocab['man'].vector\n",
    "woman = nlp.vocab['woman'].vector\n",
    "\n",
    "# Now we find the closest vector in the vocabulary to the result of \"man\" - \"woman\" + \"queen\"\n",
    "new_vector = king - man + woman\n",
    "\n",
    "computed_similaries = []\n",
    "\n",
    "for item in nlp.vocab.strings:\n",
    "    word = nlp.vocab[item]\n",
    "    # Ignore words without vectors and mixed-case words:\n",
    "    if word.has_vector and word.is_lower and word.is_alpha:\n",
    "        similarity = cosine_similarity(new_vector, word.vector)\n",
    "        computed_similaries.append((word, similarity))\n",
    "\n",
    "\n",
    "computed_similaries = sorted(computed_similaries, key=lambda item: -item[1])\n",
    "\n",
    "print([(w[0].text, ) for w in computed_similaries[:100]])\n",
    "\n"
   ]
  },
  {
   "cell_type": "code",
   "execution_count": 20,
   "id": "bd889d2a-a2e2-42ba-b089-20d9c0c6f72c",
   "metadata": {},
   "outputs": [
    {
     "data": {
      "text/plain": [
       "0.610884157883871"
      ]
     },
     "execution_count": 20,
     "metadata": {},
     "output_type": "execute_result"
    }
   ],
   "source": [
    "cosine_similarity(king, nlp.vocab['queen'].vector)"
   ]
  },
  {
   "cell_type": "code",
   "execution_count": 21,
   "id": "ab32d842-90e6-42ee-bd80-d57ec921206e",
   "metadata": {},
   "outputs": [
    {
     "data": {
      "text/plain": [
       "793"
      ]
     },
     "execution_count": 21,
     "metadata": {},
     "output_type": "execute_result"
    }
   ],
   "source": [
    "len(nlp.vocab)"
   ]
  },
  {
   "cell_type": "code",
   "execution_count": 22,
   "id": "6f18f451-5795-4cd7-8ef0-5326fe966593",
   "metadata": {},
   "outputs": [
    {
     "data": {
      "text/plain": [
       "0.6533219474205592"
      ]
     },
     "execution_count": 22,
     "metadata": {},
     "output_type": "execute_result"
    }
   ],
   "source": [
    "cosine_similarity(king, nlp.vocab['princess'].vector)"
   ]
  },
  {
   "cell_type": "code",
   "execution_count": 23,
   "id": "3e8ef145-7253-45a5-890a-7058beafa955",
   "metadata": {},
   "outputs": [
    {
     "data": {
      "text/plain": [
       "1.0"
      ]
     },
     "execution_count": 23,
     "metadata": {},
     "output_type": "execute_result"
    }
   ],
   "source": [
    "cosine_similarity(king, nlp.vocab['king'].vector)"
   ]
  },
  {
   "cell_type": "code",
   "execution_count": 24,
   "id": "8adf13b9-289a-46d5-ab8f-453b819625fd",
   "metadata": {},
   "outputs": [
    {
     "data": {
      "text/plain": [
       "776470"
      ]
     },
     "execution_count": 24,
     "metadata": {},
     "output_type": "execute_result"
    }
   ],
   "source": [
    "len(nlp.vocab.strings)"
   ]
  },
  {
   "cell_type": "code",
   "execution_count": 33,
   "id": "e9c6f3bc-8f9f-4ea2-add6-11c52dbb2426",
   "metadata": {},
   "outputs": [
    {
     "data": {
      "text/plain": [
       "bool"
      ]
     },
     "execution_count": 33,
     "metadata": {},
     "output_type": "execute_result"
    }
   ],
   "source": [
    "type(nlp.vocab.strings[0].isalpha())"
   ]
  },
  {
   "cell_type": "code",
   "execution_count": 29,
   "id": "8df03247-a446-4951-aee1-806a2dd63137",
   "metadata": {},
   "outputs": [
    {
     "data": {
      "text/plain": [
       "<spacy.lexeme.Lexeme at 0x304478580>"
      ]
     },
     "execution_count": 29,
     "metadata": {},
     "output_type": "execute_result"
    }
   ],
   "source": [
    "nlp.vocab[0]"
   ]
  },
  {
   "cell_type": "code",
   "execution_count": null,
   "id": "7a4d5209-cf82-4396-8449-75550d6c5901",
   "metadata": {},
   "outputs": [],
   "source": []
  }
 ],
 "metadata": {
  "kernelspec": {
   "display_name": "Python 3 (ipykernel)",
   "language": "python",
   "name": "python3"
  },
  "language_info": {
   "codemirror_mode": {
    "name": "ipython",
    "version": 3
   },
   "file_extension": ".py",
   "mimetype": "text/x-python",
   "name": "python",
   "nbconvert_exporter": "python",
   "pygments_lexer": "ipython3",
   "version": "3.11.9"
  }
 },
 "nbformat": 4,
 "nbformat_minor": 5
}
