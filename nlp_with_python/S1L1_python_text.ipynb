{
 "cells": [
  {
   "cell_type": "code",
   "execution_count": 1,
   "id": "36dfd763-cb9f-467c-9f08-c8ca5beb0adc",
   "metadata": {},
   "outputs": [
    {
     "name": "stdout",
     "output_type": "stream",
     "text": [
      "Requirement already satisfied: nltk in /Users/ujjwal/codingpoint/pycourses/venvnlp/lib/python3.11/site-packages (3.8.1)\n",
      "Requirement already satisfied: click in /Users/ujjwal/codingpoint/pycourses/venvnlp/lib/python3.11/site-packages (from nltk) (8.1.7)\n",
      "Requirement already satisfied: joblib in /Users/ujjwal/codingpoint/pycourses/venvnlp/lib/python3.11/site-packages (from nltk) (1.4.2)\n",
      "Requirement already satisfied: regex>=2021.8.3 in /Users/ujjwal/codingpoint/pycourses/venvnlp/lib/python3.11/site-packages (from nltk) (2024.5.15)\n",
      "Requirement already satisfied: tqdm in /Users/ujjwal/codingpoint/pycourses/venvnlp/lib/python3.11/site-packages (from nltk) (4.66.4)\n",
      "\n",
      "\u001b[1m[\u001b[0m\u001b[34;49mnotice\u001b[0m\u001b[1;39;49m]\u001b[0m\u001b[39;49m A new release of pip is available: \u001b[0m\u001b[31;49m24.0\u001b[0m\u001b[39;49m -> \u001b[0m\u001b[32;49m24.1.2\u001b[0m\n",
      "\u001b[1m[\u001b[0m\u001b[34;49mnotice\u001b[0m\u001b[1;39;49m]\u001b[0m\u001b[39;49m To update, run: \u001b[0m\u001b[32;49mpip install --upgrade pip\u001b[0m\n",
      "Note: you may need to restart the kernel to use updated packages.\n"
     ]
    }
   ],
   "source": [
    "%pip install nltk"
   ]
  },
  {
   "cell_type": "code",
   "execution_count": 2,
   "id": "714c717d",
   "metadata": {},
   "outputs": [
    {
     "name": "stdout",
     "output_type": "stream",
     "text": [
      "hello\n"
     ]
    }
   ],
   "source": [
    "print(\"hello\")"
   ]
  },
  {
   "cell_type": "code",
   "execution_count": 1,
   "id": "8a396481",
   "metadata": {},
   "outputs": [
    {
     "name": "stdout",
     "output_type": "stream",
     "text": [
      "my name is Jos\n"
     ]
    }
   ],
   "source": [
    "human = \"Jos\"\n",
    "print(\"my name is {}\".format(human))"
   ]
  },
  {
   "cell_type": "code",
   "execution_count": 2,
   "id": "1ae42cae-f146-401a-a755-930b02a18873",
   "metadata": {},
   "outputs": [
    {
     "name": "stdout",
     "output_type": "stream",
     "text": [
      "my name is Jos\n"
     ]
    }
   ],
   "source": [
    "print(f\"my name is {human}\")"
   ]
  },
  {
   "cell_type": "markdown",
   "id": "ea50dd5e-7766-4260-a08d-c55488c954a0",
   "metadata": {},
   "source": [
    "## read and write file"
   ]
  },
  {
   "cell_type": "code",
   "execution_count": 3,
   "id": "fb55b9e9-b32f-451f-9b3d-baaad59da143",
   "metadata": {},
   "outputs": [
    {
     "name": "stdout",
     "output_type": "stream",
     "text": [
      "Writing test.txt\n"
     ]
    }
   ],
   "source": [
    "%%writefile test.txt\n",
    "Hello, this is a quick test file."
   ]
  },
  {
   "cell_type": "code",
   "execution_count": 4,
   "id": "077eec7d-4c31-49ed-bf12-f0ab72a94c75",
   "metadata": {},
   "outputs": [
    {
     "data": {
      "text/plain": [
       "<_io.TextIOWrapper name='test.txt' mode='r' encoding='UTF-8'>"
      ]
     },
     "execution_count": 4,
     "metadata": {},
     "output_type": "execute_result"
    }
   ],
   "source": [
    "myfile = open(\"test.txt\")\n",
    "myfile"
   ]
  },
  {
   "cell_type": "code",
   "execution_count": 5,
   "id": "79823daf-0eca-4bee-93c2-23fad4539343",
   "metadata": {},
   "outputs": [
    {
     "data": {
      "text/plain": [
       "'Hello, this is a quick test file.\\n'"
      ]
     },
     "execution_count": 5,
     "metadata": {},
     "output_type": "execute_result"
    }
   ],
   "source": [
    "myfile.read()"
   ]
  },
  {
   "cell_type": "code",
   "execution_count": 9,
   "id": "2e7261ab-c2f4-4bf7-be5f-0c3993dff291",
   "metadata": {},
   "outputs": [
    {
     "data": {
      "text/plain": [
       "''"
      ]
     },
     "execution_count": 9,
     "metadata": {},
     "output_type": "execute_result"
    }
   ],
   "source": [
    "myfile.read()"
   ]
  },
  {
   "cell_type": "code",
   "execution_count": 17,
   "id": "a6683100-cd78-49d8-b2b2-34299b0018a5",
   "metadata": {},
   "outputs": [
    {
     "data": {
      "text/plain": [
       "0"
      ]
     },
     "execution_count": 17,
     "metadata": {},
     "output_type": "execute_result"
    }
   ],
   "source": [
    "myfile.seek(0)"
   ]
  },
  {
   "cell_type": "code",
   "execution_count": 15,
   "id": "dd4eec66-94ad-4ec3-8442-1c19c6e06ea8",
   "metadata": {},
   "outputs": [
    {
     "data": {
      "text/plain": [
       "'Hello, this is a quick test file.\\n'"
      ]
     },
     "execution_count": 15,
     "metadata": {},
     "output_type": "execute_result"
    }
   ],
   "source": [
    "myfile.read()"
   ]
  },
  {
   "cell_type": "code",
   "execution_count": 18,
   "id": "2dd6579c-46d4-4cf2-8d35-f9bfa18da2d9",
   "metadata": {},
   "outputs": [
    {
     "name": "stdout",
     "output_type": "stream",
     "text": [
      "Hello, this is a quick test file.\n",
      "\n"
     ]
    }
   ],
   "source": [
    "content = myfile.read()\n",
    "print(content)"
   ]
  },
  {
   "cell_type": "code",
   "execution_count": 19,
   "id": "48aaff43-c452-42b4-8853-981b93a451f0",
   "metadata": {},
   "outputs": [
    {
     "name": "stdout",
     "output_type": "stream",
     "text": [
      "['Hello, this is a quick test file.\\n']\n"
     ]
    }
   ],
   "source": [
    "myfile.seek(0)\n",
    "content_lines = myfile.readlines()\n",
    "print(content_lines)"
   ]
  },
  {
   "cell_type": "code",
   "execution_count": 20,
   "id": "2dbda1ef-046b-4cbb-b424-596199c7effc",
   "metadata": {},
   "outputs": [],
   "source": [
    "myfile.close()"
   ]
  },
  {
   "cell_type": "code",
   "execution_count": 21,
   "id": "8038e69a-d177-4ac7-95e5-dd51ea9867ff",
   "metadata": {},
   "outputs": [],
   "source": [
    "myfile = open('test.txt', mode='w+')\n"
   ]
  },
  {
   "cell_type": "code",
   "execution_count": 22,
   "id": "2f3abc3c-c0df-4e79-87b4-3729b39d9253",
   "metadata": {},
   "outputs": [
    {
     "data": {
      "text/plain": [
       "''"
      ]
     },
     "execution_count": 22,
     "metadata": {},
     "output_type": "execute_result"
    }
   ],
   "source": [
    "myfile.read()"
   ]
  },
  {
   "cell_type": "code",
   "execution_count": 23,
   "id": "17c26de2-8327-4769-b410-3c7c8863b5f1",
   "metadata": {},
   "outputs": [
    {
     "data": {
      "text/plain": [
       "16"
      ]
     },
     "execution_count": 23,
     "metadata": {},
     "output_type": "execute_result"
    }
   ],
   "source": [
    "myfile.write(\"new text content\")"
   ]
  },
  {
   "cell_type": "code",
   "execution_count": 24,
   "id": "1a87cd98-f85e-4c64-8b1b-e01b0f505c1e",
   "metadata": {},
   "outputs": [
    {
     "data": {
      "text/plain": [
       "0"
      ]
     },
     "execution_count": 24,
     "metadata": {},
     "output_type": "execute_result"
    }
   ],
   "source": [
    "myfile.seek(0)"
   ]
  },
  {
   "cell_type": "code",
   "execution_count": 25,
   "id": "b0348270-c723-4499-8961-8b569439de62",
   "metadata": {},
   "outputs": [
    {
     "data": {
      "text/plain": [
       "'new text content'"
      ]
     },
     "execution_count": 25,
     "metadata": {},
     "output_type": "execute_result"
    }
   ],
   "source": [
    "myfile.read()"
   ]
  },
  {
   "cell_type": "code",
   "execution_count": 26,
   "id": "611bb605-0407-4592-90ba-37ce3e9b5713",
   "metadata": {},
   "outputs": [],
   "source": [
    "myfile.close()"
   ]
  },
  {
   "cell_type": "code",
   "execution_count": 27,
   "id": "f52febb4-12a6-4f86-8c0e-fecffce4b52d",
   "metadata": {},
   "outputs": [],
   "source": [
    "myfile = open('test.txt', mode='a+')"
   ]
  },
  {
   "cell_type": "code",
   "execution_count": 28,
   "id": "4bc10526-958e-404d-8d7b-c0013ebab525",
   "metadata": {},
   "outputs": [
    {
     "data": {
      "text/plain": [
       "''"
      ]
     },
     "execution_count": 28,
     "metadata": {},
     "output_type": "execute_result"
    }
   ],
   "source": [
    "myfile.read()"
   ]
  },
  {
   "cell_type": "code",
   "execution_count": 29,
   "id": "80895fa8-1886-49c5-8c3b-fddaa8862172",
   "metadata": {},
   "outputs": [
    {
     "data": {
      "text/plain": [
       "0"
      ]
     },
     "execution_count": 29,
     "metadata": {},
     "output_type": "execute_result"
    }
   ],
   "source": [
    "myfile.seek(0)"
   ]
  },
  {
   "cell_type": "code",
   "execution_count": 30,
   "id": "ae8a6270-ca63-494b-8902-4f0693b9a554",
   "metadata": {},
   "outputs": [
    {
     "data": {
      "text/plain": [
       "'new text content'"
      ]
     },
     "execution_count": 30,
     "metadata": {},
     "output_type": "execute_result"
    }
   ],
   "source": [
    "myfile.read()"
   ]
  },
  {
   "cell_type": "code",
   "execution_count": 31,
   "id": "813ca8ff-d410-46e2-8d26-abfa0866aded",
   "metadata": {},
   "outputs": [
    {
     "data": {
      "text/plain": [
       "15"
      ]
     },
     "execution_count": 31,
     "metadata": {},
     "output_type": "execute_result"
    }
   ],
   "source": [
    "myfile.write(\"CAPITAL LETTERS\")"
   ]
  },
  {
   "cell_type": "code",
   "execution_count": 32,
   "id": "e7044ae1-4778-4ad8-b1cd-f0d97fa88c75",
   "metadata": {},
   "outputs": [],
   "source": [
    "myfile.close()"
   ]
  },
  {
   "cell_type": "code",
   "execution_count": 33,
   "id": "d1c68705-2eaf-4cd6-8dae-03e4eb2c3559",
   "metadata": {},
   "outputs": [],
   "source": [
    "newfile = open('test.txt')"
   ]
  },
  {
   "cell_type": "code",
   "execution_count": 34,
   "id": "91f29210-e19a-461c-a041-2bd29e63d871",
   "metadata": {},
   "outputs": [
    {
     "data": {
      "text/plain": [
       "'new text contentCAPITAL LETTERS'"
      ]
     },
     "execution_count": 34,
     "metadata": {},
     "output_type": "execute_result"
    }
   ],
   "source": [
    "newfile.read()"
   ]
  },
  {
   "cell_type": "code",
   "execution_count": 36,
   "id": "ffa51197-0d39-4980-9db8-5fb408798ce4",
   "metadata": {},
   "outputs": [],
   "source": [
    "myfile.close()"
   ]
  },
  {
   "cell_type": "code",
   "execution_count": 38,
   "id": "a383b33d-d3a4-4d34-8f93-5c609ad93260",
   "metadata": {},
   "outputs": [
    {
     "data": {
      "text/plain": [
       "14"
      ]
     },
     "execution_count": 38,
     "metadata": {},
     "output_type": "execute_result"
    }
   ],
   "source": [
    "newfile = open('whoops.txt', mode='a+')\n",
    "newfile.write(\"new file added\")"
   ]
  },
  {
   "cell_type": "code",
   "execution_count": 39,
   "id": "ff73ed57-5317-4bc3-9de4-93d02395038d",
   "metadata": {},
   "outputs": [
    {
     "data": {
      "text/plain": [
       "0"
      ]
     },
     "execution_count": 39,
     "metadata": {},
     "output_type": "execute_result"
    }
   ],
   "source": [
    "newfile.seek(0)"
   ]
  },
  {
   "cell_type": "code",
   "execution_count": 40,
   "id": "95361a37-bc8e-4ae3-8d30-ac95177af903",
   "metadata": {},
   "outputs": [
    {
     "data": {
      "text/plain": [
       "'new file added'"
      ]
     },
     "execution_count": 40,
     "metadata": {},
     "output_type": "execute_result"
    }
   ],
   "source": [
    "newfile.read()"
   ]
  },
  {
   "cell_type": "code",
   "execution_count": 41,
   "id": "78729b89-480b-4f87-83cc-206814d76afa",
   "metadata": {},
   "outputs": [],
   "source": [
    "with open('whoops.txt', 'a+') as file:\n",
    "    file.writelines([\"this is new line\"])\n",
    "    "
   ]
  },
  {
   "cell_type": "markdown",
   "id": "307a278d-3c1c-44c3-a20f-16fef7ba5edd",
   "metadata": {},
   "source": [
    "# Working With PDFs"
   ]
  },
  {
   "cell_type": "code",
   "execution_count": 44,
   "id": "a792a88d-4ac7-456c-a337-8b327c2cb95f",
   "metadata": {},
   "outputs": [
    {
     "name": "stdout",
     "output_type": "stream",
     "text": [
      "Collecting pypdf\n",
      "  Downloading pypdf-4.3.0-py3-none-any.whl.metadata (7.4 kB)\n",
      "Downloading pypdf-4.3.0-py3-none-any.whl (295 kB)\n",
      "\u001b[2K   \u001b[38;2;114;156;31m━━━━━━━━━━━━━━━━━━━━━━━━━━━━━━━━━━━━━━━━\u001b[0m \u001b[32m295.7/295.7 kB\u001b[0m \u001b[31m5.4 MB/s\u001b[0m eta \u001b[36m0:00:00\u001b[0mMB/s\u001b[0m eta \u001b[36m0:00:01\u001b[0m\n",
      "\u001b[?25hInstalling collected packages: pypdf\n",
      "Successfully installed pypdf-4.3.0\n",
      "\n",
      "\u001b[1m[\u001b[0m\u001b[34;49mnotice\u001b[0m\u001b[1;39;49m]\u001b[0m\u001b[39;49m A new release of pip is available: \u001b[0m\u001b[31;49m24.0\u001b[0m\u001b[39;49m -> \u001b[0m\u001b[32;49m24.1.2\u001b[0m\n",
      "\u001b[1m[\u001b[0m\u001b[34;49mnotice\u001b[0m\u001b[1;39;49m]\u001b[0m\u001b[39;49m To update, run: \u001b[0m\u001b[32;49mpip install --upgrade pip\u001b[0m\n",
      "Note: you may need to restart the kernel to use updated packages.\n"
     ]
    }
   ],
   "source": [
    "%pip install pypdf"
   ]
  },
  {
   "cell_type": "code",
   "execution_count": 45,
   "id": "cc61166e-a288-4dd1-9aed-e41df53313ff",
   "metadata": {},
   "outputs": [],
   "source": [
    "import pypdf"
   ]
  },
  {
   "cell_type": "code",
   "execution_count": 46,
   "id": "98b5956e-d94d-4983-9c7f-f4f783305dbf",
   "metadata": {},
   "outputs": [],
   "source": [
    "myfile = open('files/US_Declaration.pdf', mode='rb')"
   ]
  },
  {
   "cell_type": "code",
   "execution_count": 47,
   "id": "d70f62ec-3ef8-4032-8bdd-f910e3cfaab1",
   "metadata": {},
   "outputs": [],
   "source": [
    "pdf_reader = pypdf.PdfReader(myfile)"
   ]
  },
  {
   "cell_type": "code",
   "execution_count": 50,
   "id": "c120c7c2-b3dc-47a9-bcfb-a598148d0987",
   "metadata": {},
   "outputs": [
    {
     "data": {
      "text/plain": [
       "5"
      ]
     },
     "execution_count": 50,
     "metadata": {},
     "output_type": "execute_result"
    }
   ],
   "source": [
    "pdf_reader.get_num_pages()"
   ]
  },
  {
   "cell_type": "code",
   "execution_count": 49,
   "id": "96c2ed33-5143-4b5d-9ba3-e5562bea8f95",
   "metadata": {},
   "outputs": [
    {
     "data": {
      "text/plain": [
       "['_ID',\n",
       " '__annotations__',\n",
       " '__class__',\n",
       " '__delattr__',\n",
       " '__dict__',\n",
       " '__dir__',\n",
       " '__doc__',\n",
       " '__enter__',\n",
       " '__eq__',\n",
       " '__exit__',\n",
       " '__format__',\n",
       " '__ge__',\n",
       " '__getattribute__',\n",
       " '__getstate__',\n",
       " '__gt__',\n",
       " '__hash__',\n",
       " '__init__',\n",
       " '__init_subclass__',\n",
       " '__le__',\n",
       " '__lt__',\n",
       " '__module__',\n",
       " '__ne__',\n",
       " '__new__',\n",
       " '__reduce__',\n",
       " '__reduce_ex__',\n",
       " '__repr__',\n",
       " '__setattr__',\n",
       " '__sizeof__',\n",
       " '__str__',\n",
       " '__subclasshook__',\n",
       " '__weakref__',\n",
       " '_basic_validation',\n",
       " '_build_destination',\n",
       " '_build_field',\n",
       " '_build_outline_item',\n",
       " '_check_kids',\n",
       " '_encryption',\n",
       " '_find_eof_marker',\n",
       " '_find_startxref_pos',\n",
       " '_flatten',\n",
       " '_get_attachment_list',\n",
       " '_get_attachments',\n",
       " '_get_indirect_object',\n",
       " '_get_named_destinations',\n",
       " '_get_object_from_stream',\n",
       " '_get_outline',\n",
       " '_get_page',\n",
       " '_get_page_number_by_indirect',\n",
       " '_get_qualified_field_name',\n",
       " '_get_xref_issues',\n",
       " '_info',\n",
       " '_list_attachments',\n",
       " '_override_encryption',\n",
       " '_page_id2num',\n",
       " '_pairs',\n",
       " '_read_pdf15_xref_stream',\n",
       " '_read_standard_xref_table',\n",
       " '_read_xref',\n",
       " '_read_xref_other_error',\n",
       " '_read_xref_subsections',\n",
       " '_read_xref_tables_and_trailers',\n",
       " '_rebuild_xref_table',\n",
       " '_replace_object',\n",
       " '_repr_mimebundle_',\n",
       " '_stream_opened',\n",
       " '_write_field',\n",
       " 'add_form_topname',\n",
       " 'attachments',\n",
       " 'cache_get_indirect_object',\n",
       " 'cache_indirect_object',\n",
       " 'close',\n",
       " 'decode_permissions',\n",
       " 'decrypt',\n",
       " 'flattened_pages',\n",
       " 'get_destination_page_number',\n",
       " 'get_fields',\n",
       " 'get_form_text_fields',\n",
       " 'get_named_dest_root',\n",
       " 'get_num_pages',\n",
       " 'get_object',\n",
       " 'get_page',\n",
       " 'get_page_number',\n",
       " 'get_pages_showing_field',\n",
       " 'is_encrypted',\n",
       " 'metadata',\n",
       " 'named_destinations',\n",
       " 'open_destination',\n",
       " 'outline',\n",
       " 'page_labels',\n",
       " 'page_layout',\n",
       " 'page_mode',\n",
       " 'pages',\n",
       " 'pdf_header',\n",
       " 'read',\n",
       " 'read_object_header',\n",
       " 'remove_page',\n",
       " 'rename_form_topname',\n",
       " 'resolved_objects',\n",
       " 'root_object',\n",
       " 'stream',\n",
       " 'strict',\n",
       " 'threads',\n",
       " 'trailer',\n",
       " 'user_access_permissions',\n",
       " 'viewer_preferences',\n",
       " 'xfa',\n",
       " 'xmp_metadata',\n",
       " 'xref',\n",
       " 'xref_free_entry',\n",
       " 'xref_index',\n",
       " 'xref_objStm']"
      ]
     },
     "execution_count": 49,
     "metadata": {},
     "output_type": "execute_result"
    }
   ],
   "source": [
    "dir(pdf_reader)"
   ]
  },
  {
   "cell_type": "code",
   "execution_count": 51,
   "id": "b8cc47ca-ed41-4df4-b7e9-6c1c5717b4b3",
   "metadata": {},
   "outputs": [],
   "source": [
    "page_one = pdf_reader.get_page(0)"
   ]
  },
  {
   "cell_type": "code",
   "execution_count": 52,
   "id": "d1c0e4e7-12e0-4c39-b8f9-9da8765e10d6",
   "metadata": {},
   "outputs": [
    {
     "data": {
      "text/plain": [
       "['__abstractmethods__',\n",
       " '__annotations__',\n",
       " '__class__',\n",
       " '__class_getitem__',\n",
       " '__contains__',\n",
       " '__delattr__',\n",
       " '__delitem__',\n",
       " '__dict__',\n",
       " '__dir__',\n",
       " '__doc__',\n",
       " '__eq__',\n",
       " '__format__',\n",
       " '__ge__',\n",
       " '__getattribute__',\n",
       " '__getitem__',\n",
       " '__getstate__',\n",
       " '__gt__',\n",
       " '__hash__',\n",
       " '__init__',\n",
       " '__init_subclass__',\n",
       " '__ior__',\n",
       " '__iter__',\n",
       " '__le__',\n",
       " '__len__',\n",
       " '__lt__',\n",
       " '__module__',\n",
       " '__ne__',\n",
       " '__new__',\n",
       " '__or__',\n",
       " '__orig_bases__',\n",
       " '__parameters__',\n",
       " '__reduce__',\n",
       " '__reduce_ex__',\n",
       " '__repr__',\n",
       " '__reversed__',\n",
       " '__ror__',\n",
       " '__setattr__',\n",
       " '__setitem__',\n",
       " '__sizeof__',\n",
       " '__slots__',\n",
       " '__str__',\n",
       " '__subclasshook__',\n",
       " '__weakref__',\n",
       " '_abc_impl',\n",
       " '_add_transformation_matrix',\n",
       " '_clone',\n",
       " '_content_stream_rename',\n",
       " '_debug_for_extract',\n",
       " '_expand_mediabox',\n",
       " '_extract_text',\n",
       " '_get_contents_as_bytes',\n",
       " '_get_fonts',\n",
       " '_get_ids_image',\n",
       " '_get_image',\n",
       " '_get_inline_images',\n",
       " '_is_protocol',\n",
       " '_is_runtime_protocol',\n",
       " '_layout_mode_fonts',\n",
       " '_layout_mode_text',\n",
       " '_merge_page',\n",
       " '_merge_page_writer',\n",
       " '_merge_resources',\n",
       " '_old_images',\n",
       " '_reference_clone',\n",
       " '_translate_value_inlineimage',\n",
       " 'add_transformation',\n",
       " 'annotations',\n",
       " 'artbox',\n",
       " 'bleedbox',\n",
       " 'clear',\n",
       " 'clone',\n",
       " 'compress_content_streams',\n",
       " 'copy',\n",
       " 'create_blank_page',\n",
       " 'cropbox',\n",
       " 'extract_text',\n",
       " 'extract_xform_text',\n",
       " 'fromkeys',\n",
       " 'get',\n",
       " 'get_contents',\n",
       " 'get_inherited',\n",
       " 'get_object',\n",
       " 'hash_func',\n",
       " 'hash_value',\n",
       " 'hash_value_data',\n",
       " 'images',\n",
       " 'indirect_reference',\n",
       " 'inline_images',\n",
       " 'items',\n",
       " 'keys',\n",
       " 'mediabox',\n",
       " 'merge_page',\n",
       " 'merge_rotated_page',\n",
       " 'merge_scaled_page',\n",
       " 'merge_transformed_page',\n",
       " 'merge_translated_page',\n",
       " 'page_number',\n",
       " 'pdf',\n",
       " 'pop',\n",
       " 'popitem',\n",
       " 'raw_get',\n",
       " 'read_from_stream',\n",
       " 'replace_contents',\n",
       " 'rotate',\n",
       " 'rotation',\n",
       " 'scale',\n",
       " 'scale_by',\n",
       " 'scale_to',\n",
       " 'setdefault',\n",
       " 'transfer_rotation_to_content',\n",
       " 'trimbox',\n",
       " 'update',\n",
       " 'user_unit',\n",
       " 'values',\n",
       " 'write_to_stream',\n",
       " 'xmp_metadata']"
      ]
     },
     "execution_count": 52,
     "metadata": {},
     "output_type": "execute_result"
    }
   ],
   "source": [
    "dir(page_one)"
   ]
  },
  {
   "cell_type": "code",
   "execution_count": 54,
   "id": "112c3fe4-a4e7-4cec-82db-6abef2823c01",
   "metadata": {},
   "outputs": [
    {
     "name": "stdout",
     "output_type": "stream",
     "text": [
      "Declaration of Independence\n",
      "IN CONGRESS, July 4, 1776.  \n",
      "The unanimous Declaration of the thirteen united States of America,  \n",
      "When in the Course of human events, it becomes necessary for one people to dissolve thepolitical bands which have connected them with another, and to assume among the powers of theearth, the separate and equal station to which the Laws of Nature and of Nature's God entitlethem, a decent respect to the opinions of mankind requires that they should declare the causeswhich impel them to the separation. We hold these truths to be self-evident, that all men are created equal, that they are endowed bytheir Creator with certain unalienable Rights, that among these are Life, Liberty and the pursuit\n",
      "of Happiness.— \u0014That to secure these rights, Governments are instituted among Men, derivingtheir just powers from the consent of the governed,—  \u0014That whenever any Form of Government\n",
      "becomes destructive of these ends, it is the Right of the People to alter or to abolish it, and to\n",
      "institute new Government, laying its foundation on such principles and organizing its powers in\n",
      "such form, as to them shall seem most likely to effect their Safety and Happiness. Prudence,indeed, will dictate that Governments long established should not be changed for light andtransient causes; and accordingly all experience hath shewn, that mankind are more disposed to\n",
      "suffer, while evils are sufferable, than to right themselves by abolishing the forms to which theyare accustomed. But when a long train of abuses and usurpations, pursuing invariably the same\n",
      "Object evinces a design to reduce them under absolute Despotism, it is their right, it is their duty,\n",
      "to throw off such Government, and to provide new Guards for their future securit y.— \u0014Such has\n",
      "been the patient sufferance of these Colonies; and such is now the necessity which constrainsthem to alter their former Systems of Government. The history of the present King of GreatBritain is a history of repeated injuries and usurpations, all having in direct object the\n",
      "establishment of an absolute Tyranny over these States. To prove this, let Facts be submitted to a\n",
      "candid world. \n",
      "He has refused his Assent to Laws, the most wholesome and necessary for the\n",
      "public good.He has forbidden his Governors to pass Laws of immediate and pressingimportance, unless suspended in their operation till his Assent should be obtained;and when so suspended, he has utterly neglected to attend to them.He has refused to pass other Laws for the accommodation of large districts of\n",
      "people, unless those people would relinquish the right of Representation in theLegislature, a right inestimable to them and formidable to tyrants only. He has called together legislative bodies at places unusual, uncomfortable, and distantfrom the depository of their public Records, for the sole purpose of fatiguing them into\n",
      "compliance with his measures.\n"
     ]
    }
   ],
   "source": [
    "print(page_one.extract_text())"
   ]
  },
  {
   "cell_type": "code",
   "execution_count": 55,
   "id": "a478ba57-6896-4db1-85b2-cba8718b0e76",
   "metadata": {},
   "outputs": [],
   "source": [
    "my_text = page_one.extract_text()"
   ]
  },
  {
   "cell_type": "code",
   "execution_count": 56,
   "id": "bf051d51-ce84-4f92-ad74-a5c772e53856",
   "metadata": {},
   "outputs": [],
   "source": [
    "myfile.close()"
   ]
  },
  {
   "cell_type": "code",
   "execution_count": 58,
   "id": "f22ec173-db47-46b0-8a5c-4b5ef709fb1f",
   "metadata": {},
   "outputs": [],
   "source": [
    "with open('files/US_Declaration.pdf', 'rb') as f:\n",
    "    pdf_reader = pypdf.PdfReader(f)\n",
    "    first_page = pdf_reader.get_page(0)\n",
    "    pdf_writer = pypdf.PdfWriter()\n",
    "    pdf_writer.add_page(first_page)\n",
    "    pdf_output = open('files/new_pdf_file.pdf', 'wb')\n",
    "    pdf_writer.write(pdf_output)"
   ]
  },
  {
   "cell_type": "code",
   "execution_count": 59,
   "id": "83554c07-b9d1-4057-80aa-88751fc3d14a",
   "metadata": {},
   "outputs": [],
   "source": [
    "pdf_output.close()"
   ]
  },
  {
   "cell_type": "code",
   "execution_count": 60,
   "id": "b138813c-bcaa-4f93-8d8b-614e8d02d138",
   "metadata": {},
   "outputs": [
    {
     "name": "stdout",
     "output_type": "stream",
     "text": [
      "1\n"
     ]
    }
   ],
   "source": [
    "with open('files/new_pdf_file.pdf', 'rb') as f:\n",
    "    pdf_reader = pypdf.PdfReader(f)\n",
    "    print(pdf_reader.get_num_pages())"
   ]
  },
  {
   "cell_type": "markdown",
   "id": "b6fbf400-6654-4600-b83b-06c26023e1c2",
   "metadata": {},
   "source": [
    "## Regular Expressions"
   ]
  },
  {
   "cell_type": "code",
   "execution_count": 66,
   "id": "ad171471-da87-4f61-a443-7c70f9580744",
   "metadata": {},
   "outputs": [],
   "source": [
    "text = \"the phone number of the agent is 408-555-1234. Call soon!!\"\n"
   ]
  },
  {
   "cell_type": "code",
   "execution_count": 62,
   "id": "f7bf8e70-d71a-48ac-b863-d8b6b9fff89d",
   "metadata": {},
   "outputs": [
    {
     "data": {
      "text/plain": [
       "True"
      ]
     },
     "execution_count": 62,
     "metadata": {},
     "output_type": "execute_result"
    }
   ],
   "source": [
    "\"408-555-1234\" in text"
   ]
  },
  {
   "cell_type": "code",
   "execution_count": 63,
   "id": "335c0b7e-4f00-4d3d-a24b-776a5d7fc938",
   "metadata": {},
   "outputs": [],
   "source": [
    "import re"
   ]
  },
  {
   "cell_type": "code",
   "execution_count": 67,
   "id": "acd43c5f-1e84-41bf-ae04-00423db799e0",
   "metadata": {},
   "outputs": [
    {
     "name": "stdout",
     "output_type": "stream",
     "text": [
      "<re.Match object; span=(4, 9), match='phone'>\n"
     ]
    }
   ],
   "source": [
    "pattern = \"phone\"\n",
    "print(re.search(pattern, text))"
   ]
  },
  {
   "cell_type": "code",
   "execution_count": 68,
   "id": "aef07497-2d17-44bb-beea-1dc1b43bf4de",
   "metadata": {},
   "outputs": [],
   "source": [
    "my_match = re.search(pattern, text)"
   ]
  },
  {
   "cell_type": "code",
   "execution_count": 69,
   "id": "69ff4efd-ed03-42c5-b2b6-920d986da570",
   "metadata": {},
   "outputs": [
    {
     "data": {
      "text/plain": [
       "(4, 9)"
      ]
     },
     "execution_count": 69,
     "metadata": {},
     "output_type": "execute_result"
    }
   ],
   "source": [
    "my_match.span()"
   ]
  },
  {
   "cell_type": "code",
   "execution_count": 70,
   "id": "0d9c6733-040a-4cd3-b277-c10b21641c39",
   "metadata": {},
   "outputs": [
    {
     "data": {
      "text/plain": [
       "(4, 9)"
      ]
     },
     "execution_count": 70,
     "metadata": {},
     "output_type": "execute_result"
    }
   ],
   "source": [
    "my_match.start(), my_match.end()"
   ]
  },
  {
   "cell_type": "code",
   "execution_count": 71,
   "id": "1233397d-1158-42bb-acd7-f546db0cbe44",
   "metadata": {},
   "outputs": [],
   "source": [
    "text = \"my phone is a new phone\""
   ]
  },
  {
   "cell_type": "code",
   "execution_count": 72,
   "id": "6a01b6fd-2dfe-46ea-bd5a-ae11d9203abe",
   "metadata": {},
   "outputs": [],
   "source": [
    "match = re.search(pattern, text)"
   ]
  },
  {
   "cell_type": "code",
   "execution_count": 73,
   "id": "da65a87a-2d66-43c8-a046-30547275ffad",
   "metadata": {},
   "outputs": [
    {
     "data": {
      "text/plain": [
       "(3, 8)"
      ]
     },
     "execution_count": 73,
     "metadata": {},
     "output_type": "execute_result"
    }
   ],
   "source": [
    "match.span()"
   ]
  },
  {
   "cell_type": "code",
   "execution_count": 75,
   "id": "5dd43cb4-08d1-4572-9010-13ed71c6110b",
   "metadata": {},
   "outputs": [],
   "source": [
    "all_matches = re.findall(pattern, text)"
   ]
  },
  {
   "cell_type": "code",
   "execution_count": 76,
   "id": "6c92b8ca-c30a-4a59-a120-3665bfd03505",
   "metadata": {},
   "outputs": [
    {
     "data": {
      "text/plain": [
       "2"
      ]
     },
     "execution_count": 76,
     "metadata": {},
     "output_type": "execute_result"
    }
   ],
   "source": [
    "len(all_matches)"
   ]
  },
  {
   "cell_type": "code",
   "execution_count": 78,
   "id": "39786cd2-e951-4b49-942f-497b6aee7f9c",
   "metadata": {},
   "outputs": [
    {
     "name": "stdout",
     "output_type": "stream",
     "text": [
      "(3, 8)\n",
      "(18, 23)\n"
     ]
    }
   ],
   "source": [
    "for match in re.finditer(pattern, text):\n",
    "    print(match.span())"
   ]
  },
  {
   "cell_type": "code",
   "execution_count": 79,
   "id": "d5b7bc95-775c-4ead-a74f-b853ac99eb09",
   "metadata": {},
   "outputs": [],
   "source": [
    "text = \"my new number is 1234-986-980\""
   ]
  },
  {
   "cell_type": "code",
   "execution_count": 80,
   "id": "70305499-1bed-4503-b940-3dfaee3b2d6f",
   "metadata": {},
   "outputs": [],
   "source": [
    "pattern = r'\\d\\d\\d\\d-\\d\\d\\d-\\d\\d\\d'\n",
    "phone_number = re.search(pattern, text)"
   ]
  },
  {
   "cell_type": "code",
   "execution_count": 81,
   "id": "d215447b-69b0-4db2-bfaf-b25c1f831216",
   "metadata": {},
   "outputs": [
    {
     "data": {
      "text/plain": [
       "'1234-986-980'"
      ]
     },
     "execution_count": 81,
     "metadata": {},
     "output_type": "execute_result"
    }
   ],
   "source": [
    "phone_number.group()"
   ]
  },
  {
   "cell_type": "code",
   "execution_count": 85,
   "id": "06af92ec-1476-41b5-a4ee-8751227c7348",
   "metadata": {},
   "outputs": [],
   "source": [
    "text2 = \"my new number is 123-9863-980\"\n",
    "pattern2 = r'\\d{1,4}-\\d{1,4}-\\d{1,4}'\n",
    "phone_number2 = re.search(pattern2, text2)"
   ]
  },
  {
   "cell_type": "code",
   "execution_count": 86,
   "id": "f3ba802b-9286-43be-9fdf-da0852acd7a2",
   "metadata": {},
   "outputs": [
    {
     "data": {
      "text/plain": [
       "'123-9863-980'"
      ]
     },
     "execution_count": 86,
     "metadata": {},
     "output_type": "execute_result"
    }
   ],
   "source": [
    "phone_number2.group()"
   ]
  },
  {
   "cell_type": "code",
   "execution_count": 87,
   "id": "d24d2536-0c73-47f9-a697-a235ab4d0157",
   "metadata": {},
   "outputs": [
    {
     "data": {
      "text/plain": [
       "'123-963-9280'"
      ]
     },
     "execution_count": 87,
     "metadata": {},
     "output_type": "execute_result"
    }
   ],
   "source": [
    "text3 = \"my new number is 123-963-9280\"\n",
    "pattern3 = r'\\d{1,4}-\\d{3}-\\d{3,}'\n",
    "phone_number3 = re.search(pattern3, text3)\n",
    "phone_number3.group()"
   ]
  },
  {
   "cell_type": "code",
   "execution_count": 89,
   "id": "a340f812-a5db-4f7f-8e20-8e17edebcfbc",
   "metadata": {},
   "outputs": [
    {
     "data": {
      "text/plain": [
       "'123-963-9280'"
      ]
     },
     "execution_count": 89,
     "metadata": {},
     "output_type": "execute_result"
    }
   ],
   "source": [
    "text4 = \"my new number is 123-963-9280\"\n",
    "pattern4 = r'(\\d{1,4})-(\\d{3})-(\\d{3,})'\n",
    "phone_number4 = re.search(pattern4, text4)\n",
    "phone_number4.group()"
   ]
  },
  {
   "cell_type": "code",
   "execution_count": 91,
   "id": "28b57557-5ed4-44d7-a274-1d9e0f061d69",
   "metadata": {},
   "outputs": [
    {
     "data": {
      "text/plain": [
       "'123'"
      ]
     },
     "execution_count": 91,
     "metadata": {},
     "output_type": "execute_result"
    }
   ],
   "source": [
    "phone_number4.group(1)"
   ]
  },
  {
   "cell_type": "code",
   "execution_count": 92,
   "id": "44edcc38-94b5-4fdc-86f3-198c1836d127",
   "metadata": {},
   "outputs": [
    {
     "data": {
      "text/plain": [
       "'963'"
      ]
     },
     "execution_count": 92,
     "metadata": {},
     "output_type": "execute_result"
    }
   ],
   "source": [
    "phone_number4.group(2)"
   ]
  },
  {
   "cell_type": "code",
   "execution_count": 93,
   "id": "0a74e55c-f627-4cfb-98a5-69e5c9dae735",
   "metadata": {},
   "outputs": [
    {
     "data": {
      "text/plain": [
       "<re.Match object; span=(5, 8), match='man'>"
      ]
     },
     "execution_count": 93,
     "metadata": {},
     "output_type": "execute_result"
    }
   ],
   "source": [
    "re.search(r'man|woman', \"this man is here\")"
   ]
  },
  {
   "cell_type": "code",
   "execution_count": 94,
   "id": "98ec37b5-0fda-4025-bcb6-15d185a0b1ee",
   "metadata": {},
   "outputs": [
    {
     "data": {
      "text/plain": [
       "<re.Match object; span=(5, 10), match='woman'>"
      ]
     },
     "execution_count": 94,
     "metadata": {},
     "output_type": "execute_result"
    }
   ],
   "source": [
    "re.search(r'man|woman', \"this woman is here\")"
   ]
  },
  {
   "cell_type": "code",
   "execution_count": 95,
   "id": "13da71a0-4426-4477-a64f-a85f50f3840c",
   "metadata": {},
   "outputs": [
    {
     "data": {
      "text/plain": [
       "['cat', 'hat', 'sat']"
      ]
     },
     "execution_count": 95,
     "metadata": {},
     "output_type": "execute_result"
    }
   ],
   "source": [
    "re.findall(\".at\", \"the cat in the hat sat\")"
   ]
  },
  {
   "cell_type": "code",
   "execution_count": 96,
   "id": "7b7c38b3-5e98-40a1-bcef-d71fbea782f2",
   "metadata": {},
   "outputs": [
    {
     "data": {
      "text/plain": [
       "['cat', 'hat', 'sat', 'lat']"
      ]
     },
     "execution_count": 96,
     "metadata": {},
     "output_type": "execute_result"
    }
   ],
   "source": [
    "re.findall(\".at\", \"the cat in the hat sat splat\")"
   ]
  },
  {
   "cell_type": "code",
   "execution_count": 97,
   "id": "211bc76d-08bb-4143-b6ba-990cc6857d88",
   "metadata": {},
   "outputs": [
    {
     "data": {
      "text/plain": [
       "[' cat', ' hat', ' sat', 'plat']"
      ]
     },
     "execution_count": 97,
     "metadata": {},
     "output_type": "execute_result"
    }
   ],
   "source": [
    "re.findall(\"..at\", \"the cat in the hat sat splat\")"
   ]
  },
  {
   "cell_type": "code",
   "execution_count": 98,
   "id": "6132c1f1-255a-4fa7-a189-c0c322cb1585",
   "metadata": {},
   "outputs": [
    {
     "data": {
      "text/plain": [
       "['2']"
      ]
     },
     "execution_count": 98,
     "metadata": {},
     "output_type": "execute_result"
    }
   ],
   "source": [
    "re.findall(r\"\\d$\", \"this ends with a number 2\")"
   ]
  },
  {
   "cell_type": "code",
   "execution_count": 99,
   "id": "350de6a9-518c-48e3-8740-67eb1990132e",
   "metadata": {},
   "outputs": [
    {
     "data": {
      "text/plain": [
       "['1']"
      ]
     },
     "execution_count": 99,
     "metadata": {},
     "output_type": "execute_result"
    }
   ],
   "source": [
    "re.findall(r\"^\\d\", \"1 is the long number\")"
   ]
  },
  {
   "cell_type": "code",
   "execution_count": 100,
   "id": "740d087f-741d-417a-a61b-50b9471d6964",
   "metadata": {},
   "outputs": [],
   "source": [
    "phrase = \"there are 3 numbers 34 inside 5 this sentence\""
   ]
  },
  {
   "cell_type": "code",
   "execution_count": 102,
   "id": "546f2f7c-8226-4adb-8fd3-864668a88ca4",
   "metadata": {},
   "outputs": [
    {
     "data": {
      "text/plain": [
       "['there are ', ' numbers ', ' inside ', ' this sentence']"
      ]
     },
     "execution_count": 102,
     "metadata": {},
     "output_type": "execute_result"
    }
   ],
   "source": [
    "re.findall(r\"[^\\d]+\", phrase)"
   ]
  },
  {
   "cell_type": "code",
   "execution_count": 103,
   "id": "7c6bdda7-923b-4f5d-965f-a0b8f12dd5f9",
   "metadata": {},
   "outputs": [],
   "source": [
    "p2 = \"this is a string! but it has punctuation. How to remove it?\""
   ]
  },
  {
   "cell_type": "code",
   "execution_count": 104,
   "id": "ecf005e0-67aa-4ac8-8243-9327d1dab0fd",
   "metadata": {},
   "outputs": [
    {
     "data": {
      "text/plain": [
       "['this',\n",
       " 'is',\n",
       " 'a',\n",
       " 'string',\n",
       " 'but',\n",
       " 'it',\n",
       " 'has',\n",
       " 'punctuation',\n",
       " 'How',\n",
       " 'to',\n",
       " 'remove',\n",
       " 'it']"
      ]
     },
     "execution_count": 104,
     "metadata": {},
     "output_type": "execute_result"
    }
   ],
   "source": [
    "re.findall(r\"[^!.? ]+\", p2)"
   ]
  },
  {
   "cell_type": "code",
   "execution_count": 105,
   "id": "f016c52a-1101-4121-b256-a24ff44d0700",
   "metadata": {},
   "outputs": [],
   "source": [
    "p3 = \"Only find the hyphen-words. Where are the long-ish dash words?\""
   ]
  },
  {
   "cell_type": "code",
   "execution_count": 106,
   "id": "7a2c5645-e4b8-4a7f-98ae-246ee8abbcb0",
   "metadata": {},
   "outputs": [
    {
     "data": {
      "text/plain": [
       "['hyphen-words', 'long-ish']"
      ]
     },
     "execution_count": 106,
     "metadata": {},
     "output_type": "execute_result"
    }
   ],
   "source": [
    "re.findall(r\"[\\w]+-[\\w]+\", p3)"
   ]
  },
  {
   "cell_type": "code",
   "execution_count": null,
   "id": "0784dfff-59bd-40d6-a315-41565a9dc462",
   "metadata": {},
   "outputs": [],
   "source": []
  }
 ],
 "metadata": {
  "kernelspec": {
   "display_name": "Python 3 (ipykernel)",
   "language": "python",
   "name": "python3"
  },
  "language_info": {
   "codemirror_mode": {
    "name": "ipython",
    "version": 3
   },
   "file_extension": ".py",
   "mimetype": "text/x-python",
   "name": "python",
   "nbconvert_exporter": "python",
   "pygments_lexer": "ipython3",
   "version": "3.11.9"
  }
 },
 "nbformat": 4,
 "nbformat_minor": 5
}
