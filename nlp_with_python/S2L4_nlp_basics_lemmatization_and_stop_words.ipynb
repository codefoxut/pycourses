{
 "cells": [
  {
   "cell_type": "code",
   "execution_count": 1,
   "id": "a5cb54da-d45a-4ad1-9371-661dc5510a54",
   "metadata": {},
   "outputs": [],
   "source": [
    "# Perform standard imports:\n",
    "import spacy\n",
    "nlp = spacy.load('en_core_web_sm')"
   ]
  },
  {
   "cell_type": "code",
   "execution_count": 2,
   "id": "1738c256-2d57-4798-8d1f-81b441c30e2f",
   "metadata": {},
   "outputs": [
    {
     "name": "stdout",
     "output_type": "stream",
     "text": [
      "I \t PRON \t 4690420944186131903 \t I\n",
      "am \t AUX \t 10382539506755952630 \t be\n",
      "a \t DET \t 11901859001352538922 \t a\n",
      "runner \t NOUN \t 12640964157389618806 \t runner\n",
      "running \t VERB \t 12767647472892411841 \t run\n",
      "in \t ADP \t 3002984154512732771 \t in\n",
      "a \t DET \t 11901859001352538922 \t a\n",
      "race \t NOUN \t 8048469955494714898 \t race\n",
      "because \t SCONJ \t 16950148841647037698 \t because\n",
      "I \t PRON \t 4690420944186131903 \t I\n",
      "love \t VERB \t 3702023516439754181 \t love\n",
      "to \t PART \t 3791531372978436496 \t to\n",
      "run \t VERB \t 12767647472892411841 \t run\n",
      "since \t SCONJ \t 10066841407251338481 \t since\n",
      "I \t PRON \t 4690420944186131903 \t I\n",
      "ran \t VERB \t 12767647472892411841 \t run\n",
      "today \t NOUN \t 11042482332948150395 \t today\n"
     ]
    }
   ],
   "source": [
    "doc1 = nlp(u\"I am a runner running in a race because I love to run since I ran today\")\n",
    "\n",
    "for token in doc1:\n",
    "    print(token.text, '\\t', token.pos_, '\\t', token.lemma, '\\t', token.lemma_)\n",
    "    "
   ]
  },
  {
   "cell_type": "code",
   "execution_count": 3,
   "id": "a41d2eb8-b9cf-48a1-98ec-451e6648b8c6",
   "metadata": {},
   "outputs": [],
   "source": [
    "def show_lemmas(text):\n",
    "    for token in text:\n",
    "        print(f'{token.text:{12}} {token.pos_:{6}} {token.lemma:<{22}} {token.lemma_}')"
   ]
  },
  {
   "cell_type": "code",
   "execution_count": 4,
   "id": "324e5f20-f830-470a-b051-485ef72bd79e",
   "metadata": {},
   "outputs": [
    {
     "name": "stdout",
     "output_type": "stream",
     "text": [
      "I            PRON   4690420944186131903    I\n",
      "am           AUX    10382539506755952630   be\n",
      "a            DET    11901859001352538922   a\n",
      "runner       NOUN   12640964157389618806   runner\n",
      "running      VERB   12767647472892411841   run\n",
      "in           ADP    3002984154512732771    in\n",
      "a            DET    11901859001352538922   a\n",
      "race         NOUN   8048469955494714898    race\n",
      "because      SCONJ  16950148841647037698   because\n",
      "I            PRON   4690420944186131903    I\n",
      "love         VERB   3702023516439754181    love\n",
      "to           PART   3791531372978436496    to\n",
      "run          VERB   12767647472892411841   run\n",
      "since        SCONJ  10066841407251338481   since\n",
      "I            PRON   4690420944186131903    I\n",
      "ran          VERB   12767647472892411841   run\n",
      "today        NOUN   11042482332948150395   today\n"
     ]
    }
   ],
   "source": [
    "show_lemmas(doc1)"
   ]
  },
  {
   "cell_type": "code",
   "execution_count": 5,
   "id": "7094ad79-4200-4f4b-91ce-7796d7bb0d0a",
   "metadata": {},
   "outputs": [
    {
     "name": "stdout",
     "output_type": "stream",
     "text": [
      "I            PRON   4690420944186131903    I\n",
      "saw          VERB   11925638236994514241   see\n",
      "eighteen     NUM    9609336664675087640    eighteen\n",
      "mice         NOUN   1384165645700560590    mouse\n",
      "today        NOUN   11042482332948150395   today\n",
      "!            PUNCT  17494803046312582752   !\n"
     ]
    }
   ],
   "source": [
    "doc2 = nlp(u\"I saw eighteen mice today!\")\n",
    "\n",
    "show_lemmas(doc2)"
   ]
  },
  {
   "cell_type": "code",
   "execution_count": 6,
   "id": "f8b3bf2e-4d96-4db5-b1a7-b2ceb135ab6b",
   "metadata": {},
   "outputs": [
    {
     "name": "stdout",
     "output_type": "stream",
     "text": [
      "I            PRON   4690420944186131903    I\n",
      "am           AUX    10382539506755952630   be\n",
      "meeting      VERB   6880656908171229526    meet\n",
      "him          PRON   1655312771067108281    he\n",
      "tomorrow     NOUN   3573583789758258062    tomorrow\n",
      "at           ADP    11667289587015813222   at\n",
      "the          DET    7425985699627899538    the\n",
      "meeting      NOUN   14798207169164081740   meeting\n",
      ".            PUNCT  12646065887601541794   .\n"
     ]
    }
   ],
   "source": [
    "doc3 = nlp(u\"I am meeting him tomorrow at the meeting.\")\n",
    "\n",
    "show_lemmas(doc3)"
   ]
  },
  {
   "cell_type": "code",
   "execution_count": 7,
   "id": "94690c41-219c-4cd7-a1c2-675bff7ca597",
   "metadata": {},
   "outputs": [
    {
     "name": "stdout",
     "output_type": "stream",
     "text": [
      "That         PRON   4380130941430378203    that\n",
      "'s           AUX    10382539506755952630   be\n",
      "an           DET    15099054000809333061   an\n",
      "enormous     ADJ    17917224542039855524   enormous\n",
      "automobile   NOUN   7211811266693931283    automobile\n"
     ]
    }
   ],
   "source": [
    "doc4 = nlp(u\"That's an enormous automobile\")\n",
    "\n",
    "show_lemmas(doc4)"
   ]
  },
  {
   "cell_type": "markdown",
   "id": "2474fd72-ada8-4ca6-96bc-d0edb2392059",
   "metadata": {},
   "source": [
    "\n",
    "# stop words"
   ]
  },
  {
   "cell_type": "code",
   "execution_count": 8,
   "id": "09e80230-73a3-4fd0-96db-8c3c214e6a4e",
   "metadata": {},
   "outputs": [],
   "source": [
    "# Perform standard imports:\n",
    "import spacy\n",
    "nlp = spacy.load('en_core_web_sm')"
   ]
  },
  {
   "cell_type": "code",
   "execution_count": 9,
   "id": "6ee3e0af-e1e5-4447-8ba7-61093beefbd4",
   "metadata": {},
   "outputs": [
    {
     "name": "stdout",
     "output_type": "stream",
     "text": [
      "{'should', 'a', 'perhaps', 'elsewhere', 'empty', 'using', 'one', 'third', 'its', 'namely', 'above', '‘s', '‘re', 'enough', 'through', 'them', 'never', 'these', 'latter', 'either', 'because', 'i', 'of', 'seeming', 'hence', 'his', 're', 'also', 'yourselves', 'about', 'if', 'in', 'name', 'my', 'sixty', 'without', 'nothing', 'up', 'four', 'thru', 'upon', 'rather', 'always', 'by', 'much', 'been', 'themselves', 'forty', 'around', 'both', 'may', 'together', 'across', 'seemed', '‘ve', 'me', 'except', 'something', 'might', 'further', 'becoming', 'whereby', 'throughout', 'go', 'five', 'almost', 'yours', 'still', 'such', 'doing', 'ours', 'became', \"'ll\", 'meanwhile', 'somehow', 'indeed', 'at', 'with', 'hereby', 'due', 'anything', 'first', 'there', 'every', 'was', 'eleven', 'latterly', 'alone', 'our', 'who', 'six', 'we', 'ten', 'whoever', \"'d\", 'however', 'often', 'once', 'another', '’m', 'am', 'bottom', 'twelve', 'cannot', 'other', 'front', 'get', 'why', 'several', 'back', 'among', '‘m', 'be', 'could', 'those', 'next', 'again', 'quite', 'any', 'when', 'everywhere', 'move', 'himself', 'ca', 'n‘t', 'as', 'on', 'your', 'side', 'thence', 'would', 'noone', 'hereafter', 'can', 'no', 'hers', 'whereupon', 'even', 'same', 'everyone', 'what', 'is', 'must', 'herein', 'hundred', 'becomes', 'last', 'have', 'anywhere', 'ourselves', 'then', 'therefore', 'down', 'they', \"'s\", 'he', 'nine', 'has', 'done', 'behind', 'whereas', 'otherwise', 'so', 'mine', 'had', 'unless', 'off', 'until', '‘d', 'though', 'make', 'serious', 'anyway', 'whither', 'yet', \"n't\", 'it', 'somewhere', 'that', 'her', 'to', 'say', 'whatever', 'nobody', 'too', 'us', 'only', 'used', 'are', 'afterwards', 'between', 'sometimes', '’ve', 'itself', 'therein', 'where', 'anyone', 'someone', 'she', 'moreover', 'three', 'from', 'now', 'mostly', 'twenty', 'top', 'just', 'full', 'seem', 'thereupon', 'into', 'being', 'eight', 'this', 'whom', 'already', 'sometime', 'nowhere', 'onto', 'each', 'various', '’ll', 'neither', 'take', 'anyhow', 'show', 'beside', 'not', 'very', 'yourself', 'else', 'nor', 'n’t', 'please', 'their', 'wherein', 'via', 'whenever', 'an', 'regarding', 'than', 'amount', 'part', 'ever', 'along', 'did', 'all', 'will', 'under', 'really', 'since', '’re', 'see', '‘ll', 'beyond', 'most', 'become', 'put', 'some', 'while', 'does', 'toward', 'below', 'although', 'myself', 'the', 'many', 'thereby', 'or', '’d', 'after', 'whole', 'how', 'fifty', 'him', 'keep', 'hereupon', 'seems', 'own', 'give', 'were', 'besides', \"'re\", 'formerly', 'two', 'amongst', 'within', 'whether', 'thus', 'which', 'few', \"'ve\", 'during', 'fifteen', 'nevertheless', '’s', 'made', 'well', 'before', 'everything', 'call', 'beforehand', 'over', 'former', 'others', 'here', 'and', 'for', 'whereafter', \"'m\", 'herself', 'more', 'none', 'less', 'thereafter', 'whose', 'least', 'whence', 'do', 'towards', 'wherever', 'you', 'against', 'per', 'out', 'but'}\n"
     ]
    }
   ],
   "source": [
    "# Print the set of spaCy's default stop words (remember that sets are unordered):\n",
    "print(nlp.Defaults.stop_words)"
   ]
  },
  {
   "cell_type": "code",
   "execution_count": 10,
   "id": "575bc8e7-91ad-4430-9b43-e84a19a775c4",
   "metadata": {},
   "outputs": [
    {
     "data": {
      "text/plain": [
       "326"
      ]
     },
     "execution_count": 10,
     "metadata": {},
     "output_type": "execute_result"
    }
   ],
   "source": [
    "len(nlp.Defaults.stop_words)"
   ]
  },
  {
   "cell_type": "code",
   "execution_count": 11,
   "id": "a66b9783-61bf-4485-8c61-7993cb891431",
   "metadata": {},
   "outputs": [
    {
     "data": {
      "text/plain": [
       "True"
      ]
     },
     "execution_count": 11,
     "metadata": {},
     "output_type": "execute_result"
    }
   ],
   "source": [
    "nlp.vocab['myself'].is_stop"
   ]
  },
  {
   "cell_type": "code",
   "execution_count": 12,
   "id": "fa29c4dc-3517-4be4-b691-9c617417f734",
   "metadata": {},
   "outputs": [
    {
     "data": {
      "text/plain": [
       "False"
      ]
     },
     "execution_count": 12,
     "metadata": {},
     "output_type": "execute_result"
    }
   ],
   "source": [
    "nlp.vocab['mystery'].is_stop"
   ]
  },
  {
   "cell_type": "markdown",
   "id": "ff5b0fb3-d11f-436a-af84-f51d2c5e03b6",
   "metadata": {},
   "source": [
    "# To add/remove a stop word"
   ]
  },
  {
   "cell_type": "code",
   "execution_count": 13,
   "id": "5ac91444-99a9-4118-8ec0-d6c900068dbd",
   "metadata": {},
   "outputs": [],
   "source": [
    "# Add the word to the set of stop words. Use lowercase!\n",
    "nlp.Defaults.stop_words.add('btw')\n",
    "\n",
    "# Set the stop_word tag on the lexeme\n",
    "nlp.vocab['btw'].is_stop = True"
   ]
  },
  {
   "cell_type": "code",
   "execution_count": 14,
   "id": "46c63f34-1943-4fd9-8ecc-0fb705a45994",
   "metadata": {},
   "outputs": [
    {
     "data": {
      "text/plain": [
       "327"
      ]
     },
     "execution_count": 14,
     "metadata": {},
     "output_type": "execute_result"
    }
   ],
   "source": [
    "len(nlp.Defaults.stop_words)"
   ]
  },
  {
   "cell_type": "code",
   "execution_count": 15,
   "id": "831cca4b-c334-4e29-af47-02038c06952c",
   "metadata": {},
   "outputs": [
    {
     "data": {
      "text/plain": [
       "True"
      ]
     },
     "execution_count": 15,
     "metadata": {},
     "output_type": "execute_result"
    }
   ],
   "source": [
    "nlp.vocab['btw'].is_stop"
   ]
  },
  {
   "cell_type": "code",
   "execution_count": 16,
   "id": "633bb82f-ee54-4b31-933a-66b4ded367a6",
   "metadata": {},
   "outputs": [],
   "source": [
    "# Remove the word from the set of stop words\n",
    "nlp.Defaults.stop_words.remove('beyond')\n",
    "\n",
    "# Remove the stop_word tag from the lexeme\n",
    "nlp.vocab['beyond'].is_stop = False"
   ]
  },
  {
   "cell_type": "code",
   "execution_count": 17,
   "id": "63a7990e-60da-4a5c-adcd-af160e2eb09a",
   "metadata": {},
   "outputs": [
    {
     "data": {
      "text/plain": [
       "326"
      ]
     },
     "execution_count": 17,
     "metadata": {},
     "output_type": "execute_result"
    }
   ],
   "source": [
    "len(nlp.Defaults.stop_words)"
   ]
  },
  {
   "cell_type": "code",
   "execution_count": null,
   "id": "796eae28-c43d-42a9-af1a-ede13c026217",
   "metadata": {},
   "outputs": [],
   "source": []
  }
 ],
 "metadata": {
  "kernelspec": {
   "display_name": "Python 3 (ipykernel)",
   "language": "python",
   "name": "python3"
  },
  "language_info": {
   "codemirror_mode": {
    "name": "ipython",
    "version": 3
   },
   "file_extension": ".py",
   "mimetype": "text/x-python",
   "name": "python",
   "nbconvert_exporter": "python",
   "pygments_lexer": "ipython3",
   "version": "3.11.9"
  }
 },
 "nbformat": 4,
 "nbformat_minor": 5
}
