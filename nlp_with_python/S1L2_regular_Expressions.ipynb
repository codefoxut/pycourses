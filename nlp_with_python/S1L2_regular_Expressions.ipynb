{
 "cells": [
  {
   "cell_type": "code",
   "execution_count": 1,
   "id": "c4878639-b41e-4131-a36e-3d4fdc8cb971",
   "metadata": {},
   "outputs": [],
   "source": [
    "text = \"the phone number of the agent is 408-555-1234. Call soon!!\"\n"
   ]
  },
  {
   "cell_type": "code",
   "execution_count": 2,
   "id": "05d3f649-ea72-4ab9-ab12-067a014324e8",
   "metadata": {},
   "outputs": [
    {
     "data": {
      "text/plain": [
       "True"
      ]
     },
     "execution_count": 2,
     "metadata": {},
     "output_type": "execute_result"
    }
   ],
   "source": [
    "\"408-555-1234\" in text"
   ]
  },
  {
   "cell_type": "code",
   "execution_count": 3,
   "id": "760706b2-2d47-4950-ae07-d52a77d82bb1",
   "metadata": {},
   "outputs": [],
   "source": [
    "import re"
   ]
  },
  {
   "cell_type": "code",
   "execution_count": 4,
   "id": "dbb6d640-636f-4268-8f59-2bfdfa2f7aeb",
   "metadata": {},
   "outputs": [
    {
     "name": "stdout",
     "output_type": "stream",
     "text": [
      "<re.Match object; span=(4, 9), match='phone'>\n"
     ]
    }
   ],
   "source": [
    "pattern = \"phone\"\n",
    "print(re.search(pattern, text))"
   ]
  },
  {
   "cell_type": "code",
   "execution_count": 5,
   "id": "1ec33d73-df74-4e5d-90c3-6568399bf768",
   "metadata": {},
   "outputs": [
    {
     "data": {
      "text/plain": [
       "(4, 9)"
      ]
     },
     "execution_count": 5,
     "metadata": {},
     "output_type": "execute_result"
    }
   ],
   "source": [
    "my_match = re.search(pattern, text)\n",
    "my_match.span()"
   ]
  },
  {
   "cell_type": "code",
   "execution_count": 6,
   "id": "a423cb80-c4a0-4d8f-a480-4ed692ea1df0",
   "metadata": {},
   "outputs": [
    {
     "data": {
      "text/plain": [
       "(4, 9)"
      ]
     },
     "execution_count": 6,
     "metadata": {},
     "output_type": "execute_result"
    }
   ],
   "source": [
    "my_match.start(), my_match.end()"
   ]
  },
  {
   "cell_type": "code",
   "execution_count": 7,
   "id": "6eb8337b-5155-4ad5-8814-08386b67f9f7",
   "metadata": {},
   "outputs": [],
   "source": [
    "all_matches = re.findall(pattern, text)"
   ]
  },
  {
   "cell_type": "code",
   "execution_count": 8,
   "id": "ddd09dbe-c482-4288-8c76-2fbb0d40ce92",
   "metadata": {},
   "outputs": [
    {
     "data": {
      "text/plain": [
       "1"
      ]
     },
     "execution_count": 8,
     "metadata": {},
     "output_type": "execute_result"
    }
   ],
   "source": [
    "len(all_matches)"
   ]
  },
  {
   "cell_type": "code",
   "execution_count": 9,
   "id": "208d804e-219c-4c62-bef3-49812d924688",
   "metadata": {},
   "outputs": [
    {
     "name": "stdout",
     "output_type": "stream",
     "text": [
      "(4, 9)\n"
     ]
    }
   ],
   "source": [
    "for match in re.finditer(pattern, text):\n",
    "    print(match.span())"
   ]
  },
  {
   "cell_type": "code",
   "execution_count": 10,
   "id": "613d5c3d-bfa4-468c-bca2-cf18d2b550e2",
   "metadata": {},
   "outputs": [],
   "source": [
    "text = \"my new number is 1234-986-980\""
   ]
  },
  {
   "cell_type": "code",
   "execution_count": 11,
   "id": "fbc6d708-fea3-48a3-b86b-9e2b445a762c",
   "metadata": {},
   "outputs": [],
   "source": [
    "pattern = r'\\d\\d\\d\\d-\\d\\d\\d-\\d\\d\\d'\n",
    "phone_number = re.search(pattern, text)"
   ]
  },
  {
   "cell_type": "code",
   "execution_count": 12,
   "id": "29f8122b-3799-41a2-ba43-baf7132f54e0",
   "metadata": {},
   "outputs": [
    {
     "data": {
      "text/plain": [
       "'1234-986-980'"
      ]
     },
     "execution_count": 12,
     "metadata": {},
     "output_type": "execute_result"
    }
   ],
   "source": [
    "phone_number.group()"
   ]
  },
  {
   "cell_type": "code",
   "execution_count": 13,
   "id": "af1a2df4-ebc7-43fc-87c3-caf29fd1447a",
   "metadata": {},
   "outputs": [],
   "source": [
    "text2 = \"my new number is 123-9863-980\"\n",
    "pattern2 = r'\\d{1,4}-\\d{1,4}-\\d{1,4}'\n",
    "phone_number2 = re.search(pattern2, text2)"
   ]
  },
  {
   "cell_type": "code",
   "execution_count": 14,
   "id": "68a51537-22d9-4008-bb55-c2e4475909ad",
   "metadata": {},
   "outputs": [
    {
     "data": {
      "text/plain": [
       "'123-9863-980'"
      ]
     },
     "execution_count": 14,
     "metadata": {},
     "output_type": "execute_result"
    }
   ],
   "source": [
    "phone_number2.group()"
   ]
  },
  {
   "cell_type": "code",
   "execution_count": 15,
   "id": "050166b4-b4d0-4d75-a6e6-112330ea1d36",
   "metadata": {},
   "outputs": [
    {
     "data": {
      "text/plain": [
       "'123-963-9280'"
      ]
     },
     "execution_count": 15,
     "metadata": {},
     "output_type": "execute_result"
    }
   ],
   "source": [
    "text3 = \"my new number is 123-963-9280\"\n",
    "pattern3 = r'\\d{1,4}-\\d{3}-\\d{3,}'\n",
    "phone_number3 = re.search(pattern3, text3)\n",
    "phone_number3.group()"
   ]
  },
  {
   "cell_type": "code",
   "execution_count": 16,
   "id": "07a01505-457d-49c1-a0db-664047ede0a5",
   "metadata": {},
   "outputs": [
    {
     "data": {
      "text/plain": [
       "'123-963-9280'"
      ]
     },
     "execution_count": 16,
     "metadata": {},
     "output_type": "execute_result"
    }
   ],
   "source": [
    "text4 = \"my new number is 123-963-9280\"\n",
    "pattern4 = r'(\\d{1,4})-(\\d{3})-(\\d{3,})'\n",
    "phone_number4 = re.search(pattern4, text4)\n",
    "phone_number4.group()"
   ]
  },
  {
   "cell_type": "code",
   "execution_count": 17,
   "id": "9372f2d3-c53b-44db-b83c-837f68eb1ec4",
   "metadata": {},
   "outputs": [
    {
     "data": {
      "text/plain": [
       "'123'"
      ]
     },
     "execution_count": 17,
     "metadata": {},
     "output_type": "execute_result"
    }
   ],
   "source": [
    "phone_number4.group(1)"
   ]
  },
  {
   "cell_type": "code",
   "execution_count": 18,
   "id": "acacbf4c-bb64-4acd-bc36-668118b30388",
   "metadata": {},
   "outputs": [
    {
     "data": {
      "text/plain": [
       "'963'"
      ]
     },
     "execution_count": 18,
     "metadata": {},
     "output_type": "execute_result"
    }
   ],
   "source": [
    "phone_number4.group(2)"
   ]
  },
  {
   "cell_type": "code",
   "execution_count": 19,
   "id": "05ad2bd1-9a06-4651-a235-7717eaf0e66b",
   "metadata": {},
   "outputs": [
    {
     "data": {
      "text/plain": [
       "<re.Match object; span=(5, 8), match='man'>"
      ]
     },
     "execution_count": 19,
     "metadata": {},
     "output_type": "execute_result"
    }
   ],
   "source": [
    "re.search(r'man|woman', \"this man is here\")"
   ]
  },
  {
   "cell_type": "code",
   "execution_count": 20,
   "id": "7f3c77ac-a555-445f-a032-b949242a4dee",
   "metadata": {},
   "outputs": [
    {
     "data": {
      "text/plain": [
       "<re.Match object; span=(5, 10), match='woman'>"
      ]
     },
     "execution_count": 20,
     "metadata": {},
     "output_type": "execute_result"
    }
   ],
   "source": [
    "re.search(r'man|woman', \"this woman is here\")"
   ]
  },
  {
   "cell_type": "code",
   "execution_count": 21,
   "id": "9b55a728-c4a5-4d8c-8144-75b806ab6651",
   "metadata": {},
   "outputs": [
    {
     "data": {
      "text/plain": [
       "['cat', 'hat', 'sat']"
      ]
     },
     "execution_count": 21,
     "metadata": {},
     "output_type": "execute_result"
    }
   ],
   "source": [
    "re.findall(\".at\", \"the cat in the hat sat\")"
   ]
  },
  {
   "cell_type": "code",
   "execution_count": 22,
   "id": "be8b5c90-8dae-4930-8959-54d2be4ed07e",
   "metadata": {},
   "outputs": [
    {
     "data": {
      "text/plain": [
       "['cat', 'hat', 'sat', 'lat']"
      ]
     },
     "execution_count": 22,
     "metadata": {},
     "output_type": "execute_result"
    }
   ],
   "source": [
    "re.findall(\".at\", \"the cat in the hat sat splat\")"
   ]
  },
  {
   "cell_type": "code",
   "execution_count": 23,
   "id": "9970ee0e-2276-4c25-bb7f-f423d5d96a41",
   "metadata": {},
   "outputs": [
    {
     "data": {
      "text/plain": [
       "[' cat', ' hat', ' sat', 'plat']"
      ]
     },
     "execution_count": 23,
     "metadata": {},
     "output_type": "execute_result"
    }
   ],
   "source": [
    "re.findall(\"..at\", \"the cat in the hat sat splat\")"
   ]
  },
  {
   "cell_type": "code",
   "execution_count": 24,
   "id": "8ef5b658-9eef-4e87-8b36-583a25c8e82f",
   "metadata": {},
   "outputs": [
    {
     "data": {
      "text/plain": [
       "['2']"
      ]
     },
     "execution_count": 24,
     "metadata": {},
     "output_type": "execute_result"
    }
   ],
   "source": [
    "re.findall(r\"\\d$\", \"this ends with a number 2\")"
   ]
  },
  {
   "cell_type": "code",
   "execution_count": 25,
   "id": "76e02717-a6b9-4d85-8cd4-f667ccff69ab",
   "metadata": {},
   "outputs": [
    {
     "data": {
      "text/plain": [
       "['1']"
      ]
     },
     "execution_count": 25,
     "metadata": {},
     "output_type": "execute_result"
    }
   ],
   "source": [
    "re.findall(r\"^\\d\", \"1 is the long number\")"
   ]
  },
  {
   "cell_type": "code",
   "execution_count": 26,
   "id": "163b75b0-e840-484f-8c60-83326b7a64f4",
   "metadata": {},
   "outputs": [],
   "source": [
    "phrase = \"there are 3 numbers 34 inside 5 this sentence\""
   ]
  },
  {
   "cell_type": "code",
   "execution_count": 27,
   "id": "61f193c6-de6f-42a9-ba6f-defeee60d527",
   "metadata": {},
   "outputs": [
    {
     "data": {
      "text/plain": [
       "['there are ', ' numbers ', ' inside ', ' this sentence']"
      ]
     },
     "execution_count": 27,
     "metadata": {},
     "output_type": "execute_result"
    }
   ],
   "source": [
    "re.findall(r\"[^\\d]+\", phrase)"
   ]
  },
  {
   "cell_type": "code",
   "execution_count": 28,
   "id": "6fdc8d7d-7bc9-476f-9e28-90daf1f5eb78",
   "metadata": {},
   "outputs": [],
   "source": [
    "p2 = \"this is a string! but it has punctuation. How to remove it?\""
   ]
  },
  {
   "cell_type": "code",
   "execution_count": 29,
   "id": "1cff4203-70d0-4464-bfaf-e7bbbe99936c",
   "metadata": {},
   "outputs": [
    {
     "data": {
      "text/plain": [
       "['this',\n",
       " 'is',\n",
       " 'a',\n",
       " 'string',\n",
       " 'but',\n",
       " 'it',\n",
       " 'has',\n",
       " 'punctuation',\n",
       " 'How',\n",
       " 'to',\n",
       " 'remove',\n",
       " 'it']"
      ]
     },
     "execution_count": 29,
     "metadata": {},
     "output_type": "execute_result"
    }
   ],
   "source": [
    "re.findall(r\"[^!.? ]+\", p2)"
   ]
  },
  {
   "cell_type": "code",
   "execution_count": 30,
   "id": "939f6990-243e-4f2b-99f6-53d274ffe1f2",
   "metadata": {},
   "outputs": [],
   "source": [
    "p3 = \"Only find the hyphen-words. Where are the long-ish dash words?\""
   ]
  },
  {
   "cell_type": "code",
   "execution_count": 31,
   "id": "1cce04d2-d419-432b-975b-e3da97a8cb2a",
   "metadata": {},
   "outputs": [
    {
     "data": {
      "text/plain": [
       "['hyphen-words', 'long-ish']"
      ]
     },
     "execution_count": 31,
     "metadata": {},
     "output_type": "execute_result"
    }
   ],
   "source": [
    "re.findall(r\"[\\w]+-[\\w]+\", p3)"
   ]
  },
  {
   "cell_type": "code",
   "execution_count": null,
   "id": "fd7e93e3-af04-4282-940f-006065fcfa12",
   "metadata": {},
   "outputs": [],
   "source": []
  }
 ],
 "metadata": {
  "kernelspec": {
   "display_name": "Python 3 (ipykernel)",
   "language": "python",
   "name": "python3"
  },
  "language_info": {
   "codemirror_mode": {
    "name": "ipython",
    "version": 3
   },
   "file_extension": ".py",
   "mimetype": "text/x-python",
   "name": "python",
   "nbconvert_exporter": "python",
   "pygments_lexer": "ipython3",
   "version": "3.11.9"
  }
 },
 "nbformat": 4,
 "nbformat_minor": 5
}
