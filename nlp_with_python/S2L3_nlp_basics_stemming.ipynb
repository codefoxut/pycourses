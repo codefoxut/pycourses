{
 "cells": [
  {
   "cell_type": "code",
   "execution_count": 1,
   "id": "eac72dfb-ff5b-4069-a387-f416fbb38136",
   "metadata": {},
   "outputs": [],
   "source": [
    "# Import the toolkit and the full Porter Stemmer library\n",
    "import nltk\n",
    "\n",
    "from nltk.stem.porter import *"
   ]
  },
  {
   "cell_type": "code",
   "execution_count": 2,
   "id": "2f71e2e4-7a2d-41d6-842d-350998d6eb36",
   "metadata": {},
   "outputs": [],
   "source": [
    "p_stemmer = PorterStemmer()"
   ]
  },
  {
   "cell_type": "code",
   "execution_count": 3,
   "id": "a7aaa7ca-26f5-4bed-a70d-8a382db7f605",
   "metadata": {},
   "outputs": [],
   "source": [
    "words = ['run', 'runner', 'running', 'ran', 'runs', 'easily', 'fairly']"
   ]
  },
  {
   "cell_type": "code",
   "execution_count": 6,
   "id": "34d21f9f-6cae-4225-867f-bc88dd56d42d",
   "metadata": {},
   "outputs": [
    {
     "name": "stdout",
     "output_type": "stream",
     "text": [
      "run --> run\n",
      "runner --> runner\n",
      "running --> run\n",
      "ran --> ran\n",
      "runs --> run\n",
      "easily --> easili\n",
      "fairly --> fairli\n"
     ]
    }
   ],
   "source": [
    "for word in words:\n",
    "    print(word, end=\" --> \")\n",
    "    print(p_stemmer.stem(word))"
   ]
  },
  {
   "cell_type": "markdown",
   "id": "47f9335b-56bb-44f7-b20c-f7d28f40c4af",
   "metadata": {},
   "source": [
    "# Snowball Stemmer"
   ]
  },
  {
   "cell_type": "code",
   "execution_count": 7,
   "id": "f35bce82-2985-4e00-9dcc-41ac2d2a394f",
   "metadata": {},
   "outputs": [],
   "source": [
    "from nltk.stem.snowball import SnowballStemmer\n",
    "\n",
    "# The Snowball Stemmer requires that you pass a language parameter\n",
    "s_stemmer = SnowballStemmer(language='english')"
   ]
  },
  {
   "cell_type": "code",
   "execution_count": 13,
   "id": "554f61d4-58f5-42d1-836d-e17a76c56148",
   "metadata": {},
   "outputs": [],
   "source": [
    "words = ['run','runner','running','ran','runs','easily','fairly']\n"
   ]
  },
  {
   "cell_type": "code",
   "execution_count": 9,
   "id": "43ad2b89-8035-47e9-a1b5-8263568a39c7",
   "metadata": {},
   "outputs": [
    {
     "name": "stdout",
     "output_type": "stream",
     "text": [
      "run --> run\n",
      "runner --> runner\n",
      "running --> run\n",
      "ran --> ran\n",
      "runs --> run\n",
      "easily --> easili\n",
      "fairly --> fair\n"
     ]
    }
   ],
   "source": [
    "for word in words:\n",
    "    print(word+' --> '+s_stemmer.stem(word))"
   ]
  },
  {
   "cell_type": "code",
   "execution_count": 10,
   "id": "f3febec8-70ef-453a-b7ea-28234b296f3a",
   "metadata": {},
   "outputs": [],
   "source": [
    "words3 = ['consolingly']"
   ]
  },
  {
   "cell_type": "code",
   "execution_count": 11,
   "id": "1e5bf464-c8a7-433d-92a4-1abbeda1d24e",
   "metadata": {},
   "outputs": [
    {
     "name": "stdout",
     "output_type": "stream",
     "text": [
      "Porter Stemmer:\n",
      "consolingly --> consolingli\n",
      "Porter2 Stemmer:\n",
      "consolingly --> consol\n"
     ]
    }
   ],
   "source": [
    "\n",
    "for word in words3:\n",
    "    print('Porter Stemmer:')\n",
    "    print(word+' --> '+p_stemmer.stem(word))\n",
    "    print('Porter2 Stemmer:')\n",
    "    print(word+' --> '+s_stemmer.stem(word))"
   ]
  },
  {
   "cell_type": "code",
   "execution_count": 12,
   "id": "a97ab5ac-b678-48d1-881d-66a4d25b6e22",
   "metadata": {},
   "outputs": [
    {
     "name": "stdout",
     "output_type": "stream",
     "text": [
      "I --> i\n",
      "am --> am\n",
      "meeting --> meet\n",
      "him --> him\n",
      "tomorrow --> tomorrow\n",
      "at --> at\n",
      "the --> the\n",
      "meeting --> meet\n"
     ]
    }
   ],
   "source": [
    "phrase = 'I am meeting him tomorrow at the meeting'\n",
    "for word in phrase.split():\n",
    "    print(word+' --> '+p_stemmer.stem(word))"
   ]
  },
  {
   "cell_type": "code",
   "execution_count": 15,
   "id": "5b8d1145-0b45-48d9-b744-0fcb8ad1a868",
   "metadata": {},
   "outputs": [
    {
     "name": "stdout",
     "output_type": "stream",
     "text": [
      "Porter Stemmer: -> generous --> gener | Porter2 Stemmer: -> generous --> generous\n",
      "Porter Stemmer: -> generation --> gener | Porter2 Stemmer: -> generation --> generat\n",
      "Porter Stemmer: -> generously --> gener | Porter2 Stemmer: -> generously --> generous\n",
      "Porter Stemmer: -> generate --> gener | Porter2 Stemmer: -> generate --> generat\n"
     ]
    }
   ],
   "source": [
    "words2 = ['generous','generation','generously','generate']\n",
    "for word in words2:\n",
    "    print('Porter Stemmer:', end=\" -> \")\n",
    "    print(word+' --> '+p_stemmer.stem(word), end=\" | \")\n",
    "    print('Porter2 Stemmer:', end=\" -> \")\n",
    "    print(word+' --> '+s_stemmer.stem(word))"
   ]
  },
  {
   "cell_type": "code",
   "execution_count": null,
   "id": "63678fb4-073b-4504-98f1-752ba0e3f869",
   "metadata": {},
   "outputs": [],
   "source": []
  }
 ],
 "metadata": {
  "kernelspec": {
   "display_name": "Python 3 (ipykernel)",
   "language": "python",
   "name": "python3"
  },
  "language_info": {
   "codemirror_mode": {
    "name": "ipython",
    "version": 3
   },
   "file_extension": ".py",
   "mimetype": "text/x-python",
   "name": "python",
   "nbconvert_exporter": "python",
   "pygments_lexer": "ipython3",
   "version": "3.11.9"
  }
 },
 "nbformat": 4,
 "nbformat_minor": 5
}
